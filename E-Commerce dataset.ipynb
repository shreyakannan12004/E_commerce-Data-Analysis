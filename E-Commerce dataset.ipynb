{
 "cells": [
  {
   "cell_type": "markdown",
   "metadata": {
    "application/vnd.databricks.v1+cell": {
     "cellMetadata": {
      "byteLimit": 2048000,
      "rowLimit": 10000
     },
     "inputWidgets": {},
     "nuid": "4a4255c3-1480-43d9-bde3-a74a0ddfac72",
     "showTitle": false,
     "tableResultSettingsMap": {},
     "title": ""
    }
   },
   "source": [
    "Creation of file path for dataset"
   ]
  },
  {
   "cell_type": "code",
   "execution_count": 0,
   "metadata": {
    "application/vnd.databricks.v1+cell": {
     "cellMetadata": {
      "byteLimit": 2048000,
      "rowLimit": 10000
     },
     "inputWidgets": {},
     "nuid": "aa08e4a5-0a48-4899-b2fb-6b7eea8311de",
     "showTitle": false,
     "tableResultSettingsMap": {},
     "title": ""
    }
   },
   "outputs": [
    {
     "name": "stdout",
     "output_type": "stream",
     "text": [
      "+-----------+---+------+--------+-------------+--------------------+--------------------+--------------------+--------------------+\n",
      "|Customer ID|Age|Gender|Location|Annual Income|    Purchase History|    Browsing History|     Product Reviews|        Time on Site|\n",
      "+-----------+---+------+--------+-------------+--------------------+--------------------+--------------------+--------------------+\n",
      "|       1001| 25|Female|  City D|        45000|\"[{\"\"Date\"\": \"\"20...| \"\"Category\"\": \"\"...|   \"\"Price\"\": 34.99}| {\"\"Date\"\": \"\"202...|\n",
      "|       1001| 28|Female|  City D|        52000|\"[{\"\"Product Cate...| \"\"Purchase Date\"...|   \"\"Price\"\": 34.56}| {\"\"Product Categ...|\n",
      "|       1001| 28|Female|  City D|        65000|\"[{\"\"Product Cate...| \"\"Purchase Date\"...|   \"\"Price\"\": 345.5}| {\"\"Product Categ...|\n",
      "|       1001| 45|Female|  City D|        70000|{'Purchase Date':...|{'Timestamp': '20...|\"{\"\"Product 1\"\": ...| \"\"Review\"\": \"\"Gr...|\n",
      "|       1002| 34|  Male|  City E|        45000|{'Purchase Date':...|{'Timestamp': '20...|\"{\"\"Product 1\"\": ...| \"\"Review\"\": \"\"Go...|\n",
      "|       1003| 56| Other|  City F|        90000|{'Purchase Date':...|{'Timestamp': '20...|\"{\"\"Product 1\"\": ...| \"\"Review\"\": \"\"Aw...|\n",
      "|       1004| 29|Female|  City G|        60000|{'Purchase Date':...|{'Timestamp': '20...|\"{\"\"Product 1\"\": ...| \"\"Review\"\": \"\"Gr...|\n",
      "|       1005| 42|  Male|  City H|        75000|{'Purchase Date':...|{'Timestamp': '20...|\"{\"\"Product 1\"\": ...| \"\"Review\"\": \"\"Go...|\n",
      "|       1006| 51| Other|  City I|        85000|{'Purchase Date':...|{'Timestamp': '20...|\"{\"\"Product 1\"\": ...| \"\"Review\"\": \"\"Ou...|\n",
      "|       1007| 36|Female|  City J|        55000|{'Purchase Date':...|{'Timestamp': '20...|\"{\"\"Product 1\"\": ...| \"\"Review\"\": \"\"Go...|\n",
      "|       1008| 48|  Male|  City K|        80000|{'Purchase Date':...|{'Timestamp': '20...|\"{\"\"Product 1\"\": ...| \"\"Review\"\": \"\"Go...|\n",
      "|       1009| 25| Other|  City L|        40000|{'Purchase Date':...|{'Timestamp': '20...|\"{\"\"Product 1\"\": ...| \"\"Review\"\": \"\"Gr...|\n",
      "|       1001| 45|Female|  City D|        75000|{'Purchase Date':...|{'Timestamp': '20...|\"{\"\"Review Text\"\"...|     \"\"Rating\"\": 5}\"|\n",
      "|       1002| 32|  Male|  City A|        50000|{'Purchase Date':...|{'Timestamp': '20...|\"{\"\"Review Text\"\"...| but could be che...|\n",
      "|       1003| 60| Other|  City B|        80000|{'Purchase Date':...|{'Timestamp': '20...|\"{\"\"Review Text\"\"...|     \"\"Rating\"\": 5}\"|\n",
      "|       1004| 28|Female|  City C|        45000|{'Purchase Date':...|{'Timestamp': '20...|\"{\"\"Review Text\"\"...|     \"\"Rating\"\": 2}\"|\n",
      "|       1005| 55|  Male|  City E|        90000|{'Purchase Date':...|{'Timestamp': '20...|\"{\"\"Review Text\"\"...| highly recommend!\"\"|\n",
      "|       1006| 38|Female|  City F|        65000|{'Purchase Date':...|{'Timestamp': '20...|\"{\"\"Review Text\"\"...|     \"\"Rating\"\": 5}\"|\n",
      "|       1007| 42|  Male|  City G|        70000|{'Purchase Date':...|{'Timestamp': '20...|\"{\"\"Review Text\"\"...| but not worth th...|\n",
      "|       1008| 50|Female|  City H|        85000|{'Purchase Date':...|{'Timestamp': '20...|\"{\"\"Review Text\"\"...| highly recommend!\"\"|\n",
      "+-----------+---+------+--------+-------------+--------------------+--------------------+--------------------+--------------------+\n",
      "only showing top 20 rows\n",
      "\n"
     ]
    }
   ],
   "source": [
    "from pyspark.sql import SparkSession\n",
    "\n",
    "spark = SparkSession.builder.appName(\"EcommerceDataTransformation\").getOrCreate()\n",
    "\n",
    "file_path = \"/FileStore/tables/E_commerce-3.csv\"\n",
    "ecommerce_df = spark.read.csv(file_path, header=True, inferSchema=True)\n",
    "\n",
    "ecommerce_df.show()\n"
   ]
  },
  {
   "cell_type": "code",
   "execution_count": 0,
   "metadata": {
    "application/vnd.databricks.v1+cell": {
     "cellMetadata": {
      "byteLimit": 2048000,
      "rowLimit": 10000
     },
     "inputWidgets": {},
     "nuid": "744d85da-b511-4efd-9ab7-58048edf9f43",
     "showTitle": false,
     "tableResultSettingsMap": {},
     "title": ""
    }
   },
   "outputs": [],
   "source": [
    "ecommerce_df.createOrReplaceTempView(\"ecommerce_table\")\n"
   ]
  },
  {
   "cell_type": "code",
   "execution_count": 0,
   "metadata": {
    "application/vnd.databricks.v1+cell": {
     "cellMetadata": {
      "byteLimit": 2048000,
      "implicitDf": true,
      "rowLimit": 10000
     },
     "inputWidgets": {},
     "nuid": "3a07cf9b-2f56-4eb8-8e34-59a4524e5ba4",
     "showTitle": false,
     "tableResultSettingsMap": {},
     "title": ""
    }
   },
   "outputs": [
    {
     "data": {
      "text/html": [
       "<style scoped>\n",
       "  .table-result-container {\n",
       "    max-height: 300px;\n",
       "    overflow: auto;\n",
       "  }\n",
       "  table, th, td {\n",
       "    border: 1px solid black;\n",
       "    border-collapse: collapse;\n",
       "  }\n",
       "  th, td {\n",
       "    padding: 5px;\n",
       "  }\n",
       "  th {\n",
       "    text-align: left;\n",
       "  }\n",
       "</style><div class='table-result-container'><table class='table-result'><thead style='background-color: white'><tr><th>Customer ID</th><th>Age</th><th>Gender</th><th>Location</th><th>Annual_Salary</th><th>Purchase History</th><th>Browsing History</th><th>Product Reviews</th><th>Time_on_Site</th><th>Monthly_Income</th></tr></thead><tbody><tr><td>1001</td><td>25</td><td>Female</td><td>City D</td><td>45000</td><td>\"[{\"\"Date\"\": \"\"2022-03-05\"\"</td><td> \"\"Category\"\": \"\"Clothing\"\"</td><td> \"\"Price\"\": 34.99}</td><td> {\"\"Date\"\": \"\"2022-02-12\"\"</td><td>3750.0</td></tr><tr><td>1001</td><td>28</td><td>Female</td><td>City D</td><td>52000</td><td>\"[{\"\"Product Category\"\": \"\"Clothing\"\"</td><td> \"\"Purchase Date\"\": \"\"2022-05-15\"\"</td><td> \"\"Price\"\": 34.56}</td><td> {\"\"Product Category\"\": \"\"Electronics\"\"</td><td>4333.333333333333</td></tr><tr><td>1001</td><td>28</td><td>Female</td><td>City D</td><td>65000</td><td>\"[{\"\"Product Category\"\": \"\"Electronics\"\"</td><td> \"\"Purchase Date\"\": \"\"2022-08-15\"\"</td><td> \"\"Price\"\": 345.5}</td><td> {\"\"Product Category\"\": \"\"Home & Garden\"\"</td><td>5416.666666666667</td></tr><tr><td>1001</td><td>45</td><td>Female</td><td>City D</td><td>70000</td><td>{'Purchase Date': '2022-08-15', 'Product Category': 'Electronics', 'Price': 200.5},{'Purchase Date': '2022-07-22', 'Product Category': 'Clothing', 'Price': 125.6},{'Purchase Date': '2022-06-01', 'Product Category': 'Home & Garden', 'Price': 300.8},{'Purchase Date': '2022-05-10', 'Product Category': 'Electronics', 'Price': 150.9}</td><td>{'Timestamp': '2022-09-03 14:30:00'}</td><td>\"{\"\"Product 1\"\": {\"\"Rating\"\": 4</td><td> \"\"Review\"\": \"\"Great experience buying this product. Fast delivery and excellent customer service.\"\"}}\"</td><td>5833.333333333333</td></tr><tr><td>1002</td><td>34</td><td>Male</td><td>City E</td><td>45000</td><td>{'Purchase Date': '2022-07-25', 'Product Category': 'Clothing', 'Price': 67.2},{'Purchase Date': '2022-06-08', 'Product Category': 'Home & Garden', 'Price': 250.1},{'Purchase Date': '2022-05-15', 'Product Category': 'Electronics', 'Price': 400.7}</td><td>{'Timestamp': '2022-08-10 17:15:00'}</td><td>\"{\"\"Product 1\"\": {\"\"Rating\"\": 3</td><td> \"\"Review\"\": \"\"Good product</td><td>3750.0</td></tr><tr><td>1003</td><td>56</td><td>Other</td><td>City F</td><td>90000</td><td>{'Purchase Date': '2022-09-01', 'Product Category': 'Electronics', 'Price': 300.2},{'Purchase Date': '2022-08-12', 'Product Category': 'Clothing', 'Price': 185.3},{'Purchase Date': '2022-07-28', 'Product Category': 'Home & Garden', 'Price': 200.9}</td><td>{'Timestamp': '2022-06-25 10:45:00'}</td><td>\"{\"\"Product 1\"\": {\"\"Rating\"\": 5</td><td> \"\"Review\"\": \"\"Awesome product</td><td>7500.0</td></tr><tr><td>1004</td><td>29</td><td>Female</td><td>City G</td><td>60000</td><td>{'Purchase Date': '2022-07-20', 'Product Category': 'Electronics', 'Price': 150.8},{'Purchase Date': '2022-06-05', 'Product Category': 'Clothing', 'Price': 120.6},{'Purchase Date': '2022-05-18', 'Product Category': 'Home & Garden', 'Price': 350.1}</td><td>{'Timestamp': '2022-08-15 13:20:00'}</td><td>\"{\"\"Product 1\"\": {\"\"Rating\"\": 4</td><td> \"\"Review\"\": \"\"Great product</td><td>5000.0</td></tr><tr><td>1005</td><td>42</td><td>Male</td><td>City H</td><td>75000</td><td>{'Purchase Date': '2022-08-28', 'Product Category': 'Electronics', 'Price': 250.6},{'Purchase Date': '2022-07-15', 'Product Category': 'Clothing', 'Price': 115.7},{'Purchase Date': '2022-06-03', 'Product Category': 'Home & Garden', 'Price': 300.4}</td><td>{'Timestamp': '2022-09-12 16:35:00'}</td><td>\"{\"\"Product 1\"\": {\"\"Rating\"\": 3</td><td> \"\"Review\"\": \"\"Good product</td><td>6250.0</td></tr><tr><td>1006</td><td>51</td><td>Other</td><td>City I</td><td>85000</td><td>{'Purchase Date': '2022-09-05', 'Product Category': 'Electronics', 'Price': 400.9},{'Purchase Date': '2022-08-18', 'Product Category': 'Clothing', 'Price': 195.3},{'Purchase Date': '2022-07-03', 'Product Category': 'Home & Garden', 'Price': 220.7}</td><td>{'Timestamp': '2022-06-28 09:00:00'}</td><td>\"{\"\"Product 1\"\": {\"\"Rating\"\": 5</td><td> \"\"Review\"\": \"\"Outstanding product</td><td>7083.333333333333</td></tr><tr><td>1007</td><td>36</td><td>Female</td><td>City J</td><td>55000</td><td>{'Purchase Date': '2022-07-27', 'Product Category': 'Electronics', 'Price': 120.5},{'Purchase Date': '2022-06-12', 'Product Category': 'Clothing', 'Price': 130.6},{'Purchase Date': '2022-05-28', 'Product Category': 'Home & Garden', 'Price': 320.8}</td><td>{'Timestamp': '2022-08-17 14:50:00'}</td><td>\"{\"\"Product 1\"\": {\"\"Rating\"\": 4</td><td> \"\"Review\"\": \"\"Good product</td><td>4583.333333333333</td></tr><tr><td>1008</td><td>48</td><td>Male</td><td>City K</td><td>80000</td><td>{'Purchase Date': '2022-09-08', 'Product Category': 'Electronics', 'Price': 350.2},{'Purchase Date': '2022-08-23', 'Product Category': 'Clothing', 'Price': 165.3},{'Purchase Date': '2022-07-07', 'Product Category': 'Home & Garden', 'Price': 280.9}</td><td>{'Timestamp': '2022-06-30 11:15:00'}</td><td>\"{\"\"Product 1\"\": {\"\"Rating\"\": 3</td><td> \"\"Review\"\": \"\"Good product</td><td>6666.666666666667</td></tr><tr><td>1009</td><td>25</td><td>Other</td><td>City L</td><td>40000</td><td>{'Purchase Date': '2022-08-25', 'Product Category': 'Electronics', 'Price': 170.8},{'Purchase Date': '2022-07-09', 'Product Category': 'Clothing', 'Price': 105.6},{'Purchase Date': '2022-06-24', 'Product Category': 'Home & Garden', 'Price': 290.1}</td><td>{'Timestamp': '2022-09-14 10:00:00'}</td><td>\"{\"\"Product 1\"\": {\"\"Rating\"\": 4</td><td> \"\"Review\"\": \"\"Great product</td><td>3333.3333333333335</td></tr><tr><td>1001</td><td>45</td><td>Female</td><td>City D</td><td>75000</td><td>{'Purchase Date': '2022-03-05', 'Product Category': 'Clothing', 'Price': 45.99},{'Purchase Date': '2022-04-12', 'Product Category': 'Home & Garden', 'Price': 120.5}</td><td>{'Timestamp': '2022-03-06 14:30:00'}</td><td>\"{\"\"Review Text\"\": \"\"Great quality clothes!\"\"</td><td> \"\"Rating\"\": 5}\"</td><td>6250.0</td></tr><tr><td>1002</td><td>32</td><td>Male</td><td>City A</td><td>50000</td><td>{'Purchase Date': '2022-02-15', 'Product Category': 'Electronics', 'Price': 250},{'Purchase Date': '2022-05-10', 'Product Category': 'Clothing', 'Price': 34.99}</td><td>{'Timestamp': '2022-05-12 16:15:00'}</td><td>\"{\"\"Review Text\"\": \"\"Good product</td><td> but could be cheaper.\"\"</td><td>4166.666666666667</td></tr><tr><td>1003</td><td>60</td><td>Other</td><td>City B</td><td>80000</td><td>{'Purchase Date': '2022-01-18', 'Product Category': 'Home & Garden', 'Price': 180},{'Purchase Date': '2022-06-02', 'Product Category': 'Electronics', 'Price': 400}</td><td>{'Timestamp': '2022-06-03 10:45:00'}</td><td>\"{\"\"Review Text\"\": \"\"Very satisfied with my purchase!\"\"</td><td> \"\"Rating\"\": 5}\"</td><td>6666.666666666667</td></tr><tr><td>1004</td><td>28</td><td>Female</td><td>City C</td><td>45000</td><td>{'Purchase Date': '2022-04-25', 'Product Category': 'Clothing', 'Price': 29.99},{'Purchase Date': '2022-07-07', 'Product Category': 'Home & Garden', 'Price': 150}</td><td>{'Timestamp': '2022-07-08 13:00:00'}</td><td>\"{\"\"Review Text\"\": \"\"Not what I expected.\"\"</td><td> \"\"Rating\"\": 2}\"</td><td>3750.0</td></tr><tr><td>1005</td><td>55</td><td>Male</td><td>City E</td><td>90000</td><td>{'Purchase Date': '2022-05-20', 'Product Category': 'Electronics', 'Price': 600},{'Purchase Date': '2022-08-03', 'Product Category': 'Clothing', 'Price': 59.99}</td><td>{'Timestamp': '2022-08-04 09:30:00'}</td><td>\"{\"\"Review Text\"\": \"\"Excellent product</td><td> highly recommend!\"\"</td><td>7500.0</td></tr><tr><td>1006</td><td>38</td><td>Female</td><td>City F</td><td>65000</td><td>{'Purchase Date': '2022-06-15', 'Product Category': 'Home & Garden', 'Price': 220},{'Purchase Date': '2022-09-01', 'Product Category': 'Electronics', 'Price': 300}</td><td>{'Timestamp': '2022-09-02 11:15:00'}</td><td>\"{\"\"Review Text\"\": \"\"Awesome purchase!\"\"</td><td> \"\"Rating\"\": 5}\"</td><td>5416.666666666667</td></tr><tr><td>1007</td><td>42</td><td>Male</td><td>City G</td><td>70000</td><td>{'Purchase Date': '2022-07-22', 'Product Category': 'Clothing', 'Price': 39.99},{'Purchase Date': '2022-10-06', 'Product Category': 'Home & Garden', 'Price': 190}</td><td>{'Timestamp': '2022-10-07 14:45:00'}</td><td>\"{\"\"Review Text\"\": \"\"Good product</td><td> but not worth the price.\"\"</td><td>5833.333333333333</td></tr><tr><td>1008</td><td>50</td><td>Female</td><td>City H</td><td>85000</td><td>{'Purchase Date': '2022-08-08', 'Product Category': 'Electronics', 'Price': 550},{'Purchase Date': '2022-11-01', 'Product Category': 'Clothing', 'Price': 44.99}</td><td>{'Timestamp': '2022-11-02 10:30:00'}</td><td>\"{\"\"Review Text\"\": \"\"Great product</td><td> highly recommend!\"\"</td><td>7083.333333333333</td></tr><tr><td>1009</td><td>35</td><td>Male</td><td>City I</td><td>55000</td><td>{'Purchase Date': '2022-09-20', 'Product Category': 'Home & Garden', 'Price': 200},{'Purchase Date': '2022-12-05', 'Product Category': 'Electronics', 'Price': 350}</td><td>{'Timestamp': '2022-12-06 12:00:00'}</td><td>\"{\"\"Review Text\"\": \"\"Satisfied with my purchase!\"\"</td><td> \"\"Rating\"\": 4}\"</td><td>4583.333333333333</td></tr><tr><td>1010</td><td>48</td><td>Female</td><td>City J</td><td>75000</td><td>{'Purchase Date': '2022-10-15', 'Product Category': 'Clothing', 'Price': 34.99},{'Purchase Date': '2022-12-20', 'Product Category': 'Home & Garden', 'Price': 250}</td><td>{'Timestamp': '2022-12-21 15:30:00'}</td><td>\"{\"\"Review Text\"\": \"\"Excellent product</td><td> highly recommend!\"\"</td><td>6250.0</td></tr><tr><td>1011</td><td>30</td><td>Male</td><td>City K</td><td>40000</td><td>{'Purchase Date': '2022-11-05', 'Product Category': 'Electronics', 'Price': 150},{'Purchase Date': '2023-01-10', 'Product Category': 'Clothing', 'Price': 29.99}</td><td>{'Timestamp': '2023-01-11 08:45:00'}</td><td>\"{\"\"Review Text\"\": \"\"Good product</td><td> but could be better.\"\"</td><td>3333.3333333333335</td></tr><tr><td>1012</td><td>65</td><td>Female</td><td>City L</td><td>95000</td><td>{'Purchase Date': '2022-12-25', 'Product Category': 'Home & Garden', 'Price': 170},{'Purchase Date': '2023-02-05', 'Product Category': 'Electronics', 'Price': 450}</td><td>{'Timestamp': '2023-02-06 13:15:00'}</td><td>\"{\"\"Review Text\"\": \"\"Excellent product</td><td> highly recommend!\"\"</td><td>7916.666666666667</td></tr><tr><td>1001</td><td>24</td><td>Female</td><td>City D</td><td>45000</td><td>\"[{\"\"Purchase Date\"\": \"\"2022-09-15\"\"</td><td> \"\"Product Category\"\": \"\"Clothing\"\"</td><td> \"\"Price\"\": 34.5}]\"</td><td>\"[{\"\"Timestamp\"\": \"\"2022-08-20T14:30:00Z\"\"}</td><td>3750.0</td></tr><tr><td>1001</td><td>35</td><td>Female</td><td>City D</td><td>50000</td><td>{'Purchase Date': '2022-05-15', 'Product Category': 'Clothing', 'Price': 120},{'Purchase Date': '2022-06-02', 'Product Category': 'Home & Garden', 'Price': 250}</td><td>{'Timestamp': '2022-04-20T14:30:00Z'}</td><td>The blouse is so comfortable and stylish. 5 stars!</td><td>120</td><td>4166.666666666667</td></tr><tr><td>1002</td><td>45</td><td>Male</td><td>City E</td><td>80000</td><td>{'Purchase Date': '2022-06-12', 'Product Category': 'Electronics', 'Price': 350}</td><td>{'Timestamp': '2022-05-25T17:45:00Z'}</td><td>The headphones are great. Sound quality is excellent. 4.5 stars.</td><td>300</td><td>6666.666666666667</td></tr><tr><td>1003</td><td>28</td><td>Female</td><td>City F</td><td>60000</td><td>{'Purchase Date': '2022-05-28', 'Product Category': 'Clothing', 'Price': 75},{'Purchase Date': '2022-06-10', 'Product Category': 'Home & Garden', 'Price': 120}</td><td>{'Timestamp': '2022-06-01T09:15:00Z'}</td><td>The dress fits perfectly. I love it. 5 stars!</td><td>250</td><td>5000.0</td></tr><tr><td>1004</td><td>52</td><td>Male</td><td>City G</td><td>70000</td><td>{'Purchase Date': '2022-05-08', 'Product Category': 'Electronics', 'Price': 200},{'Purchase Date': '2022-06-05', 'Product Category': 'Home & Garden', 'Price': 150}</td><td>{'Timestamp': '2022-05-22T10:30:00Z'}</td><td>The vacuum cleaner works great. 4 stars.</td><td>350</td><td>5833.333333333333</td></tr><tr><td>1005</td><td>31</td><td>Female</td><td>City H</td><td>45000</td><td>{'Purchase Date': '2022-05-18', 'Product Category': 'Clothing', 'Price': 50},{'Purchase Date': '2022-06-07', 'Product Category': 'Home & Garden', 'Price': 100}</td><td>{'Timestamp': '2022-05-30T13:45:00Z'}</td><td>The top is nice, but the size is a bit small. 3.5 stars.</td><td>200</td><td>3750.0</td></tr><tr><td>1006</td><td>48</td><td>Male</td><td>City I</td><td>90000</td><td>{'Purchase Date': '2022-05-23', 'Product Category': 'Electronics', 'Price': 400},{'Purchase Date': '2022-06-03', 'Product Category': 'Home & Garden', 'Price': 200}</td><td>{'Timestamp': '2022-06-06T08:00:00Z'}</td><td>The phone is fantastic. 5 stars!</td><td>400</td><td>7500.0</td></tr><tr><td>1007</td><td>60</td><td>Female</td><td>City J</td><td>65000</td><td>{'Purchase Date': '2022-05-25', 'Product Category': 'Clothing', 'Price': 100},{'Purchase Date': '2022-06-08', 'Product Category': 'Home & Garden', 'Price': 180}</td><td>{'Timestamp': '2022-06-15T11:30:00Z'}</td><td>The shirt is comfortable. 4 stars.</td><td>300</td><td>5416.666666666667</td></tr><tr><td>1008</td><td>55</td><td>Male</td><td>City K</td><td>85000</td><td>{'Purchase Date': '2022-05-20', 'Product Category': 'Electronics', 'Price': 300},{'Purchase Date': '2022-06-04', 'Product Category': 'Home & Garden', 'Price': 250}</td><td>{'Timestamp': '2022-05-28T15:15:00Z'}</td><td>The laptop is excellent. 5 stars!</td><td>450</td><td>7083.333333333333</td></tr><tr><td>1009</td><td>29</td><td>Female</td><td>City L</td><td>40000</td><td>{'Purchase Date': '2022-05-16', 'Product Category': 'Clothing', 'Price': 60},{'Purchase Date': '2022-06-06', 'Product Category': 'Home & Garden', 'Price': 150}</td><td>{'Timestamp': '2022-05-31T16:45:00Z'}</td><td>The shoes are comfortable. 4.5 stars.</td><td>250</td><td>3333.3333333333335</td></tr><tr><td>1010</td><td>58</td><td>Male</td><td>City M</td><td>75000</td><td>{'Purchase Date': '2022-05-12', 'Product Category': 'Electronics', 'Price': 250},{'Purchase Date': '2022-06-01', 'Product Category': 'Home & Garden', 'Price': 175}</td><td>{'Timestamp': '2022-05-29T10:30:00Z'}</td><td>The coffee maker is great. 5 stars!</td><td>350</td><td>6250.0</td></tr><tr><td>1011</td><td>36</td><td>Female</td><td>City N</td><td>55000</td><td>{'Purchase Date': '2022-05-27', 'Product Category': 'Clothing', 'Price': 80},{'Purchase Date': '2022-06-09', 'Product Category': 'Home & Garden', 'Price': 200}</td><td>{'Timestamp': '2022-06-13T13:00:00Z'}</td><td>The skirt is lovely. 4.5 stars.</td><td>200</td><td>4583.333333333333</td></tr><tr><td>1012</td><td>42</td><td>Male</td><td>City O</td><td>95000</td><td>{'Purchase Date': '2022-05-22', 'Product Category': 'Electronics', 'Price': 350},{'Purchase Date': '2022-06-02', 'Product Category': 'Home & Garden', 'Price': 100}</td><td>{'Timestamp': '2022-05-26T11:15:00Z'}</td><td>The TV is amazing. 5 stars!</td><td>300</td><td>7916.666666666667</td></tr><tr><td>1013</td><td>50</td><td>Female</td><td>City P</td><td>68000</td><td>{'Purchase Date': '2022-05-19', 'Product Category': 'Clothing', 'Price': 120},{'Purchase Date': '2022-06-07', 'Product Category': 'Home & Garden', 'Price': 150}</td><td>{'Timestamp': '2022-06-08T14:30:00Z'}</td><td>The bedding is comfortable. 4 stars.</td><td>250</td><td>5666.666666666667</td></tr><tr><td>1001</td><td>32</td><td>Female</td><td>City D</td><td>65000</td><td>\"[{\"\"Product Category\"\": \"\"Clothing\"\"</td><td> \"\"Purchase Date\"\": \"\"2022-08-15\"\"</td><td> \"\"Price\"\": 45.23}</td><td> {\"\"Product Category\"\": \"\"Electronics\"\"</td><td>5416.666666666667</td></tr><tr><td>1001</td><td>35</td><td>Female</td><td>City D</td><td>60000</td><td>\"[{\"\"Product Category\"\": \"\"Electronics\"\"</td><td> \"\"Purchase Date\"\": \"\"2022-03-15\"\"</td><td> \"\"Price\"\": 250.5}</td><td> {\"\"Product Category\"\": \"\"Clothing\"\"</td><td>5000.0</td></tr><tr><td>1002</td><td>42</td><td>Male</td><td>City E</td><td>75000</td><td>\"[{\"\"Product Category\"\": \"\"Clothing\"\"</td><td> \"\"Purchase Date\"\": \"\"2022-02-20\"\"</td><td> \"\"Price\"\": 150.2}</td><td> {\"\"Product Category\"\": \"\"Home & Garden\"\"</td><td>6250.0</td></tr><tr><td>1001</td><td>32</td><td>Female</td><td>City D</td><td>55000</td><td>\"[{\"\"Product Category\"\": \"\"Electronics\"\"</td><td> \"\"Purchase Date\"\": \"\"2022-03-15\"\"</td><td> \"\"Price\"\": 249.99}]\"</td><td>\"[{\"\"Product Category\"\": \"\"Home & Garden\"\"</td><td>4583.333333333333</td></tr><tr><td>1001</td><td>28</td><td>Female</td><td>City D</td><td>65000</td><td>\"[{\"\"Product Category\"\": \"\"Clothing\"\"</td><td> \"\"Purchase Date\"\": \"\"2022-06-12\"\"</td><td> \"\"Price\"\": 45.99}</td><td> {\"\"Product Category\"\": \"\"Electronics\"\"</td><td>5416.666666666667</td></tr><tr><td>1002</td><td>42</td><td>Male</td><td>City E</td><td>80000</td><td>\"[{\"\"Product Category\"\": \"\"Electronics\"\"</td><td> \"\"Purchase Date\"\": \"\"2022-07-03\"\"</td><td> \"\"Price\"\": 249.99}</td><td> {\"\"Product Category\"\": \"\"Home & Garden\"\"</td><td>6666.666666666667</td></tr><tr><td>1003</td><td>35</td><td>Other</td><td>City F</td><td>50000</td><td>\"[{\"\"Product Category\"\": \"\"Clothing\"\"</td><td> \"\"Purchase Date\"\": \"\"2022-06-22\"\"</td><td> \"\"Price\"\": 34.99}</td><td> {\"\"Product Category\"\": \"\"Electronics\"\"</td><td>4166.666666666667</td></tr><tr><td>1004</td><td>52</td><td>Female</td><td>City G</td><td>100000</td><td>\"[{\"\"Product Category\"\": \"\"Clothing\"\"</td><td> \"\"Purchase Date\"\": \"\"2022-07-08\"\"</td><td> \"\"Price\"\": 79.99}</td><td> {\"\"Product Category\"\": \"\"Home & Garden\"\"</td><td>8333.333333333334</td></tr><tr><td>1005</td><td>24</td><td>Male</td><td>City H</td><td>45000</td><td>\"[{\"\"Product Category\"\": \"\"Electronics\"\"</td><td> \"\"Purchase Date\"\": \"\"2022-06-01\"\"</td><td> \"\"Price\"\": 129.99}</td><td> {\"\"Product Category\"\": \"\"Home & Garden\"\"</td><td>3750.0</td></tr><tr><td>1001</td><td>34</td><td>Female</td><td>City D</td><td>55000</td><td>\"[{\"\"Purchase Date\"\": \"\"2022-07-02\"\"</td><td>\"\"Product Category\"\": \"\"Clothing\"\"</td><td>\"\"Price\"\": 25.6}</td><td>{\"\"Purchase Date\"\": \"\"2022-06-15\"\"</td><td>4583.333333333333</td></tr><tr><td>1002</td><td>45</td><td>Male</td><td>City E</td><td>87000</td><td>\"[{\"\"Purchase Date\"\": \"\"2022-07-08\"\"</td><td>\"\"Product Category\"\": \"\"Electronics\"\"</td><td>\"\"Price\"\": 420}</td><td>{\"\"Purchase Date\"\": \"\"2022-06-23\"\"</td><td>7250.0</td></tr><tr><td>1003</td><td>29</td><td>Other</td><td>City F</td><td>42000</td><td>\"[{\"\"Purchase Date\"\": \"\"2022-07-01\"\"</td><td>\"\"Product Category\"\": \"\"Electronics\"\"</td><td>\"\"Price\"\": 180}</td><td>{\"\"Purchase Date\"\": \"\"2022-06-18\"\"</td><td>3500.0</td></tr></tbody></table></div>"
      ]
     },
     "metadata": {
      "application/vnd.databricks.v1+output": {
       "addedWidgets": {},
       "aggData": [],
       "aggError": "",
       "aggOverflow": false,
       "aggSchema": [],
       "aggSeriesLimitReached": false,
       "aggType": "",
       "arguments": {},
       "columnCustomDisplayInfos": {},
       "data": [
        [
         1001,
         25,
         "Female",
         "City D",
         45000,
         "\"[{\"\"Date\"\": \"\"2022-03-05\"\"",
         " \"\"Category\"\": \"\"Clothing\"\"",
         " \"\"Price\"\": 34.99}",
         " {\"\"Date\"\": \"\"2022-02-12\"\"",
         3750
        ],
        [
         1001,
         28,
         "Female",
         "City D",
         52000,
         "\"[{\"\"Product Category\"\": \"\"Clothing\"\"",
         " \"\"Purchase Date\"\": \"\"2022-05-15\"\"",
         " \"\"Price\"\": 34.56}",
         " {\"\"Product Category\"\": \"\"Electronics\"\"",
         4333.333333333333
        ],
        [
         1001,
         28,
         "Female",
         "City D",
         65000,
         "\"[{\"\"Product Category\"\": \"\"Electronics\"\"",
         " \"\"Purchase Date\"\": \"\"2022-08-15\"\"",
         " \"\"Price\"\": 345.5}",
         " {\"\"Product Category\"\": \"\"Home & Garden\"\"",
         5416.666666666667
        ],
        [
         1001,
         45,
         "Female",
         "City D",
         70000,
         "{'Purchase Date': '2022-08-15', 'Product Category': 'Electronics', 'Price': 200.5},{'Purchase Date': '2022-07-22', 'Product Category': 'Clothing', 'Price': 125.6},{'Purchase Date': '2022-06-01', 'Product Category': 'Home & Garden', 'Price': 300.8},{'Purchase Date': '2022-05-10', 'Product Category': 'Electronics', 'Price': 150.9}",
         "{'Timestamp': '2022-09-03 14:30:00'}",
         "\"{\"\"Product 1\"\": {\"\"Rating\"\": 4",
         " \"\"Review\"\": \"\"Great experience buying this product. Fast delivery and excellent customer service.\"\"}}\"",
         5833.333333333333
        ],
        [
         1002,
         34,
         "Male",
         "City E",
         45000,
         "{'Purchase Date': '2022-07-25', 'Product Category': 'Clothing', 'Price': 67.2},{'Purchase Date': '2022-06-08', 'Product Category': 'Home & Garden', 'Price': 250.1},{'Purchase Date': '2022-05-15', 'Product Category': 'Electronics', 'Price': 400.7}",
         "{'Timestamp': '2022-08-10 17:15:00'}",
         "\"{\"\"Product 1\"\": {\"\"Rating\"\": 3",
         " \"\"Review\"\": \"\"Good product",
         3750
        ],
        [
         1003,
         56,
         "Other",
         "City F",
         90000,
         "{'Purchase Date': '2022-09-01', 'Product Category': 'Electronics', 'Price': 300.2},{'Purchase Date': '2022-08-12', 'Product Category': 'Clothing', 'Price': 185.3},{'Purchase Date': '2022-07-28', 'Product Category': 'Home & Garden', 'Price': 200.9}",
         "{'Timestamp': '2022-06-25 10:45:00'}",
         "\"{\"\"Product 1\"\": {\"\"Rating\"\": 5",
         " \"\"Review\"\": \"\"Awesome product",
         7500
        ],
        [
         1004,
         29,
         "Female",
         "City G",
         60000,
         "{'Purchase Date': '2022-07-20', 'Product Category': 'Electronics', 'Price': 150.8},{'Purchase Date': '2022-06-05', 'Product Category': 'Clothing', 'Price': 120.6},{'Purchase Date': '2022-05-18', 'Product Category': 'Home & Garden', 'Price': 350.1}",
         "{'Timestamp': '2022-08-15 13:20:00'}",
         "\"{\"\"Product 1\"\": {\"\"Rating\"\": 4",
         " \"\"Review\"\": \"\"Great product",
         5000
        ],
        [
         1005,
         42,
         "Male",
         "City H",
         75000,
         "{'Purchase Date': '2022-08-28', 'Product Category': 'Electronics', 'Price': 250.6},{'Purchase Date': '2022-07-15', 'Product Category': 'Clothing', 'Price': 115.7},{'Purchase Date': '2022-06-03', 'Product Category': 'Home & Garden', 'Price': 300.4}",
         "{'Timestamp': '2022-09-12 16:35:00'}",
         "\"{\"\"Product 1\"\": {\"\"Rating\"\": 3",
         " \"\"Review\"\": \"\"Good product",
         6250
        ],
        [
         1006,
         51,
         "Other",
         "City I",
         85000,
         "{'Purchase Date': '2022-09-05', 'Product Category': 'Electronics', 'Price': 400.9},{'Purchase Date': '2022-08-18', 'Product Category': 'Clothing', 'Price': 195.3},{'Purchase Date': '2022-07-03', 'Product Category': 'Home & Garden', 'Price': 220.7}",
         "{'Timestamp': '2022-06-28 09:00:00'}",
         "\"{\"\"Product 1\"\": {\"\"Rating\"\": 5",
         " \"\"Review\"\": \"\"Outstanding product",
         7083.333333333333
        ],
        [
         1007,
         36,
         "Female",
         "City J",
         55000,
         "{'Purchase Date': '2022-07-27', 'Product Category': 'Electronics', 'Price': 120.5},{'Purchase Date': '2022-06-12', 'Product Category': 'Clothing', 'Price': 130.6},{'Purchase Date': '2022-05-28', 'Product Category': 'Home & Garden', 'Price': 320.8}",
         "{'Timestamp': '2022-08-17 14:50:00'}",
         "\"{\"\"Product 1\"\": {\"\"Rating\"\": 4",
         " \"\"Review\"\": \"\"Good product",
         4583.333333333333
        ],
        [
         1008,
         48,
         "Male",
         "City K",
         80000,
         "{'Purchase Date': '2022-09-08', 'Product Category': 'Electronics', 'Price': 350.2},{'Purchase Date': '2022-08-23', 'Product Category': 'Clothing', 'Price': 165.3},{'Purchase Date': '2022-07-07', 'Product Category': 'Home & Garden', 'Price': 280.9}",
         "{'Timestamp': '2022-06-30 11:15:00'}",
         "\"{\"\"Product 1\"\": {\"\"Rating\"\": 3",
         " \"\"Review\"\": \"\"Good product",
         6666.666666666667
        ],
        [
         1009,
         25,
         "Other",
         "City L",
         40000,
         "{'Purchase Date': '2022-08-25', 'Product Category': 'Electronics', 'Price': 170.8},{'Purchase Date': '2022-07-09', 'Product Category': 'Clothing', 'Price': 105.6},{'Purchase Date': '2022-06-24', 'Product Category': 'Home & Garden', 'Price': 290.1}",
         "{'Timestamp': '2022-09-14 10:00:00'}",
         "\"{\"\"Product 1\"\": {\"\"Rating\"\": 4",
         " \"\"Review\"\": \"\"Great product",
         3333.3333333333335
        ],
        [
         1001,
         45,
         "Female",
         "City D",
         75000,
         "{'Purchase Date': '2022-03-05', 'Product Category': 'Clothing', 'Price': 45.99},{'Purchase Date': '2022-04-12', 'Product Category': 'Home & Garden', 'Price': 120.5}",
         "{'Timestamp': '2022-03-06 14:30:00'}",
         "\"{\"\"Review Text\"\": \"\"Great quality clothes!\"\"",
         " \"\"Rating\"\": 5}\"",
         6250
        ],
        [
         1002,
         32,
         "Male",
         "City A",
         50000,
         "{'Purchase Date': '2022-02-15', 'Product Category': 'Electronics', 'Price': 250},{'Purchase Date': '2022-05-10', 'Product Category': 'Clothing', 'Price': 34.99}",
         "{'Timestamp': '2022-05-12 16:15:00'}",
         "\"{\"\"Review Text\"\": \"\"Good product",
         " but could be cheaper.\"\"",
         4166.666666666667
        ],
        [
         1003,
         60,
         "Other",
         "City B",
         80000,
         "{'Purchase Date': '2022-01-18', 'Product Category': 'Home & Garden', 'Price': 180},{'Purchase Date': '2022-06-02', 'Product Category': 'Electronics', 'Price': 400}",
         "{'Timestamp': '2022-06-03 10:45:00'}",
         "\"{\"\"Review Text\"\": \"\"Very satisfied with my purchase!\"\"",
         " \"\"Rating\"\": 5}\"",
         6666.666666666667
        ],
        [
         1004,
         28,
         "Female",
         "City C",
         45000,
         "{'Purchase Date': '2022-04-25', 'Product Category': 'Clothing', 'Price': 29.99},{'Purchase Date': '2022-07-07', 'Product Category': 'Home & Garden', 'Price': 150}",
         "{'Timestamp': '2022-07-08 13:00:00'}",
         "\"{\"\"Review Text\"\": \"\"Not what I expected.\"\"",
         " \"\"Rating\"\": 2}\"",
         3750
        ],
        [
         1005,
         55,
         "Male",
         "City E",
         90000,
         "{'Purchase Date': '2022-05-20', 'Product Category': 'Electronics', 'Price': 600},{'Purchase Date': '2022-08-03', 'Product Category': 'Clothing', 'Price': 59.99}",
         "{'Timestamp': '2022-08-04 09:30:00'}",
         "\"{\"\"Review Text\"\": \"\"Excellent product",
         " highly recommend!\"\"",
         7500
        ],
        [
         1006,
         38,
         "Female",
         "City F",
         65000,
         "{'Purchase Date': '2022-06-15', 'Product Category': 'Home & Garden', 'Price': 220},{'Purchase Date': '2022-09-01', 'Product Category': 'Electronics', 'Price': 300}",
         "{'Timestamp': '2022-09-02 11:15:00'}",
         "\"{\"\"Review Text\"\": \"\"Awesome purchase!\"\"",
         " \"\"Rating\"\": 5}\"",
         5416.666666666667
        ],
        [
         1007,
         42,
         "Male",
         "City G",
         70000,
         "{'Purchase Date': '2022-07-22', 'Product Category': 'Clothing', 'Price': 39.99},{'Purchase Date': '2022-10-06', 'Product Category': 'Home & Garden', 'Price': 190}",
         "{'Timestamp': '2022-10-07 14:45:00'}",
         "\"{\"\"Review Text\"\": \"\"Good product",
         " but not worth the price.\"\"",
         5833.333333333333
        ],
        [
         1008,
         50,
         "Female",
         "City H",
         85000,
         "{'Purchase Date': '2022-08-08', 'Product Category': 'Electronics', 'Price': 550},{'Purchase Date': '2022-11-01', 'Product Category': 'Clothing', 'Price': 44.99}",
         "{'Timestamp': '2022-11-02 10:30:00'}",
         "\"{\"\"Review Text\"\": \"\"Great product",
         " highly recommend!\"\"",
         7083.333333333333
        ],
        [
         1009,
         35,
         "Male",
         "City I",
         55000,
         "{'Purchase Date': '2022-09-20', 'Product Category': 'Home & Garden', 'Price': 200},{'Purchase Date': '2022-12-05', 'Product Category': 'Electronics', 'Price': 350}",
         "{'Timestamp': '2022-12-06 12:00:00'}",
         "\"{\"\"Review Text\"\": \"\"Satisfied with my purchase!\"\"",
         " \"\"Rating\"\": 4}\"",
         4583.333333333333
        ],
        [
         1010,
         48,
         "Female",
         "City J",
         75000,
         "{'Purchase Date': '2022-10-15', 'Product Category': 'Clothing', 'Price': 34.99},{'Purchase Date': '2022-12-20', 'Product Category': 'Home & Garden', 'Price': 250}",
         "{'Timestamp': '2022-12-21 15:30:00'}",
         "\"{\"\"Review Text\"\": \"\"Excellent product",
         " highly recommend!\"\"",
         6250
        ],
        [
         1011,
         30,
         "Male",
         "City K",
         40000,
         "{'Purchase Date': '2022-11-05', 'Product Category': 'Electronics', 'Price': 150},{'Purchase Date': '2023-01-10', 'Product Category': 'Clothing', 'Price': 29.99}",
         "{'Timestamp': '2023-01-11 08:45:00'}",
         "\"{\"\"Review Text\"\": \"\"Good product",
         " but could be better.\"\"",
         3333.3333333333335
        ],
        [
         1012,
         65,
         "Female",
         "City L",
         95000,
         "{'Purchase Date': '2022-12-25', 'Product Category': 'Home & Garden', 'Price': 170},{'Purchase Date': '2023-02-05', 'Product Category': 'Electronics', 'Price': 450}",
         "{'Timestamp': '2023-02-06 13:15:00'}",
         "\"{\"\"Review Text\"\": \"\"Excellent product",
         " highly recommend!\"\"",
         7916.666666666667
        ],
        [
         1001,
         24,
         "Female",
         "City D",
         45000,
         "\"[{\"\"Purchase Date\"\": \"\"2022-09-15\"\"",
         " \"\"Product Category\"\": \"\"Clothing\"\"",
         " \"\"Price\"\": 34.5}]\"",
         "\"[{\"\"Timestamp\"\": \"\"2022-08-20T14:30:00Z\"\"}",
         3750
        ],
        [
         1001,
         35,
         "Female",
         "City D",
         50000,
         "{'Purchase Date': '2022-05-15', 'Product Category': 'Clothing', 'Price': 120},{'Purchase Date': '2022-06-02', 'Product Category': 'Home & Garden', 'Price': 250}",
         "{'Timestamp': '2022-04-20T14:30:00Z'}",
         "The blouse is so comfortable and stylish. 5 stars!",
         "120",
         4166.666666666667
        ],
        [
         1002,
         45,
         "Male",
         "City E",
         80000,
         "{'Purchase Date': '2022-06-12', 'Product Category': 'Electronics', 'Price': 350}",
         "{'Timestamp': '2022-05-25T17:45:00Z'}",
         "The headphones are great. Sound quality is excellent. 4.5 stars.",
         "300",
         6666.666666666667
        ],
        [
         1003,
         28,
         "Female",
         "City F",
         60000,
         "{'Purchase Date': '2022-05-28', 'Product Category': 'Clothing', 'Price': 75},{'Purchase Date': '2022-06-10', 'Product Category': 'Home & Garden', 'Price': 120}",
         "{'Timestamp': '2022-06-01T09:15:00Z'}",
         "The dress fits perfectly. I love it. 5 stars!",
         "250",
         5000
        ],
        [
         1004,
         52,
         "Male",
         "City G",
         70000,
         "{'Purchase Date': '2022-05-08', 'Product Category': 'Electronics', 'Price': 200},{'Purchase Date': '2022-06-05', 'Product Category': 'Home & Garden', 'Price': 150}",
         "{'Timestamp': '2022-05-22T10:30:00Z'}",
         "The vacuum cleaner works great. 4 stars.",
         "350",
         5833.333333333333
        ],
        [
         1005,
         31,
         "Female",
         "City H",
         45000,
         "{'Purchase Date': '2022-05-18', 'Product Category': 'Clothing', 'Price': 50},{'Purchase Date': '2022-06-07', 'Product Category': 'Home & Garden', 'Price': 100}",
         "{'Timestamp': '2022-05-30T13:45:00Z'}",
         "The top is nice, but the size is a bit small. 3.5 stars.",
         "200",
         3750
        ],
        [
         1006,
         48,
         "Male",
         "City I",
         90000,
         "{'Purchase Date': '2022-05-23', 'Product Category': 'Electronics', 'Price': 400},{'Purchase Date': '2022-06-03', 'Product Category': 'Home & Garden', 'Price': 200}",
         "{'Timestamp': '2022-06-06T08:00:00Z'}",
         "The phone is fantastic. 5 stars!",
         "400",
         7500
        ],
        [
         1007,
         60,
         "Female",
         "City J",
         65000,
         "{'Purchase Date': '2022-05-25', 'Product Category': 'Clothing', 'Price': 100},{'Purchase Date': '2022-06-08', 'Product Category': 'Home & Garden', 'Price': 180}",
         "{'Timestamp': '2022-06-15T11:30:00Z'}",
         "The shirt is comfortable. 4 stars.",
         "300",
         5416.666666666667
        ],
        [
         1008,
         55,
         "Male",
         "City K",
         85000,
         "{'Purchase Date': '2022-05-20', 'Product Category': 'Electronics', 'Price': 300},{'Purchase Date': '2022-06-04', 'Product Category': 'Home & Garden', 'Price': 250}",
         "{'Timestamp': '2022-05-28T15:15:00Z'}",
         "The laptop is excellent. 5 stars!",
         "450",
         7083.333333333333
        ],
        [
         1009,
         29,
         "Female",
         "City L",
         40000,
         "{'Purchase Date': '2022-05-16', 'Product Category': 'Clothing', 'Price': 60},{'Purchase Date': '2022-06-06', 'Product Category': 'Home & Garden', 'Price': 150}",
         "{'Timestamp': '2022-05-31T16:45:00Z'}",
         "The shoes are comfortable. 4.5 stars.",
         "250",
         3333.3333333333335
        ],
        [
         1010,
         58,
         "Male",
         "City M",
         75000,
         "{'Purchase Date': '2022-05-12', 'Product Category': 'Electronics', 'Price': 250},{'Purchase Date': '2022-06-01', 'Product Category': 'Home & Garden', 'Price': 175}",
         "{'Timestamp': '2022-05-29T10:30:00Z'}",
         "The coffee maker is great. 5 stars!",
         "350",
         6250
        ],
        [
         1011,
         36,
         "Female",
         "City N",
         55000,
         "{'Purchase Date': '2022-05-27', 'Product Category': 'Clothing', 'Price': 80},{'Purchase Date': '2022-06-09', 'Product Category': 'Home & Garden', 'Price': 200}",
         "{'Timestamp': '2022-06-13T13:00:00Z'}",
         "The skirt is lovely. 4.5 stars.",
         "200",
         4583.333333333333
        ],
        [
         1012,
         42,
         "Male",
         "City O",
         95000,
         "{'Purchase Date': '2022-05-22', 'Product Category': 'Electronics', 'Price': 350},{'Purchase Date': '2022-06-02', 'Product Category': 'Home & Garden', 'Price': 100}",
         "{'Timestamp': '2022-05-26T11:15:00Z'}",
         "The TV is amazing. 5 stars!",
         "300",
         7916.666666666667
        ],
        [
         1013,
         50,
         "Female",
         "City P",
         68000,
         "{'Purchase Date': '2022-05-19', 'Product Category': 'Clothing', 'Price': 120},{'Purchase Date': '2022-06-07', 'Product Category': 'Home & Garden', 'Price': 150}",
         "{'Timestamp': '2022-06-08T14:30:00Z'}",
         "The bedding is comfortable. 4 stars.",
         "250",
         5666.666666666667
        ],
        [
         1001,
         32,
         "Female",
         "City D",
         65000,
         "\"[{\"\"Product Category\"\": \"\"Clothing\"\"",
         " \"\"Purchase Date\"\": \"\"2022-08-15\"\"",
         " \"\"Price\"\": 45.23}",
         " {\"\"Product Category\"\": \"\"Electronics\"\"",
         5416.666666666667
        ],
        [
         1001,
         35,
         "Female",
         "City D",
         60000,
         "\"[{\"\"Product Category\"\": \"\"Electronics\"\"",
         " \"\"Purchase Date\"\": \"\"2022-03-15\"\"",
         " \"\"Price\"\": 250.5}",
         " {\"\"Product Category\"\": \"\"Clothing\"\"",
         5000
        ],
        [
         1002,
         42,
         "Male",
         "City E",
         75000,
         "\"[{\"\"Product Category\"\": \"\"Clothing\"\"",
         " \"\"Purchase Date\"\": \"\"2022-02-20\"\"",
         " \"\"Price\"\": 150.2}",
         " {\"\"Product Category\"\": \"\"Home & Garden\"\"",
         6250
        ],
        [
         1001,
         32,
         "Female",
         "City D",
         55000,
         "\"[{\"\"Product Category\"\": \"\"Electronics\"\"",
         " \"\"Purchase Date\"\": \"\"2022-03-15\"\"",
         " \"\"Price\"\": 249.99}]\"",
         "\"[{\"\"Product Category\"\": \"\"Home & Garden\"\"",
         4583.333333333333
        ],
        [
         1001,
         28,
         "Female",
         "City D",
         65000,
         "\"[{\"\"Product Category\"\": \"\"Clothing\"\"",
         " \"\"Purchase Date\"\": \"\"2022-06-12\"\"",
         " \"\"Price\"\": 45.99}",
         " {\"\"Product Category\"\": \"\"Electronics\"\"",
         5416.666666666667
        ],
        [
         1002,
         42,
         "Male",
         "City E",
         80000,
         "\"[{\"\"Product Category\"\": \"\"Electronics\"\"",
         " \"\"Purchase Date\"\": \"\"2022-07-03\"\"",
         " \"\"Price\"\": 249.99}",
         " {\"\"Product Category\"\": \"\"Home & Garden\"\"",
         6666.666666666667
        ],
        [
         1003,
         35,
         "Other",
         "City F",
         50000,
         "\"[{\"\"Product Category\"\": \"\"Clothing\"\"",
         " \"\"Purchase Date\"\": \"\"2022-06-22\"\"",
         " \"\"Price\"\": 34.99}",
         " {\"\"Product Category\"\": \"\"Electronics\"\"",
         4166.666666666667
        ],
        [
         1004,
         52,
         "Female",
         "City G",
         100000,
         "\"[{\"\"Product Category\"\": \"\"Clothing\"\"",
         " \"\"Purchase Date\"\": \"\"2022-07-08\"\"",
         " \"\"Price\"\": 79.99}",
         " {\"\"Product Category\"\": \"\"Home & Garden\"\"",
         8333.333333333334
        ],
        [
         1005,
         24,
         "Male",
         "City H",
         45000,
         "\"[{\"\"Product Category\"\": \"\"Electronics\"\"",
         " \"\"Purchase Date\"\": \"\"2022-06-01\"\"",
         " \"\"Price\"\": 129.99}",
         " {\"\"Product Category\"\": \"\"Home & Garden\"\"",
         3750
        ],
        [
         1001,
         34,
         "Female",
         "City D",
         55000,
         "\"[{\"\"Purchase Date\"\": \"\"2022-07-02\"\"",
         "\"\"Product Category\"\": \"\"Clothing\"\"",
         "\"\"Price\"\": 25.6}",
         "{\"\"Purchase Date\"\": \"\"2022-06-15\"\"",
         4583.333333333333
        ],
        [
         1002,
         45,
         "Male",
         "City E",
         87000,
         "\"[{\"\"Purchase Date\"\": \"\"2022-07-08\"\"",
         "\"\"Product Category\"\": \"\"Electronics\"\"",
         "\"\"Price\"\": 420}",
         "{\"\"Purchase Date\"\": \"\"2022-06-23\"\"",
         7250
        ],
        [
         1003,
         29,
         "Other",
         "City F",
         42000,
         "\"[{\"\"Purchase Date\"\": \"\"2022-07-01\"\"",
         "\"\"Product Category\"\": \"\"Electronics\"\"",
         "\"\"Price\"\": 180}",
         "{\"\"Purchase Date\"\": \"\"2022-06-18\"\"",
         3500
        ]
       ],
       "datasetInfos": [],
       "dbfsResultPath": null,
       "isJsonSchema": true,
       "metadata": {},
       "overflow": false,
       "plotOptions": {
        "customPlotOptions": {},
        "displayType": "table",
        "pivotAggregation": null,
        "pivotColumns": null,
        "xColumns": null,
        "yColumns": null
       },
       "removedWidgets": [],
       "schema": [
        {
         "metadata": "{}",
         "name": "Customer ID",
         "type": "\"integer\""
        },
        {
         "metadata": "{}",
         "name": "Age",
         "type": "\"integer\""
        },
        {
         "metadata": "{}",
         "name": "Gender",
         "type": "\"string\""
        },
        {
         "metadata": "{}",
         "name": "Location",
         "type": "\"string\""
        },
        {
         "metadata": "{}",
         "name": "Annual_Salary",
         "type": "\"integer\""
        },
        {
         "metadata": "{}",
         "name": "Purchase History",
         "type": "\"string\""
        },
        {
         "metadata": "{}",
         "name": "Browsing History",
         "type": "\"string\""
        },
        {
         "metadata": "{}",
         "name": "Product Reviews",
         "type": "\"string\""
        },
        {
         "metadata": "{}",
         "name": "Time_on_Site",
         "type": "\"string\""
        },
        {
         "metadata": "{}",
         "name": "Monthly_Income",
         "type": "\"double\""
        }
       ],
       "type": "table"
      }
     },
     "output_type": "display_data"
    },
    {
     "data": {
      "text/plain": [
       "Databricks visualization. Run in Databricks to view."
      ]
     },
     "metadata": {
      "application/vnd.databricks.v1.subcommand+json": {
       "baseErrorDetails": null,
       "bindings": {},
       "collapsed": false,
       "command": "%sql WITH q AS (SELECT * FROM ecommerce_table) SELECT `Location`,COUNT(DISTINCT `Gender`) `column_56cc5071153`,`Age` FROM q GROUP BY `Age`,`Location`",
       "commandTitle": "Visualization 1",
       "commandType": "auto",
       "commandVersion": 0,
       "commentThread": [],
       "commentsVisible": false,
       "contentSha256Hex": null,
       "customPlotOptions": {
        "redashChart": [
         {
          "key": "type",
          "value": "CHART"
         },
         {
          "key": "options",
          "value": {
           "alignYAxesAtZero": true,
           "coefficient": 1,
           "columnConfigurationMap": {
            "series": {
             "column": "Age",
             "id": "column_56cc5071160"
            },
            "x": {
             "column": "Location",
             "id": "column_56cc5071155"
            },
            "y": [
             {
              "column": "Gender",
              "id": "column_56cc5071153",
              "transform": "COUNT_DISTINCT"
             }
            ]
           },
           "dateTimeFormat": "DD/MM/YYYY HH:mm",
           "direction": {
            "type": "clockwise"
           },
           "error_y": {
            "type": "data",
            "visible": true
           },
           "globalSeriesType": "pie",
           "isAggregationOn": true,
           "legend": {
            "traceorder": "normal"
           },
           "missingValuesAsZero": true,
           "numberFormat": "0,0.[00000]",
           "percentFormat": "0[.]00%",
           "series": {
            "error_y": {
             "type": "data",
             "visible": true
            },
            "stacking": null
           },
           "seriesOptions": {
            "column_56cc5071150": {
             "type": "pie",
             "yAxis": 0
            },
            "column_56cc5071153": {
             "type": "pie",
             "yAxis": 0
            }
           },
           "showDataLabels": true,
           "sizemode": "diameter",
           "sortX": true,
           "sortY": true,
           "swappedAxes": false,
           "textFormat": "",
           "useAggregationsUi": true,
           "valuesOptions": {},
           "version": 2,
           "xAxis": {
            "labels": {
             "enabled": true
            },
            "type": "-"
           },
           "yAxis": [
            {
             "type": "-"
            },
            {
             "opposite": true,
             "type": "-"
            }
           ]
          }
         }
        ]
       },
       "datasetPreviewNameToCmdIdMap": {},
       "diffDeletes": [],
       "diffInserts": [],
       "displayType": "redashChart",
       "error": null,
       "errorDetails": null,
       "errorSummary": null,
       "errorTraceType": null,
       "finishTime": 0,
       "globalVars": {},
       "guid": "",
       "height": "auto",
       "hideCommandCode": false,
       "hideCommandResult": false,
       "iPythonMetadata": null,
       "inputWidgets": {},
       "isLockedInExamMode": false,
       "latestUser": "a user",
       "latestUserId": null,
       "listResultMetadata": null,
       "metadata": {},
       "nuid": "1c631e76-86dc-497f-829e-65e379f06075",
       "origId": 0,
       "parentHierarchy": [],
       "pivotAggregation": null,
       "pivotColumns": null,
       "position": 2.375,
       "resultDbfsErrorMessage": null,
       "resultDbfsStatus": "INLINED_IN_TREE",
       "results": null,
       "showCommandTitle": false,
       "startTime": 0,
       "state": "input",
       "streamStates": {},
       "subcommandOptions": {
        "queryPlan": {
         "groups": [
          {
           "column": "Location",
           "type": "column"
          },
          {
           "column": "Age",
           "type": "column"
          }
         ],
         "selects": [
          {
           "column": "Location",
           "type": "column"
          },
          {
           "alias": "column_56cc5071153",
           "args": [
            {
             "column": "Gender",
             "type": "column"
            }
           ],
           "function": "COUNT_DISTINCT",
           "type": "function"
          },
          {
           "column": "Age",
           "type": "column"
          }
         ]
        }
       },
       "submitTime": 0,
       "subtype": "tableResultSubCmd.visualization",
       "tableResultIndex": 0,
       "tableResultSettingsMap": {},
       "useConsistentColors": false,
       "version": "CommandV1",
       "width": "auto",
       "workflows": [],
       "xColumns": null,
       "yColumns": null
      }
     },
     "output_type": "display_data"
    }
   ],
   "source": [
    "%sql\n",
    "SELECT * FROM ecommerce_table\n"
   ]
  },
  {
   "cell_type": "markdown",
   "metadata": {
    "application/vnd.databricks.v1+cell": {
     "cellMetadata": {
      "byteLimit": 2048000,
      "rowLimit": 10000
     },
     "inputWidgets": {},
     "nuid": "80e96ac1-c52a-4110-8ae3-613209289db1",
     "showTitle": false,
     "tableResultSettingsMap": {},
     "title": ""
    }
   },
   "source": [
    "**VERIFYING SCHEMA**"
   ]
  },
  {
   "cell_type": "code",
   "execution_count": 0,
   "metadata": {
    "application/vnd.databricks.v1+cell": {
     "cellMetadata": {
      "byteLimit": 2048000,
      "rowLimit": 10000
     },
     "inputWidgets": {},
     "nuid": "c28a7cf8-cee0-412d-8cba-eebfd92d911f",
     "showTitle": false,
     "tableResultSettingsMap": {},
     "title": ""
    }
   },
   "outputs": [
    {
     "name": "stdout",
     "output_type": "stream",
     "text": [
      "root\n",
      " |-- Customer ID: integer (nullable = true)\n",
      " |-- Age: integer (nullable = true)\n",
      " |-- Gender: string (nullable = true)\n",
      " |-- Location: string (nullable = true)\n",
      " |-- Annual Income: integer (nullable = true)\n",
      " |-- Purchase History: string (nullable = true)\n",
      " |-- Browsing History: string (nullable = true)\n",
      " |-- Product Reviews: string (nullable = true)\n",
      " |-- Time on Site: string (nullable = true)\n",
      "\n"
     ]
    }
   ],
   "source": [
    "ecommerce_df.printSchema()\n"
   ]
  },
  {
   "cell_type": "code",
   "execution_count": 0,
   "metadata": {
    "application/vnd.databricks.v1+cell": {
     "cellMetadata": {
      "byteLimit": 2048000,
      "rowLimit": 10000
     },
     "inputWidgets": {},
     "nuid": "7625f1a2-d003-429e-a65b-94e7d1532161",
     "showTitle": false,
     "tableResultSettingsMap": {},
     "title": ""
    }
   },
   "outputs": [
    {
     "name": "stdout",
     "output_type": "stream",
     "text": [
      "+-------+----------------+-----------------+------+--------+------------------+--------------------+--------------------+--------------------+--------------------+\n",
      "|summary|     Customer ID|              Age|Gender|Location|     Annual Income|    Purchase History|    Browsing History|     Product Reviews|        Time on Site|\n",
      "+-------+----------------+-----------------+------+--------+------------------+--------------------+--------------------+--------------------+--------------------+\n",
      "|  count|              50|               50|    50|      50|                50|                  50|                  50|                  50|                  50|\n",
      "|   mean|         1004.88|            39.96|  null|    null|           65780.0|                null|                null|                null|  286.15384615384613|\n",
      "| stddev|3.62328073233444|11.06743706850444|  null|    null|17059.667197749175|                null|                null|                null|   88.93241455720383|\n",
      "|    min|            1001|               24|Female|  City A|             40000|\"[{\"\"Date\"\": \"\"20...| \"\"Category\"\": \"\"...|  \"\"Price\"\": 129.99}|     \"\"Rating\"\": 2}\"|\n",
      "|    max|            1013|               65| Other|  City P|            100000|{'Purchase Date':...|{'Timestamp': '20...|The vacuum cleane...|{\"\"Purchase Date\"...|\n",
      "+-------+----------------+-----------------+------+--------+------------------+--------------------+--------------------+--------------------+--------------------+\n",
      "\n"
     ]
    }
   ],
   "source": [
    "ecommerce_df.describe().show()"
   ]
  },
  {
   "cell_type": "markdown",
   "metadata": {
    "application/vnd.databricks.v1+cell": {
     "cellMetadata": {
      "byteLimit": 2048000,
      "rowLimit": 10000
     },
     "inputWidgets": {},
     "nuid": "432d1f01-1344-42d6-bbbe-17c4cce3a299",
     "showTitle": false,
     "tableResultSettingsMap": {},
     "title": ""
    }
   },
   "source": [
    "**Data Transformtion on Dataset**"
   ]
  },
  {
   "cell_type": "code",
   "execution_count": 0,
   "metadata": {
    "application/vnd.databricks.v1+cell": {
     "cellMetadata": {
      "byteLimit": 2048000,
      "rowLimit": 10000
     },
     "inputWidgets": {},
     "nuid": "a6577c98-e9f8-4912-a093-796132b93c2a",
     "showTitle": false,
     "tableResultSettingsMap": {},
     "title": ""
    }
   },
   "outputs": [],
   "source": [
    "#Renaming columns \n",
    "ecommerce_df = ecommerce_df.withColumnRenamed(\"Annual Income\", \"Annual_Salary\") \\\n",
    "                           .withColumnRenamed(\"Time on Site\", \"Time_on_Site\")\n"
   ]
  },
  {
   "cell_type": "code",
   "execution_count": 0,
   "metadata": {
    "application/vnd.databricks.v1+cell": {
     "cellMetadata": {
      "byteLimit": 2048000,
      "rowLimit": 10000
     },
     "inputWidgets": {},
     "nuid": "3791bea4-aaf6-4253-8b96-42326352d02a",
     "showTitle": false,
     "tableResultSettingsMap": {},
     "title": ""
    }
   },
   "outputs": [],
   "source": [
    "# Fill missing values\n",
    "ecommerce_df = ecommerce_df.fillna({\"Age\": 0, \"Gender\": \"NA\", \"Annual_Salary\": 0})\n"
   ]
  },
  {
   "cell_type": "code",
   "execution_count": 0,
   "metadata": {
    "application/vnd.databricks.v1+cell": {
     "cellMetadata": {
      "byteLimit": 2048000,
      "rowLimit": 10000
     },
     "inputWidgets": {},
     "nuid": "b1ee7369-0f44-4ba6-b58c-3b7d43008853",
     "showTitle": false,
     "tableResultSettingsMap": {},
     "title": ""
    }
   },
   "outputs": [
    {
     "name": "stdout",
     "output_type": "stream",
     "text": [
      "+-----------+---+------+--------+-------------+--------------------+--------------------+--------------------+--------------------+\n",
      "|Customer ID|Age|Gender|Location|Annual_Salary|    Purchase History|    Browsing History|     Product Reviews|        Time_on_Site|\n",
      "+-----------+---+------+--------+-------------+--------------------+--------------------+--------------------+--------------------+\n",
      "|       1001| 25|Female|  City D|        45000|\"[{\"\"Date\"\": \"\"20...| \"\"Category\"\": \"\"...|   \"\"Price\"\": 34.99}| {\"\"Date\"\": \"\"202...|\n",
      "|       1001| 28|Female|  City D|        52000|\"[{\"\"Product Cate...| \"\"Purchase Date\"...|   \"\"Price\"\": 34.56}| {\"\"Product Categ...|\n",
      "|       1001| 28|Female|  City D|        65000|\"[{\"\"Product Cate...| \"\"Purchase Date\"...|   \"\"Price\"\": 345.5}| {\"\"Product Categ...|\n",
      "|       1001| 45|Female|  City D|        70000|{'Purchase Date':...|{'Timestamp': '20...|\"{\"\"Product 1\"\": ...| \"\"Review\"\": \"\"Gr...|\n",
      "|       1002| 34|  Male|  City E|        45000|{'Purchase Date':...|{'Timestamp': '20...|\"{\"\"Product 1\"\": ...| \"\"Review\"\": \"\"Go...|\n",
      "|       1003| 56| Other|  City F|        90000|{'Purchase Date':...|{'Timestamp': '20...|\"{\"\"Product 1\"\": ...| \"\"Review\"\": \"\"Aw...|\n",
      "|       1004| 29|Female|  City G|        60000|{'Purchase Date':...|{'Timestamp': '20...|\"{\"\"Product 1\"\": ...| \"\"Review\"\": \"\"Gr...|\n",
      "|       1005| 42|  Male|  City H|        75000|{'Purchase Date':...|{'Timestamp': '20...|\"{\"\"Product 1\"\": ...| \"\"Review\"\": \"\"Go...|\n",
      "|       1006| 51| Other|  City I|        85000|{'Purchase Date':...|{'Timestamp': '20...|\"{\"\"Product 1\"\": ...| \"\"Review\"\": \"\"Ou...|\n",
      "|       1007| 36|Female|  City J|        55000|{'Purchase Date':...|{'Timestamp': '20...|\"{\"\"Product 1\"\": ...| \"\"Review\"\": \"\"Go...|\n",
      "|       1008| 48|  Male|  City K|        80000|{'Purchase Date':...|{'Timestamp': '20...|\"{\"\"Product 1\"\": ...| \"\"Review\"\": \"\"Go...|\n",
      "|       1009| 25| Other|  City L|        40000|{'Purchase Date':...|{'Timestamp': '20...|\"{\"\"Product 1\"\": ...| \"\"Review\"\": \"\"Gr...|\n",
      "|       1001| 45|Female|  City D|        75000|{'Purchase Date':...|{'Timestamp': '20...|\"{\"\"Review Text\"\"...|     \"\"Rating\"\": 5}\"|\n",
      "|       1002| 32|  Male|  City A|        50000|{'Purchase Date':...|{'Timestamp': '20...|\"{\"\"Review Text\"\"...| but could be che...|\n",
      "|       1003| 60| Other|  City B|        80000|{'Purchase Date':...|{'Timestamp': '20...|\"{\"\"Review Text\"\"...|     \"\"Rating\"\": 5}\"|\n",
      "|       1004| 28|Female|  City C|        45000|{'Purchase Date':...|{'Timestamp': '20...|\"{\"\"Review Text\"\"...|     \"\"Rating\"\": 2}\"|\n",
      "|       1005| 55|  Male|  City E|        90000|{'Purchase Date':...|{'Timestamp': '20...|\"{\"\"Review Text\"\"...| highly recommend!\"\"|\n",
      "|       1006| 38|Female|  City F|        65000|{'Purchase Date':...|{'Timestamp': '20...|\"{\"\"Review Text\"\"...|     \"\"Rating\"\": 5}\"|\n",
      "|       1007| 42|  Male|  City G|        70000|{'Purchase Date':...|{'Timestamp': '20...|\"{\"\"Review Text\"\"...| but not worth th...|\n",
      "|       1008| 50|Female|  City H|        85000|{'Purchase Date':...|{'Timestamp': '20...|\"{\"\"Review Text\"\"...| highly recommend!\"\"|\n",
      "+-----------+---+------+--------+-------------+--------------------+--------------------+--------------------+--------------------+\n",
      "only showing top 20 rows\n",
      "\n"
     ]
    }
   ],
   "source": [
    "ecommerce_df.show()"
   ]
  },
  {
   "cell_type": "code",
   "execution_count": 0,
   "metadata": {
    "application/vnd.databricks.v1+cell": {
     "cellMetadata": {
      "byteLimit": 2048000,
      "rowLimit": 10000
     },
     "inputWidgets": {},
     "nuid": "2c9b68f4-723b-4873-9063-0391e8ab7b28",
     "showTitle": false,
     "tableResultSettingsMap": {},
     "title": ""
    }
   },
   "outputs": [],
   "source": [
    "from pyspark.sql.functions import col\n",
    "ecommerce_df = ecommerce_df.withColumn(\"Monthly_Income\", col(\"Annual_Salary\") / 12)"
   ]
  },
  {
   "cell_type": "markdown",
   "metadata": {
    "application/vnd.databricks.v1+cell": {
     "cellMetadata": {
      "byteLimit": 2048000,
      "rowLimit": 10000
     },
     "inputWidgets": {},
     "nuid": "892788ab-2b56-46c3-813e-3fe0d40f1259",
     "showTitle": false,
     "tableResultSettingsMap": {},
     "title": ""
    }
   },
   "source": [
    "**FILTERING BASED ON ANNUAL SALARY**"
   ]
  },
  {
   "cell_type": "code",
   "execution_count": 0,
   "metadata": {
    "application/vnd.databricks.v1+cell": {
     "cellMetadata": {
      "byteLimit": 2048000,
      "rowLimit": 10000
     },
     "inputWidgets": {},
     "nuid": "c6e2c3c7-d0e9-436c-ba8a-9407736b17ea",
     "showTitle": false,
     "tableResultSettingsMap": {},
     "title": ""
    }
   },
   "outputs": [
    {
     "name": "stdout",
     "output_type": "stream",
     "text": [
      "+-----------+---+------+--------+-------------+--------------------+--------------------+--------------------+--------------------+-----------------+\n",
      "|Customer ID|Age|Gender|Location|Annual_Salary|    Purchase History|    Browsing History|     Product Reviews|        Time_on_Site|   Monthly_Income|\n",
      "+-----------+---+------+--------+-------------+--------------------+--------------------+--------------------+--------------------+-----------------+\n",
      "|       1001| 28|Female|  City D|        52000|\"[{\"\"Product Cate...| \"\"Purchase Date\"...|   \"\"Price\"\": 34.56}| {\"\"Product Categ...|4333.333333333333|\n",
      "|       1001| 28|Female|  City D|        65000|\"[{\"\"Product Cate...| \"\"Purchase Date\"...|   \"\"Price\"\": 345.5}| {\"\"Product Categ...|5416.666666666667|\n",
      "|       1001| 45|Female|  City D|        70000|{'Purchase Date':...|{'Timestamp': '20...|\"{\"\"Product 1\"\": ...| \"\"Review\"\": \"\"Gr...|5833.333333333333|\n",
      "|       1003| 56| Other|  City F|        90000|{'Purchase Date':...|{'Timestamp': '20...|\"{\"\"Product 1\"\": ...| \"\"Review\"\": \"\"Aw...|           7500.0|\n",
      "|       1004| 29|Female|  City G|        60000|{'Purchase Date':...|{'Timestamp': '20...|\"{\"\"Product 1\"\": ...| \"\"Review\"\": \"\"Gr...|           5000.0|\n",
      "|       1005| 42|  Male|  City H|        75000|{'Purchase Date':...|{'Timestamp': '20...|\"{\"\"Product 1\"\": ...| \"\"Review\"\": \"\"Go...|           6250.0|\n",
      "|       1006| 51| Other|  City I|        85000|{'Purchase Date':...|{'Timestamp': '20...|\"{\"\"Product 1\"\": ...| \"\"Review\"\": \"\"Ou...|7083.333333333333|\n",
      "|       1007| 36|Female|  City J|        55000|{'Purchase Date':...|{'Timestamp': '20...|\"{\"\"Product 1\"\": ...| \"\"Review\"\": \"\"Go...|4583.333333333333|\n",
      "|       1008| 48|  Male|  City K|        80000|{'Purchase Date':...|{'Timestamp': '20...|\"{\"\"Product 1\"\": ...| \"\"Review\"\": \"\"Go...|6666.666666666667|\n",
      "|       1001| 45|Female|  City D|        75000|{'Purchase Date':...|{'Timestamp': '20...|\"{\"\"Review Text\"\"...|     \"\"Rating\"\": 5}\"|           6250.0|\n",
      "|       1002| 32|  Male|  City A|        50000|{'Purchase Date':...|{'Timestamp': '20...|\"{\"\"Review Text\"\"...| but could be che...|4166.666666666667|\n",
      "|       1003| 60| Other|  City B|        80000|{'Purchase Date':...|{'Timestamp': '20...|\"{\"\"Review Text\"\"...|     \"\"Rating\"\": 5}\"|6666.666666666667|\n",
      "|       1005| 55|  Male|  City E|        90000|{'Purchase Date':...|{'Timestamp': '20...|\"{\"\"Review Text\"\"...| highly recommend!\"\"|           7500.0|\n",
      "|       1006| 38|Female|  City F|        65000|{'Purchase Date':...|{'Timestamp': '20...|\"{\"\"Review Text\"\"...|     \"\"Rating\"\": 5}\"|5416.666666666667|\n",
      "|       1007| 42|  Male|  City G|        70000|{'Purchase Date':...|{'Timestamp': '20...|\"{\"\"Review Text\"\"...| but not worth th...|5833.333333333333|\n",
      "|       1008| 50|Female|  City H|        85000|{'Purchase Date':...|{'Timestamp': '20...|\"{\"\"Review Text\"\"...| highly recommend!\"\"|7083.333333333333|\n",
      "|       1009| 35|  Male|  City I|        55000|{'Purchase Date':...|{'Timestamp': '20...|\"{\"\"Review Text\"\"...|     \"\"Rating\"\": 4}\"|4583.333333333333|\n",
      "|       1010| 48|Female|  City J|        75000|{'Purchase Date':...|{'Timestamp': '20...|\"{\"\"Review Text\"\"...| highly recommend!\"\"|           6250.0|\n",
      "|       1012| 65|Female|  City L|        95000|{'Purchase Date':...|{'Timestamp': '20...|\"{\"\"Review Text\"\"...| highly recommend!\"\"|7916.666666666667|\n",
      "|       1001| 35|Female|  City D|        50000|{'Purchase Date':...|{'Timestamp': '20...|The blouse is so ...|                 120|4166.666666666667|\n",
      "+-----------+---+------+--------+-------------+--------------------+--------------------+--------------------+--------------------+-----------------+\n",
      "only showing top 20 rows\n",
      "\n"
     ]
    }
   ],
   "source": [
    "#filtering high icome persons\n",
    "high_income_customers = ecommerce_df.filter(col(\"Annual_Salary\") >= 50000)\n",
    "high_income_customers.show()\n"
   ]
  },
  {
   "cell_type": "code",
   "execution_count": 0,
   "metadata": {
    "application/vnd.databricks.v1+cell": {
     "cellMetadata": {
      "byteLimit": 2048000,
      "implicitDf": true,
      "rowLimit": 10000
     },
     "inputWidgets": {},
     "nuid": "58b3c266-2cc9-457d-884b-c0159a34200f",
     "showTitle": false,
     "tableResultSettingsMap": {},
     "title": ""
    }
   },
   "outputs": [
    {
     "data": {
      "text/html": [
       "<style scoped>\n",
       "  .table-result-container {\n",
       "    max-height: 300px;\n",
       "    overflow: auto;\n",
       "  }\n",
       "  table, th, td {\n",
       "    border: 1px solid black;\n",
       "    border-collapse: collapse;\n",
       "  }\n",
       "  th, td {\n",
       "    padding: 5px;\n",
       "  }\n",
       "  th {\n",
       "    text-align: left;\n",
       "  }\n",
       "</style><div class='table-result-container'><table class='table-result'><thead style='background-color: white'><tr><th>Gender</th><th>Annual_Salary</th></tr></thead><tbody><tr><td>Female</td><td>52000</td></tr><tr><td>Female</td><td>65000</td></tr><tr><td>Female</td><td>70000</td></tr><tr><td>Other</td><td>90000</td></tr><tr><td>Female</td><td>60000</td></tr><tr><td>Male</td><td>75000</td></tr><tr><td>Other</td><td>85000</td></tr><tr><td>Female</td><td>55000</td></tr><tr><td>Male</td><td>80000</td></tr><tr><td>Female</td><td>75000</td></tr><tr><td>Male</td><td>50000</td></tr><tr><td>Other</td><td>80000</td></tr><tr><td>Male</td><td>90000</td></tr><tr><td>Female</td><td>65000</td></tr><tr><td>Male</td><td>70000</td></tr><tr><td>Female</td><td>85000</td></tr><tr><td>Male</td><td>55000</td></tr><tr><td>Female</td><td>75000</td></tr><tr><td>Female</td><td>95000</td></tr><tr><td>Female</td><td>50000</td></tr><tr><td>Male</td><td>80000</td></tr><tr><td>Female</td><td>60000</td></tr><tr><td>Male</td><td>70000</td></tr><tr><td>Male</td><td>90000</td></tr><tr><td>Female</td><td>65000</td></tr><tr><td>Male</td><td>85000</td></tr><tr><td>Male</td><td>75000</td></tr><tr><td>Female</td><td>55000</td></tr><tr><td>Male</td><td>95000</td></tr><tr><td>Female</td><td>68000</td></tr><tr><td>Female</td><td>65000</td></tr><tr><td>Female</td><td>60000</td></tr><tr><td>Male</td><td>75000</td></tr><tr><td>Female</td><td>55000</td></tr><tr><td>Female</td><td>65000</td></tr><tr><td>Male</td><td>80000</td></tr><tr><td>Other</td><td>50000</td></tr><tr><td>Female</td><td>100000</td></tr><tr><td>Female</td><td>55000</td></tr><tr><td>Male</td><td>87000</td></tr></tbody></table></div>"
      ]
     },
     "metadata": {
      "application/vnd.databricks.v1+output": {
       "addedWidgets": {},
       "aggData": [],
       "aggError": "",
       "aggOverflow": false,
       "aggSchema": [],
       "aggSeriesLimitReached": false,
       "aggType": "",
       "arguments": {},
       "columnCustomDisplayInfos": {},
       "data": [
        [
         "Female",
         52000
        ],
        [
         "Female",
         65000
        ],
        [
         "Female",
         70000
        ],
        [
         "Other",
         90000
        ],
        [
         "Female",
         60000
        ],
        [
         "Male",
         75000
        ],
        [
         "Other",
         85000
        ],
        [
         "Female",
         55000
        ],
        [
         "Male",
         80000
        ],
        [
         "Female",
         75000
        ],
        [
         "Male",
         50000
        ],
        [
         "Other",
         80000
        ],
        [
         "Male",
         90000
        ],
        [
         "Female",
         65000
        ],
        [
         "Male",
         70000
        ],
        [
         "Female",
         85000
        ],
        [
         "Male",
         55000
        ],
        [
         "Female",
         75000
        ],
        [
         "Female",
         95000
        ],
        [
         "Female",
         50000
        ],
        [
         "Male",
         80000
        ],
        [
         "Female",
         60000
        ],
        [
         "Male",
         70000
        ],
        [
         "Male",
         90000
        ],
        [
         "Female",
         65000
        ],
        [
         "Male",
         85000
        ],
        [
         "Male",
         75000
        ],
        [
         "Female",
         55000
        ],
        [
         "Male",
         95000
        ],
        [
         "Female",
         68000
        ],
        [
         "Female",
         65000
        ],
        [
         "Female",
         60000
        ],
        [
         "Male",
         75000
        ],
        [
         "Female",
         55000
        ],
        [
         "Female",
         65000
        ],
        [
         "Male",
         80000
        ],
        [
         "Other",
         50000
        ],
        [
         "Female",
         100000
        ],
        [
         "Female",
         55000
        ],
        [
         "Male",
         87000
        ]
       ],
       "datasetInfos": [],
       "dbfsResultPath": null,
       "isJsonSchema": true,
       "metadata": {},
       "overflow": false,
       "plotOptions": {
        "customPlotOptions": {},
        "displayType": "table",
        "pivotAggregation": null,
        "pivotColumns": null,
        "xColumns": null,
        "yColumns": null
       },
       "removedWidgets": [],
       "schema": [
        {
         "metadata": "{}",
         "name": "Gender",
         "type": "\"string\""
        },
        {
         "metadata": "{}",
         "name": "Annual_Salary",
         "type": "\"integer\""
        }
       ],
       "type": "table"
      }
     },
     "output_type": "display_data"
    },
    {
     "data": {
      "text/plain": [
       "Databricks visualization. Run in Databricks to view."
      ]
     },
     "metadata": {
      "application/vnd.databricks.v1.subcommand+json": {
       "baseErrorDetails": null,
       "bindings": {},
       "collapsed": false,
       "command": "%sql WITH q AS (SELECT Gender, Annual_Salary\nFROM ecommerce_table\nWHERE Annual_Salary >= 50000) SELECT `Gender`,SUM(`Annual_Salary`) `column_56cc5071163` FROM q GROUP BY `Gender`",
       "commandTitle": "Visualization 1",
       "commandType": "auto",
       "commandVersion": 0,
       "commentThread": [],
       "commentsVisible": false,
       "contentSha256Hex": null,
       "customPlotOptions": {
        "redashChart": [
         {
          "key": "type",
          "value": "CHART"
         },
         {
          "key": "options",
          "value": {
           "alignYAxesAtZero": true,
           "coefficient": 1,
           "columnConfigurationMap": {
            "x": {
             "column": "Gender",
             "id": "column_56cc5071162"
            },
            "y": [
             {
              "column": "Annual_Salary",
              "id": "column_56cc5071163",
              "transform": "SUM"
             }
            ]
           },
           "dateTimeFormat": "DD/MM/YYYY HH:mm",
           "direction": {
            "type": "counterclockwise"
           },
           "error_y": {
            "type": "data",
            "visible": true
           },
           "globalSeriesType": "area",
           "legend": {
            "traceorder": "normal"
           },
           "missingValuesAsZero": true,
           "numberFormat": "0,0.[00000]",
           "percentFormat": "0[.]00%",
           "series": {
            "error_y": {
             "type": "data",
             "visible": true
            },
            "stacking": null
           },
           "seriesOptions": {
            "column_56cc5071163": {
             "name": "Annual_Salary",
             "type": "area",
             "yAxis": 0
            }
           },
           "showDataLabels": false,
           "sizemode": "diameter",
           "sortX": true,
           "sortY": true,
           "swappedAxes": false,
           "textFormat": "",
           "useAggregationsUi": true,
           "valuesOptions": {},
           "version": 2,
           "xAxis": {
            "labels": {
             "enabled": true
            },
            "type": "-"
           },
           "yAxis": [
            {
             "type": "-"
            },
            {
             "opposite": true,
             "type": "-"
            }
           ]
          }
         }
        ]
       },
       "datasetPreviewNameToCmdIdMap": {},
       "diffDeletes": [],
       "diffInserts": [],
       "displayType": "redashChart",
       "error": null,
       "errorDetails": null,
       "errorSummary": null,
       "errorTraceType": null,
       "finishTime": 0,
       "globalVars": {},
       "guid": "",
       "height": "auto",
       "hideCommandCode": false,
       "hideCommandResult": false,
       "iPythonMetadata": null,
       "inputWidgets": {},
       "isLockedInExamMode": false,
       "latestUser": "a user",
       "latestUserId": null,
       "listResultMetadata": null,
       "metadata": {},
       "nuid": "f14bbb3b-df7a-4ab3-8cb5-14f3470cb95d",
       "origId": 0,
       "parentHierarchy": [],
       "pivotAggregation": null,
       "pivotColumns": null,
       "position": 9.25,
       "resultDbfsErrorMessage": null,
       "resultDbfsStatus": "INLINED_IN_TREE",
       "results": null,
       "showCommandTitle": false,
       "startTime": 0,
       "state": "input",
       "streamStates": {},
       "subcommandOptions": {
        "queryPlan": {
         "groups": [
          {
           "column": "Gender",
           "type": "column"
          }
         ],
         "selects": [
          {
           "column": "Gender",
           "type": "column"
          },
          {
           "alias": "column_56cc5071163",
           "args": [
            {
             "column": "Annual_Salary",
             "type": "column"
            }
           ],
           "function": "SUM",
           "type": "function"
          }
         ]
        }
       },
       "submitTime": 0,
       "subtype": "tableResultSubCmd.visualization",
       "tableResultIndex": 0,
       "tableResultSettingsMap": {},
       "useConsistentColors": false,
       "version": "CommandV1",
       "width": "auto",
       "workflows": [],
       "xColumns": null,
       "yColumns": null
      }
     },
     "output_type": "display_data"
    }
   ],
   "source": [
    "%sql\n",
    "SELECT Gender, Annual_Salary\n",
    "FROM ecommerce_table\n",
    "WHERE Annual_Salary >= 50000\n"
   ]
  },
  {
   "cell_type": "markdown",
   "metadata": {
    "application/vnd.databricks.v1+cell": {
     "cellMetadata": {
      "byteLimit": 2048000,
      "rowLimit": 10000
     },
     "inputWidgets": {},
     "nuid": "59b7830d-bc3f-4eb1-a8b0-8f3e2f93eb76",
     "showTitle": false,
     "tableResultSettingsMap": {},
     "title": ""
    }
   },
   "source": [
    "**Handling Missing Value**s "
   ]
  },
  {
   "cell_type": "code",
   "execution_count": 0,
   "metadata": {
    "application/vnd.databricks.v1+cell": {
     "cellMetadata": {
      "byteLimit": 2048000,
      "rowLimit": 10000
     },
     "inputWidgets": {},
     "nuid": "26a7f96e-ef85-42c0-8be7-394a4e4c70df",
     "showTitle": false,
     "tableResultSettingsMap": {},
     "title": ""
    }
   },
   "outputs": [],
   "source": [
    "from pyspark.sql.functions import coalesce, lit\n",
    "cleaned_df = high_income_customers.withColumn(\"Purchase History\", coalesce(col(\"Purchase History\"), lit('No Data')))"
   ]
  },
  {
   "cell_type": "markdown",
   "metadata": {
    "application/vnd.databricks.v1+cell": {
     "cellMetadata": {
      "byteLimit": 2048000,
      "rowLimit": 10000
     },
     "inputWidgets": {},
     "nuid": "21a2bece-91a0-45f3-91e9-e8f049b3bec5",
     "showTitle": false,
     "tableResultSettingsMap": {},
     "title": ""
    }
   },
   "source": [
    "**Parsing the nested JSON Format String **"
   ]
  },
  {
   "cell_type": "code",
   "execution_count": 0,
   "metadata": {
    "application/vnd.databricks.v1+cell": {
     "cellMetadata": {
      "byteLimit": 2048000,
      "rowLimit": 10000
     },
     "inputWidgets": {},
     "nuid": "7ca40e68-de9c-4631-b82b-97b4f22ed34c",
     "showTitle": false,
     "tableResultSettingsMap": {},
     "title": ""
    }
   },
   "outputs": [
    {
     "name": "stdout",
     "output_type": "stream",
     "text": [
      "+-----------+---+------+--------+-------------+------------------------------------------------------------------------------------------------------------------------------------------------------------------------------------------------------------------------------------------------------------------------------------------------------------------------------------------+-------------------------------------+-------------------------------------------------------+-------------------------------------------------------------------------------------------------------+-----------------+--------------------------------+\n",
      "|Customer ID|Age|Gender|Location|Annual_Salary|Purchase History                                                                                                                                                                                                                                                                                                                          |Browsing History                     |Product Reviews                                        |Time_on_Site                                                                                           |Monthly_Income   |Parsed_Purchase_History         |\n",
      "+-----------+---+------+--------+-------------+------------------------------------------------------------------------------------------------------------------------------------------------------------------------------------------------------------------------------------------------------------------------------------------------------------------------------------------+-------------------------------------+-------------------------------------------------------+-------------------------------------------------------------------------------------------------------+-----------------+--------------------------------+\n",
      "|1001       |28 |Female|City D  |52000        |\"[{\"\"Product Category\"\": \"\"Clothing\"\"                                                                                                                                                                                                                                                                                                     | \"\"Purchase Date\"\": \"\"2022-05-15\"\"   | \"\"Price\"\": 34.56}                                     | {\"\"Product Category\"\": \"\"Electronics\"\"                                                                |4333.333333333333|{null, null, null}              |\n",
      "|1001       |28 |Female|City D  |65000        |\"[{\"\"Product Category\"\": \"\"Electronics\"\"                                                                                                                                                                                                                                                                                                  | \"\"Purchase Date\"\": \"\"2022-08-15\"\"   | \"\"Price\"\": 345.5}                                     | {\"\"Product Category\"\": \"\"Home & Garden\"\"                                                              |5416.666666666667|{null, null, null}              |\n",
      "|1001       |45 |Female|City D  |70000        |{'Purchase Date': '2022-08-15', 'Product Category': 'Electronics', 'Price': 200.5},{'Purchase Date': '2022-07-22', 'Product Category': 'Clothing', 'Price': 125.6},{'Purchase Date': '2022-06-01', 'Product Category': 'Home & Garden', 'Price': 300.8},{'Purchase Date': '2022-05-10', 'Product Category': 'Electronics', 'Price': 150.9}|{'Timestamp': '2022-09-03 14:30:00'} |\"{\"\"Product 1\"\": {\"\"Rating\"\": 4                        | \"\"Review\"\": \"\"Great experience buying this product. Fast delivery and excellent customer service.\"\"}}\"|5833.333333333333|{Electronics, 2022-08-15, 200.5}|\n",
      "|1003       |56 |Other |City F  |90000        |{'Purchase Date': '2022-09-01', 'Product Category': 'Electronics', 'Price': 300.2},{'Purchase Date': '2022-08-12', 'Product Category': 'Clothing', 'Price': 185.3},{'Purchase Date': '2022-07-28', 'Product Category': 'Home & Garden', 'Price': 200.9}                                                                                   |{'Timestamp': '2022-06-25 10:45:00'} |\"{\"\"Product 1\"\": {\"\"Rating\"\": 5                        | \"\"Review\"\": \"\"Awesome product                                                                         |7500.0           |{Electronics, 2022-09-01, 300.2}|\n",
      "|1004       |29 |Female|City G  |60000        |{'Purchase Date': '2022-07-20', 'Product Category': 'Electronics', 'Price': 150.8},{'Purchase Date': '2022-06-05', 'Product Category': 'Clothing', 'Price': 120.6},{'Purchase Date': '2022-05-18', 'Product Category': 'Home & Garden', 'Price': 350.1}                                                                                   |{'Timestamp': '2022-08-15 13:20:00'} |\"{\"\"Product 1\"\": {\"\"Rating\"\": 4                        | \"\"Review\"\": \"\"Great product                                                                           |5000.0           |{Electronics, 2022-07-20, 150.8}|\n",
      "|1005       |42 |Male  |City H  |75000        |{'Purchase Date': '2022-08-28', 'Product Category': 'Electronics', 'Price': 250.6},{'Purchase Date': '2022-07-15', 'Product Category': 'Clothing', 'Price': 115.7},{'Purchase Date': '2022-06-03', 'Product Category': 'Home & Garden', 'Price': 300.4}                                                                                   |{'Timestamp': '2022-09-12 16:35:00'} |\"{\"\"Product 1\"\": {\"\"Rating\"\": 3                        | \"\"Review\"\": \"\"Good product                                                                            |6250.0           |{Electronics, 2022-08-28, 250.6}|\n",
      "|1006       |51 |Other |City I  |85000        |{'Purchase Date': '2022-09-05', 'Product Category': 'Electronics', 'Price': 400.9},{'Purchase Date': '2022-08-18', 'Product Category': 'Clothing', 'Price': 195.3},{'Purchase Date': '2022-07-03', 'Product Category': 'Home & Garden', 'Price': 220.7}                                                                                   |{'Timestamp': '2022-06-28 09:00:00'} |\"{\"\"Product 1\"\": {\"\"Rating\"\": 5                        | \"\"Review\"\": \"\"Outstanding product                                                                     |7083.333333333333|{Electronics, 2022-09-05, 400.9}|\n",
      "|1007       |36 |Female|City J  |55000        |{'Purchase Date': '2022-07-27', 'Product Category': 'Electronics', 'Price': 120.5},{'Purchase Date': '2022-06-12', 'Product Category': 'Clothing', 'Price': 130.6},{'Purchase Date': '2022-05-28', 'Product Category': 'Home & Garden', 'Price': 320.8}                                                                                   |{'Timestamp': '2022-08-17 14:50:00'} |\"{\"\"Product 1\"\": {\"\"Rating\"\": 4                        | \"\"Review\"\": \"\"Good product                                                                            |4583.333333333333|{Electronics, 2022-07-27, 120.5}|\n",
      "|1008       |48 |Male  |City K  |80000        |{'Purchase Date': '2022-09-08', 'Product Category': 'Electronics', 'Price': 350.2},{'Purchase Date': '2022-08-23', 'Product Category': 'Clothing', 'Price': 165.3},{'Purchase Date': '2022-07-07', 'Product Category': 'Home & Garden', 'Price': 280.9}                                                                                   |{'Timestamp': '2022-06-30 11:15:00'} |\"{\"\"Product 1\"\": {\"\"Rating\"\": 3                        | \"\"Review\"\": \"\"Good product                                                                            |6666.666666666667|{Electronics, 2022-09-08, 350.2}|\n",
      "|1001       |45 |Female|City D  |75000        |{'Purchase Date': '2022-03-05', 'Product Category': 'Clothing', 'Price': 45.99},{'Purchase Date': '2022-04-12', 'Product Category': 'Home & Garden', 'Price': 120.5}                                                                                                                                                                      |{'Timestamp': '2022-03-06 14:30:00'} |\"{\"\"Review Text\"\": \"\"Great quality clothes!\"\"          | \"\"Rating\"\": 5}\"                                                                                       |6250.0           |{Clothing, 2022-03-05, 45.99}   |\n",
      "|1002       |32 |Male  |City A  |50000        |{'Purchase Date': '2022-02-15', 'Product Category': 'Electronics', 'Price': 250},{'Purchase Date': '2022-05-10', 'Product Category': 'Clothing', 'Price': 34.99}                                                                                                                                                                          |{'Timestamp': '2022-05-12 16:15:00'} |\"{\"\"Review Text\"\": \"\"Good product                      | but could be cheaper.\"\"                                                                               |4166.666666666667|{Electronics, 2022-02-15, 250}  |\n",
      "|1003       |60 |Other |City B  |80000        |{'Purchase Date': '2022-01-18', 'Product Category': 'Home & Garden', 'Price': 180},{'Purchase Date': '2022-06-02', 'Product Category': 'Electronics', 'Price': 400}                                                                                                                                                                       |{'Timestamp': '2022-06-03 10:45:00'} |\"{\"\"Review Text\"\": \"\"Very satisfied with my purchase!\"\"| \"\"Rating\"\": 5}\"                                                                                       |6666.666666666667|{Home & Garden, 2022-01-18, 180}|\n",
      "|1005       |55 |Male  |City E  |90000        |{'Purchase Date': '2022-05-20', 'Product Category': 'Electronics', 'Price': 600},{'Purchase Date': '2022-08-03', 'Product Category': 'Clothing', 'Price': 59.99}                                                                                                                                                                          |{'Timestamp': '2022-08-04 09:30:00'} |\"{\"\"Review Text\"\": \"\"Excellent product                 | highly recommend!\"\"                                                                                   |7500.0           |{Electronics, 2022-05-20, 600}  |\n",
      "|1006       |38 |Female|City F  |65000        |{'Purchase Date': '2022-06-15', 'Product Category': 'Home & Garden', 'Price': 220},{'Purchase Date': '2022-09-01', 'Product Category': 'Electronics', 'Price': 300}                                                                                                                                                                       |{'Timestamp': '2022-09-02 11:15:00'} |\"{\"\"Review Text\"\": \"\"Awesome purchase!\"\"               | \"\"Rating\"\": 5}\"                                                                                       |5416.666666666667|{Home & Garden, 2022-06-15, 220}|\n",
      "|1007       |42 |Male  |City G  |70000        |{'Purchase Date': '2022-07-22', 'Product Category': 'Clothing', 'Price': 39.99},{'Purchase Date': '2022-10-06', 'Product Category': 'Home & Garden', 'Price': 190}                                                                                                                                                                        |{'Timestamp': '2022-10-07 14:45:00'} |\"{\"\"Review Text\"\": \"\"Good product                      | but not worth the price.\"\"                                                                            |5833.333333333333|{Clothing, 2022-07-22, 39.99}   |\n",
      "|1008       |50 |Female|City H  |85000        |{'Purchase Date': '2022-08-08', 'Product Category': 'Electronics', 'Price': 550},{'Purchase Date': '2022-11-01', 'Product Category': 'Clothing', 'Price': 44.99}                                                                                                                                                                          |{'Timestamp': '2022-11-02 10:30:00'} |\"{\"\"Review Text\"\": \"\"Great product                     | highly recommend!\"\"                                                                                   |7083.333333333333|{Electronics, 2022-08-08, 550}  |\n",
      "|1009       |35 |Male  |City I  |55000        |{'Purchase Date': '2022-09-20', 'Product Category': 'Home & Garden', 'Price': 200},{'Purchase Date': '2022-12-05', 'Product Category': 'Electronics', 'Price': 350}                                                                                                                                                                       |{'Timestamp': '2022-12-06 12:00:00'} |\"{\"\"Review Text\"\": \"\"Satisfied with my purchase!\"\"     | \"\"Rating\"\": 4}\"                                                                                       |4583.333333333333|{Home & Garden, 2022-09-20, 200}|\n",
      "|1010       |48 |Female|City J  |75000        |{'Purchase Date': '2022-10-15', 'Product Category': 'Clothing', 'Price': 34.99},{'Purchase Date': '2022-12-20', 'Product Category': 'Home & Garden', 'Price': 250}                                                                                                                                                                        |{'Timestamp': '2022-12-21 15:30:00'} |\"{\"\"Review Text\"\": \"\"Excellent product                 | highly recommend!\"\"                                                                                   |6250.0           |{Clothing, 2022-10-15, 34.99}   |\n",
      "|1012       |65 |Female|City L  |95000        |{'Purchase Date': '2022-12-25', 'Product Category': 'Home & Garden', 'Price': 170},{'Purchase Date': '2023-02-05', 'Product Category': 'Electronics', 'Price': 450}                                                                                                                                                                       |{'Timestamp': '2023-02-06 13:15:00'} |\"{\"\"Review Text\"\": \"\"Excellent product                 | highly recommend!\"\"                                                                                   |7916.666666666667|{Home & Garden, 2022-12-25, 170}|\n",
      "|1001       |35 |Female|City D  |50000        |{'Purchase Date': '2022-05-15', 'Product Category': 'Clothing', 'Price': 120},{'Purchase Date': '2022-06-02', 'Product Category': 'Home & Garden', 'Price': 250}                                                                                                                                                                          |{'Timestamp': '2022-04-20T14:30:00Z'}|The blouse is so comfortable and stylish. 5 stars!     |120                                                                                                    |4166.666666666667|{Clothing, 2022-05-15, 120}     |\n",
      "+-----------+---+------+--------+-------------+------------------------------------------------------------------------------------------------------------------------------------------------------------------------------------------------------------------------------------------------------------------------------------------------------------------------------------------+-------------------------------------+-------------------------------------------------------+-------------------------------------------------------------------------------------------------------+-----------------+--------------------------------+\n",
      "only showing top 20 rows\n",
      "\n"
     ]
    }
   ],
   "source": [
    "from pyspark.sql.functions import from_json, col\n",
    "from pyspark.sql.types import StructType, StructField, StringType\n",
    "\n",
    "# Define the schema for \"Purchase History\"\n",
    "purchase_history_schema = StructType([\n",
    "    StructField(\"Product Category\", StringType(), True),\n",
    "    StructField(\"Purchase Date\", StringType(), True),\n",
    "    StructField(\"Price\", StringType(), True)\n",
    "])\n",
    "\n",
    "# Parse the \"Purchase History\" column\n",
    "df_parsed = high_income_customers.withColumn(\"Parsed_Purchase_History\", from_json(col(\"Purchase History\"), purchase_history_schema))\n",
    "df_parsed.show(truncate=False)\n"
   ]
  },
  {
   "cell_type": "code",
   "execution_count": 0,
   "metadata": {
    "application/vnd.databricks.v1+cell": {
     "cellMetadata": {
      "byteLimit": 2048000,
      "rowLimit": 10000
     },
     "inputWidgets": {},
     "nuid": "08415be4-4c02-4109-b056-18ec95377400",
     "showTitle": false,
     "tableResultSettingsMap": {},
     "title": ""
    }
   },
   "outputs": [
    {
     "name": "stdout",
     "output_type": "stream",
     "text": [
      "+-----------+---+------+--------+-------------+----------------+-------------+-----+\n",
      "|Customer ID|Age|Gender|Location|Annual_Salary|Product_Category|Purchase_Date|Price|\n",
      "+-----------+---+------+--------+-------------+----------------+-------------+-----+\n",
      "|1001       |28 |Female|City D  |52000        |null            |null         |null |\n",
      "|1001       |28 |Female|City D  |65000        |null            |null         |null |\n",
      "|1001       |45 |Female|City D  |70000        |Electronics     |2022-08-15   |200.5|\n",
      "|1003       |56 |Other |City F  |90000        |Electronics     |2022-09-01   |300.2|\n",
      "|1004       |29 |Female|City G  |60000        |Electronics     |2022-07-20   |150.8|\n",
      "|1005       |42 |Male  |City H  |75000        |Electronics     |2022-08-28   |250.6|\n",
      "|1006       |51 |Other |City I  |85000        |Electronics     |2022-09-05   |400.9|\n",
      "|1007       |36 |Female|City J  |55000        |Electronics     |2022-07-27   |120.5|\n",
      "|1008       |48 |Male  |City K  |80000        |Electronics     |2022-09-08   |350.2|\n",
      "|1001       |45 |Female|City D  |75000        |Clothing        |2022-03-05   |45.99|\n",
      "|1002       |32 |Male  |City A  |50000        |Electronics     |2022-02-15   |250  |\n",
      "|1003       |60 |Other |City B  |80000        |Home & Garden   |2022-01-18   |180  |\n",
      "|1005       |55 |Male  |City E  |90000        |Electronics     |2022-05-20   |600  |\n",
      "|1006       |38 |Female|City F  |65000        |Home & Garden   |2022-06-15   |220  |\n",
      "|1007       |42 |Male  |City G  |70000        |Clothing        |2022-07-22   |39.99|\n",
      "|1008       |50 |Female|City H  |85000        |Electronics     |2022-08-08   |550  |\n",
      "|1009       |35 |Male  |City I  |55000        |Home & Garden   |2022-09-20   |200  |\n",
      "|1010       |48 |Female|City J  |75000        |Clothing        |2022-10-15   |34.99|\n",
      "|1012       |65 |Female|City L  |95000        |Home & Garden   |2022-12-25   |170  |\n",
      "|1001       |35 |Female|City D  |50000        |Clothing        |2022-05-15   |120  |\n",
      "+-----------+---+------+--------+-------------+----------------+-------------+-----+\n",
      "only showing top 20 rows\n",
      "\n"
     ]
    }
   ],
   "source": [
    "from pyspark.sql.functions import col\n",
    "\n",
    "\n",
    "df_flat = df_parsed.select(\n",
    "    \"Customer ID\", \n",
    "    \"Age\", \n",
    "    \"Gender\", \n",
    "    \"Location\", \n",
    "    \"Annual_Salary\", \n",
    "    col(\"Parsed_Purchase_History.Product Category\").alias(\"Product_Category\"),\n",
    "    col(\"Parsed_Purchase_History.Purchase Date\").alias(\"Purchase_Date\"),\n",
    "    col(\"Parsed_Purchase_History.Price\").alias(\"Price\")\n",
    ")\n",
    "\n",
    "df_flat.show(truncate=False)"
   ]
  },
  {
   "cell_type": "code",
   "execution_count": 0,
   "metadata": {
    "application/vnd.databricks.v1+cell": {
     "cellMetadata": {
      "byteLimit": 2048000,
      "implicitDf": true,
      "rowLimit": 10000
     },
     "inputWidgets": {},
     "nuid": "56983c13-7e73-47ab-a488-247aec9c475a",
     "showTitle": false,
     "tableResultSettingsMap": {},
     "title": ""
    }
   },
   "outputs": [
    {
     "data": {
      "text/html": [
       "<style scoped>\n",
       "  .table-result-container {\n",
       "    max-height: 300px;\n",
       "    overflow: auto;\n",
       "  }\n",
       "  table, th, td {\n",
       "    border: 1px solid black;\n",
       "    border-collapse: collapse;\n",
       "  }\n",
       "  th, td {\n",
       "    padding: 5px;\n",
       "  }\n",
       "  th {\n",
       "    text-align: left;\n",
       "  }\n",
       "</style><div class='table-result-container'><table class='table-result'><thead style='background-color: white'><tr><th>col_name</th><th>data_type</th><th>comment</th></tr></thead><tbody><tr><td>Customer ID</td><td>int</td><td>null</td></tr><tr><td>Age</td><td>int</td><td>null</td></tr><tr><td>Gender</td><td>string</td><td>null</td></tr><tr><td>Location</td><td>string</td><td>null</td></tr><tr><td>Annual_Salary</td><td>int</td><td>null</td></tr><tr><td>Purchase History</td><td>string</td><td>null</td></tr><tr><td>Browsing History</td><td>string</td><td>null</td></tr><tr><td>Product Reviews</td><td>string</td><td>null</td></tr><tr><td>Time_on_Site</td><td>string</td><td>null</td></tr><tr><td>Monthly_Income</td><td>double</td><td>null</td></tr></tbody></table></div>"
      ]
     },
     "metadata": {
      "application/vnd.databricks.v1+output": {
       "addedWidgets": {},
       "aggData": [],
       "aggError": "",
       "aggOverflow": false,
       "aggSchema": [],
       "aggSeriesLimitReached": false,
       "aggType": "",
       "arguments": {},
       "columnCustomDisplayInfos": {},
       "data": [
        [
         "Customer ID",
         "int",
         null
        ],
        [
         "Age",
         "int",
         null
        ],
        [
         "Gender",
         "string",
         null
        ],
        [
         "Location",
         "string",
         null
        ],
        [
         "Annual_Salary",
         "int",
         null
        ],
        [
         "Purchase History",
         "string",
         null
        ],
        [
         "Browsing History",
         "string",
         null
        ],
        [
         "Product Reviews",
         "string",
         null
        ],
        [
         "Time_on_Site",
         "string",
         null
        ],
        [
         "Monthly_Income",
         "double",
         null
        ]
       ],
       "datasetInfos": [],
       "dbfsResultPath": null,
       "isJsonSchema": true,
       "metadata": {},
       "overflow": false,
       "plotOptions": {
        "customPlotOptions": {},
        "displayType": "table",
        "pivotAggregation": null,
        "pivotColumns": null,
        "xColumns": null,
        "yColumns": null
       },
       "removedWidgets": [],
       "schema": [
        {
         "metadata": "{\"comment\":\"name of the column\"}",
         "name": "col_name",
         "type": "\"string\""
        },
        {
         "metadata": "{\"comment\":\"data type of the column\"}",
         "name": "data_type",
         "type": "\"string\""
        },
        {
         "metadata": "{\"comment\":\"comment of the column\"}",
         "name": "comment",
         "type": "\"string\""
        }
       ],
       "type": "table"
      }
     },
     "output_type": "display_data"
    },
    {
     "data": {
      "text/plain": [
       "Databricks visualization. Run in Databricks to view."
      ]
     },
     "metadata": {
      "application/vnd.databricks.v1.subcommand+json": {
       "baseErrorDetails": null,
       "bindings": {},
       "collapsed": false,
       "command": "%sql WITH q AS (DESCRIBE ecommerce_table) SELECT `col_name`,COUNT(`col_name`) `column_56cc5071176`,`col_name`,COUNT(`data_type`) `column_56cc5071179` FROM q GROUP BY `col_name`",
       "commandTitle": "Visualization 1",
       "commandType": "auto",
       "commandVersion": 0,
       "commentThread": [],
       "commentsVisible": false,
       "contentSha256Hex": null,
       "customPlotOptions": {
        "redashChart": [
         {
          "key": "type",
          "value": "CHART"
         },
         {
          "key": "options",
          "value": {
           "alignYAxesAtZero": true,
           "coefficient": 1,
           "columnConfigurationMap": {
            "series": {
             "column": "col_name",
             "id": "column_56cc5071178"
            },
            "x": {
             "column": "col_name",
             "id": "column_56cc5071175"
            },
            "y": [
             {
              "column": "col_name",
              "id": "column_56cc5071176",
              "transform": "COUNT"
             }
            ],
            "yError": {
             "column": "data_type",
             "id": "column_56cc5071179",
             "transform": "COUNT"
            }
           },
           "dateTimeFormat": "DD/MM/YYYY HH:mm",
           "direction": {
            "type": "counterclockwise"
           },
           "error_y": {
            "type": "data",
            "visible": true
           },
           "globalSeriesType": "column",
           "isAggregationOn": true,
           "legend": {
            "traceorder": "normal"
           },
           "missingValuesAsZero": true,
           "numBins": 10,
           "numberFormat": "0,0.[00000]",
           "percentFormat": "0[.]00%",
           "reverseX": false,
           "series": {
            "error_y": {
             "type": "data",
             "visible": true
            },
            "stacking": "stack"
           },
           "seriesOptions": {
            "column_56cc5071171": {
             "type": "column",
             "yAxis": 0
            },
            "column_56cc5071176": {
             "type": "column",
             "yAxis": 0
            }
           },
           "showDataLabels": false,
           "sizemode": "diameter",
           "sortX": true,
           "sortY": true,
           "swappedAxes": false,
           "textFormat": "",
           "useAggregationsUi": true,
           "valuesOptions": {},
           "version": 2,
           "xAxis": {
            "labels": {
             "enabled": true
            },
            "type": "-"
           },
           "yAxis": [
            {
             "type": "-"
            },
            {
             "opposite": true,
             "type": "-"
            }
           ]
          }
         }
        ]
       },
       "datasetPreviewNameToCmdIdMap": {},
       "diffDeletes": [],
       "diffInserts": [],
       "displayType": "redashChart",
       "error": null,
       "errorDetails": null,
       "errorSummary": null,
       "errorTraceType": null,
       "finishTime": 0,
       "globalVars": {},
       "guid": "",
       "height": "auto",
       "hideCommandCode": false,
       "hideCommandResult": false,
       "iPythonMetadata": null,
       "inputWidgets": {},
       "isLockedInExamMode": false,
       "latestUser": "a user",
       "latestUserId": null,
       "listResultMetadata": null,
       "metadata": {},
       "nuid": "5d925e44-6956-4332-928c-95252fd98541",
       "origId": 0,
       "parentHierarchy": [],
       "pivotAggregation": null,
       "pivotColumns": null,
       "position": 12.125,
       "resultDbfsErrorMessage": null,
       "resultDbfsStatus": "INLINED_IN_TREE",
       "results": null,
       "showCommandTitle": false,
       "startTime": 0,
       "state": "input",
       "streamStates": {},
       "subcommandOptions": {
        "queryPlan": {
         "groups": [
          {
           "column": "col_name",
           "type": "column"
          },
          {
           "column": "col_name",
           "type": "column"
          }
         ],
         "selects": [
          {
           "column": "col_name",
           "type": "column"
          },
          {
           "alias": "column_56cc5071176",
           "args": [
            {
             "column": "col_name",
             "type": "column"
            }
           ],
           "function": "COUNT",
           "type": "function"
          },
          {
           "column": "col_name",
           "type": "column"
          },
          {
           "alias": "column_56cc5071179",
           "args": [
            {
             "column": "data_type",
             "type": "column"
            }
           ],
           "function": "COUNT",
           "type": "function"
          }
         ]
        }
       },
       "submitTime": 0,
       "subtype": "tableResultSubCmd.visualization",
       "tableResultIndex": 0,
       "tableResultSettingsMap": {},
       "useConsistentColors": false,
       "version": "CommandV1",
       "width": "auto",
       "workflows": [],
       "xColumns": null,
       "yColumns": null
      }
     },
     "output_type": "display_data"
    }
   ],
   "source": [
    "%sql\n",
    "DESCRIBE ecommerce_table\n"
   ]
  },
  {
   "cell_type": "markdown",
   "metadata": {
    "application/vnd.databricks.v1+cell": {
     "cellMetadata": {
      "byteLimit": 2048000,
      "rowLimit": 10000
     },
     "inputWidgets": {},
     "nuid": "bb27ca78-cf97-401f-8196-33be9d54e5c1",
     "showTitle": false,
     "tableResultSettingsMap": {},
     "title": ""
    }
   },
   "source": [
    "**ADDING MONTHLY SALARY AS A NEW COLUMN**"
   ]
  },
  {
   "cell_type": "code",
   "execution_count": 0,
   "metadata": {
    "application/vnd.databricks.v1+cell": {
     "cellMetadata": {
      "byteLimit": 2048000,
      "rowLimit": 10000
     },
     "inputWidgets": {},
     "nuid": "760f8b29-aa6a-4e9e-b738-e9b94c60f03a",
     "showTitle": false,
     "tableResultSettingsMap": {},
     "title": ""
    }
   },
   "outputs": [
    {
     "name": "stdout",
     "output_type": "stream",
     "text": [
      "+-----------+---+------+--------+-------------+-----------------+----------------+-------------+-----+\n",
      "|Customer ID|Age|Gender|Location|Annual_Salary|Monthly_Salary   |Product_Category|Purchase_Date|Price|\n",
      "+-----------+---+------+--------+-------------+-----------------+----------------+-------------+-----+\n",
      "|1001       |28 |Female|City D  |52000        |4333.333333333333|null            |null         |null |\n",
      "|1001       |28 |Female|City D  |65000        |5416.666666666667|null            |null         |null |\n",
      "|1001       |45 |Female|City D  |70000        |5833.333333333333|Electronics     |2022-08-15   |200.5|\n",
      "|1003       |56 |Other |City F  |90000        |7500.0           |Electronics     |2022-09-01   |300.2|\n",
      "|1004       |29 |Female|City G  |60000        |5000.0           |Electronics     |2022-07-20   |150.8|\n",
      "|1005       |42 |Male  |City H  |75000        |6250.0           |Electronics     |2022-08-28   |250.6|\n",
      "|1006       |51 |Other |City I  |85000        |7083.333333333333|Electronics     |2022-09-05   |400.9|\n",
      "|1007       |36 |Female|City J  |55000        |4583.333333333333|Electronics     |2022-07-27   |120.5|\n",
      "|1008       |48 |Male  |City K  |80000        |6666.666666666667|Electronics     |2022-09-08   |350.2|\n",
      "|1001       |45 |Female|City D  |75000        |6250.0           |Clothing        |2022-03-05   |45.99|\n",
      "|1002       |32 |Male  |City A  |50000        |4166.666666666667|Electronics     |2022-02-15   |250  |\n",
      "|1003       |60 |Other |City B  |80000        |6666.666666666667|Home & Garden   |2022-01-18   |180  |\n",
      "|1005       |55 |Male  |City E  |90000        |7500.0           |Electronics     |2022-05-20   |600  |\n",
      "|1006       |38 |Female|City F  |65000        |5416.666666666667|Home & Garden   |2022-06-15   |220  |\n",
      "|1007       |42 |Male  |City G  |70000        |5833.333333333333|Clothing        |2022-07-22   |39.99|\n",
      "|1008       |50 |Female|City H  |85000        |7083.333333333333|Electronics     |2022-08-08   |550  |\n",
      "|1009       |35 |Male  |City I  |55000        |4583.333333333333|Home & Garden   |2022-09-20   |200  |\n",
      "|1010       |48 |Female|City J  |75000        |6250.0           |Clothing        |2022-10-15   |34.99|\n",
      "|1012       |65 |Female|City L  |95000        |7916.666666666667|Home & Garden   |2022-12-25   |170  |\n",
      "|1001       |35 |Female|City D  |50000        |4166.666666666667|Clothing        |2022-05-15   |120  |\n",
      "+-----------+---+------+--------+-------------+-----------------+----------------+-------------+-----+\n",
      "only showing top 20 rows\n",
      "\n"
     ]
    }
   ],
   "source": [
    "from pyspark.sql.functions import col\n",
    "\n",
    "\n",
    "df_flat = df_parsed.select(\n",
    "    \"Customer ID\", \n",
    "    \"Age\", \n",
    "    \"Gender\", \n",
    "    \"Location\", \n",
    "    \"Annual_Salary\", \n",
    "    (col(\"Annual_Salary\") / 12).alias(\"Monthly_Salary\"),  # Calculate Monthly Salary\n",
    "    col(\"Parsed_Purchase_History.Product Category\").alias(\"Product_Category\"),\n",
    "    col(\"Parsed_Purchase_History.Purchase Date\").alias(\"Purchase_Date\"),\n",
    "    col(\"Parsed_Purchase_History.Price\").alias(\"Price\")\n",
    ")\n",
    "\n",
    "df_flat.show(truncate=False)"
   ]
  },
  {
   "cell_type": "markdown",
   "metadata": {
    "application/vnd.databricks.v1+cell": {
     "cellMetadata": {
      "byteLimit": 2048000,
      "rowLimit": 10000
     },
     "inputWidgets": {},
     "nuid": "ed59bca8-5b96-4502-b6e7-403d23ce7874",
     "showTitle": false,
     "tableResultSettingsMap": {},
     "title": ""
    }
   },
   "source": [
    "**PARSING NESTED BROWSING HISTORY COLUMN**"
   ]
  },
  {
   "cell_type": "code",
   "execution_count": 0,
   "metadata": {
    "application/vnd.databricks.v1+cell": {
     "cellMetadata": {
      "byteLimit": 2048000,
      "rowLimit": 10000
     },
     "inputWidgets": {},
     "nuid": "2ec49234-e7d2-4326-82aa-a6e481505470",
     "showTitle": false,
     "tableResultSettingsMap": {},
     "title": ""
    }
   },
   "outputs": [
    {
     "name": "stdout",
     "output_type": "stream",
     "text": [
      "+-----------+---+------+--------+-------------+------------------------------------------------------------------------------------------------------------------------------------------------------------------------------------------------------------------------------------------------------------------------------------------------------------------------------------------+-------------------------------------+-------------------------------------------------------+-------------------------------------------------------------------------------------------------------+-----------------+------------------------+\n",
      "|Customer ID|Age|Gender|Location|Annual_Salary|Purchase History                                                                                                                                                                                                                                                                                                                          |Browsing History                     |Product Reviews                                        |Time_on_Site                                                                                           |Monthly_Income   |Parsed_Browsing_History |\n",
      "+-----------+---+------+--------+-------------+------------------------------------------------------------------------------------------------------------------------------------------------------------------------------------------------------------------------------------------------------------------------------------------------------------------------------------------+-------------------------------------+-------------------------------------------------------+-------------------------------------------------------------------------------------------------------+-----------------+------------------------+\n",
      "|1001       |28 |Female|City D  |52000        |\"[{\"\"Product Category\"\": \"\"Clothing\"\"                                                                                                                                                                                                                                                                                                     | \"\"Purchase Date\"\": \"\"2022-05-15\"\"   | \"\"Price\"\": 34.56}                                     | {\"\"Product Category\"\": \"\"Electronics\"\"                                                                |4333.333333333333|null                    |\n",
      "|1001       |28 |Female|City D  |65000        |\"[{\"\"Product Category\"\": \"\"Electronics\"\"                                                                                                                                                                                                                                                                                                  | \"\"Purchase Date\"\": \"\"2022-08-15\"\"   | \"\"Price\"\": 345.5}                                     | {\"\"Product Category\"\": \"\"Home & Garden\"\"                                                              |5416.666666666667|null                    |\n",
      "|1001       |45 |Female|City D  |70000        |{'Purchase Date': '2022-08-15', 'Product Category': 'Electronics', 'Price': 200.5},{'Purchase Date': '2022-07-22', 'Product Category': 'Clothing', 'Price': 125.6},{'Purchase Date': '2022-06-01', 'Product Category': 'Home & Garden', 'Price': 300.8},{'Purchase Date': '2022-05-10', 'Product Category': 'Electronics', 'Price': 150.9}|{'Timestamp': '2022-09-03 14:30:00'} |\"{\"\"Product 1\"\": {\"\"Rating\"\": 4                        | \"\"Review\"\": \"\"Great experience buying this product. Fast delivery and excellent customer service.\"\"}}\"|5833.333333333333|[{2022-09-03 14:30:00}] |\n",
      "|1003       |56 |Other |City F  |90000        |{'Purchase Date': '2022-09-01', 'Product Category': 'Electronics', 'Price': 300.2},{'Purchase Date': '2022-08-12', 'Product Category': 'Clothing', 'Price': 185.3},{'Purchase Date': '2022-07-28', 'Product Category': 'Home & Garden', 'Price': 200.9}                                                                                   |{'Timestamp': '2022-06-25 10:45:00'} |\"{\"\"Product 1\"\": {\"\"Rating\"\": 5                        | \"\"Review\"\": \"\"Awesome product                                                                         |7500.0           |[{2022-06-25 10:45:00}] |\n",
      "|1004       |29 |Female|City G  |60000        |{'Purchase Date': '2022-07-20', 'Product Category': 'Electronics', 'Price': 150.8},{'Purchase Date': '2022-06-05', 'Product Category': 'Clothing', 'Price': 120.6},{'Purchase Date': '2022-05-18', 'Product Category': 'Home & Garden', 'Price': 350.1}                                                                                   |{'Timestamp': '2022-08-15 13:20:00'} |\"{\"\"Product 1\"\": {\"\"Rating\"\": 4                        | \"\"Review\"\": \"\"Great product                                                                           |5000.0           |[{2022-08-15 13:20:00}] |\n",
      "|1005       |42 |Male  |City H  |75000        |{'Purchase Date': '2022-08-28', 'Product Category': 'Electronics', 'Price': 250.6},{'Purchase Date': '2022-07-15', 'Product Category': 'Clothing', 'Price': 115.7},{'Purchase Date': '2022-06-03', 'Product Category': 'Home & Garden', 'Price': 300.4}                                                                                   |{'Timestamp': '2022-09-12 16:35:00'} |\"{\"\"Product 1\"\": {\"\"Rating\"\": 3                        | \"\"Review\"\": \"\"Good product                                                                            |6250.0           |[{2022-09-12 16:35:00}] |\n",
      "|1006       |51 |Other |City I  |85000        |{'Purchase Date': '2022-09-05', 'Product Category': 'Electronics', 'Price': 400.9},{'Purchase Date': '2022-08-18', 'Product Category': 'Clothing', 'Price': 195.3},{'Purchase Date': '2022-07-03', 'Product Category': 'Home & Garden', 'Price': 220.7}                                                                                   |{'Timestamp': '2022-06-28 09:00:00'} |\"{\"\"Product 1\"\": {\"\"Rating\"\": 5                        | \"\"Review\"\": \"\"Outstanding product                                                                     |7083.333333333333|[{2022-06-28 09:00:00}] |\n",
      "|1007       |36 |Female|City J  |55000        |{'Purchase Date': '2022-07-27', 'Product Category': 'Electronics', 'Price': 120.5},{'Purchase Date': '2022-06-12', 'Product Category': 'Clothing', 'Price': 130.6},{'Purchase Date': '2022-05-28', 'Product Category': 'Home & Garden', 'Price': 320.8}                                                                                   |{'Timestamp': '2022-08-17 14:50:00'} |\"{\"\"Product 1\"\": {\"\"Rating\"\": 4                        | \"\"Review\"\": \"\"Good product                                                                            |4583.333333333333|[{2022-08-17 14:50:00}] |\n",
      "|1008       |48 |Male  |City K  |80000        |{'Purchase Date': '2022-09-08', 'Product Category': 'Electronics', 'Price': 350.2},{'Purchase Date': '2022-08-23', 'Product Category': 'Clothing', 'Price': 165.3},{'Purchase Date': '2022-07-07', 'Product Category': 'Home & Garden', 'Price': 280.9}                                                                                   |{'Timestamp': '2022-06-30 11:15:00'} |\"{\"\"Product 1\"\": {\"\"Rating\"\": 3                        | \"\"Review\"\": \"\"Good product                                                                            |6666.666666666667|[{2022-06-30 11:15:00}] |\n",
      "|1001       |45 |Female|City D  |75000        |{'Purchase Date': '2022-03-05', 'Product Category': 'Clothing', 'Price': 45.99},{'Purchase Date': '2022-04-12', 'Product Category': 'Home & Garden', 'Price': 120.5}                                                                                                                                                                      |{'Timestamp': '2022-03-06 14:30:00'} |\"{\"\"Review Text\"\": \"\"Great quality clothes!\"\"          | \"\"Rating\"\": 5}\"                                                                                       |6250.0           |[{2022-03-06 14:30:00}] |\n",
      "|1002       |32 |Male  |City A  |50000        |{'Purchase Date': '2022-02-15', 'Product Category': 'Electronics', 'Price': 250},{'Purchase Date': '2022-05-10', 'Product Category': 'Clothing', 'Price': 34.99}                                                                                                                                                                          |{'Timestamp': '2022-05-12 16:15:00'} |\"{\"\"Review Text\"\": \"\"Good product                      | but could be cheaper.\"\"                                                                               |4166.666666666667|[{2022-05-12 16:15:00}] |\n",
      "|1003       |60 |Other |City B  |80000        |{'Purchase Date': '2022-01-18', 'Product Category': 'Home & Garden', 'Price': 180},{'Purchase Date': '2022-06-02', 'Product Category': 'Electronics', 'Price': 400}                                                                                                                                                                       |{'Timestamp': '2022-06-03 10:45:00'} |\"{\"\"Review Text\"\": \"\"Very satisfied with my purchase!\"\"| \"\"Rating\"\": 5}\"                                                                                       |6666.666666666667|[{2022-06-03 10:45:00}] |\n",
      "|1005       |55 |Male  |City E  |90000        |{'Purchase Date': '2022-05-20', 'Product Category': 'Electronics', 'Price': 600},{'Purchase Date': '2022-08-03', 'Product Category': 'Clothing', 'Price': 59.99}                                                                                                                                                                          |{'Timestamp': '2022-08-04 09:30:00'} |\"{\"\"Review Text\"\": \"\"Excellent product                 | highly recommend!\"\"                                                                                   |7500.0           |[{2022-08-04 09:30:00}] |\n",
      "|1006       |38 |Female|City F  |65000        |{'Purchase Date': '2022-06-15', 'Product Category': 'Home & Garden', 'Price': 220},{'Purchase Date': '2022-09-01', 'Product Category': 'Electronics', 'Price': 300}                                                                                                                                                                       |{'Timestamp': '2022-09-02 11:15:00'} |\"{\"\"Review Text\"\": \"\"Awesome purchase!\"\"               | \"\"Rating\"\": 5}\"                                                                                       |5416.666666666667|[{2022-09-02 11:15:00}] |\n",
      "|1007       |42 |Male  |City G  |70000        |{'Purchase Date': '2022-07-22', 'Product Category': 'Clothing', 'Price': 39.99},{'Purchase Date': '2022-10-06', 'Product Category': 'Home & Garden', 'Price': 190}                                                                                                                                                                        |{'Timestamp': '2022-10-07 14:45:00'} |\"{\"\"Review Text\"\": \"\"Good product                      | but not worth the price.\"\"                                                                            |5833.333333333333|[{2022-10-07 14:45:00}] |\n",
      "|1008       |50 |Female|City H  |85000        |{'Purchase Date': '2022-08-08', 'Product Category': 'Electronics', 'Price': 550},{'Purchase Date': '2022-11-01', 'Product Category': 'Clothing', 'Price': 44.99}                                                                                                                                                                          |{'Timestamp': '2022-11-02 10:30:00'} |\"{\"\"Review Text\"\": \"\"Great product                     | highly recommend!\"\"                                                                                   |7083.333333333333|[{2022-11-02 10:30:00}] |\n",
      "|1009       |35 |Male  |City I  |55000        |{'Purchase Date': '2022-09-20', 'Product Category': 'Home & Garden', 'Price': 200},{'Purchase Date': '2022-12-05', 'Product Category': 'Electronics', 'Price': 350}                                                                                                                                                                       |{'Timestamp': '2022-12-06 12:00:00'} |\"{\"\"Review Text\"\": \"\"Satisfied with my purchase!\"\"     | \"\"Rating\"\": 4}\"                                                                                       |4583.333333333333|[{2022-12-06 12:00:00}] |\n",
      "|1010       |48 |Female|City J  |75000        |{'Purchase Date': '2022-10-15', 'Product Category': 'Clothing', 'Price': 34.99},{'Purchase Date': '2022-12-20', 'Product Category': 'Home & Garden', 'Price': 250}                                                                                                                                                                        |{'Timestamp': '2022-12-21 15:30:00'} |\"{\"\"Review Text\"\": \"\"Excellent product                 | highly recommend!\"\"                                                                                   |6250.0           |[{2022-12-21 15:30:00}] |\n",
      "|1012       |65 |Female|City L  |95000        |{'Purchase Date': '2022-12-25', 'Product Category': 'Home & Garden', 'Price': 170},{'Purchase Date': '2023-02-05', 'Product Category': 'Electronics', 'Price': 450}                                                                                                                                                                       |{'Timestamp': '2023-02-06 13:15:00'} |\"{\"\"Review Text\"\": \"\"Excellent product                 | highly recommend!\"\"                                                                                   |7916.666666666667|[{2023-02-06 13:15:00}] |\n",
      "|1001       |35 |Female|City D  |50000        |{'Purchase Date': '2022-05-15', 'Product Category': 'Clothing', 'Price': 120},{'Purchase Date': '2022-06-02', 'Product Category': 'Home & Garden', 'Price': 250}                                                                                                                                                                          |{'Timestamp': '2022-04-20T14:30:00Z'}|The blouse is so comfortable and stylish. 5 stars!     |120                                                                                                    |4166.666666666667|[{2022-04-20T14:30:00Z}]|\n",
      "+-----------+---+------+--------+-------------+------------------------------------------------------------------------------------------------------------------------------------------------------------------------------------------------------------------------------------------------------------------------------------------------------------------------------------------+-------------------------------------+-------------------------------------------------------+-------------------------------------------------------------------------------------------------------+-----------------+------------------------+\n",
      "only showing top 20 rows\n",
      "\n"
     ]
    }
   ],
   "source": [
    "from pyspark.sql.functions import from_json, col\n",
    "from pyspark.sql.types import StructType, StructField, StringType, ArrayType\n",
    "\n",
    "browsing_history_schema = ArrayType(StructType([\n",
    "    StructField(\"Timestamp\", StringType(), True)\n",
    "]))\n",
    "\n",
    "df_parsed = high_income_customers.withColumn(\"Parsed_Browsing_History\", from_json(col(\"Browsing History\"), browsing_history_schema))\n",
    "\n",
    "df_parsed.show(truncate=False)"
   ]
  },
  {
   "cell_type": "markdown",
   "metadata": {
    "application/vnd.databricks.v1+cell": {
     "cellMetadata": {
      "byteLimit": 2048000,
      "rowLimit": 10000
     },
     "inputWidgets": {},
     "nuid": "48be4081-61c5-4b7b-a746-f0ec062656d2",
     "showTitle": false,
     "tableResultSettingsMap": {},
     "title": ""
    }
   },
   "source": [
    "**FLATTEN THE ARRAYS OF COLUMNS**"
   ]
  },
  {
   "cell_type": "code",
   "execution_count": 0,
   "metadata": {
    "application/vnd.databricks.v1+cell": {
     "cellMetadata": {
      "byteLimit": 2048000,
      "rowLimit": 10000
     },
     "inputWidgets": {},
     "nuid": "da66e1df-e579-4247-a6a2-f894cd59c657",
     "showTitle": false,
     "tableResultSettingsMap": {},
     "title": ""
    }
   },
   "outputs": [
    {
     "name": "stdout",
     "output_type": "stream",
     "text": [
      "+-----------+---+------+--------+-------------+--------------------+--------------+--------------+-------------------------------------------------------------------------------------------------------+-----------------+\n",
      "|Customer ID|Age|Gender|Location|Annual_Salary|Timestamp           |Product_Rating|Product_Review|Time_on_Site                                                                                           |Monthly_Income   |\n",
      "+-----------+---+------+--------+-------------+--------------------+--------------+--------------+-------------------------------------------------------------------------------------------------------+-----------------+\n",
      "|1001       |45 |Female|City D  |70000        |2022-09-03 14:30:00 |null          |null          | \"\"Review\"\": \"\"Great experience buying this product. Fast delivery and excellent customer service.\"\"}}\"|5833.333333333333|\n",
      "|1003       |56 |Other |City F  |90000        |2022-06-25 10:45:00 |null          |null          | \"\"Review\"\": \"\"Awesome product                                                                         |7500.0           |\n",
      "|1004       |29 |Female|City G  |60000        |2022-08-15 13:20:00 |null          |null          | \"\"Review\"\": \"\"Great product                                                                           |5000.0           |\n",
      "|1005       |42 |Male  |City H  |75000        |2022-09-12 16:35:00 |null          |null          | \"\"Review\"\": \"\"Good product                                                                            |6250.0           |\n",
      "|1006       |51 |Other |City I  |85000        |2022-06-28 09:00:00 |null          |null          | \"\"Review\"\": \"\"Outstanding product                                                                     |7083.333333333333|\n",
      "|1007       |36 |Female|City J  |55000        |2022-08-17 14:50:00 |null          |null          | \"\"Review\"\": \"\"Good product                                                                            |4583.333333333333|\n",
      "|1008       |48 |Male  |City K  |80000        |2022-06-30 11:15:00 |null          |null          | \"\"Review\"\": \"\"Good product                                                                            |6666.666666666667|\n",
      "|1001       |45 |Female|City D  |75000        |2022-03-06 14:30:00 |null          |null          | \"\"Rating\"\": 5}\"                                                                                       |6250.0           |\n",
      "|1002       |32 |Male  |City A  |50000        |2022-05-12 16:15:00 |null          |null          | but could be cheaper.\"\"                                                                               |4166.666666666667|\n",
      "|1003       |60 |Other |City B  |80000        |2022-06-03 10:45:00 |null          |null          | \"\"Rating\"\": 5}\"                                                                                       |6666.666666666667|\n",
      "|1005       |55 |Male  |City E  |90000        |2022-08-04 09:30:00 |null          |null          | highly recommend!\"\"                                                                                   |7500.0           |\n",
      "|1006       |38 |Female|City F  |65000        |2022-09-02 11:15:00 |null          |null          | \"\"Rating\"\": 5}\"                                                                                       |5416.666666666667|\n",
      "|1007       |42 |Male  |City G  |70000        |2022-10-07 14:45:00 |null          |null          | but not worth the price.\"\"                                                                            |5833.333333333333|\n",
      "|1008       |50 |Female|City H  |85000        |2022-11-02 10:30:00 |null          |null          | highly recommend!\"\"                                                                                   |7083.333333333333|\n",
      "|1009       |35 |Male  |City I  |55000        |2022-12-06 12:00:00 |null          |null          | \"\"Rating\"\": 4}\"                                                                                       |4583.333333333333|\n",
      "|1010       |48 |Female|City J  |75000        |2022-12-21 15:30:00 |null          |null          | highly recommend!\"\"                                                                                   |6250.0           |\n",
      "|1012       |65 |Female|City L  |95000        |2023-02-06 13:15:00 |null          |null          | highly recommend!\"\"                                                                                   |7916.666666666667|\n",
      "|1001       |35 |Female|City D  |50000        |2022-04-20T14:30:00Z|null          |null          |120                                                                                                    |4166.666666666667|\n",
      "|1002       |45 |Male  |City E  |80000        |2022-05-25T17:45:00Z|null          |null          |300                                                                                                    |6666.666666666667|\n",
      "|1003       |28 |Female|City F  |60000        |2022-06-01T09:15:00Z|null          |null          |250                                                                                                    |5000.0           |\n",
      "+-----------+---+------+--------+-------------+--------------------+--------------+--------------+-------------------------------------------------------------------------------------------------------+-----------------+\n",
      "only showing top 20 rows\n",
      "\n"
     ]
    }
   ],
   "source": [
    "from pyspark.sql.functions import explode, col, from_json\n",
    "from pyspark.sql.types import StructType, StructField, StringType, DoubleType\n",
    "\n",
    "# Define schema for Product Reviews if it's nested\n",
    "product_reviews_schema = StructType([\n",
    "    StructField(\"Product 1\", StructType([\n",
    "        StructField(\"Rating\", DoubleType(), True),\n",
    "        StructField(\"Review\", StringType(), True)\n",
    "    ]), True)\n",
    "])\n",
    "\n",
    "\n",
    "df_parsed_reviews = df_parsed.withColumn(\"Parsed_Product_Reviews\", from_json(col(\"Product Reviews\"), product_reviews_schema))\n",
    "\n",
    "\n",
    "df_flat = df_parsed_reviews.select(\n",
    "    \"Customer ID\", \n",
    "    \"Age\", \n",
    "    \"Gender\", \n",
    "    \"Location\", \n",
    "    \"Annual_Salary\", \n",
    "    explode(col(\"Parsed_Browsing_History\")).alias(\"Browsing_History_Entry\"), \n",
    "    col(\"Parsed_Product_Reviews.Product 1.Rating\").alias(\"Product_Rating\"),  \n",
    "    col(\"Parsed_Product_Reviews.Product 1.Review\").alias(\"Product_Review\"),  \n",
    "    \"Time_on_Site\",  \n",
    "    \"Monthly_Income\"\n",
    ").select(\n",
    "    \"Customer ID\", \n",
    "    \"Age\", \n",
    "    \"Gender\", \n",
    "    \"Location\", \n",
    "    \"Annual_Salary\", \n",
    "    col(\"Browsing_History_Entry.Timestamp\").alias(\"Timestamp\"),  # Extract the Timestamp\n",
    "    \"Product_Rating\", \n",
    "    \"Product_Review\", \n",
    "    \"Time_on_Site\", \n",
    "    \"Monthly_Income\"\n",
    ")\n",
    "\n",
    "\n",
    "df_flat.show(truncate=False)\n"
   ]
  },
  {
   "cell_type": "code",
   "execution_count": 0,
   "metadata": {
    "application/vnd.databricks.v1+cell": {
     "cellMetadata": {
      "byteLimit": 2048000,
      "rowLimit": 10000
     },
     "inputWidgets": {},
     "nuid": "5e41e23a-3444-42ee-bcc0-86421edae3b2",
     "showTitle": false,
     "tableResultSettingsMap": {},
     "title": ""
    }
   },
   "outputs": [
    {
     "name": "stdout",
     "output_type": "stream",
     "text": [
      "+-----------+---+------+--------+-------------+--------------------+--------------+--------------+-------------------------------------------------------------------------------------------------------+-----------------+\n",
      "|Customer ID|Age|Gender|Location|Annual_Salary|Timestamp           |Product_Rating|Product_Review|Time_on_Site                                                                                           |Monthly_Income   |\n",
      "+-----------+---+------+--------+-------------+--------------------+--------------+--------------+-------------------------------------------------------------------------------------------------------+-----------------+\n",
      "|1001       |45 |Female|City D  |70000        |2022-09-03 14:30:00 |null          |null          | \"\"Review\"\": \"\"Great experience buying this product. Fast delivery and excellent customer service.\"\"}}\"|5833.333333333333|\n",
      "|1003       |56 |Other |City F  |90000        |2022-06-25 10:45:00 |null          |null          | \"\"Review\"\": \"\"Awesome product                                                                         |7500.0           |\n",
      "|1004       |29 |Female|City G  |60000        |2022-08-15 13:20:00 |null          |null          | \"\"Review\"\": \"\"Great product                                                                           |5000.0           |\n",
      "|1005       |42 |Male  |City H  |75000        |2022-09-12 16:35:00 |null          |null          | \"\"Review\"\": \"\"Good product                                                                            |6250.0           |\n",
      "|1006       |51 |Other |City I  |85000        |2022-06-28 09:00:00 |null          |null          | \"\"Review\"\": \"\"Outstanding product                                                                     |7083.333333333333|\n",
      "|1007       |36 |Female|City J  |55000        |2022-08-17 14:50:00 |null          |null          | \"\"Review\"\": \"\"Good product                                                                            |4583.333333333333|\n",
      "|1008       |48 |Male  |City K  |80000        |2022-06-30 11:15:00 |null          |null          | \"\"Review\"\": \"\"Good product                                                                            |6666.666666666667|\n",
      "|1001       |45 |Female|City D  |75000        |2022-03-06 14:30:00 |null          |null          | \"\"Rating\"\": 5}\"                                                                                       |6250.0           |\n",
      "|1002       |32 |Male  |City A  |50000        |2022-05-12 16:15:00 |null          |null          | but could be cheaper.\"\"                                                                               |4166.666666666667|\n",
      "|1003       |60 |Other |City B  |80000        |2022-06-03 10:45:00 |null          |null          | \"\"Rating\"\": 5}\"                                                                                       |6666.666666666667|\n",
      "|1005       |55 |Male  |City E  |90000        |2022-08-04 09:30:00 |null          |null          | highly recommend!\"\"                                                                                   |7500.0           |\n",
      "|1006       |38 |Female|City F  |65000        |2022-09-02 11:15:00 |null          |null          | \"\"Rating\"\": 5}\"                                                                                       |5416.666666666667|\n",
      "|1007       |42 |Male  |City G  |70000        |2022-10-07 14:45:00 |null          |null          | but not worth the price.\"\"                                                                            |5833.333333333333|\n",
      "|1008       |50 |Female|City H  |85000        |2022-11-02 10:30:00 |null          |null          | highly recommend!\"\"                                                                                   |7083.333333333333|\n",
      "|1009       |35 |Male  |City I  |55000        |2022-12-06 12:00:00 |null          |null          | \"\"Rating\"\": 4}\"                                                                                       |4583.333333333333|\n",
      "|1010       |48 |Female|City J  |75000        |2022-12-21 15:30:00 |null          |null          | highly recommend!\"\"                                                                                   |6250.0           |\n",
      "|1012       |65 |Female|City L  |95000        |2023-02-06 13:15:00 |null          |null          | highly recommend!\"\"                                                                                   |7916.666666666667|\n",
      "|1001       |35 |Female|City D  |50000        |2022-04-20T14:30:00Z|null          |null          |120                                                                                                    |4166.666666666667|\n",
      "|1002       |45 |Male  |City E  |80000        |2022-05-25T17:45:00Z|null          |null          |300                                                                                                    |6666.666666666667|\n",
      "|1003       |28 |Female|City F  |60000        |2022-06-01T09:15:00Z|null          |null          |250                                                                                                    |5000.0           |\n",
      "+-----------+---+------+--------+-------------+--------------------+--------------+--------------+-------------------------------------------------------------------------------------------------------+-----------------+\n",
      "only showing top 20 rows\n",
      "\n"
     ]
    }
   ],
   "source": [
    "from pyspark.sql.functions import explode, col, from_json, lit\n",
    "from pyspark.sql.types import StructType, StructField, StringType, DoubleType\n",
    "\n",
    "# Define schema for Product Reviews if it's nested\n",
    "product_reviews_schema = StructType([\n",
    "    StructField(\"Product 1\", StructType([\n",
    "        StructField(\"Rating\", DoubleType(), True),\n",
    "        StructField(\"Review\", StringType(), True)\n",
    "    ]), True)\n",
    "])\n",
    "\n",
    "df_parsed_reviews = df_parsed.withColumn(\"Parsed_Product_Reviews\", from_json(col(\"Product Reviews\"), product_reviews_schema))\n",
    "\n",
    "df_flat = df_parsed_reviews.select(\n",
    "    \"Customer ID\", \n",
    "    \"Age\", \n",
    "    \"Gender\", \n",
    "    \"Location\", \n",
    "    \"Annual_Salary\", \n",
    "    explode(col(\"Parsed_Browsing_History\")).alias(\"Browsing_History_Entry\"),  \n",
    "    col(\"Parsed_Product_Reviews.Product 1.Rating\").alias(\"Product_Rating\"),  \n",
    "    col(\"Parsed_Product_Reviews.Product 1.Review\").alias(\"Product_Review\"),  \n",
    "    \"Time_on_Site\",  \n",
    "    \"Monthly_Income\"\n",
    ").select(\n",
    "    \"Customer ID\", \n",
    "    \"Age\", \n",
    "    \"Gender\", \n",
    "    \"Location\", \n",
    "    \"Annual_Salary\", \n",
    "    col(\"Browsing_History_Entry.Timestamp\").alias(\"Timestamp\"),  \n",
    "    \"Product_Rating\", \n",
    "    \"Product_Review\", \n",
    "    \"Time_on_Site\", \n",
    "    \"Monthly_Income\"\n",
    ")\n",
    "\n",
    "df_flat.show(truncate=False)\n",
    "\n"
   ]
  },
  {
   "cell_type": "code",
   "execution_count": 0,
   "metadata": {
    "application/vnd.databricks.v1+cell": {
     "cellMetadata": {
      "byteLimit": 2048000,
      "rowLimit": 10000
     },
     "inputWidgets": {},
     "nuid": "08926d03-e13f-4a3d-bdb0-881e3ef25157",
     "showTitle": false,
     "tableResultSettingsMap": {},
     "title": ""
    }
   },
   "outputs": [
    {
     "name": "stdout",
     "output_type": "stream",
     "text": [
      "['Customer ID', 'Age', 'Gender', 'Location', 'Annual_Salary', 'Purchase History', 'Browsing History', 'Product Reviews', 'Time_on_Site', 'Monthly_Income', 'Parsed_Browsing_History']\n"
     ]
    }
   ],
   "source": [
    "print(df_parsed.columns)"
   ]
  },
  {
   "cell_type": "markdown",
   "metadata": {
    "application/vnd.databricks.v1+cell": {
     "cellMetadata": {
      "byteLimit": 2048000,
      "rowLimit": 10000
     },
     "inputWidgets": {},
     "nuid": "9fe43fec-853f-4bb2-8c7f-124e4f163dec",
     "showTitle": false,
     "tableResultSettingsMap": {},
     "title": ""
    }
   },
   "source": [
    "**EXTRACTING USING REGEXP AND CLEANING DATAFRAME**"
   ]
  },
  {
   "cell_type": "code",
   "execution_count": 0,
   "metadata": {
    "application/vnd.databricks.v1+cell": {
     "cellMetadata": {
      "byteLimit": 2048000,
      "rowLimit": 10000
     },
     "inputWidgets": {},
     "nuid": "454189d6-64b8-423b-81ba-9921c1dc684e",
     "showTitle": false,
     "tableResultSettingsMap": {},
     "title": ""
    }
   },
   "outputs": [
    {
     "name": "stdout",
     "output_type": "stream",
     "text": [
      "+-----------+---+------+--------+-------------+------------------------------------------------------------------------------------------------------------------------------------------------------------------------------------------------------------------------------------------------------------------------------------------------------------------------------------------+-------------------------------------+-------------------------------------------------------+------------------------------------------------------------------------------------------------------+-----------------+------------------------+--------------+--------------+\n",
      "|Customer ID|Age|Gender|Location|Annual_Salary|Purchase History                                                                                                                                                                                                                                                                                                                          |Browsing History                     |Product Reviews                                        |Time_on_Site                                                                                          |Monthly_Income   |Parsed_Browsing_History |Product_Rating|Product_Review|\n",
      "+-----------+---+------+--------+-------------+------------------------------------------------------------------------------------------------------------------------------------------------------------------------------------------------------------------------------------------------------------------------------------------------------------------------------------------+-------------------------------------+-------------------------------------------------------+------------------------------------------------------------------------------------------------------+-----------------+------------------------+--------------+--------------+\n",
      "|1001       |28 |Female|City D  |52000        |\"[{\"\"Product Category\"\": \"\"Clothing\"\"                                                                                                                                                                                                                                                                                                     | \"\"Purchase Date\"\": \"\"2022-05-15\"\"   | \"\"Price\"\": 34.56}                                     |{\"\"Product Category\"\": \"\"Electronics\"\"                                                                |4333.333333333333|null                    |              |              |\n",
      "|1001       |28 |Female|City D  |65000        |\"[{\"\"Product Category\"\": \"\"Electronics\"\"                                                                                                                                                                                                                                                                                                  | \"\"Purchase Date\"\": \"\"2022-08-15\"\"   | \"\"Price\"\": 345.5}                                     |{\"\"Product Category\"\": \"\"Home & Garden\"\"                                                              |5416.666666666667|null                    |              |              |\n",
      "|1001       |45 |Female|City D  |70000        |{'Purchase Date': '2022-08-15', 'Product Category': 'Electronics', 'Price': 200.5},{'Purchase Date': '2022-07-22', 'Product Category': 'Clothing', 'Price': 125.6},{'Purchase Date': '2022-06-01', 'Product Category': 'Home & Garden', 'Price': 300.8},{'Purchase Date': '2022-05-10', 'Product Category': 'Electronics', 'Price': 150.9}|{'Timestamp': '2022-09-03 14:30:00'} |\"{\"\"Product 1\"\": {\"\"Rating\"\": 4                        |\"\"Review\"\": \"\"Great experience buying this product. Fast delivery and excellent customer service.\"\"}}\"|5833.333333333333|[{2022-09-03 14:30:00}] |              |              |\n",
      "|1003       |56 |Other |City F  |90000        |{'Purchase Date': '2022-09-01', 'Product Category': 'Electronics', 'Price': 300.2},{'Purchase Date': '2022-08-12', 'Product Category': 'Clothing', 'Price': 185.3},{'Purchase Date': '2022-07-28', 'Product Category': 'Home & Garden', 'Price': 200.9}                                                                                   |{'Timestamp': '2022-06-25 10:45:00'} |\"{\"\"Product 1\"\": {\"\"Rating\"\": 5                        |\"\"Review\"\": \"\"Awesome product                                                                         |7500.0           |[{2022-06-25 10:45:00}] |              |              |\n",
      "|1004       |29 |Female|City G  |60000        |{'Purchase Date': '2022-07-20', 'Product Category': 'Electronics', 'Price': 150.8},{'Purchase Date': '2022-06-05', 'Product Category': 'Clothing', 'Price': 120.6},{'Purchase Date': '2022-05-18', 'Product Category': 'Home & Garden', 'Price': 350.1}                                                                                   |{'Timestamp': '2022-08-15 13:20:00'} |\"{\"\"Product 1\"\": {\"\"Rating\"\": 4                        |\"\"Review\"\": \"\"Great product                                                                           |5000.0           |[{2022-08-15 13:20:00}] |              |              |\n",
      "|1005       |42 |Male  |City H  |75000        |{'Purchase Date': '2022-08-28', 'Product Category': 'Electronics', 'Price': 250.6},{'Purchase Date': '2022-07-15', 'Product Category': 'Clothing', 'Price': 115.7},{'Purchase Date': '2022-06-03', 'Product Category': 'Home & Garden', 'Price': 300.4}                                                                                   |{'Timestamp': '2022-09-12 16:35:00'} |\"{\"\"Product 1\"\": {\"\"Rating\"\": 3                        |\"\"Review\"\": \"\"Good product                                                                            |6250.0           |[{2022-09-12 16:35:00}] |              |              |\n",
      "|1006       |51 |Other |City I  |85000        |{'Purchase Date': '2022-09-05', 'Product Category': 'Electronics', 'Price': 400.9},{'Purchase Date': '2022-08-18', 'Product Category': 'Clothing', 'Price': 195.3},{'Purchase Date': '2022-07-03', 'Product Category': 'Home & Garden', 'Price': 220.7}                                                                                   |{'Timestamp': '2022-06-28 09:00:00'} |\"{\"\"Product 1\"\": {\"\"Rating\"\": 5                        |\"\"Review\"\": \"\"Outstanding product                                                                     |7083.333333333333|[{2022-06-28 09:00:00}] |              |              |\n",
      "|1007       |36 |Female|City J  |55000        |{'Purchase Date': '2022-07-27', 'Product Category': 'Electronics', 'Price': 120.5},{'Purchase Date': '2022-06-12', 'Product Category': 'Clothing', 'Price': 130.6},{'Purchase Date': '2022-05-28', 'Product Category': 'Home & Garden', 'Price': 320.8}                                                                                   |{'Timestamp': '2022-08-17 14:50:00'} |\"{\"\"Product 1\"\": {\"\"Rating\"\": 4                        |\"\"Review\"\": \"\"Good product                                                                            |4583.333333333333|[{2022-08-17 14:50:00}] |              |              |\n",
      "|1008       |48 |Male  |City K  |80000        |{'Purchase Date': '2022-09-08', 'Product Category': 'Electronics', 'Price': 350.2},{'Purchase Date': '2022-08-23', 'Product Category': 'Clothing', 'Price': 165.3},{'Purchase Date': '2022-07-07', 'Product Category': 'Home & Garden', 'Price': 280.9}                                                                                   |{'Timestamp': '2022-06-30 11:15:00'} |\"{\"\"Product 1\"\": {\"\"Rating\"\": 3                        |\"\"Review\"\": \"\"Good product                                                                            |6666.666666666667|[{2022-06-30 11:15:00}] |              |              |\n",
      "|1001       |45 |Female|City D  |75000        |{'Purchase Date': '2022-03-05', 'Product Category': 'Clothing', 'Price': 45.99},{'Purchase Date': '2022-04-12', 'Product Category': 'Home & Garden', 'Price': 120.5}                                                                                                                                                                      |{'Timestamp': '2022-03-06 14:30:00'} |\"{\"\"Review Text\"\": \"\"Great quality clothes!\"\"          |\"\"Rating\"\": 5}\"                                                                                       |6250.0           |[{2022-03-06 14:30:00}] |              |              |\n",
      "|1002       |32 |Male  |City A  |50000        |{'Purchase Date': '2022-02-15', 'Product Category': 'Electronics', 'Price': 250},{'Purchase Date': '2022-05-10', 'Product Category': 'Clothing', 'Price': 34.99}                                                                                                                                                                          |{'Timestamp': '2022-05-12 16:15:00'} |\"{\"\"Review Text\"\": \"\"Good product                      |but could be cheaper.\"\"                                                                               |4166.666666666667|[{2022-05-12 16:15:00}] |              |              |\n",
      "|1003       |60 |Other |City B  |80000        |{'Purchase Date': '2022-01-18', 'Product Category': 'Home & Garden', 'Price': 180},{'Purchase Date': '2022-06-02', 'Product Category': 'Electronics', 'Price': 400}                                                                                                                                                                       |{'Timestamp': '2022-06-03 10:45:00'} |\"{\"\"Review Text\"\": \"\"Very satisfied with my purchase!\"\"|\"\"Rating\"\": 5}\"                                                                                       |6666.666666666667|[{2022-06-03 10:45:00}] |              |              |\n",
      "|1005       |55 |Male  |City E  |90000        |{'Purchase Date': '2022-05-20', 'Product Category': 'Electronics', 'Price': 600},{'Purchase Date': '2022-08-03', 'Product Category': 'Clothing', 'Price': 59.99}                                                                                                                                                                          |{'Timestamp': '2022-08-04 09:30:00'} |\"{\"\"Review Text\"\": \"\"Excellent product                 |highly recommend!\"\"                                                                                   |7500.0           |[{2022-08-04 09:30:00}] |              |              |\n",
      "|1006       |38 |Female|City F  |65000        |{'Purchase Date': '2022-06-15', 'Product Category': 'Home & Garden', 'Price': 220},{'Purchase Date': '2022-09-01', 'Product Category': 'Electronics', 'Price': 300}                                                                                                                                                                       |{'Timestamp': '2022-09-02 11:15:00'} |\"{\"\"Review Text\"\": \"\"Awesome purchase!\"\"               |\"\"Rating\"\": 5}\"                                                                                       |5416.666666666667|[{2022-09-02 11:15:00}] |              |              |\n",
      "|1007       |42 |Male  |City G  |70000        |{'Purchase Date': '2022-07-22', 'Product Category': 'Clothing', 'Price': 39.99},{'Purchase Date': '2022-10-06', 'Product Category': 'Home & Garden', 'Price': 190}                                                                                                                                                                        |{'Timestamp': '2022-10-07 14:45:00'} |\"{\"\"Review Text\"\": \"\"Good product                      |but not worth the price.\"\"                                                                            |5833.333333333333|[{2022-10-07 14:45:00}] |              |              |\n",
      "|1008       |50 |Female|City H  |85000        |{'Purchase Date': '2022-08-08', 'Product Category': 'Electronics', 'Price': 550},{'Purchase Date': '2022-11-01', 'Product Category': 'Clothing', 'Price': 44.99}                                                                                                                                                                          |{'Timestamp': '2022-11-02 10:30:00'} |\"{\"\"Review Text\"\": \"\"Great product                     |highly recommend!\"\"                                                                                   |7083.333333333333|[{2022-11-02 10:30:00}] |              |              |\n",
      "|1009       |35 |Male  |City I  |55000        |{'Purchase Date': '2022-09-20', 'Product Category': 'Home & Garden', 'Price': 200},{'Purchase Date': '2022-12-05', 'Product Category': 'Electronics', 'Price': 350}                                                                                                                                                                       |{'Timestamp': '2022-12-06 12:00:00'} |\"{\"\"Review Text\"\": \"\"Satisfied with my purchase!\"\"     |\"\"Rating\"\": 4}\"                                                                                       |4583.333333333333|[{2022-12-06 12:00:00}] |              |              |\n",
      "|1010       |48 |Female|City J  |75000        |{'Purchase Date': '2022-10-15', 'Product Category': 'Clothing', 'Price': 34.99},{'Purchase Date': '2022-12-20', 'Product Category': 'Home & Garden', 'Price': 250}                                                                                                                                                                        |{'Timestamp': '2022-12-21 15:30:00'} |\"{\"\"Review Text\"\": \"\"Excellent product                 |highly recommend!\"\"                                                                                   |6250.0           |[{2022-12-21 15:30:00}] |              |              |\n",
      "|1012       |65 |Female|City L  |95000        |{'Purchase Date': '2022-12-25', 'Product Category': 'Home & Garden', 'Price': 170},{'Purchase Date': '2023-02-05', 'Product Category': 'Electronics', 'Price': 450}                                                                                                                                                                       |{'Timestamp': '2023-02-06 13:15:00'} |\"{\"\"Review Text\"\": \"\"Excellent product                 |highly recommend!\"\"                                                                                   |7916.666666666667|[{2023-02-06 13:15:00}] |              |              |\n",
      "|1001       |35 |Female|City D  |50000        |{'Purchase Date': '2022-05-15', 'Product Category': 'Clothing', 'Price': 120},{'Purchase Date': '2022-06-02', 'Product Category': 'Home & Garden', 'Price': 250}                                                                                                                                                                          |{'Timestamp': '2022-04-20T14:30:00Z'}|The blouse is so comfortable and stylish. 5 stars!     |120                                                                                                   |4166.666666666667|[{2022-04-20T14:30:00Z}]|              |              |\n",
      "+-----------+---+------+--------+-------------+------------------------------------------------------------------------------------------------------------------------------------------------------------------------------------------------------------------------------------------------------------------------------------------------------------------------------------------+-------------------------------------+-------------------------------------------------------+------------------------------------------------------------------------------------------------------+-----------------+------------------------+--------------+--------------+\n",
      "only showing top 20 rows\n",
      "\n"
     ]
    }
   ],
   "source": [
    "from pyspark.sql.functions import col, when, regexp_replace, trim, regexp_extract\n",
    "df_cleaned = df_parsed.withColumn(\n",
    "    \"Product_Rating\", \n",
    "    regexp_extract(col(\"Product Reviews\"), r\"Rating: (\\d+(\\.\\d+)?)\", 1)\n",
    ")\n",
    "df_cleaned = df_cleaned.withColumn(\n",
    "    \"Product_Review\", \n",
    "    regexp_replace(regexp_extract(col(\"Product Reviews\"), r'\"Review\": \"(.*?)\"', 1), r'\"', '')\n",
    ")\n",
    "df_cleaned = df_cleaned.withColumn(\n",
    "    \"Time_on_Site\", \n",
    "    trim(col(\"Time_on_Site\"))\n",
    ")\n",
    "df_cleaned = df_cleaned.withColumn(\n",
    "    \"Monthly_Income\", \n",
    "    when(col(\"Monthly_Income\").isNull(), 0).otherwise(col(\"Monthly_Income\"))\n",
    ")\n",
    "\n",
    "df_cleaned.show(truncate=False)"
   ]
  },
  {
   "cell_type": "markdown",
   "metadata": {
    "application/vnd.databricks.v1+cell": {
     "cellMetadata": {
      "byteLimit": 2048000,
      "rowLimit": 10000
     },
     "inputWidgets": {},
     "nuid": "6ca35236-3488-4c6a-af09-4e53ff48c284",
     "showTitle": false,
     "tableResultSettingsMap": {},
     "title": ""
    }
   },
   "source": [
    "**PURCHASE HISTORY SCHEMA**"
   ]
  },
  {
   "cell_type": "code",
   "execution_count": 0,
   "metadata": {
    "application/vnd.databricks.v1+cell": {
     "cellMetadata": {
      "byteLimit": 2048000,
      "rowLimit": 10000
     },
     "inputWidgets": {},
     "nuid": "b89c3c8f-c12e-4b5a-a768-5c40477f253d",
     "showTitle": false,
     "tableResultSettingsMap": {},
     "title": ""
    }
   },
   "outputs": [],
   "source": [
    "from pyspark.sql.types import StructType, StructField, StringType, FloatType, ArrayType\n",
    "\n",
    "purchase_history_schema = ArrayType(\n",
    "    StructType([\n",
    "        StructField(\"Product Category\", StringType(), True),\n",
    "        StructField(\"Purchase Date\", StringType(), True),\n",
    "        StructField(\"Price\", FloatType(), True)\n",
    "    ])\n",
    ")\n"
   ]
  },
  {
   "cell_type": "code",
   "execution_count": 0,
   "metadata": {
    "application/vnd.databricks.v1+cell": {
     "cellMetadata": {
      "byteLimit": 2048000,
      "rowLimit": 10000
     },
     "inputWidgets": {},
     "nuid": "e41496d4-5584-4628-9aad-a72e0f60858a",
     "showTitle": false,
     "tableResultSettingsMap": {},
     "title": ""
    }
   },
   "outputs": [
    {
     "name": "stdout",
     "output_type": "stream",
     "text": [
      "+-----------+---+------+--------+-------------+----------------------------------+-------------------------------------+----------------------------------------------------------------+------------------------------------------------------------------------------------------------------+-----------------+------------------------+--------------+--------------+----------------+-------------+-----+\n",
      "|Customer ID|Age|Gender|Location|Annual_Salary|Purchase History                  |Browsing History                     |Product Reviews                                                 |Time_on_Site                                                                                          |Monthly_Income   |Parsed_Browsing_History |Product_Rating|Product_Review|Product_Category|Purchase_Date|Price|\n",
      "+-----------+---+------+--------+-------------+----------------------------------+-------------------------------------+----------------------------------------------------------------+------------------------------------------------------------------------------------------------------+-----------------+------------------------+--------------+--------------+----------------+-------------+-----+\n",
      "|1001       |45 |Female|City D  |70000        |{Electronics, 2022-08-15, 200.5}  |{'Timestamp': '2022-09-03 14:30:00'} |\"{\"\"Product 1\"\": {\"\"Rating\"\": 4                                 |\"\"Review\"\": \"\"Great experience buying this product. Fast delivery and excellent customer service.\"\"}}\"|5833.333333333333|[{2022-09-03 14:30:00}] |              |              |Electronics     |2022-08-15   |200.5|\n",
      "|1003       |56 |Other |City F  |90000        |{Electronics, 2022-09-01, 300.2}  |{'Timestamp': '2022-06-25 10:45:00'} |\"{\"\"Product 1\"\": {\"\"Rating\"\": 5                                 |\"\"Review\"\": \"\"Awesome product                                                                         |7500.0           |[{2022-06-25 10:45:00}] |              |              |Electronics     |2022-09-01   |300.2|\n",
      "|1004       |29 |Female|City G  |60000        |{Electronics, 2022-07-20, 150.8}  |{'Timestamp': '2022-08-15 13:20:00'} |\"{\"\"Product 1\"\": {\"\"Rating\"\": 4                                 |\"\"Review\"\": \"\"Great product                                                                           |5000.0           |[{2022-08-15 13:20:00}] |              |              |Electronics     |2022-07-20   |150.8|\n",
      "|1005       |42 |Male  |City H  |75000        |{Electronics, 2022-08-28, 250.6}  |{'Timestamp': '2022-09-12 16:35:00'} |\"{\"\"Product 1\"\": {\"\"Rating\"\": 3                                 |\"\"Review\"\": \"\"Good product                                                                            |6250.0           |[{2022-09-12 16:35:00}] |              |              |Electronics     |2022-08-28   |250.6|\n",
      "|1006       |51 |Other |City I  |85000        |{Electronics, 2022-09-05, 400.9}  |{'Timestamp': '2022-06-28 09:00:00'} |\"{\"\"Product 1\"\": {\"\"Rating\"\": 5                                 |\"\"Review\"\": \"\"Outstanding product                                                                     |7083.333333333333|[{2022-06-28 09:00:00}] |              |              |Electronics     |2022-09-05   |400.9|\n",
      "|1007       |36 |Female|City J  |55000        |{Electronics, 2022-07-27, 120.5}  |{'Timestamp': '2022-08-17 14:50:00'} |\"{\"\"Product 1\"\": {\"\"Rating\"\": 4                                 |\"\"Review\"\": \"\"Good product                                                                            |4583.333333333333|[{2022-08-17 14:50:00}] |              |              |Electronics     |2022-07-27   |120.5|\n",
      "|1008       |48 |Male  |City K  |80000        |{Electronics, 2022-09-08, 350.2}  |{'Timestamp': '2022-06-30 11:15:00'} |\"{\"\"Product 1\"\": {\"\"Rating\"\": 3                                 |\"\"Review\"\": \"\"Good product                                                                            |6666.666666666667|[{2022-06-30 11:15:00}] |              |              |Electronics     |2022-09-08   |350.2|\n",
      "|1001       |45 |Female|City D  |75000        |{Clothing, 2022-03-05, 45.99}     |{'Timestamp': '2022-03-06 14:30:00'} |\"{\"\"Review Text\"\": \"\"Great quality clothes!\"\"                   |\"\"Rating\"\": 5}\"                                                                                       |6250.0           |[{2022-03-06 14:30:00}] |              |              |Clothing        |2022-03-05   |45.99|\n",
      "|1002       |32 |Male  |City A  |50000        |{Electronics, 2022-02-15, 250.0}  |{'Timestamp': '2022-05-12 16:15:00'} |\"{\"\"Review Text\"\": \"\"Good product                               |but could be cheaper.\"\"                                                                               |4166.666666666667|[{2022-05-12 16:15:00}] |              |              |Electronics     |2022-02-15   |250.0|\n",
      "|1003       |60 |Other |City B  |80000        |{Home & Garden, 2022-01-18, 180.0}|{'Timestamp': '2022-06-03 10:45:00'} |\"{\"\"Review Text\"\": \"\"Very satisfied with my purchase!\"\"         |\"\"Rating\"\": 5}\"                                                                                       |6666.666666666667|[{2022-06-03 10:45:00}] |              |              |Home & Garden   |2022-01-18   |180.0|\n",
      "|1005       |55 |Male  |City E  |90000        |{Electronics, 2022-05-20, 600.0}  |{'Timestamp': '2022-08-04 09:30:00'} |\"{\"\"Review Text\"\": \"\"Excellent product                          |highly recommend!\"\"                                                                                   |7500.0           |[{2022-08-04 09:30:00}] |              |              |Electronics     |2022-05-20   |600.0|\n",
      "|1006       |38 |Female|City F  |65000        |{Home & Garden, 2022-06-15, 220.0}|{'Timestamp': '2022-09-02 11:15:00'} |\"{\"\"Review Text\"\": \"\"Awesome purchase!\"\"                        |\"\"Rating\"\": 5}\"                                                                                       |5416.666666666667|[{2022-09-02 11:15:00}] |              |              |Home & Garden   |2022-06-15   |220.0|\n",
      "|1007       |42 |Male  |City G  |70000        |{Clothing, 2022-07-22, 39.99}     |{'Timestamp': '2022-10-07 14:45:00'} |\"{\"\"Review Text\"\": \"\"Good product                               |but not worth the price.\"\"                                                                            |5833.333333333333|[{2022-10-07 14:45:00}] |              |              |Clothing        |2022-07-22   |39.99|\n",
      "|1008       |50 |Female|City H  |85000        |{Electronics, 2022-08-08, 550.0}  |{'Timestamp': '2022-11-02 10:30:00'} |\"{\"\"Review Text\"\": \"\"Great product                              |highly recommend!\"\"                                                                                   |7083.333333333333|[{2022-11-02 10:30:00}] |              |              |Electronics     |2022-08-08   |550.0|\n",
      "|1009       |35 |Male  |City I  |55000        |{Home & Garden, 2022-09-20, 200.0}|{'Timestamp': '2022-12-06 12:00:00'} |\"{\"\"Review Text\"\": \"\"Satisfied with my purchase!\"\"              |\"\"Rating\"\": 4}\"                                                                                       |4583.333333333333|[{2022-12-06 12:00:00}] |              |              |Home & Garden   |2022-09-20   |200.0|\n",
      "|1010       |48 |Female|City J  |75000        |{Clothing, 2022-10-15, 34.99}     |{'Timestamp': '2022-12-21 15:30:00'} |\"{\"\"Review Text\"\": \"\"Excellent product                          |highly recommend!\"\"                                                                                   |6250.0           |[{2022-12-21 15:30:00}] |              |              |Clothing        |2022-10-15   |34.99|\n",
      "|1012       |65 |Female|City L  |95000        |{Home & Garden, 2022-12-25, 170.0}|{'Timestamp': '2023-02-06 13:15:00'} |\"{\"\"Review Text\"\": \"\"Excellent product                          |highly recommend!\"\"                                                                                   |7916.666666666667|[{2023-02-06 13:15:00}] |              |              |Home & Garden   |2022-12-25   |170.0|\n",
      "|1001       |35 |Female|City D  |50000        |{Clothing, 2022-05-15, 120.0}     |{'Timestamp': '2022-04-20T14:30:00Z'}|The blouse is so comfortable and stylish. 5 stars!              |120                                                                                                   |4166.666666666667|[{2022-04-20T14:30:00Z}]|              |              |Clothing        |2022-05-15   |120.0|\n",
      "|1002       |45 |Male  |City E  |80000        |{Electronics, 2022-06-12, 350.0}  |{'Timestamp': '2022-05-25T17:45:00Z'}|The headphones are great. Sound quality is excellent. 4.5 stars.|300                                                                                                   |6666.666666666667|[{2022-05-25T17:45:00Z}]|              |              |Electronics     |2022-06-12   |350.0|\n",
      "|1003       |28 |Female|City F  |60000        |{Clothing, 2022-05-28, 75.0}      |{'Timestamp': '2022-06-01T09:15:00Z'}|The dress fits perfectly. I love it. 5 stars!                   |250                                                                                                   |5000.0           |[{2022-06-01T09:15:00Z}]|              |              |Clothing        |2022-05-28   |75.0 |\n",
      "+-----------+---+------+--------+-------------+----------------------------------+-------------------------------------+----------------------------------------------------------------+------------------------------------------------------------------------------------------------------+-----------------+------------------------+--------------+--------------+----------------+-------------+-----+\n",
      "only showing top 20 rows\n",
      "\n",
      "+-----------+---+------+--------+-------------+----------------------------------+-------------------------------------+----------------------------------------------------------------+------------------------------------------------------------------------------------------------------+-----------------+------------------------+--------------+--------------+----------------+-------------+-----+\n",
      "|Customer ID|Age|Gender|Location|Annual_Salary|Purchase History                  |Browsing History                     |Product Reviews                                                 |Time_on_Site                                                                                          |Monthly_Income   |Parsed_Browsing_History |Product_Rating|Product_Review|Product_Category|Purchase_Date|Price|\n",
      "+-----------+---+------+--------+-------------+----------------------------------+-------------------------------------+----------------------------------------------------------------+------------------------------------------------------------------------------------------------------+-----------------+------------------------+--------------+--------------+----------------+-------------+-----+\n",
      "|1001       |45 |Female|City D  |70000        |{Electronics, 2022-08-15, 200.5}  |{'Timestamp': '2022-09-03 14:30:00'} |\"{\"\"Product 1\"\": {\"\"Rating\"\": 4                                 |\"\"Review\"\": \"\"Great experience buying this product. Fast delivery and excellent customer service.\"\"}}\"|5833.333333333333|[{2022-09-03 14:30:00}] |              |              |Electronics     |2022-08-15   |200.5|\n",
      "|1003       |56 |Other |City F  |90000        |{Electronics, 2022-09-01, 300.2}  |{'Timestamp': '2022-06-25 10:45:00'} |\"{\"\"Product 1\"\": {\"\"Rating\"\": 5                                 |\"\"Review\"\": \"\"Awesome product                                                                         |7500.0           |[{2022-06-25 10:45:00}] |              |              |Electronics     |2022-09-01   |300.2|\n",
      "|1004       |29 |Female|City G  |60000        |{Electronics, 2022-07-20, 150.8}  |{'Timestamp': '2022-08-15 13:20:00'} |\"{\"\"Product 1\"\": {\"\"Rating\"\": 4                                 |\"\"Review\"\": \"\"Great product                                                                           |5000.0           |[{2022-08-15 13:20:00}] |              |              |Electronics     |2022-07-20   |150.8|\n",
      "|1005       |42 |Male  |City H  |75000        |{Electronics, 2022-08-28, 250.6}  |{'Timestamp': '2022-09-12 16:35:00'} |\"{\"\"Product 1\"\": {\"\"Rating\"\": 3                                 |\"\"Review\"\": \"\"Good product                                                                            |6250.0           |[{2022-09-12 16:35:00}] |              |              |Electronics     |2022-08-28   |250.6|\n",
      "|1006       |51 |Other |City I  |85000        |{Electronics, 2022-09-05, 400.9}  |{'Timestamp': '2022-06-28 09:00:00'} |\"{\"\"Product 1\"\": {\"\"Rating\"\": 5                                 |\"\"Review\"\": \"\"Outstanding product                                                                     |7083.333333333333|[{2022-06-28 09:00:00}] |              |              |Electronics     |2022-09-05   |400.9|\n",
      "|1007       |36 |Female|City J  |55000        |{Electronics, 2022-07-27, 120.5}  |{'Timestamp': '2022-08-17 14:50:00'} |\"{\"\"Product 1\"\": {\"\"Rating\"\": 4                                 |\"\"Review\"\": \"\"Good product                                                                            |4583.333333333333|[{2022-08-17 14:50:00}] |              |              |Electronics     |2022-07-27   |120.5|\n",
      "|1008       |48 |Male  |City K  |80000        |{Electronics, 2022-09-08, 350.2}  |{'Timestamp': '2022-06-30 11:15:00'} |\"{\"\"Product 1\"\": {\"\"Rating\"\": 3                                 |\"\"Review\"\": \"\"Good product                                                                            |6666.666666666667|[{2022-06-30 11:15:00}] |              |              |Electronics     |2022-09-08   |350.2|\n",
      "|1001       |45 |Female|City D  |75000        |{Clothing, 2022-03-05, 45.99}     |{'Timestamp': '2022-03-06 14:30:00'} |\"{\"\"Review Text\"\": \"\"Great quality clothes!\"\"                   |\"\"Rating\"\": 5}\"                                                                                       |6250.0           |[{2022-03-06 14:30:00}] |              |              |Clothing        |2022-03-05   |45.99|\n",
      "|1002       |32 |Male  |City A  |50000        |{Electronics, 2022-02-15, 250.0}  |{'Timestamp': '2022-05-12 16:15:00'} |\"{\"\"Review Text\"\": \"\"Good product                               |but could be cheaper.\"\"                                                                               |4166.666666666667|[{2022-05-12 16:15:00}] |              |              |Electronics     |2022-02-15   |250.0|\n",
      "|1003       |60 |Other |City B  |80000        |{Home & Garden, 2022-01-18, 180.0}|{'Timestamp': '2022-06-03 10:45:00'} |\"{\"\"Review Text\"\": \"\"Very satisfied with my purchase!\"\"         |\"\"Rating\"\": 5}\"                                                                                       |6666.666666666667|[{2022-06-03 10:45:00}] |              |              |Home & Garden   |2022-01-18   |180.0|\n",
      "|1005       |55 |Male  |City E  |90000        |{Electronics, 2022-05-20, 600.0}  |{'Timestamp': '2022-08-04 09:30:00'} |\"{\"\"Review Text\"\": \"\"Excellent product                          |highly recommend!\"\"                                                                                   |7500.0           |[{2022-08-04 09:30:00}] |              |              |Electronics     |2022-05-20   |600.0|\n",
      "|1006       |38 |Female|City F  |65000        |{Home & Garden, 2022-06-15, 220.0}|{'Timestamp': '2022-09-02 11:15:00'} |\"{\"\"Review Text\"\": \"\"Awesome purchase!\"\"                        |\"\"Rating\"\": 5}\"                                                                                       |5416.666666666667|[{2022-09-02 11:15:00}] |              |              |Home & Garden   |2022-06-15   |220.0|\n",
      "|1007       |42 |Male  |City G  |70000        |{Clothing, 2022-07-22, 39.99}     |{'Timestamp': '2022-10-07 14:45:00'} |\"{\"\"Review Text\"\": \"\"Good product                               |but not worth the price.\"\"                                                                            |5833.333333333333|[{2022-10-07 14:45:00}] |              |              |Clothing        |2022-07-22   |39.99|\n",
      "|1008       |50 |Female|City H  |85000        |{Electronics, 2022-08-08, 550.0}  |{'Timestamp': '2022-11-02 10:30:00'} |\"{\"\"Review Text\"\": \"\"Great product                              |highly recommend!\"\"                                                                                   |7083.333333333333|[{2022-11-02 10:30:00}] |              |              |Electronics     |2022-08-08   |550.0|\n",
      "|1009       |35 |Male  |City I  |55000        |{Home & Garden, 2022-09-20, 200.0}|{'Timestamp': '2022-12-06 12:00:00'} |\"{\"\"Review Text\"\": \"\"Satisfied with my purchase!\"\"              |\"\"Rating\"\": 4}\"                                                                                       |4583.333333333333|[{2022-12-06 12:00:00}] |              |              |Home & Garden   |2022-09-20   |200.0|\n",
      "|1010       |48 |Female|City J  |75000        |{Clothing, 2022-10-15, 34.99}     |{'Timestamp': '2022-12-21 15:30:00'} |\"{\"\"Review Text\"\": \"\"Excellent product                          |highly recommend!\"\"                                                                                   |6250.0           |[{2022-12-21 15:30:00}] |              |              |Clothing        |2022-10-15   |34.99|\n",
      "|1012       |65 |Female|City L  |95000        |{Home & Garden, 2022-12-25, 170.0}|{'Timestamp': '2023-02-06 13:15:00'} |\"{\"\"Review Text\"\": \"\"Excellent product                          |highly recommend!\"\"                                                                                   |7916.666666666667|[{2023-02-06 13:15:00}] |              |              |Home & Garden   |2022-12-25   |170.0|\n",
      "|1001       |35 |Female|City D  |50000        |{Clothing, 2022-05-15, 120.0}     |{'Timestamp': '2022-04-20T14:30:00Z'}|The blouse is so comfortable and stylish. 5 stars!              |120                                                                                                   |4166.666666666667|[{2022-04-20T14:30:00Z}]|              |              |Clothing        |2022-05-15   |120.0|\n",
      "|1002       |45 |Male  |City E  |80000        |{Electronics, 2022-06-12, 350.0}  |{'Timestamp': '2022-05-25T17:45:00Z'}|The headphones are great. Sound quality is excellent. 4.5 stars.|300                                                                                                   |6666.666666666667|[{2022-05-25T17:45:00Z}]|              |              |Electronics     |2022-06-12   |350.0|\n",
      "|1003       |28 |Female|City F  |60000        |{Clothing, 2022-05-28, 75.0}      |{'Timestamp': '2022-06-01T09:15:00Z'}|The dress fits perfectly. I love it. 5 stars!                   |250                                                                                                   |5000.0           |[{2022-06-01T09:15:00Z}]|              |              |Clothing        |2022-05-28   |75.0 |\n",
      "+-----------+---+------+--------+-------------+----------------------------------+-------------------------------------+----------------------------------------------------------------+------------------------------------------------------------------------------------------------------+-----------------+------------------------+--------------+--------------+----------------+-------------+-----+\n",
      "only showing top 20 rows\n",
      "\n"
     ]
    }
   ],
   "source": [
    "from pyspark.sql.functions import from_json, col, explode, regexp_extract, trim, when\n",
    "from pyspark.sql.types import StructType, StructField, StringType, FloatType, ArrayType\n",
    "\n",
    "# Define the schema for 'Purchase History'\n",
    "purchase_history_schema = ArrayType(\n",
    "    StructType([\n",
    "        StructField(\"Product Category\", StringType(), True),\n",
    "        StructField(\"Purchase Date\", StringType(), True),\n",
    "        StructField(\"Price\", FloatType(), True)\n",
    "    ])\n",
    ")\n",
    "\n",
    "df_parsed_purchase_history = df_cleaned.withColumn(\n",
    "    \"Purchase History\", \n",
    "    from_json(col(\"Purchase History\"), purchase_history_schema)\n",
    ")\n",
    "\n",
    "\n",
    "df_flat_purchase_history = df_parsed_purchase_history.withColumn(\n",
    "    \"Purchase History\", explode(col(\"Purchase History\"))\n",
    ")\n",
    "\n",
    "df_flat_purchase_history = df_flat_purchase_history.withColumn(\n",
    "    \"Product_Category\", col(\"Purchase History.Product Category\")\n",
    ").withColumn(\n",
    "    \"Purchase_Date\", col(\"Purchase History.Purchase Date\")\n",
    ").withColumn(\n",
    "    \"Price\", col(\"Purchase History.Price\")\n",
    ")\n",
    "\n",
    "df_flat_purchase_history.show(truncate=False)\n",
    "\n",
    "df_cleaned_final = df_flat_purchase_history.withColumn(\n",
    "    \"Product_Rating\", \n",
    "    regexp_extract(col(\"Product Reviews\"), r\"Rating: (\\d+(\\.\\d+)?)\", 1)\n",
    ").withColumn(\n",
    "    \"Product_Review\", \n",
    "    regexp_replace(regexp_extract(col(\"Product Reviews\"), r'\"Review\": \"(.*?)\"', 1), r'\"', '')\n",
    ").withColumn(\n",
    "    \"Time_on_Site\", \n",
    "    trim(col(\"Time_on_Site\"))\n",
    ").withColumn(\n",
    "    \"Monthly_Income\", \n",
    "    when(col(\"Monthly_Income\").isNull(), 0).otherwise(col(\"Monthly_Income\"))\n",
    ")\n",
    "\n",
    "df_cleaned_final.show(truncate=False)\n",
    "\n"
   ]
  },
  {
   "cell_type": "markdown",
   "metadata": {
    "application/vnd.databricks.v1+cell": {
     "cellMetadata": {
      "byteLimit": 2048000,
      "rowLimit": 10000
     },
     "inputWidgets": {},
     "nuid": "3ad249c1-d401-487c-a88f-c495a3561129",
     "showTitle": false,
     "tableResultSettingsMap": {},
     "title": ""
    }
   },
   "source": [
    "**CLEANING PRODUCT RATING AND PRODUCT REVIEW FIELD**"
   ]
  },
  {
   "cell_type": "code",
   "execution_count": 0,
   "metadata": {
    "application/vnd.databricks.v1+cell": {
     "cellMetadata": {
      "byteLimit": 2048000,
      "rowLimit": 10000
     },
     "inputWidgets": {},
     "nuid": "a59e601b-3d38-4c40-8ecd-d295c88e8656",
     "showTitle": false,
     "tableResultSettingsMap": {},
     "title": ""
    }
   },
   "outputs": [
    {
     "name": "stdout",
     "output_type": "stream",
     "text": [
      "+-----------+---+------+--------+-------------+----------------------------------+-------------------------------------+----------------------------------------------------------------+------------------------------------------------------------------------------------------------------+-----------------+------------------------+--------------+--------------+----------------+-------------+-----+\n",
      "|Customer ID|Age|Gender|Location|Annual_Salary|Purchase History                  |Browsing History                     |Product Reviews                                                 |Time_on_Site                                                                                          |Monthly_Income   |Parsed_Browsing_History |Product_Rating|Product_Review|Product_Category|Purchase_Date|Price|\n",
      "+-----------+---+------+--------+-------------+----------------------------------+-------------------------------------+----------------------------------------------------------------+------------------------------------------------------------------------------------------------------+-----------------+------------------------+--------------+--------------+----------------+-------------+-----+\n",
      "|1001       |45 |Female|City D  |70000        |{Electronics, 2022-08-15, 200.5}  |{'Timestamp': '2022-09-03 14:30:00'} |\"{\"\"Product 1\"\": {\"\"Rating\"\": 4                                 |\"\"Review\"\": \"\"Great experience buying this product. Fast delivery and excellent customer service.\"\"}}\"|5833.333333333333|[{2022-09-03 14:30:00}] |null          |              |Electronics     |2022-08-15   |200.5|\n",
      "|1003       |56 |Other |City F  |90000        |{Electronics, 2022-09-01, 300.2}  |{'Timestamp': '2022-06-25 10:45:00'} |\"{\"\"Product 1\"\": {\"\"Rating\"\": 5                                 |\"\"Review\"\": \"\"Awesome product                                                                         |7500.0           |[{2022-06-25 10:45:00}] |null          |              |Electronics     |2022-09-01   |300.2|\n",
      "|1004       |29 |Female|City G  |60000        |{Electronics, 2022-07-20, 150.8}  |{'Timestamp': '2022-08-15 13:20:00'} |\"{\"\"Product 1\"\": {\"\"Rating\"\": 4                                 |\"\"Review\"\": \"\"Great product                                                                           |5000.0           |[{2022-08-15 13:20:00}] |null          |              |Electronics     |2022-07-20   |150.8|\n",
      "|1005       |42 |Male  |City H  |75000        |{Electronics, 2022-08-28, 250.6}  |{'Timestamp': '2022-09-12 16:35:00'} |\"{\"\"Product 1\"\": {\"\"Rating\"\": 3                                 |\"\"Review\"\": \"\"Good product                                                                            |6250.0           |[{2022-09-12 16:35:00}] |null          |              |Electronics     |2022-08-28   |250.6|\n",
      "|1006       |51 |Other |City I  |85000        |{Electronics, 2022-09-05, 400.9}  |{'Timestamp': '2022-06-28 09:00:00'} |\"{\"\"Product 1\"\": {\"\"Rating\"\": 5                                 |\"\"Review\"\": \"\"Outstanding product                                                                     |7083.333333333333|[{2022-06-28 09:00:00}] |null          |              |Electronics     |2022-09-05   |400.9|\n",
      "|1007       |36 |Female|City J  |55000        |{Electronics, 2022-07-27, 120.5}  |{'Timestamp': '2022-08-17 14:50:00'} |\"{\"\"Product 1\"\": {\"\"Rating\"\": 4                                 |\"\"Review\"\": \"\"Good product                                                                            |4583.333333333333|[{2022-08-17 14:50:00}] |null          |              |Electronics     |2022-07-27   |120.5|\n",
      "|1008       |48 |Male  |City K  |80000        |{Electronics, 2022-09-08, 350.2}  |{'Timestamp': '2022-06-30 11:15:00'} |\"{\"\"Product 1\"\": {\"\"Rating\"\": 3                                 |\"\"Review\"\": \"\"Good product                                                                            |6666.666666666667|[{2022-06-30 11:15:00}] |null          |              |Electronics     |2022-09-08   |350.2|\n",
      "|1001       |45 |Female|City D  |75000        |{Clothing, 2022-03-05, 45.99}     |{'Timestamp': '2022-03-06 14:30:00'} |\"{\"\"Review Text\"\": \"\"Great quality clothes!\"\"                   |\"\"Rating\"\": 5}\"                                                                                       |6250.0           |[{2022-03-06 14:30:00}] |null          |              |Clothing        |2022-03-05   |45.99|\n",
      "|1002       |32 |Male  |City A  |50000        |{Electronics, 2022-02-15, 250.0}  |{'Timestamp': '2022-05-12 16:15:00'} |\"{\"\"Review Text\"\": \"\"Good product                               |but could be cheaper.\"\"                                                                               |4166.666666666667|[{2022-05-12 16:15:00}] |null          |              |Electronics     |2022-02-15   |250.0|\n",
      "|1003       |60 |Other |City B  |80000        |{Home & Garden, 2022-01-18, 180.0}|{'Timestamp': '2022-06-03 10:45:00'} |\"{\"\"Review Text\"\": \"\"Very satisfied with my purchase!\"\"         |\"\"Rating\"\": 5}\"                                                                                       |6666.666666666667|[{2022-06-03 10:45:00}] |null          |              |Home & Garden   |2022-01-18   |180.0|\n",
      "|1005       |55 |Male  |City E  |90000        |{Electronics, 2022-05-20, 600.0}  |{'Timestamp': '2022-08-04 09:30:00'} |\"{\"\"Review Text\"\": \"\"Excellent product                          |highly recommend!\"\"                                                                                   |7500.0           |[{2022-08-04 09:30:00}] |null          |              |Electronics     |2022-05-20   |600.0|\n",
      "|1006       |38 |Female|City F  |65000        |{Home & Garden, 2022-06-15, 220.0}|{'Timestamp': '2022-09-02 11:15:00'} |\"{\"\"Review Text\"\": \"\"Awesome purchase!\"\"                        |\"\"Rating\"\": 5}\"                                                                                       |5416.666666666667|[{2022-09-02 11:15:00}] |null          |              |Home & Garden   |2022-06-15   |220.0|\n",
      "|1007       |42 |Male  |City G  |70000        |{Clothing, 2022-07-22, 39.99}     |{'Timestamp': '2022-10-07 14:45:00'} |\"{\"\"Review Text\"\": \"\"Good product                               |but not worth the price.\"\"                                                                            |5833.333333333333|[{2022-10-07 14:45:00}] |null          |              |Clothing        |2022-07-22   |39.99|\n",
      "|1008       |50 |Female|City H  |85000        |{Electronics, 2022-08-08, 550.0}  |{'Timestamp': '2022-11-02 10:30:00'} |\"{\"\"Review Text\"\": \"\"Great product                              |highly recommend!\"\"                                                                                   |7083.333333333333|[{2022-11-02 10:30:00}] |null          |              |Electronics     |2022-08-08   |550.0|\n",
      "|1009       |35 |Male  |City I  |55000        |{Home & Garden, 2022-09-20, 200.0}|{'Timestamp': '2022-12-06 12:00:00'} |\"{\"\"Review Text\"\": \"\"Satisfied with my purchase!\"\"              |\"\"Rating\"\": 4}\"                                                                                       |4583.333333333333|[{2022-12-06 12:00:00}] |null          |              |Home & Garden   |2022-09-20   |200.0|\n",
      "|1010       |48 |Female|City J  |75000        |{Clothing, 2022-10-15, 34.99}     |{'Timestamp': '2022-12-21 15:30:00'} |\"{\"\"Review Text\"\": \"\"Excellent product                          |highly recommend!\"\"                                                                                   |6250.0           |[{2022-12-21 15:30:00}] |null          |              |Clothing        |2022-10-15   |34.99|\n",
      "|1012       |65 |Female|City L  |95000        |{Home & Garden, 2022-12-25, 170.0}|{'Timestamp': '2023-02-06 13:15:00'} |\"{\"\"Review Text\"\": \"\"Excellent product                          |highly recommend!\"\"                                                                                   |7916.666666666667|[{2023-02-06 13:15:00}] |null          |              |Home & Garden   |2022-12-25   |170.0|\n",
      "|1001       |35 |Female|City D  |50000        |{Clothing, 2022-05-15, 120.0}     |{'Timestamp': '2022-04-20T14:30:00Z'}|The blouse is so comfortable and stylish. 5 stars!              |120                                                                                                   |4166.666666666667|[{2022-04-20T14:30:00Z}]|null          |              |Clothing        |2022-05-15   |120.0|\n",
      "|1002       |45 |Male  |City E  |80000        |{Electronics, 2022-06-12, 350.0}  |{'Timestamp': '2022-05-25T17:45:00Z'}|The headphones are great. Sound quality is excellent. 4.5 stars.|300                                                                                                   |6666.666666666667|[{2022-05-25T17:45:00Z}]|null          |              |Electronics     |2022-06-12   |350.0|\n",
      "|1003       |28 |Female|City F  |60000        |{Clothing, 2022-05-28, 75.0}      |{'Timestamp': '2022-06-01T09:15:00Z'}|The dress fits perfectly. I love it. 5 stars!                   |250                                                                                                   |5000.0           |[{2022-06-01T09:15:00Z}]|null          |              |Clothing        |2022-05-28   |75.0 |\n",
      "+-----------+---+------+--------+-------------+----------------------------------+-------------------------------------+----------------------------------------------------------------+------------------------------------------------------------------------------------------------------+-----------------+------------------------+--------------+--------------+----------------+-------------+-----+\n",
      "only showing top 20 rows\n",
      "\n"
     ]
    }
   ],
   "source": [
    "\n",
    "df_cleaned_final = df_cleaned_final.withColumn(\n",
    "    \"Product_Rating\", \n",
    "    col(\"Product_Rating\").cast(FloatType())\n",
    ").withColumn(\n",
    "    \"Product_Review\", \n",
    "    regexp_replace(col(\"Product_Review\"), r'[\"{}]', '')\n",
    ")\n",
    "\n",
    "df_cleaned_final.show(truncate=False)\n"
   ]
  },
  {
   "cell_type": "markdown",
   "metadata": {
    "application/vnd.databricks.v1+cell": {
     "cellMetadata": {
      "byteLimit": 2048000,
      "rowLimit": 10000
     },
     "inputWidgets": {},
     "nuid": "b8cc3254-9558-443b-afdf-40a337640f05",
     "showTitle": false,
     "tableResultSettingsMap": {},
     "title": ""
    }
   },
   "source": [
    "**EXTRACTING TIMESTAMP FROM BROWSING HISTORY**"
   ]
  },
  {
   "cell_type": "code",
   "execution_count": 0,
   "metadata": {
    "application/vnd.databricks.v1+cell": {
     "cellMetadata": {
      "byteLimit": 2048000,
      "rowLimit": 10000
     },
     "inputWidgets": {},
     "nuid": "20093a58-2013-4c92-b1f5-81cb38cc67e4",
     "showTitle": false,
     "tableResultSettingsMap": {},
     "title": ""
    }
   },
   "outputs": [
    {
     "name": "stdout",
     "output_type": "stream",
     "text": [
      "+-----------+---+------+--------+-------------+----------------------------------+-------------------------------------+----------------------------------------------------------------+------------------------------------------------------------------------------------------------------+-----------------+------------------------+--------------+--------------+----------------+-------------+-----+--------------------+\n",
      "|Customer ID|Age|Gender|Location|Annual_Salary|Purchase History                  |Browsing History                     |Product Reviews                                                 |Time_on_Site                                                                                          |Monthly_Income   |Parsed_Browsing_History |Product_Rating|Product_Review|Product_Category|Purchase_Date|Price|Browsing_Timestamp  |\n",
      "+-----------+---+------+--------+-------------+----------------------------------+-------------------------------------+----------------------------------------------------------------+------------------------------------------------------------------------------------------------------+-----------------+------------------------+--------------+--------------+----------------+-------------+-----+--------------------+\n",
      "|1001       |45 |Female|City D  |70000        |{Electronics, 2022-08-15, 200.5}  |{'Timestamp': '2022-09-03 14:30:00'} |\"{\"\"Product 1\"\": {\"\"Rating\"\": 4                                 |\"\"Review\"\": \"\"Great experience buying this product. Fast delivery and excellent customer service.\"\"}}\"|5833.333333333333|[{2022-09-03 14:30:00}] |null          |              |Electronics     |2022-08-15   |200.5|2022-09-03 14:30:00 |\n",
      "|1003       |56 |Other |City F  |90000        |{Electronics, 2022-09-01, 300.2}  |{'Timestamp': '2022-06-25 10:45:00'} |\"{\"\"Product 1\"\": {\"\"Rating\"\": 5                                 |\"\"Review\"\": \"\"Awesome product                                                                         |7500.0           |[{2022-06-25 10:45:00}] |null          |              |Electronics     |2022-09-01   |300.2|2022-06-25 10:45:00 |\n",
      "|1004       |29 |Female|City G  |60000        |{Electronics, 2022-07-20, 150.8}  |{'Timestamp': '2022-08-15 13:20:00'} |\"{\"\"Product 1\"\": {\"\"Rating\"\": 4                                 |\"\"Review\"\": \"\"Great product                                                                           |5000.0           |[{2022-08-15 13:20:00}] |null          |              |Electronics     |2022-07-20   |150.8|2022-08-15 13:20:00 |\n",
      "|1005       |42 |Male  |City H  |75000        |{Electronics, 2022-08-28, 250.6}  |{'Timestamp': '2022-09-12 16:35:00'} |\"{\"\"Product 1\"\": {\"\"Rating\"\": 3                                 |\"\"Review\"\": \"\"Good product                                                                            |6250.0           |[{2022-09-12 16:35:00}] |null          |              |Electronics     |2022-08-28   |250.6|2022-09-12 16:35:00 |\n",
      "|1006       |51 |Other |City I  |85000        |{Electronics, 2022-09-05, 400.9}  |{'Timestamp': '2022-06-28 09:00:00'} |\"{\"\"Product 1\"\": {\"\"Rating\"\": 5                                 |\"\"Review\"\": \"\"Outstanding product                                                                     |7083.333333333333|[{2022-06-28 09:00:00}] |null          |              |Electronics     |2022-09-05   |400.9|2022-06-28 09:00:00 |\n",
      "|1007       |36 |Female|City J  |55000        |{Electronics, 2022-07-27, 120.5}  |{'Timestamp': '2022-08-17 14:50:00'} |\"{\"\"Product 1\"\": {\"\"Rating\"\": 4                                 |\"\"Review\"\": \"\"Good product                                                                            |4583.333333333333|[{2022-08-17 14:50:00}] |null          |              |Electronics     |2022-07-27   |120.5|2022-08-17 14:50:00 |\n",
      "|1008       |48 |Male  |City K  |80000        |{Electronics, 2022-09-08, 350.2}  |{'Timestamp': '2022-06-30 11:15:00'} |\"{\"\"Product 1\"\": {\"\"Rating\"\": 3                                 |\"\"Review\"\": \"\"Good product                                                                            |6666.666666666667|[{2022-06-30 11:15:00}] |null          |              |Electronics     |2022-09-08   |350.2|2022-06-30 11:15:00 |\n",
      "|1001       |45 |Female|City D  |75000        |{Clothing, 2022-03-05, 45.99}     |{'Timestamp': '2022-03-06 14:30:00'} |\"{\"\"Review Text\"\": \"\"Great quality clothes!\"\"                   |\"\"Rating\"\": 5}\"                                                                                       |6250.0           |[{2022-03-06 14:30:00}] |null          |              |Clothing        |2022-03-05   |45.99|2022-03-06 14:30:00 |\n",
      "|1002       |32 |Male  |City A  |50000        |{Electronics, 2022-02-15, 250.0}  |{'Timestamp': '2022-05-12 16:15:00'} |\"{\"\"Review Text\"\": \"\"Good product                               |but could be cheaper.\"\"                                                                               |4166.666666666667|[{2022-05-12 16:15:00}] |null          |              |Electronics     |2022-02-15   |250.0|2022-05-12 16:15:00 |\n",
      "|1003       |60 |Other |City B  |80000        |{Home & Garden, 2022-01-18, 180.0}|{'Timestamp': '2022-06-03 10:45:00'} |\"{\"\"Review Text\"\": \"\"Very satisfied with my purchase!\"\"         |\"\"Rating\"\": 5}\"                                                                                       |6666.666666666667|[{2022-06-03 10:45:00}] |null          |              |Home & Garden   |2022-01-18   |180.0|2022-06-03 10:45:00 |\n",
      "|1005       |55 |Male  |City E  |90000        |{Electronics, 2022-05-20, 600.0}  |{'Timestamp': '2022-08-04 09:30:00'} |\"{\"\"Review Text\"\": \"\"Excellent product                          |highly recommend!\"\"                                                                                   |7500.0           |[{2022-08-04 09:30:00}] |null          |              |Electronics     |2022-05-20   |600.0|2022-08-04 09:30:00 |\n",
      "|1006       |38 |Female|City F  |65000        |{Home & Garden, 2022-06-15, 220.0}|{'Timestamp': '2022-09-02 11:15:00'} |\"{\"\"Review Text\"\": \"\"Awesome purchase!\"\"                        |\"\"Rating\"\": 5}\"                                                                                       |5416.666666666667|[{2022-09-02 11:15:00}] |null          |              |Home & Garden   |2022-06-15   |220.0|2022-09-02 11:15:00 |\n",
      "|1007       |42 |Male  |City G  |70000        |{Clothing, 2022-07-22, 39.99}     |{'Timestamp': '2022-10-07 14:45:00'} |\"{\"\"Review Text\"\": \"\"Good product                               |but not worth the price.\"\"                                                                            |5833.333333333333|[{2022-10-07 14:45:00}] |null          |              |Clothing        |2022-07-22   |39.99|2022-10-07 14:45:00 |\n",
      "|1008       |50 |Female|City H  |85000        |{Electronics, 2022-08-08, 550.0}  |{'Timestamp': '2022-11-02 10:30:00'} |\"{\"\"Review Text\"\": \"\"Great product                              |highly recommend!\"\"                                                                                   |7083.333333333333|[{2022-11-02 10:30:00}] |null          |              |Electronics     |2022-08-08   |550.0|2022-11-02 10:30:00 |\n",
      "|1009       |35 |Male  |City I  |55000        |{Home & Garden, 2022-09-20, 200.0}|{'Timestamp': '2022-12-06 12:00:00'} |\"{\"\"Review Text\"\": \"\"Satisfied with my purchase!\"\"              |\"\"Rating\"\": 4}\"                                                                                       |4583.333333333333|[{2022-12-06 12:00:00}] |null          |              |Home & Garden   |2022-09-20   |200.0|2022-12-06 12:00:00 |\n",
      "|1010       |48 |Female|City J  |75000        |{Clothing, 2022-10-15, 34.99}     |{'Timestamp': '2022-12-21 15:30:00'} |\"{\"\"Review Text\"\": \"\"Excellent product                          |highly recommend!\"\"                                                                                   |6250.0           |[{2022-12-21 15:30:00}] |null          |              |Clothing        |2022-10-15   |34.99|2022-12-21 15:30:00 |\n",
      "|1012       |65 |Female|City L  |95000        |{Home & Garden, 2022-12-25, 170.0}|{'Timestamp': '2023-02-06 13:15:00'} |\"{\"\"Review Text\"\": \"\"Excellent product                          |highly recommend!\"\"                                                                                   |7916.666666666667|[{2023-02-06 13:15:00}] |null          |              |Home & Garden   |2022-12-25   |170.0|2023-02-06 13:15:00 |\n",
      "|1001       |35 |Female|City D  |50000        |{Clothing, 2022-05-15, 120.0}     |{'Timestamp': '2022-04-20T14:30:00Z'}|The blouse is so comfortable and stylish. 5 stars!              |120                                                                                                   |4166.666666666667|[{2022-04-20T14:30:00Z}]|null          |              |Clothing        |2022-05-15   |120.0|2022-04-20T14:30:00Z|\n",
      "|1002       |45 |Male  |City E  |80000        |{Electronics, 2022-06-12, 350.0}  |{'Timestamp': '2022-05-25T17:45:00Z'}|The headphones are great. Sound quality is excellent. 4.5 stars.|300                                                                                                   |6666.666666666667|[{2022-05-25T17:45:00Z}]|null          |              |Electronics     |2022-06-12   |350.0|2022-05-25T17:45:00Z|\n",
      "|1003       |28 |Female|City F  |60000        |{Clothing, 2022-05-28, 75.0}      |{'Timestamp': '2022-06-01T09:15:00Z'}|The dress fits perfectly. I love it. 5 stars!                   |250                                                                                                   |5000.0           |[{2022-06-01T09:15:00Z}]|null          |              |Clothing        |2022-05-28   |75.0 |2022-06-01T09:15:00Z|\n",
      "+-----------+---+------+--------+-------------+----------------------------------+-------------------------------------+----------------------------------------------------------------+------------------------------------------------------------------------------------------------------+-----------------+------------------------+--------------+--------------+----------------+-------------+-----+--------------------+\n",
      "only showing top 20 rows\n",
      "\n"
     ]
    }
   ],
   "source": [
    "from pyspark.sql.functions import get_json_object\n",
    "df_cleaned_final = df_cleaned_final.withColumn(\n",
    "    \"Browsing_Timestamp\", \n",
    "    get_json_object(col(\"Browsing History\"), \"$.Timestamp\")\n",
    ")\n",
    "\n",
    "df_cleaned_final.show(truncate=False)\n"
   ]
  },
  {
   "cell_type": "code",
   "execution_count": 0,
   "metadata": {
    "application/vnd.databricks.v1+cell": {
     "cellMetadata": {
      "byteLimit": 2048000,
      "rowLimit": 10000
     },
     "inputWidgets": {},
     "nuid": "01ac12bd-71fe-42aa-8e3e-c91e06567b6c",
     "showTitle": false,
     "tableResultSettingsMap": {},
     "title": ""
    }
   },
   "outputs": [
    {
     "name": "stdout",
     "output_type": "stream",
     "text": [
      "+-----------+---+------+--------+-------------+----------------------------------+-------------------------------------+----------------------------------------------------------------+------------------------------------------------------------------------------------------------------+-----------------+------------------------+--------------+--------------+----------------+-------------+-----+--------------------+\n",
      "|Customer ID|Age|Gender|Location|Annual_Salary|Purchase History                  |Browsing History                     |Product Reviews                                                 |Time_on_Site                                                                                          |Monthly_Income   |Parsed_Browsing_History |Product_Rating|Product_Review|Product_Category|Purchase_Date|Price|Browsing_Timestamp  |\n",
      "+-----------+---+------+--------+-------------+----------------------------------+-------------------------------------+----------------------------------------------------------------+------------------------------------------------------------------------------------------------------+-----------------+------------------------+--------------+--------------+----------------+-------------+-----+--------------------+\n",
      "|1002       |32 |Male  |City A  |50000        |{Electronics, 2022-02-15, 250.0}  |{'Timestamp': '2022-05-12 16:15:00'} |\"{\"\"Review Text\"\": \"\"Good product                               |but could be cheaper.\"\"                                                                               |4166.666666666667|[{2022-05-12 16:15:00}] |null          |              |Electronics     |2022-02-15   |250.0|2022-05-12 16:15:00 |\n",
      "|1012       |65 |Female|City L  |95000        |{Home & Garden, 2022-12-25, 170.0}|{'Timestamp': '2023-02-06 13:15:00'} |\"{\"\"Review Text\"\": \"\"Excellent product                          |highly recommend!\"\"                                                                                   |7916.666666666667|[{2023-02-06 13:15:00}] |null          |              |Home & Garden   |2022-12-25   |170.0|2023-02-06 13:15:00 |\n",
      "|1001       |45 |Female|City D  |70000        |{Electronics, 2022-08-15, 200.5}  |{'Timestamp': '2022-09-03 14:30:00'} |\"{\"\"Product 1\"\": {\"\"Rating\"\": 4                                 |\"\"Review\"\": \"\"Great experience buying this product. Fast delivery and excellent customer service.\"\"}}\"|5833.333333333333|[{2022-09-03 14:30:00}] |null          |              |Electronics     |2022-08-15   |200.5|2022-09-03 14:30:00 |\n",
      "|1004       |52 |Male  |City G  |70000        |{Electronics, 2022-05-08, 200.0}  |{'Timestamp': '2022-05-22T10:30:00Z'}|The vacuum cleaner works great. 4 stars.                        |350                                                                                                   |5833.333333333333|[{2022-05-22T10:30:00Z}]|null          |              |Electronics     |2022-05-08   |200.0|2022-05-22T10:30:00Z|\n",
      "|1003       |28 |Female|City F  |60000        |{Clothing, 2022-05-28, 75.0}      |{'Timestamp': '2022-06-01T09:15:00Z'}|The dress fits perfectly. I love it. 5 stars!                   |250                                                                                                   |5000.0           |[{2022-06-01T09:15:00Z}]|null          |              |Clothing        |2022-05-28   |75.0 |2022-06-01T09:15:00Z|\n",
      "|1004       |29 |Female|City G  |60000        |{Electronics, 2022-07-20, 150.8}  |{'Timestamp': '2022-08-15 13:20:00'} |\"{\"\"Product 1\"\": {\"\"Rating\"\": 4                                 |\"\"Review\"\": \"\"Great product                                                                           |5000.0           |[{2022-08-15 13:20:00}] |null          |              |Electronics     |2022-07-20   |150.8|2022-08-15 13:20:00 |\n",
      "|1005       |42 |Male  |City H  |75000        |{Electronics, 2022-08-28, 250.6}  |{'Timestamp': '2022-09-12 16:35:00'} |\"{\"\"Product 1\"\": {\"\"Rating\"\": 3                                 |\"\"Review\"\": \"\"Good product                                                                            |6250.0           |[{2022-09-12 16:35:00}] |null          |              |Electronics     |2022-08-28   |250.6|2022-09-12 16:35:00 |\n",
      "|1008       |48 |Male  |City K  |80000        |{Electronics, 2022-09-08, 350.2}  |{'Timestamp': '2022-06-30 11:15:00'} |\"{\"\"Product 1\"\": {\"\"Rating\"\": 3                                 |\"\"Review\"\": \"\"Good product                                                                            |6666.666666666667|[{2022-06-30 11:15:00}] |null          |              |Electronics     |2022-09-08   |350.2|2022-06-30 11:15:00 |\n",
      "|1009       |35 |Male  |City I  |55000        |{Home & Garden, 2022-09-20, 200.0}|{'Timestamp': '2022-12-06 12:00:00'} |\"{\"\"Review Text\"\": \"\"Satisfied with my purchase!\"\"              |\"\"Rating\"\": 4}\"                                                                                       |4583.333333333333|[{2022-12-06 12:00:00}] |null          |              |Home & Garden   |2022-09-20   |200.0|2022-12-06 12:00:00 |\n",
      "|1001       |45 |Female|City D  |75000        |{Clothing, 2022-03-05, 45.99}     |{'Timestamp': '2022-03-06 14:30:00'} |\"{\"\"Review Text\"\": \"\"Great quality clothes!\"\"                   |\"\"Rating\"\": 5}\"                                                                                       |6250.0           |[{2022-03-06 14:30:00}] |null          |              |Clothing        |2022-03-05   |45.99|2022-03-06 14:30:00 |\n",
      "|1003       |60 |Other |City B  |80000        |{Home & Garden, 2022-01-18, 180.0}|{'Timestamp': '2022-06-03 10:45:00'} |\"{\"\"Review Text\"\": \"\"Very satisfied with my purchase!\"\"         |\"\"Rating\"\": 5}\"                                                                                       |6666.666666666667|[{2022-06-03 10:45:00}] |null          |              |Home & Garden   |2022-01-18   |180.0|2022-06-03 10:45:00 |\n",
      "|1006       |38 |Female|City F  |65000        |{Home & Garden, 2022-06-15, 220.0}|{'Timestamp': '2022-09-02 11:15:00'} |\"{\"\"Review Text\"\": \"\"Awesome purchase!\"\"                        |\"\"Rating\"\": 5}\"                                                                                       |5416.666666666667|[{2022-09-02 11:15:00}] |null          |              |Home & Garden   |2022-06-15   |220.0|2022-09-02 11:15:00 |\n",
      "|1002       |45 |Male  |City E  |80000        |{Electronics, 2022-06-12, 350.0}  |{'Timestamp': '2022-05-25T17:45:00Z'}|The headphones are great. Sound quality is excellent. 4.5 stars.|300                                                                                                   |6666.666666666667|[{2022-05-25T17:45:00Z}]|null          |              |Electronics     |2022-06-12   |350.0|2022-05-25T17:45:00Z|\n",
      "|1010       |48 |Female|City J  |75000        |{Clothing, 2022-10-15, 34.99}     |{'Timestamp': '2022-12-21 15:30:00'} |\"{\"\"Review Text\"\": \"\"Excellent product                          |highly recommend!\"\"                                                                                   |6250.0           |[{2022-12-21 15:30:00}] |null          |              |Clothing        |2022-10-15   |34.99|2022-12-21 15:30:00 |\n",
      "|1001       |35 |Female|City D  |50000        |{Clothing, 2022-05-15, 120.0}     |{'Timestamp': '2022-04-20T14:30:00Z'}|The blouse is so comfortable and stylish. 5 stars!              |120                                                                                                   |4166.666666666667|[{2022-04-20T14:30:00Z}]|null          |              |Clothing        |2022-05-15   |120.0|2022-04-20T14:30:00Z|\n",
      "|1006       |51 |Other |City I  |85000        |{Electronics, 2022-09-05, 400.9}  |{'Timestamp': '2022-06-28 09:00:00'} |\"{\"\"Product 1\"\": {\"\"Rating\"\": 5                                 |\"\"Review\"\": \"\"Outstanding product                                                                     |7083.333333333333|[{2022-06-28 09:00:00}] |null          |              |Electronics     |2022-09-05   |400.9|2022-06-28 09:00:00 |\n",
      "|1008       |50 |Female|City H  |85000        |{Electronics, 2022-08-08, 550.0}  |{'Timestamp': '2022-11-02 10:30:00'} |\"{\"\"Review Text\"\": \"\"Great product                              |highly recommend!\"\"                                                                                   |7083.333333333333|[{2022-11-02 10:30:00}] |null          |              |Electronics     |2022-08-08   |550.0|2022-11-02 10:30:00 |\n",
      "|1007       |42 |Male  |City G  |70000        |{Clothing, 2022-07-22, 39.99}     |{'Timestamp': '2022-10-07 14:45:00'} |\"{\"\"Review Text\"\": \"\"Good product                               |but not worth the price.\"\"                                                                            |5833.333333333333|[{2022-10-07 14:45:00}] |null          |              |Clothing        |2022-07-22   |39.99|2022-10-07 14:45:00 |\n",
      "|1005       |55 |Male  |City E  |90000        |{Electronics, 2022-05-20, 600.0}  |{'Timestamp': '2022-08-04 09:30:00'} |\"{\"\"Review Text\"\": \"\"Excellent product                          |highly recommend!\"\"                                                                                   |7500.0           |[{2022-08-04 09:30:00}] |null          |              |Electronics     |2022-05-20   |600.0|2022-08-04 09:30:00 |\n",
      "|1007       |36 |Female|City J  |55000        |{Electronics, 2022-07-27, 120.5}  |{'Timestamp': '2022-08-17 14:50:00'} |\"{\"\"Product 1\"\": {\"\"Rating\"\": 4                                 |\"\"Review\"\": \"\"Good product                                                                            |4583.333333333333|[{2022-08-17 14:50:00}] |null          |              |Electronics     |2022-07-27   |120.5|2022-08-17 14:50:00 |\n",
      "+-----------+---+------+--------+-------------+----------------------------------+-------------------------------------+----------------------------------------------------------------+------------------------------------------------------------------------------------------------------+-----------------+------------------------+--------------+--------------+----------------+-------------+-----+--------------------+\n",
      "only showing top 20 rows\n",
      "\n"
     ]
    }
   ],
   "source": [
    "df_cleaned_final = df_cleaned_final.dropDuplicates()\n",
    "\n",
    "df_cleaned_final.show(truncate=False)\n"
   ]
  },
  {
   "cell_type": "markdown",
   "metadata": {
    "application/vnd.databricks.v1+cell": {
     "cellMetadata": {
      "byteLimit": 2048000,
      "rowLimit": 10000
     },
     "inputWidgets": {},
     "nuid": "3ab5c6c4-8747-4660-893d-1c91b9d09d04",
     "showTitle": false,
     "tableResultSettingsMap": {},
     "title": ""
    }
   },
   "source": [
    "**FILL NULL VALUES OR DROP NULL VALUED COLUMNS**"
   ]
  },
  {
   "cell_type": "code",
   "execution_count": 0,
   "metadata": {
    "application/vnd.databricks.v1+cell": {
     "cellMetadata": {
      "byteLimit": 2048000,
      "rowLimit": 10000
     },
     "inputWidgets": {},
     "nuid": "5725183b-2550-4010-a34f-8150f6c0b96d",
     "showTitle": false,
     "tableResultSettingsMap": {},
     "title": ""
    }
   },
   "outputs": [
    {
     "name": "stdout",
     "output_type": "stream",
     "text": [
      "+-----------+---+------+--------+-------------+----------------------------------+-------------------------------------+----------------------------------------------------------------+------------------------------------------------------------------------------------------------------+-----------------+------------------------+--------------+--------------+----------------+-------------+-----+--------------------+\n",
      "|Customer ID|Age|Gender|Location|Annual_Salary|Purchase History                  |Browsing History                     |Product Reviews                                                 |Time_on_Site                                                                                          |Monthly_Income   |Parsed_Browsing_History |Product_Rating|Product_Review|Product_Category|Purchase_Date|Price|Browsing_Timestamp  |\n",
      "+-----------+---+------+--------+-------------+----------------------------------+-------------------------------------+----------------------------------------------------------------+------------------------------------------------------------------------------------------------------+-----------------+------------------------+--------------+--------------+----------------+-------------+-----+--------------------+\n",
      "|1002       |32 |Male  |City A  |50000        |{Electronics, 2022-02-15, 250.0}  |{'Timestamp': '2022-05-12 16:15:00'} |\"{\"\"Review Text\"\": \"\"Good product                               |but could be cheaper.\"\"                                                                               |4166.666666666667|[{2022-05-12 16:15:00}] |0.0           |              |Electronics     |2022-02-15   |250.0|2022-05-12 16:15:00 |\n",
      "|1012       |65 |Female|City L  |95000        |{Home & Garden, 2022-12-25, 170.0}|{'Timestamp': '2023-02-06 13:15:00'} |\"{\"\"Review Text\"\": \"\"Excellent product                          |highly recommend!\"\"                                                                                   |7916.666666666667|[{2023-02-06 13:15:00}] |0.0           |              |Home & Garden   |2022-12-25   |170.0|2023-02-06 13:15:00 |\n",
      "|1001       |45 |Female|City D  |70000        |{Electronics, 2022-08-15, 200.5}  |{'Timestamp': '2022-09-03 14:30:00'} |\"{\"\"Product 1\"\": {\"\"Rating\"\": 4                                 |\"\"Review\"\": \"\"Great experience buying this product. Fast delivery and excellent customer service.\"\"}}\"|5833.333333333333|[{2022-09-03 14:30:00}] |0.0           |              |Electronics     |2022-08-15   |200.5|2022-09-03 14:30:00 |\n",
      "|1004       |52 |Male  |City G  |70000        |{Electronics, 2022-05-08, 200.0}  |{'Timestamp': '2022-05-22T10:30:00Z'}|The vacuum cleaner works great. 4 stars.                        |350                                                                                                   |5833.333333333333|[{2022-05-22T10:30:00Z}]|0.0           |              |Electronics     |2022-05-08   |200.0|2022-05-22T10:30:00Z|\n",
      "|1003       |28 |Female|City F  |60000        |{Clothing, 2022-05-28, 75.0}      |{'Timestamp': '2022-06-01T09:15:00Z'}|The dress fits perfectly. I love it. 5 stars!                   |250                                                                                                   |5000.0           |[{2022-06-01T09:15:00Z}]|0.0           |              |Clothing        |2022-05-28   |75.0 |2022-06-01T09:15:00Z|\n",
      "|1004       |29 |Female|City G  |60000        |{Electronics, 2022-07-20, 150.8}  |{'Timestamp': '2022-08-15 13:20:00'} |\"{\"\"Product 1\"\": {\"\"Rating\"\": 4                                 |\"\"Review\"\": \"\"Great product                                                                           |5000.0           |[{2022-08-15 13:20:00}] |0.0           |              |Electronics     |2022-07-20   |150.8|2022-08-15 13:20:00 |\n",
      "|1005       |42 |Male  |City H  |75000        |{Electronics, 2022-08-28, 250.6}  |{'Timestamp': '2022-09-12 16:35:00'} |\"{\"\"Product 1\"\": {\"\"Rating\"\": 3                                 |\"\"Review\"\": \"\"Good product                                                                            |6250.0           |[{2022-09-12 16:35:00}] |0.0           |              |Electronics     |2022-08-28   |250.6|2022-09-12 16:35:00 |\n",
      "|1008       |48 |Male  |City K  |80000        |{Electronics, 2022-09-08, 350.2}  |{'Timestamp': '2022-06-30 11:15:00'} |\"{\"\"Product 1\"\": {\"\"Rating\"\": 3                                 |\"\"Review\"\": \"\"Good product                                                                            |6666.666666666667|[{2022-06-30 11:15:00}] |0.0           |              |Electronics     |2022-09-08   |350.2|2022-06-30 11:15:00 |\n",
      "|1009       |35 |Male  |City I  |55000        |{Home & Garden, 2022-09-20, 200.0}|{'Timestamp': '2022-12-06 12:00:00'} |\"{\"\"Review Text\"\": \"\"Satisfied with my purchase!\"\"              |\"\"Rating\"\": 4}\"                                                                                       |4583.333333333333|[{2022-12-06 12:00:00}] |0.0           |              |Home & Garden   |2022-09-20   |200.0|2022-12-06 12:00:00 |\n",
      "|1001       |45 |Female|City D  |75000        |{Clothing, 2022-03-05, 45.99}     |{'Timestamp': '2022-03-06 14:30:00'} |\"{\"\"Review Text\"\": \"\"Great quality clothes!\"\"                   |\"\"Rating\"\": 5}\"                                                                                       |6250.0           |[{2022-03-06 14:30:00}] |0.0           |              |Clothing        |2022-03-05   |45.99|2022-03-06 14:30:00 |\n",
      "|1003       |60 |Other |City B  |80000        |{Home & Garden, 2022-01-18, 180.0}|{'Timestamp': '2022-06-03 10:45:00'} |\"{\"\"Review Text\"\": \"\"Very satisfied with my purchase!\"\"         |\"\"Rating\"\": 5}\"                                                                                       |6666.666666666667|[{2022-06-03 10:45:00}] |0.0           |              |Home & Garden   |2022-01-18   |180.0|2022-06-03 10:45:00 |\n",
      "|1006       |38 |Female|City F  |65000        |{Home & Garden, 2022-06-15, 220.0}|{'Timestamp': '2022-09-02 11:15:00'} |\"{\"\"Review Text\"\": \"\"Awesome purchase!\"\"                        |\"\"Rating\"\": 5}\"                                                                                       |5416.666666666667|[{2022-09-02 11:15:00}] |0.0           |              |Home & Garden   |2022-06-15   |220.0|2022-09-02 11:15:00 |\n",
      "|1002       |45 |Male  |City E  |80000        |{Electronics, 2022-06-12, 350.0}  |{'Timestamp': '2022-05-25T17:45:00Z'}|The headphones are great. Sound quality is excellent. 4.5 stars.|300                                                                                                   |6666.666666666667|[{2022-05-25T17:45:00Z}]|0.0           |              |Electronics     |2022-06-12   |350.0|2022-05-25T17:45:00Z|\n",
      "|1010       |48 |Female|City J  |75000        |{Clothing, 2022-10-15, 34.99}     |{'Timestamp': '2022-12-21 15:30:00'} |\"{\"\"Review Text\"\": \"\"Excellent product                          |highly recommend!\"\"                                                                                   |6250.0           |[{2022-12-21 15:30:00}] |0.0           |              |Clothing        |2022-10-15   |34.99|2022-12-21 15:30:00 |\n",
      "|1001       |35 |Female|City D  |50000        |{Clothing, 2022-05-15, 120.0}     |{'Timestamp': '2022-04-20T14:30:00Z'}|The blouse is so comfortable and stylish. 5 stars!              |120                                                                                                   |4166.666666666667|[{2022-04-20T14:30:00Z}]|0.0           |              |Clothing        |2022-05-15   |120.0|2022-04-20T14:30:00Z|\n",
      "|1006       |51 |Other |City I  |85000        |{Electronics, 2022-09-05, 400.9}  |{'Timestamp': '2022-06-28 09:00:00'} |\"{\"\"Product 1\"\": {\"\"Rating\"\": 5                                 |\"\"Review\"\": \"\"Outstanding product                                                                     |7083.333333333333|[{2022-06-28 09:00:00}] |0.0           |              |Electronics     |2022-09-05   |400.9|2022-06-28 09:00:00 |\n",
      "|1008       |50 |Female|City H  |85000        |{Electronics, 2022-08-08, 550.0}  |{'Timestamp': '2022-11-02 10:30:00'} |\"{\"\"Review Text\"\": \"\"Great product                              |highly recommend!\"\"                                                                                   |7083.333333333333|[{2022-11-02 10:30:00}] |0.0           |              |Electronics     |2022-08-08   |550.0|2022-11-02 10:30:00 |\n",
      "|1007       |42 |Male  |City G  |70000        |{Clothing, 2022-07-22, 39.99}     |{'Timestamp': '2022-10-07 14:45:00'} |\"{\"\"Review Text\"\": \"\"Good product                               |but not worth the price.\"\"                                                                            |5833.333333333333|[{2022-10-07 14:45:00}] |0.0           |              |Clothing        |2022-07-22   |39.99|2022-10-07 14:45:00 |\n",
      "|1005       |55 |Male  |City E  |90000        |{Electronics, 2022-05-20, 600.0}  |{'Timestamp': '2022-08-04 09:30:00'} |\"{\"\"Review Text\"\": \"\"Excellent product                          |highly recommend!\"\"                                                                                   |7500.0           |[{2022-08-04 09:30:00}] |0.0           |              |Electronics     |2022-05-20   |600.0|2022-08-04 09:30:00 |\n",
      "|1007       |36 |Female|City J  |55000        |{Electronics, 2022-07-27, 120.5}  |{'Timestamp': '2022-08-17 14:50:00'} |\"{\"\"Product 1\"\": {\"\"Rating\"\": 4                                 |\"\"Review\"\": \"\"Good product                                                                            |4583.333333333333|[{2022-08-17 14:50:00}] |0.0           |              |Electronics     |2022-07-27   |120.5|2022-08-17 14:50:00 |\n",
      "+-----------+---+------+--------+-------------+----------------------------------+-------------------------------------+----------------------------------------------------------------+------------------------------------------------------------------------------------------------------+-----------------+------------------------+--------------+--------------+----------------+-------------+-----+--------------------+\n",
      "only showing top 20 rows\n",
      "\n"
     ]
    }
   ],
   "source": [
    "\n",
    "df_cleaned_final = df_cleaned_final.fillna({\n",
    "    \"Product_Category\": \"Unknown\",\n",
    "    \"Purchase_Date\": \"Unknown\",\n",
    "    \"Price\": 0.0,\n",
    "    \"Product_Rating\": 0.0\n",
    "})\n",
    "\n",
    "df_cleaned_final.show(truncate=False)\n"
   ]
  },
  {
   "cell_type": "code",
   "execution_count": 0,
   "metadata": {
    "application/vnd.databricks.v1+cell": {
     "cellMetadata": {
      "byteLimit": 2048000,
      "rowLimit": 10000
     },
     "inputWidgets": {},
     "nuid": "b9decb25-5df7-4d1d-98fe-9af57c828052",
     "showTitle": false,
     "tableResultSettingsMap": {},
     "title": ""
    }
   },
   "outputs": [],
   "source": [
    "df_cleaned_final = df_cleaned_final.withColumn(\n",
    "    \"Product_Rating\", \n",
    "    when(col(\"Product_Rating\") == 0, None).otherwise(col(\"Product_Rating\"))\n",
    ")\n"
   ]
  },
  {
   "cell_type": "code",
   "execution_count": 0,
   "metadata": {
    "application/vnd.databricks.v1+cell": {
     "cellMetadata": {
      "byteLimit": 2048000,
      "rowLimit": 10000
     },
     "inputWidgets": {},
     "nuid": "4f9112ec-9392-4231-bad0-f84fd43f0e02",
     "showTitle": false,
     "tableResultSettingsMap": {},
     "title": ""
    }
   },
   "outputs": [],
   "source": [
    "df_cleaned_final = df_cleaned_final.withColumn(\n",
    "    \"Product_Review\", \n",
    "    when(col(\"Product_Review\").isNull(), \"No review\").otherwise(col(\"Product_Review\"))\n",
    ")\n"
   ]
  },
  {
   "cell_type": "code",
   "execution_count": 0,
   "metadata": {
    "application/vnd.databricks.v1+cell": {
     "cellMetadata": {
      "byteLimit": 2048000,
      "rowLimit": 10000
     },
     "inputWidgets": {},
     "nuid": "e65188f0-f69b-4060-bad9-de24aa1aed6e",
     "showTitle": false,
     "tableResultSettingsMap": {},
     "title": ""
    }
   },
   "outputs": [],
   "source": [
    "df_cleaned_final = df_cleaned_final.withColumn(\n",
    "    \"Time_on_Site\", \n",
    "    col(\"Time_on_Site\").cast(FloatType())\n",
    ")\n"
   ]
  },
  {
   "cell_type": "code",
   "execution_count": 0,
   "metadata": {
    "application/vnd.databricks.v1+cell": {
     "cellMetadata": {
      "byteLimit": 2048000,
      "rowLimit": 10000
     },
     "inputWidgets": {},
     "nuid": "ebb039eb-124d-4823-b09f-93aac50414a2",
     "showTitle": false,
     "tableResultSettingsMap": {},
     "title": ""
    }
   },
   "outputs": [],
   "source": [
    "from pyspark.sql.functions import to_date, to_timestamp\n",
    "\n",
    "df_cleaned_final = df_cleaned_final.withColumn(\n",
    "    \"Purchase_Date\", \n",
    "    to_date(col(\"Purchase_Date\"), \"yyyy-MM-dd\")\n",
    ").withColumn(\n",
    "    \"Browsing_Timestamp\", \n",
    "    to_timestamp(col(\"Browsing_Timestamp\"))\n",
    ")\n"
   ]
  },
  {
   "cell_type": "code",
   "execution_count": 0,
   "metadata": {
    "application/vnd.databricks.v1+cell": {
     "cellMetadata": {
      "byteLimit": 2048000,
      "rowLimit": 10000
     },
     "inputWidgets": {},
     "nuid": "9d97c939-1c5e-4249-8001-de461ef05943",
     "showTitle": false,
     "tableResultSettingsMap": {},
     "title": ""
    }
   },
   "outputs": [
    {
     "name": "stdout",
     "output_type": "stream",
     "text": [
      "+-----------+---+------+--------+-------------+----------------------------------+-------------------------------------+----------------------------------------------------------------+------------+-----------------+------------------------+--------------+--------------+----------------+-------------+-----+-------------------+\n",
      "|Customer ID|Age|Gender|Location|Annual_Salary|Purchase History                  |Browsing History                     |Product Reviews                                                 |Time_on_Site|Monthly_Income   |Parsed_Browsing_History |Product_Rating|Product_Review|Product_Category|Purchase_Date|Price|Browsing_Timestamp |\n",
      "+-----------+---+------+--------+-------------+----------------------------------+-------------------------------------+----------------------------------------------------------------+------------+-----------------+------------------------+--------------+--------------+----------------+-------------+-----+-------------------+\n",
      "|1002       |32 |Male  |City A  |50000        |{Electronics, 2022-02-15, 250.0}  |{'Timestamp': '2022-05-12 16:15:00'} |\"{\"\"Review Text\"\": \"\"Good product                               |null        |4166.666666666667|[{2022-05-12 16:15:00}] |null          |              |Electronics     |2022-02-15   |250.0|2022-05-12 16:15:00|\n",
      "|1012       |65 |Female|City L  |95000        |{Home & Garden, 2022-12-25, 170.0}|{'Timestamp': '2023-02-06 13:15:00'} |\"{\"\"Review Text\"\": \"\"Excellent product                          |null        |7916.666666666667|[{2023-02-06 13:15:00}] |null          |              |Home & Garden   |2022-12-25   |170.0|2023-02-06 13:15:00|\n",
      "|1001       |45 |Female|City D  |70000        |{Electronics, 2022-08-15, 200.5}  |{'Timestamp': '2022-09-03 14:30:00'} |\"{\"\"Product 1\"\": {\"\"Rating\"\": 4                                 |null        |5833.333333333333|[{2022-09-03 14:30:00}] |null          |              |Electronics     |2022-08-15   |200.5|2022-09-03 14:30:00|\n",
      "|1004       |52 |Male  |City G  |70000        |{Electronics, 2022-05-08, 200.0}  |{'Timestamp': '2022-05-22T10:30:00Z'}|The vacuum cleaner works great. 4 stars.                        |350.0       |5833.333333333333|[{2022-05-22T10:30:00Z}]|null          |              |Electronics     |2022-05-08   |200.0|2022-05-22 10:30:00|\n",
      "|1011       |36 |Female|City N  |55000        |{Clothing, 2022-05-27, 80.0}      |{'Timestamp': '2022-06-13T13:00:00Z'}|The skirt is lovely. 4.5 stars.                                 |200.0       |4583.333333333333|[{2022-06-13T13:00:00Z}]|null          |              |Clothing        |2022-05-27   |80.0 |2022-06-13 13:00:00|\n",
      "|1003       |28 |Female|City F  |60000        |{Clothing, 2022-05-28, 75.0}      |{'Timestamp': '2022-06-01T09:15:00Z'}|The dress fits perfectly. I love it. 5 stars!                   |250.0       |5000.0           |[{2022-06-01T09:15:00Z}]|null          |              |Clothing        |2022-05-28   |75.0 |2022-06-01 09:15:00|\n",
      "|1004       |29 |Female|City G  |60000        |{Electronics, 2022-07-20, 150.8}  |{'Timestamp': '2022-08-15 13:20:00'} |\"{\"\"Product 1\"\": {\"\"Rating\"\": 4                                 |null        |5000.0           |[{2022-08-15 13:20:00}] |null          |              |Electronics     |2022-07-20   |150.8|2022-08-15 13:20:00|\n",
      "|1007       |60 |Female|City J  |65000        |{Clothing, 2022-05-25, 100.0}     |{'Timestamp': '2022-06-15T11:30:00Z'}|The shirt is comfortable. 4 stars.                              |300.0       |5416.666666666667|[{2022-06-15T11:30:00Z}]|null          |              |Clothing        |2022-05-25   |100.0|2022-06-15 11:30:00|\n",
      "|1005       |42 |Male  |City H  |75000        |{Electronics, 2022-08-28, 250.6}  |{'Timestamp': '2022-09-12 16:35:00'} |\"{\"\"Product 1\"\": {\"\"Rating\"\": 3                                 |null        |6250.0           |[{2022-09-12 16:35:00}] |null          |              |Electronics     |2022-08-28   |250.6|2022-09-12 16:35:00|\n",
      "|1008       |55 |Male  |City K  |85000        |{Electronics, 2022-05-20, 300.0}  |{'Timestamp': '2022-05-28T15:15:00Z'}|The laptop is excellent. 5 stars!                               |450.0       |7083.333333333333|[{2022-05-28T15:15:00Z}]|null          |              |Electronics     |2022-05-20   |300.0|2022-05-28 15:15:00|\n",
      "|1008       |48 |Male  |City K  |80000        |{Electronics, 2022-09-08, 350.2}  |{'Timestamp': '2022-06-30 11:15:00'} |\"{\"\"Product 1\"\": {\"\"Rating\"\": 3                                 |null        |6666.666666666667|[{2022-06-30 11:15:00}] |null          |              |Electronics     |2022-09-08   |350.2|2022-06-30 11:15:00|\n",
      "|1009       |35 |Male  |City I  |55000        |{Home & Garden, 2022-09-20, 200.0}|{'Timestamp': '2022-12-06 12:00:00'} |\"{\"\"Review Text\"\": \"\"Satisfied with my purchase!\"\"              |null        |4583.333333333333|[{2022-12-06 12:00:00}] |null          |              |Home & Garden   |2022-09-20   |200.0|2022-12-06 12:00:00|\n",
      "|1001       |45 |Female|City D  |75000        |{Clothing, 2022-03-05, 45.99}     |{'Timestamp': '2022-03-06 14:30:00'} |\"{\"\"Review Text\"\": \"\"Great quality clothes!\"\"                   |null        |6250.0           |[{2022-03-06 14:30:00}] |null          |              |Clothing        |2022-03-05   |45.99|2022-03-06 14:30:00|\n",
      "|1003       |60 |Other |City B  |80000        |{Home & Garden, 2022-01-18, 180.0}|{'Timestamp': '2022-06-03 10:45:00'} |\"{\"\"Review Text\"\": \"\"Very satisfied with my purchase!\"\"         |null        |6666.666666666667|[{2022-06-03 10:45:00}] |null          |              |Home & Garden   |2022-01-18   |180.0|2022-06-03 10:45:00|\n",
      "|1010       |58 |Male  |City M  |75000        |{Electronics, 2022-05-12, 250.0}  |{'Timestamp': '2022-05-29T10:30:00Z'}|The coffee maker is great. 5 stars!                             |350.0       |6250.0           |[{2022-05-29T10:30:00Z}]|null          |              |Electronics     |2022-05-12   |250.0|2022-05-29 10:30:00|\n",
      "|1006       |38 |Female|City F  |65000        |{Home & Garden, 2022-06-15, 220.0}|{'Timestamp': '2022-09-02 11:15:00'} |\"{\"\"Review Text\"\": \"\"Awesome purchase!\"\"                        |null        |5416.666666666667|[{2022-09-02 11:15:00}] |null          |              |Home & Garden   |2022-06-15   |220.0|2022-09-02 11:15:00|\n",
      "|1002       |45 |Male  |City E  |80000        |{Electronics, 2022-06-12, 350.0}  |{'Timestamp': '2022-05-25T17:45:00Z'}|The headphones are great. Sound quality is excellent. 4.5 stars.|300.0       |6666.666666666667|[{2022-05-25T17:45:00Z}]|null          |              |Electronics     |2022-06-12   |350.0|2022-05-25 17:45:00|\n",
      "|1006       |48 |Male  |City I  |90000        |{Electronics, 2022-05-23, 400.0}  |{'Timestamp': '2022-06-06T08:00:00Z'}|The phone is fantastic. 5 stars!                                |400.0       |7500.0           |[{2022-06-06T08:00:00Z}]|null          |              |Electronics     |2022-05-23   |400.0|2022-06-06 08:00:00|\n",
      "|1010       |48 |Female|City J  |75000        |{Clothing, 2022-10-15, 34.99}     |{'Timestamp': '2022-12-21 15:30:00'} |\"{\"\"Review Text\"\": \"\"Excellent product                          |null        |6250.0           |[{2022-12-21 15:30:00}] |null          |              |Clothing        |2022-10-15   |34.99|2022-12-21 15:30:00|\n",
      "|1001       |35 |Female|City D  |50000        |{Clothing, 2022-05-15, 120.0}     |{'Timestamp': '2022-04-20T14:30:00Z'}|The blouse is so comfortable and stylish. 5 stars!              |120.0       |4166.666666666667|[{2022-04-20T14:30:00Z}]|null          |              |Clothing        |2022-05-15   |120.0|2022-04-20 14:30:00|\n",
      "+-----------+---+------+--------+-------------+----------------------------------+-------------------------------------+----------------------------------------------------------------+------------+-----------------+------------------------+--------------+--------------+----------------+-------------+-----+-------------------+\n",
      "only showing top 20 rows\n",
      "\n"
     ]
    }
   ],
   "source": [
    "df_cleaned_final.show(truncate=False)\n"
   ]
  },
  {
   "cell_type": "code",
   "execution_count": 0,
   "metadata": {
    "application/vnd.databricks.v1+cell": {
     "cellMetadata": {
      "byteLimit": 2048000,
      "rowLimit": 10000
     },
     "inputWidgets": {},
     "nuid": "22b35fc0-60ef-48a0-b0a0-e8eded872d16",
     "showTitle": false,
     "tableResultSettingsMap": {},
     "title": ""
    }
   },
   "outputs": [],
   "source": [
    "from pyspark.sql.functions import col\n",
    "df_cleaned_final = df_cleaned_final.withColumn(\n",
    "    \"Product_Category\", col(\"Purchase History.Product Category\")\n",
    ").withColumn(\n",
    "    \"Purchase_Amount\", col(\"Purchase History.Price\")\n",
    ").withColumn(\n",
    "    \"Purchase_Date\", to_date(col(\"Purchase History.Purchase Date\"), \"yyyy-MM-dd\")\n",
    ")\n"
   ]
  },
  {
   "cell_type": "code",
   "execution_count": 0,
   "metadata": {
    "application/vnd.databricks.v1+cell": {
     "cellMetadata": {
      "byteLimit": 2048000,
      "rowLimit": 10000
     },
     "inputWidgets": {},
     "nuid": "cf1ab083-d228-4b92-8386-05b72b07d91f",
     "showTitle": false,
     "tableResultSettingsMap": {},
     "title": ""
    }
   },
   "outputs": [
    {
     "name": "stdout",
     "output_type": "stream",
     "text": [
      "+-----------+---+------+--------+-------------+----------------------------------+-------------------------------------+----------------------------------------------------------------+------------+-----------------+------------------------+--------------+--------------+----------------+-------------+-----+-------------------+---------------+\n",
      "|Customer ID|Age|Gender|Location|Annual_Salary|Purchase History                  |Browsing History                     |Product Reviews                                                 |Time_on_Site|Monthly_Income   |Parsed_Browsing_History |Product_Rating|Product_Review|Product_Category|Purchase_Date|Price|Browsing_Timestamp |Purchase_Amount|\n",
      "+-----------+---+------+--------+-------------+----------------------------------+-------------------------------------+----------------------------------------------------------------+------------+-----------------+------------------------+--------------+--------------+----------------+-------------+-----+-------------------+---------------+\n",
      "|1002       |32 |Male  |City A  |50000        |{Electronics, 2022-02-15, 250.0}  |{'Timestamp': '2022-05-12 16:15:00'} |\"{\"\"Review Text\"\": \"\"Good product                               |0.0         |4166.666666666667|[{2022-05-12 16:15:00}] |0.0           |              |Electronics     |2022-02-15   |250.0|2022-05-12 16:15:00|250.0          |\n",
      "|1012       |65 |Female|City L  |95000        |{Home & Garden, 2022-12-25, 170.0}|{'Timestamp': '2023-02-06 13:15:00'} |\"{\"\"Review Text\"\": \"\"Excellent product                          |0.0         |7916.666666666667|[{2023-02-06 13:15:00}] |0.0           |              |Home & Garden   |2022-12-25   |170.0|2023-02-06 13:15:00|170.0          |\n",
      "|1001       |45 |Female|City D  |70000        |{Electronics, 2022-08-15, 200.5}  |{'Timestamp': '2022-09-03 14:30:00'} |\"{\"\"Product 1\"\": {\"\"Rating\"\": 4                                 |0.0         |5833.333333333333|[{2022-09-03 14:30:00}] |0.0           |              |Electronics     |2022-08-15   |200.5|2022-09-03 14:30:00|200.5          |\n",
      "|1004       |52 |Male  |City G  |70000        |{Electronics, 2022-05-08, 200.0}  |{'Timestamp': '2022-05-22T10:30:00Z'}|The vacuum cleaner works great. 4 stars.                        |350.0       |5833.333333333333|[{2022-05-22T10:30:00Z}]|0.0           |              |Electronics     |2022-05-08   |200.0|2022-05-22 10:30:00|200.0          |\n",
      "|1011       |36 |Female|City N  |55000        |{Clothing, 2022-05-27, 80.0}      |{'Timestamp': '2022-06-13T13:00:00Z'}|The skirt is lovely. 4.5 stars.                                 |200.0       |4583.333333333333|[{2022-06-13T13:00:00Z}]|0.0           |              |Clothing        |2022-05-27   |80.0 |2022-06-13 13:00:00|80.0           |\n",
      "|1003       |28 |Female|City F  |60000        |{Clothing, 2022-05-28, 75.0}      |{'Timestamp': '2022-06-01T09:15:00Z'}|The dress fits perfectly. I love it. 5 stars!                   |250.0       |5000.0           |[{2022-06-01T09:15:00Z}]|0.0           |              |Clothing        |2022-05-28   |75.0 |2022-06-01 09:15:00|75.0           |\n",
      "|1004       |29 |Female|City G  |60000        |{Electronics, 2022-07-20, 150.8}  |{'Timestamp': '2022-08-15 13:20:00'} |\"{\"\"Product 1\"\": {\"\"Rating\"\": 4                                 |0.0         |5000.0           |[{2022-08-15 13:20:00}] |0.0           |              |Electronics     |2022-07-20   |150.8|2022-08-15 13:20:00|150.8          |\n",
      "|1007       |60 |Female|City J  |65000        |{Clothing, 2022-05-25, 100.0}     |{'Timestamp': '2022-06-15T11:30:00Z'}|The shirt is comfortable. 4 stars.                              |300.0       |5416.666666666667|[{2022-06-15T11:30:00Z}]|0.0           |              |Clothing        |2022-05-25   |100.0|2022-06-15 11:30:00|100.0          |\n",
      "|1005       |42 |Male  |City H  |75000        |{Electronics, 2022-08-28, 250.6}  |{'Timestamp': '2022-09-12 16:35:00'} |\"{\"\"Product 1\"\": {\"\"Rating\"\": 3                                 |0.0         |6250.0           |[{2022-09-12 16:35:00}] |0.0           |              |Electronics     |2022-08-28   |250.6|2022-09-12 16:35:00|250.6          |\n",
      "|1008       |55 |Male  |City K  |85000        |{Electronics, 2022-05-20, 300.0}  |{'Timestamp': '2022-05-28T15:15:00Z'}|The laptop is excellent. 5 stars!                               |450.0       |7083.333333333333|[{2022-05-28T15:15:00Z}]|0.0           |              |Electronics     |2022-05-20   |300.0|2022-05-28 15:15:00|300.0          |\n",
      "|1008       |48 |Male  |City K  |80000        |{Electronics, 2022-09-08, 350.2}  |{'Timestamp': '2022-06-30 11:15:00'} |\"{\"\"Product 1\"\": {\"\"Rating\"\": 3                                 |0.0         |6666.666666666667|[{2022-06-30 11:15:00}] |0.0           |              |Electronics     |2022-09-08   |350.2|2022-06-30 11:15:00|350.2          |\n",
      "|1009       |35 |Male  |City I  |55000        |{Home & Garden, 2022-09-20, 200.0}|{'Timestamp': '2022-12-06 12:00:00'} |\"{\"\"Review Text\"\": \"\"Satisfied with my purchase!\"\"              |0.0         |4583.333333333333|[{2022-12-06 12:00:00}] |0.0           |              |Home & Garden   |2022-09-20   |200.0|2022-12-06 12:00:00|200.0          |\n",
      "|1001       |45 |Female|City D  |75000        |{Clothing, 2022-03-05, 45.99}     |{'Timestamp': '2022-03-06 14:30:00'} |\"{\"\"Review Text\"\": \"\"Great quality clothes!\"\"                   |0.0         |6250.0           |[{2022-03-06 14:30:00}] |0.0           |              |Clothing        |2022-03-05   |45.99|2022-03-06 14:30:00|45.99          |\n",
      "|1003       |60 |Other |City B  |80000        |{Home & Garden, 2022-01-18, 180.0}|{'Timestamp': '2022-06-03 10:45:00'} |\"{\"\"Review Text\"\": \"\"Very satisfied with my purchase!\"\"         |0.0         |6666.666666666667|[{2022-06-03 10:45:00}] |0.0           |              |Home & Garden   |2022-01-18   |180.0|2022-06-03 10:45:00|180.0          |\n",
      "|1010       |58 |Male  |City M  |75000        |{Electronics, 2022-05-12, 250.0}  |{'Timestamp': '2022-05-29T10:30:00Z'}|The coffee maker is great. 5 stars!                             |350.0       |6250.0           |[{2022-05-29T10:30:00Z}]|0.0           |              |Electronics     |2022-05-12   |250.0|2022-05-29 10:30:00|250.0          |\n",
      "|1006       |38 |Female|City F  |65000        |{Home & Garden, 2022-06-15, 220.0}|{'Timestamp': '2022-09-02 11:15:00'} |\"{\"\"Review Text\"\": \"\"Awesome purchase!\"\"                        |0.0         |5416.666666666667|[{2022-09-02 11:15:00}] |0.0           |              |Home & Garden   |2022-06-15   |220.0|2022-09-02 11:15:00|220.0          |\n",
      "|1002       |45 |Male  |City E  |80000        |{Electronics, 2022-06-12, 350.0}  |{'Timestamp': '2022-05-25T17:45:00Z'}|The headphones are great. Sound quality is excellent. 4.5 stars.|300.0       |6666.666666666667|[{2022-05-25T17:45:00Z}]|0.0           |              |Electronics     |2022-06-12   |350.0|2022-05-25 17:45:00|350.0          |\n",
      "|1006       |48 |Male  |City I  |90000        |{Electronics, 2022-05-23, 400.0}  |{'Timestamp': '2022-06-06T08:00:00Z'}|The phone is fantastic. 5 stars!                                |400.0       |7500.0           |[{2022-06-06T08:00:00Z}]|0.0           |              |Electronics     |2022-05-23   |400.0|2022-06-06 08:00:00|400.0          |\n",
      "|1010       |48 |Female|City J  |75000        |{Clothing, 2022-10-15, 34.99}     |{'Timestamp': '2022-12-21 15:30:00'} |\"{\"\"Review Text\"\": \"\"Excellent product                          |0.0         |6250.0           |[{2022-12-21 15:30:00}] |0.0           |              |Clothing        |2022-10-15   |34.99|2022-12-21 15:30:00|34.99          |\n",
      "|1001       |35 |Female|City D  |50000        |{Clothing, 2022-05-15, 120.0}     |{'Timestamp': '2022-04-20T14:30:00Z'}|The blouse is so comfortable and stylish. 5 stars!              |120.0       |4166.666666666667|[{2022-04-20T14:30:00Z}]|0.0           |              |Clothing        |2022-05-15   |120.0|2022-04-20 14:30:00|120.0          |\n",
      "+-----------+---+------+--------+-------------+----------------------------------+-------------------------------------+----------------------------------------------------------------+------------+-----------------+------------------------+--------------+--------------+----------------+-------------+-----+-------------------+---------------+\n",
      "only showing top 20 rows\n",
      "\n"
     ]
    }
   ],
   "source": [
    "from pyspark.sql.functions import lit\n",
    "df_cleaned_final = df_cleaned_final.fillna({\n",
    "    \"Gender\": \"Unknown\",\n",
    "    \"Location\": \"Unknown\",\n",
    "    \"Product_Category\": \"Unknown\",\n",
    "    \"Product_Rating\": 0.0,\n",
    "    \"Product_Review\": \"No Review\",\n",
    "    \"Time_on_Site\": 0.0,\n",
    "    \"Monthly_Income\": 0.0\n",
    "})\n",
    "df_cleaned_final.show(truncate=False)\n"
   ]
  },
  {
   "cell_type": "markdown",
   "metadata": {
    "application/vnd.databricks.v1+cell": {
     "cellMetadata": {
      "byteLimit": 2048000,
      "rowLimit": 10000
     },
     "inputWidgets": {},
     "nuid": "514a3899-fef7-4077-b922-0871e46f83c6",
     "showTitle": false,
     "tableResultSettingsMap": {},
     "title": ""
    }
   },
   "source": [
    "**CHECKING IF ANY FIELD HAS NULL VALUES**"
   ]
  },
  {
   "cell_type": "code",
   "execution_count": 0,
   "metadata": {
    "application/vnd.databricks.v1+cell": {
     "cellMetadata": {
      "byteLimit": 2048000,
      "rowLimit": 10000
     },
     "inputWidgets": {},
     "nuid": "d2ffcfb3-fbe9-4d30-895a-fbdb24fa3344",
     "showTitle": false,
     "tableResultSettingsMap": {},
     "title": ""
    }
   },
   "outputs": [
    {
     "name": "stdout",
     "output_type": "stream",
     "text": [
      "+-----------+---+------+--------+-------------+----------------+----------------+---------------+------------+--------------+-----------------------+--------------+--------------+----------------+-------------+-----+------------------+---------------+\n",
      "|Customer ID|Age|Gender|Location|Annual_Salary|Purchase History|Browsing History|Product Reviews|Time_on_Site|Monthly_Income|Parsed_Browsing_History|Product_Rating|Product_Review|Product_Category|Purchase_Date|Price|Browsing_Timestamp|Purchase_Amount|\n",
      "+-----------+---+------+--------+-------------+----------------+----------------+---------------+------------+--------------+-----------------------+--------------+--------------+----------------+-------------+-----+------------------+---------------+\n",
      "+-----------+---+------+--------+-------------+----------------+----------------+---------------+------------+--------------+-----------------------+--------------+--------------+----------------+-------------+-----+------------------+---------------+\n",
      "\n"
     ]
    }
   ],
   "source": [
    "df_cleaned_final.filter(col(\"Product_Rating\").isNull()).show()\n"
   ]
  },
  {
   "cell_type": "markdown",
   "metadata": {
    "application/vnd.databricks.v1+cell": {
     "cellMetadata": {
      "byteLimit": 2048000,
      "rowLimit": 10000
     },
     "inputWidgets": {},
     "nuid": "858484f3-a2e6-40cd-8da2-fde9e5307acf",
     "showTitle": false,
     "tableResultSettingsMap": {},
     "title": ""
    }
   },
   "source": [
    "**STANDARDIZE GENDER AND LOCATION**"
   ]
  },
  {
   "cell_type": "code",
   "execution_count": 0,
   "metadata": {
    "application/vnd.databricks.v1+cell": {
     "cellMetadata": {
      "byteLimit": 2048000,
      "rowLimit": 10000
     },
     "inputWidgets": {},
     "nuid": "4f257336-16b4-4e84-a1fa-3ab65b16c356",
     "showTitle": false,
     "tableResultSettingsMap": {},
     "title": ""
    }
   },
   "outputs": [],
   "source": [
    "from pyspark.sql.functions import initcap\n",
    "\n",
    "df_cleaned_final = df_cleaned_final.withColumn(\"Gender\", initcap(col(\"Gender\"))) \\\n",
    "                                   .withColumn(\"Location\", initcap(col(\"Location\")))\n"
   ]
  },
  {
   "cell_type": "code",
   "execution_count": 0,
   "metadata": {
    "application/vnd.databricks.v1+cell": {
     "cellMetadata": {
      "byteLimit": 2048000,
      "rowLimit": 10000
     },
     "inputWidgets": {},
     "nuid": "9293ab76-eed1-4064-a337-514fdbd5e037",
     "showTitle": false,
     "tableResultSettingsMap": {},
     "title": ""
    }
   },
   "outputs": [
    {
     "name": "stdout",
     "output_type": "stream",
     "text": [
      "+-----------+---+------+--------+-------------+----------------------------------+-------------------------------------+----------------------------------------------------------------+------------+-----------------+------------------------+--------------+--------------+----------------+-------------+-----+-------------------+---------------+---------+-------------------+\n",
      "|Customer ID|Age|Gender|Location|Annual_Salary|Purchase History                  |Browsing History                     |Product Reviews                                                 |Time_on_Site|Monthly_Income   |Parsed_Browsing_History |Product_Rating|Product_Review|Product_Category|Purchase_Date|Price|Browsing_Timestamp |Purchase_Amount|Age_Group|High_Value_Customer|\n",
      "+-----------+---+------+--------+-------------+----------------------------------+-------------------------------------+----------------------------------------------------------------+------------+-----------------+------------------------+--------------+--------------+----------------+-------------+-----+-------------------+---------------+---------+-------------------+\n",
      "|1002       |32 |Male  |City A  |50000        |{Electronics, 2022-02-15, 250.0}  |{'Timestamp': '2022-05-12 16:15:00'} |\"{\"\"Review Text\"\": \"\"Good product                               |0.0         |4166.666666666667|[{2022-05-12 16:15:00}] |0.0           |              |Electronics     |2022-02-15   |250.0|2022-05-12 16:15:00|250.0          |25-35    |No                 |\n",
      "|1012       |65 |Female|City L  |95000        |{Home & Garden, 2022-12-25, 170.0}|{'Timestamp': '2023-02-06 13:15:00'} |\"{\"\"Review Text\"\": \"\"Excellent product                          |0.0         |7916.666666666667|[{2023-02-06 13:15:00}] |0.0           |              |Home & Garden   |2022-12-25   |170.0|2023-02-06 13:15:00|170.0          |51+      |Yes                |\n",
      "|1001       |45 |Female|City D  |70000        |{Electronics, 2022-08-15, 200.5}  |{'Timestamp': '2022-09-03 14:30:00'} |\"{\"\"Product 1\"\": {\"\"Rating\"\": 4                                 |0.0         |5833.333333333333|[{2022-09-03 14:30:00}] |0.0           |              |Electronics     |2022-08-15   |200.5|2022-09-03 14:30:00|200.5          |36-50    |No                 |\n",
      "|1004       |52 |Male  |City G  |70000        |{Electronics, 2022-05-08, 200.0}  |{'Timestamp': '2022-05-22T10:30:00Z'}|The vacuum cleaner works great. 4 stars.                        |350.0       |5833.333333333333|[{2022-05-22T10:30:00Z}]|0.0           |              |Electronics     |2022-05-08   |200.0|2022-05-22 10:30:00|200.0          |51+      |No                 |\n",
      "|1011       |36 |Female|City N  |55000        |{Clothing, 2022-05-27, 80.0}      |{'Timestamp': '2022-06-13T13:00:00Z'}|The skirt is lovely. 4.5 stars.                                 |200.0       |4583.333333333333|[{2022-06-13T13:00:00Z}]|0.0           |              |Clothing        |2022-05-27   |80.0 |2022-06-13 13:00:00|80.0           |36-50    |No                 |\n",
      "|1003       |28 |Female|City F  |60000        |{Clothing, 2022-05-28, 75.0}      |{'Timestamp': '2022-06-01T09:15:00Z'}|The dress fits perfectly. I love it. 5 stars!                   |250.0       |5000.0           |[{2022-06-01T09:15:00Z}]|0.0           |              |Clothing        |2022-05-28   |75.0 |2022-06-01 09:15:00|75.0           |25-35    |No                 |\n",
      "|1004       |29 |Female|City G  |60000        |{Electronics, 2022-07-20, 150.8}  |{'Timestamp': '2022-08-15 13:20:00'} |\"{\"\"Product 1\"\": {\"\"Rating\"\": 4                                 |0.0         |5000.0           |[{2022-08-15 13:20:00}] |0.0           |              |Electronics     |2022-07-20   |150.8|2022-08-15 13:20:00|150.8          |25-35    |No                 |\n",
      "|1007       |60 |Female|City J  |65000        |{Clothing, 2022-05-25, 100.0}     |{'Timestamp': '2022-06-15T11:30:00Z'}|The shirt is comfortable. 4 stars.                              |300.0       |5416.666666666667|[{2022-06-15T11:30:00Z}]|0.0           |              |Clothing        |2022-05-25   |100.0|2022-06-15 11:30:00|100.0          |51+      |No                 |\n",
      "|1005       |42 |Male  |City H  |75000        |{Electronics, 2022-08-28, 250.6}  |{'Timestamp': '2022-09-12 16:35:00'} |\"{\"\"Product 1\"\": {\"\"Rating\"\": 3                                 |0.0         |6250.0           |[{2022-09-12 16:35:00}] |0.0           |              |Electronics     |2022-08-28   |250.6|2022-09-12 16:35:00|250.6          |36-50    |No                 |\n",
      "|1008       |55 |Male  |City K  |85000        |{Electronics, 2022-05-20, 300.0}  |{'Timestamp': '2022-05-28T15:15:00Z'}|The laptop is excellent. 5 stars!                               |450.0       |7083.333333333333|[{2022-05-28T15:15:00Z}]|0.0           |              |Electronics     |2022-05-20   |300.0|2022-05-28 15:15:00|300.0          |51+      |Yes                |\n",
      "|1008       |48 |Male  |City K  |80000        |{Electronics, 2022-09-08, 350.2}  |{'Timestamp': '2022-06-30 11:15:00'} |\"{\"\"Product 1\"\": {\"\"Rating\"\": 3                                 |0.0         |6666.666666666667|[{2022-06-30 11:15:00}] |0.0           |              |Electronics     |2022-09-08   |350.2|2022-06-30 11:15:00|350.2          |36-50    |Yes                |\n",
      "|1009       |35 |Male  |City I  |55000        |{Home & Garden, 2022-09-20, 200.0}|{'Timestamp': '2022-12-06 12:00:00'} |\"{\"\"Review Text\"\": \"\"Satisfied with my purchase!\"\"              |0.0         |4583.333333333333|[{2022-12-06 12:00:00}] |0.0           |              |Home & Garden   |2022-09-20   |200.0|2022-12-06 12:00:00|200.0          |25-35    |No                 |\n",
      "|1001       |45 |Female|City D  |75000        |{Clothing, 2022-03-05, 45.99}     |{'Timestamp': '2022-03-06 14:30:00'} |\"{\"\"Review Text\"\": \"\"Great quality clothes!\"\"                   |0.0         |6250.0           |[{2022-03-06 14:30:00}] |0.0           |              |Clothing        |2022-03-05   |45.99|2022-03-06 14:30:00|45.99          |36-50    |No                 |\n",
      "|1003       |60 |Other |City B  |80000        |{Home & Garden, 2022-01-18, 180.0}|{'Timestamp': '2022-06-03 10:45:00'} |\"{\"\"Review Text\"\": \"\"Very satisfied with my purchase!\"\"         |0.0         |6666.666666666667|[{2022-06-03 10:45:00}] |0.0           |              |Home & Garden   |2022-01-18   |180.0|2022-06-03 10:45:00|180.0          |51+      |Yes                |\n",
      "|1010       |58 |Male  |City M  |75000        |{Electronics, 2022-05-12, 250.0}  |{'Timestamp': '2022-05-29T10:30:00Z'}|The coffee maker is great. 5 stars!                             |350.0       |6250.0           |[{2022-05-29T10:30:00Z}]|0.0           |              |Electronics     |2022-05-12   |250.0|2022-05-29 10:30:00|250.0          |51+      |No                 |\n",
      "|1006       |38 |Female|City F  |65000        |{Home & Garden, 2022-06-15, 220.0}|{'Timestamp': '2022-09-02 11:15:00'} |\"{\"\"Review Text\"\": \"\"Awesome purchase!\"\"                        |0.0         |5416.666666666667|[{2022-09-02 11:15:00}] |0.0           |              |Home & Garden   |2022-06-15   |220.0|2022-09-02 11:15:00|220.0          |36-50    |No                 |\n",
      "|1002       |45 |Male  |City E  |80000        |{Electronics, 2022-06-12, 350.0}  |{'Timestamp': '2022-05-25T17:45:00Z'}|The headphones are great. Sound quality is excellent. 4.5 stars.|300.0       |6666.666666666667|[{2022-05-25T17:45:00Z}]|0.0           |              |Electronics     |2022-06-12   |350.0|2022-05-25 17:45:00|350.0          |36-50    |Yes                |\n",
      "|1006       |48 |Male  |City I  |90000        |{Electronics, 2022-05-23, 400.0}  |{'Timestamp': '2022-06-06T08:00:00Z'}|The phone is fantastic. 5 stars!                                |400.0       |7500.0           |[{2022-06-06T08:00:00Z}]|0.0           |              |Electronics     |2022-05-23   |400.0|2022-06-06 08:00:00|400.0          |36-50    |Yes                |\n",
      "|1010       |48 |Female|City J  |75000        |{Clothing, 2022-10-15, 34.99}     |{'Timestamp': '2022-12-21 15:30:00'} |\"{\"\"Review Text\"\": \"\"Excellent product                          |0.0         |6250.0           |[{2022-12-21 15:30:00}] |0.0           |              |Clothing        |2022-10-15   |34.99|2022-12-21 15:30:00|34.99          |36-50    |No                 |\n",
      "|1001       |35 |Female|City D  |50000        |{Clothing, 2022-05-15, 120.0}     |{'Timestamp': '2022-04-20T14:30:00Z'}|The blouse is so comfortable and stylish. 5 stars!              |120.0       |4166.666666666667|[{2022-04-20T14:30:00Z}]|0.0           |              |Clothing        |2022-05-15   |120.0|2022-04-20 14:30:00|120.0          |25-35    |No                 |\n",
      "+-----------+---+------+--------+-------------+----------------------------------+-------------------------------------+----------------------------------------------------------------+------------+-----------------+------------------------+--------------+--------------+----------------+-------------+-----+-------------------+---------------+---------+-------------------+\n",
      "only showing top 20 rows\n",
      "\n"
     ]
    }
   ],
   "source": [
    "from pyspark.sql.functions import when\n",
    "\n",
    "df_cleaned_final = df_cleaned_final.withColumn(\n",
    "    \"Age_Group\",\n",
    "    when(col(\"Age\") < 25, \"18-24\")\n",
    "    .when((col(\"Age\") >= 25) & (col(\"Age\") <= 35), \"25-35\")\n",
    "    .when((col(\"Age\") >= 36) & (col(\"Age\") <= 50), \"36-50\")\n",
    "    .otherwise(\"51+\")\n",
    ")\n",
    "\n",
    "df_cleaned_final = df_cleaned_final.withColumn(\n",
    "    \"High_Value_Customer\", when(col(\"Annual_Salary\") > 75000, \"Yes\").otherwise(\"No\")\n",
    ")\n",
    "df_cleaned_final.show(truncate=False)"
   ]
  },
  {
   "cell_type": "code",
   "execution_count": 0,
   "metadata": {
    "application/vnd.databricks.v1+cell": {
     "cellMetadata": {
      "byteLimit": 2048000,
      "rowLimit": 10000
     },
     "inputWidgets": {},
     "nuid": "d23741c1-123a-4ac1-9def-347b7b17f1ab",
     "showTitle": false,
     "tableResultSettingsMap": {},
     "title": ""
    }
   },
   "outputs": [
    {
     "name": "stdout",
     "output_type": "stream",
     "text": [
      "root\n",
      " |-- Customer ID: integer (nullable = true)\n",
      " |-- Age: integer (nullable = false)\n",
      " |-- Gender: string (nullable = false)\n",
      " |-- Location: string (nullable = false)\n",
      " |-- Annual_Salary: integer (nullable = false)\n",
      " |-- Purchase History: struct (nullable = true)\n",
      " |    |-- Product Category: string (nullable = true)\n",
      " |    |-- Purchase Date: string (nullable = true)\n",
      " |    |-- Price: float (nullable = true)\n",
      " |-- Browsing History: string (nullable = true)\n",
      " |-- Product Reviews: string (nullable = true)\n",
      " |-- Time_on_Site: float (nullable = false)\n",
      " |-- Monthly_Income: double (nullable = false)\n",
      " |-- Parsed_Browsing_History: array (nullable = true)\n",
      " |    |-- element: struct (containsNull = true)\n",
      " |    |    |-- Timestamp: string (nullable = true)\n",
      " |-- Product_Rating: float (nullable = false)\n",
      " |-- Product_Review: string (nullable = false)\n",
      " |-- Product_Category: string (nullable = false)\n",
      " |-- Purchase_Date: date (nullable = true)\n",
      " |-- Price: float (nullable = false)\n",
      " |-- Browsing_Timestamp: timestamp (nullable = true)\n",
      " |-- Purchase_Amount: float (nullable = true)\n",
      " |-- Age_Group: string (nullable = false)\n",
      " |-- High_Value_Customer: string (nullable = false)\n",
      "\n"
     ]
    }
   ],
   "source": [
    "df_cleaned_final.printSchema()\n"
   ]
  },
  {
   "cell_type": "code",
   "execution_count": 0,
   "metadata": {
    "application/vnd.databricks.v1+cell": {
     "cellMetadata": {
      "byteLimit": 2048000,
      "rowLimit": 10000
     },
     "inputWidgets": {},
     "nuid": "01dffe85-f029-425c-8dc4-ac89bf37f0d5",
     "showTitle": false,
     "tableResultSettingsMap": {},
     "title": ""
    }
   },
   "outputs": [
    {
     "name": "stdout",
     "output_type": "stream",
     "text": [
      "+-----------+---+------+--------+-------------+----------------------------------+-------------------------------------+----------------------------------------------------------------+------------+-----------------+------------------------+--------------+--------------+----------------+-------------+-----+-------------------+---------------+---------+-------------------+\n",
      "|Customer ID|Age|Gender|Location|Annual_Salary|Purchase History                  |Browsing History                     |Product Reviews                                                 |Time_on_Site|Monthly_Income   |Parsed_Browsing_History |Product_Rating|Product_Review|Product_Category|Purchase_Date|Price|Browsing_Timestamp |Purchase_Amount|Age_Group|High_Value_Customer|\n",
      "+-----------+---+------+--------+-------------+----------------------------------+-------------------------------------+----------------------------------------------------------------+------------+-----------------+------------------------+--------------+--------------+----------------+-------------+-----+-------------------+---------------+---------+-------------------+\n",
      "|1002       |32 |Male  |City A  |50000        |{Electronics, 2022-02-15, 250.0}  |{'Timestamp': '2022-05-12 16:15:00'} |\"{\"\"Review Text\"\": \"\"Good product                               |0.0         |4166.666666666667|[{2022-05-12 16:15:00}] |0.0           |              |Electronics     |2022-02-15   |250.0|2022-05-12 16:15:00|250.0          |25-35    |No                 |\n",
      "|1012       |65 |Female|City L  |95000        |{Home & Garden, 2022-12-25, 170.0}|{'Timestamp': '2023-02-06 13:15:00'} |\"{\"\"Review Text\"\": \"\"Excellent product                          |0.0         |7916.666666666667|[{2023-02-06 13:15:00}] |0.0           |              |Home & Garden   |2022-12-25   |170.0|2023-02-06 13:15:00|170.0          |51+      |Yes                |\n",
      "|1001       |45 |Female|City D  |70000        |{Electronics, 2022-08-15, 200.5}  |{'Timestamp': '2022-09-03 14:30:00'} |\"{\"\"Product 1\"\": {\"\"Rating\"\": 4                                 |0.0         |5833.333333333333|[{2022-09-03 14:30:00}] |0.0           |              |Electronics     |2022-08-15   |200.5|2022-09-03 14:30:00|200.5          |36-50    |No                 |\n",
      "|1004       |52 |Male  |City G  |70000        |{Electronics, 2022-05-08, 200.0}  |{'Timestamp': '2022-05-22T10:30:00Z'}|The vacuum cleaner works great. 4 stars.                        |350.0       |5833.333333333333|[{2022-05-22T10:30:00Z}]|0.0           |              |Electronics     |2022-05-08   |200.0|2022-05-22 10:30:00|200.0          |51+      |No                 |\n",
      "|1011       |36 |Female|City N  |55000        |{Clothing, 2022-05-27, 80.0}      |{'Timestamp': '2022-06-13T13:00:00Z'}|The skirt is lovely. 4.5 stars.                                 |200.0       |4583.333333333333|[{2022-06-13T13:00:00Z}]|0.0           |              |Clothing        |2022-05-27   |80.0 |2022-06-13 13:00:00|80.0           |36-50    |No                 |\n",
      "|1003       |28 |Female|City F  |60000        |{Clothing, 2022-05-28, 75.0}      |{'Timestamp': '2022-06-01T09:15:00Z'}|The dress fits perfectly. I love it. 5 stars!                   |250.0       |5000.0           |[{2022-06-01T09:15:00Z}]|0.0           |              |Clothing        |2022-05-28   |75.0 |2022-06-01 09:15:00|75.0           |25-35    |No                 |\n",
      "|1004       |29 |Female|City G  |60000        |{Electronics, 2022-07-20, 150.8}  |{'Timestamp': '2022-08-15 13:20:00'} |\"{\"\"Product 1\"\": {\"\"Rating\"\": 4                                 |0.0         |5000.0           |[{2022-08-15 13:20:00}] |0.0           |              |Electronics     |2022-07-20   |150.8|2022-08-15 13:20:00|150.8          |25-35    |No                 |\n",
      "|1007       |60 |Female|City J  |65000        |{Clothing, 2022-05-25, 100.0}     |{'Timestamp': '2022-06-15T11:30:00Z'}|The shirt is comfortable. 4 stars.                              |300.0       |5416.666666666667|[{2022-06-15T11:30:00Z}]|0.0           |              |Clothing        |2022-05-25   |100.0|2022-06-15 11:30:00|100.0          |51+      |No                 |\n",
      "|1005       |42 |Male  |City H  |75000        |{Electronics, 2022-08-28, 250.6}  |{'Timestamp': '2022-09-12 16:35:00'} |\"{\"\"Product 1\"\": {\"\"Rating\"\": 3                                 |0.0         |6250.0           |[{2022-09-12 16:35:00}] |0.0           |              |Electronics     |2022-08-28   |250.6|2022-09-12 16:35:00|250.6          |36-50    |No                 |\n",
      "|1008       |55 |Male  |City K  |85000        |{Electronics, 2022-05-20, 300.0}  |{'Timestamp': '2022-05-28T15:15:00Z'}|The laptop is excellent. 5 stars!                               |450.0       |7083.333333333333|[{2022-05-28T15:15:00Z}]|0.0           |              |Electronics     |2022-05-20   |300.0|2022-05-28 15:15:00|300.0          |51+      |Yes                |\n",
      "|1008       |48 |Male  |City K  |80000        |{Electronics, 2022-09-08, 350.2}  |{'Timestamp': '2022-06-30 11:15:00'} |\"{\"\"Product 1\"\": {\"\"Rating\"\": 3                                 |0.0         |6666.666666666667|[{2022-06-30 11:15:00}] |0.0           |              |Electronics     |2022-09-08   |350.2|2022-06-30 11:15:00|350.2          |36-50    |Yes                |\n",
      "|1009       |35 |Male  |City I  |55000        |{Home & Garden, 2022-09-20, 200.0}|{'Timestamp': '2022-12-06 12:00:00'} |\"{\"\"Review Text\"\": \"\"Satisfied with my purchase!\"\"              |0.0         |4583.333333333333|[{2022-12-06 12:00:00}] |0.0           |              |Home & Garden   |2022-09-20   |200.0|2022-12-06 12:00:00|200.0          |25-35    |No                 |\n",
      "|1001       |45 |Female|City D  |75000        |{Clothing, 2022-03-05, 45.99}     |{'Timestamp': '2022-03-06 14:30:00'} |\"{\"\"Review Text\"\": \"\"Great quality clothes!\"\"                   |0.0         |6250.0           |[{2022-03-06 14:30:00}] |0.0           |              |Clothing        |2022-03-05   |45.99|2022-03-06 14:30:00|45.99          |36-50    |No                 |\n",
      "|1003       |60 |Other |City B  |80000        |{Home & Garden, 2022-01-18, 180.0}|{'Timestamp': '2022-06-03 10:45:00'} |\"{\"\"Review Text\"\": \"\"Very satisfied with my purchase!\"\"         |0.0         |6666.666666666667|[{2022-06-03 10:45:00}] |0.0           |              |Home & Garden   |2022-01-18   |180.0|2022-06-03 10:45:00|180.0          |51+      |Yes                |\n",
      "|1010       |58 |Male  |City M  |75000        |{Electronics, 2022-05-12, 250.0}  |{'Timestamp': '2022-05-29T10:30:00Z'}|The coffee maker is great. 5 stars!                             |350.0       |6250.0           |[{2022-05-29T10:30:00Z}]|0.0           |              |Electronics     |2022-05-12   |250.0|2022-05-29 10:30:00|250.0          |51+      |No                 |\n",
      "|1006       |38 |Female|City F  |65000        |{Home & Garden, 2022-06-15, 220.0}|{'Timestamp': '2022-09-02 11:15:00'} |\"{\"\"Review Text\"\": \"\"Awesome purchase!\"\"                        |0.0         |5416.666666666667|[{2022-09-02 11:15:00}] |0.0           |              |Home & Garden   |2022-06-15   |220.0|2022-09-02 11:15:00|220.0          |36-50    |No                 |\n",
      "|1002       |45 |Male  |City E  |80000        |{Electronics, 2022-06-12, 350.0}  |{'Timestamp': '2022-05-25T17:45:00Z'}|The headphones are great. Sound quality is excellent. 4.5 stars.|300.0       |6666.666666666667|[{2022-05-25T17:45:00Z}]|0.0           |              |Electronics     |2022-06-12   |350.0|2022-05-25 17:45:00|350.0          |36-50    |Yes                |\n",
      "|1006       |48 |Male  |City I  |90000        |{Electronics, 2022-05-23, 400.0}  |{'Timestamp': '2022-06-06T08:00:00Z'}|The phone is fantastic. 5 stars!                                |400.0       |7500.0           |[{2022-06-06T08:00:00Z}]|0.0           |              |Electronics     |2022-05-23   |400.0|2022-06-06 08:00:00|400.0          |36-50    |Yes                |\n",
      "|1010       |48 |Female|City J  |75000        |{Clothing, 2022-10-15, 34.99}     |{'Timestamp': '2022-12-21 15:30:00'} |\"{\"\"Review Text\"\": \"\"Excellent product                          |0.0         |6250.0           |[{2022-12-21 15:30:00}] |0.0           |              |Clothing        |2022-10-15   |34.99|2022-12-21 15:30:00|34.99          |36-50    |No                 |\n",
      "|1001       |35 |Female|City D  |50000        |{Clothing, 2022-05-15, 120.0}     |{'Timestamp': '2022-04-20T14:30:00Z'}|The blouse is so comfortable and stylish. 5 stars!              |120.0       |4166.666666666667|[{2022-04-20T14:30:00Z}]|0.0           |              |Clothing        |2022-05-15   |120.0|2022-04-20 14:30:00|120.0          |25-35    |No                 |\n",
      "+-----------+---+------+--------+-------------+----------------------------------+-------------------------------------+----------------------------------------------------------------+------------+-----------------+------------------------+--------------+--------------+----------------+-------------+-----+-------------------+---------------+---------+-------------------+\n",
      "only showing top 20 rows\n",
      "\n"
     ]
    }
   ],
   "source": [
    "df_cleaned_final.show(truncate=False)\n"
   ]
  },
  {
   "cell_type": "markdown",
   "metadata": {
    "application/vnd.databricks.v1+cell": {
     "cellMetadata": {
      "byteLimit": 2048000,
      "rowLimit": 10000
     },
     "inputWidgets": {},
     "nuid": "fe2fbf5d-ca98-4e6a-86b6-4d5fd8830401",
     "showTitle": false,
     "tableResultSettingsMap": {},
     "title": ""
    }
   },
   "source": [
    "**COUNT NULLS IF ANY**"
   ]
  },
  {
   "cell_type": "code",
   "execution_count": 0,
   "metadata": {
    "application/vnd.databricks.v1+cell": {
     "cellMetadata": {
      "byteLimit": 2048000,
      "rowLimit": 10000
     },
     "inputWidgets": {},
     "nuid": "9b9b0130-5989-4a1e-8d9b-8fadf2c59e3d",
     "showTitle": false,
     "tableResultSettingsMap": {},
     "title": ""
    }
   },
   "outputs": [
    {
     "name": "stdout",
     "output_type": "stream",
     "text": [
      "+-----------+---+------+--------+-------------+----------------+----------------+---------------+------------+--------------+-----------------------+--------------+--------------+----------------+-------------+-----+------------------+---------------+---------+-------------------+\n",
      "|Customer ID|Age|Gender|Location|Annual_Salary|Purchase History|Browsing History|Product Reviews|Time_on_Site|Monthly_Income|Parsed_Browsing_History|Product_Rating|Product_Review|Product_Category|Purchase_Date|Price|Browsing_Timestamp|Purchase_Amount|Age_Group|High_Value_Customer|\n",
      "+-----------+---+------+--------+-------------+----------------+----------------+---------------+------------+--------------+-----------------------+--------------+--------------+----------------+-------------+-----+------------------+---------------+---------+-------------------+\n",
      "|          0|  0|     0|       0|            0|               0|               0|              0|           0|             0|                      0|             0|             0|               0|            0|    0|                 0|              0|        0|                  0|\n",
      "+-----------+---+------+--------+-------------+----------------+----------------+---------------+------------+--------------+-----------------------+--------------+--------------+----------------+-------------+-----+------------------+---------------+---------+-------------------+\n",
      "\n"
     ]
    }
   ],
   "source": [
    "from pyspark.sql.functions import col, sum\n",
    "\n",
    "df_cleaned_final.select([(sum(col(c).isNull().cast(\"int\")).alias(c)) for c in df_cleaned_final.columns]).show()\n"
   ]
  },
  {
   "cell_type": "code",
   "execution_count": 0,
   "metadata": {
    "application/vnd.databricks.v1+cell": {
     "cellMetadata": {
      "byteLimit": 2048000,
      "rowLimit": 10000
     },
     "inputWidgets": {},
     "nuid": "744aeec1-7efe-4a24-8a33-89037b3aaecd",
     "showTitle": false,
     "tableResultSettingsMap": {},
     "title": ""
    }
   },
   "outputs": [
    {
     "name": "stdout",
     "output_type": "stream",
     "text": [
      "+-------------+-------------------+\n",
      "|Purchase_Date|Browsing_Timestamp |\n",
      "+-------------+-------------------+\n",
      "|2022-02-15   |2022-05-12 16:15:00|\n",
      "|2022-12-25   |2023-02-06 13:15:00|\n",
      "|2022-08-15   |2022-09-03 14:30:00|\n",
      "|2022-05-08   |2022-05-22 10:30:00|\n",
      "|2022-05-28   |2022-06-01 09:15:00|\n",
      "|2022-07-20   |2022-08-15 13:20:00|\n",
      "|2022-08-28   |2022-09-12 16:35:00|\n",
      "|2022-09-08   |2022-06-30 11:15:00|\n",
      "|2022-09-20   |2022-12-06 12:00:00|\n",
      "|2022-03-05   |2022-03-06 14:30:00|\n",
      "|2022-01-18   |2022-06-03 10:45:00|\n",
      "|2022-06-15   |2022-09-02 11:15:00|\n",
      "|2022-06-12   |2022-05-25 17:45:00|\n",
      "|2022-10-15   |2022-12-21 15:30:00|\n",
      "|2022-05-15   |2022-04-20 14:30:00|\n",
      "|2022-09-05   |2022-06-28 09:00:00|\n",
      "|2022-08-08   |2022-11-02 10:30:00|\n",
      "|2022-07-22   |2022-10-07 14:45:00|\n",
      "|2022-05-20   |2022-08-04 09:30:00|\n",
      "|2022-07-27   |2022-08-17 14:50:00|\n",
      "+-------------+-------------------+\n",
      "only showing top 20 rows\n",
      "\n"
     ]
    }
   ],
   "source": [
    "df_cleaned_final.select(\"Purchase_Date\", \"Browsing_Timestamp\").show(truncate=False)\n"
   ]
  },
  {
   "cell_type": "markdown",
   "metadata": {
    "application/vnd.databricks.v1+cell": {
     "cellMetadata": {
      "byteLimit": 2048000,
      "rowLimit": 10000
     },
     "inputWidgets": {},
     "nuid": "483bde60-ed4c-495b-8ab9-0f534d50c8e0",
     "showTitle": false,
     "tableResultSettingsMap": {},
     "title": ""
    }
   },
   "source": [
    "**VIEW CLEANED DATA**"
   ]
  },
  {
   "cell_type": "code",
   "execution_count": 0,
   "metadata": {
    "application/vnd.databricks.v1+cell": {
     "cellMetadata": {
      "byteLimit": 2048000,
      "rowLimit": 10000
     },
     "inputWidgets": {},
     "nuid": "c320d0d3-9a2d-42ef-8568-ef62fff48186",
     "showTitle": false,
     "tableResultSettingsMap": {},
     "title": ""
    }
   },
   "outputs": [
    {
     "name": "stdout",
     "output_type": "stream",
     "text": [
      "+------+-----+\n",
      "|Gender|count|\n",
      "+------+-----+\n",
      "|Female|   13|\n",
      "| Other|    3|\n",
      "|  Male|   12|\n",
      "+------+-----+\n",
      "\n",
      "+--------+-----+\n",
      "|Location|count|\n",
      "+--------+-----+\n",
      "|  City A|    1|\n",
      "|  City E|    2|\n",
      "|  City J|    3|\n",
      "|  City P|    1|\n",
      "|  City O|    1|\n",
      "|  City I|    3|\n",
      "|  City H|    2|\n",
      "|  City K|    2|\n",
      "|  City M|    1|\n",
      "|  City L|    1|\n",
      "|  City B|    1|\n",
      "|  City D|    3|\n",
      "|  City N|    1|\n",
      "|  City G|    3|\n",
      "|  City F|    3|\n",
      "+--------+-----+\n",
      "\n",
      "+----------------+-----+\n",
      "|Product_Category|count|\n",
      "+----------------+-----+\n",
      "|     Electronics|   16|\n",
      "|        Clothing|    8|\n",
      "|   Home & Garden|    4|\n",
      "+----------------+-----+\n",
      "\n"
     ]
    }
   ],
   "source": [
    "df_cleaned_final.groupBy(\"Gender\").count().show()\n",
    "df_cleaned_final.groupBy(\"Location\").count().show()\n",
    "df_cleaned_final.groupBy(\"Product_Category\").count().show()\n"
   ]
  },
  {
   "cell_type": "code",
   "execution_count": 0,
   "metadata": {
    "application/vnd.databricks.v1+cell": {
     "cellMetadata": {
      "byteLimit": 2048000,
      "rowLimit": 10000
     },
     "inputWidgets": {},
     "nuid": "fd7a687d-0e85-4b7c-b2a0-7de14d3b5275",
     "showTitle": false,
     "tableResultSettingsMap": {},
     "title": ""
    }
   },
   "outputs": [
    {
     "name": "stdout",
     "output_type": "stream",
     "text": [
      "+-------+------------------+-----------------+------+--------+-----------------+--------------------+--------------------+------------------+------------------+--------------+--------------+----------------+------------------+------------------+---------+-------------------+\n",
      "|summary|       Customer ID|              Age|Gender|Location|    Annual_Salary|    Browsing History|     Product Reviews|      Time_on_Site|    Monthly_Income|Product_Rating|Product_Review|Product_Category|             Price|   Purchase_Amount|Age_Group|High_Value_Customer|\n",
      "+-------+------------------+-----------------+------+--------+-----------------+--------------------+--------------------+------------------+------------------+--------------+--------------+----------------+------------------+------------------+---------+-------------------+\n",
      "|  count|                28|               28|    28|      28|               28|                  28|                  28|                28|                28|            28|            28|              28|                28|                28|       28|                 28|\n",
      "|   mean|1006.2142857142857|45.92857142857143|  null|    null|73142.85714285714|                null|                null|116.78571428571429| 6095.238095238096|           0.0|          null|            null|228.91678687504358|228.91678687504358|     null|               null|\n",
      "| stddev|  3.57312129197928|9.869251055785153|  null|    null| 13577.5257815703|                null|                null|158.11513787552673|1131.4604817975257|           0.0|          null|            null|145.85951090782052|145.85951090782052|     null|               null|\n",
      "|    min|              1001|               28|Female|  City A|            50000|{'Timestamp': '20...|\"{\"\"Product 1\"\": ...|               0.0| 4166.666666666667|           0.0|              |        Clothing|             34.99|             34.99|    25-35|                 No|\n",
      "|    max|              1013|               65| Other|  City P|            95000|{'Timestamp': '20...|The vacuum cleane...|             450.0| 7916.666666666667|           0.0|              |   Home & Garden|             600.0|             600.0|      51+|                Yes|\n",
      "+-------+------------------+-----------------+------+--------+-----------------+--------------------+--------------------+------------------+------------------+--------------+--------------+----------------+------------------+------------------+---------+-------------------+\n",
      "\n"
     ]
    }
   ],
   "source": [
    "df_cleaned_final.describe().show()\n"
   ]
  },
  {
   "cell_type": "markdown",
   "metadata": {
    "application/vnd.databricks.v1+cell": {
     "cellMetadata": {
      "byteLimit": 2048000,
      "rowLimit": 10000
     },
     "inputWidgets": {},
     "nuid": "13c9fd37-4156-4cdc-aeb4-dc48c089a2ee",
     "showTitle": false,
     "tableResultSettingsMap": {},
     "title": ""
    }
   },
   "source": [
    "COMPARISON OF ORIGINAL AND CLEANED ![Image Comparison](/files/cleaned_ecommerce_data_consolidated.csv/E_commerce_dataset_image.jpg)"
   ]
  },
  {
   "cell_type": "code",
   "execution_count": 0,
   "metadata": {
    "application/vnd.databricks.v1+cell": {
     "cellMetadata": {
      "byteLimit": 2048000,
      "rowLimit": 10000
     },
     "inputWidgets": {},
     "nuid": "6fdebddf-cafc-44ab-b7a4-68aeaf0441cf",
     "showTitle": false,
     "tableResultSettingsMap": {},
     "title": ""
    }
   },
   "outputs": [
    {
     "name": "stdout",
     "output_type": "stream",
     "text": [
      "Original Row Count: 50\n",
      "Cleaned Row Count: 28\n"
     ]
    }
   ],
   "source": [
    "print(f\"Original Row Count: {ecommerce_df.count()}\")\n",
    "print(f\"Cleaned Row Count: {df_cleaned_final.count()}\")\n"
   ]
  },
  {
   "cell_type": "code",
   "execution_count": 0,
   "metadata": {
    "application/vnd.databricks.v1+cell": {
     "cellMetadata": {
      "byteLimit": 2048000,
      "rowLimit": 10000
     },
     "inputWidgets": {},
     "nuid": "15c596ec-fdf7-4ad0-98a1-839c60ab3ce9",
     "showTitle": false,
     "tableResultSettingsMap": {},
     "title": ""
    }
   },
   "outputs": [],
   "source": [
    "from pyspark.sql.functions import col\n",
    "\n",
    "df_cleaned_final = df_cleaned_final.withColumn(\"Purchase_Category\", col(\"Purchase History.Product Category\")) \\\n",
    "                                   .withColumn(\"Purchase_Date\", col(\"Purchase History.Purchase Date\")) \\\n",
    "                                   .withColumn(\"Purchase_Price\", col(\"Purchase History.Price\")) \\\n",
    "                                   .drop(\"Purchase History\")\n"
   ]
  },
  {
   "cell_type": "code",
   "execution_count": 0,
   "metadata": {
    "application/vnd.databricks.v1+cell": {
     "cellMetadata": {
      "byteLimit": 2048000,
      "rowLimit": 10000
     },
     "inputWidgets": {},
     "nuid": "5cde3e47-2cfe-4041-be4f-279ae19e3675",
     "showTitle": false,
     "tableResultSettingsMap": {},
     "title": ""
    }
   },
   "outputs": [
    {
     "name": "stdout",
     "output_type": "stream",
     "text": [
      "root\n",
      " |-- Customer ID: integer (nullable = true)\n",
      " |-- Age: integer (nullable = false)\n",
      " |-- Gender: string (nullable = false)\n",
      " |-- Location: string (nullable = false)\n",
      " |-- Annual_Salary: integer (nullable = false)\n",
      " |-- Browsing History: string (nullable = true)\n",
      " |-- Product Reviews: string (nullable = true)\n",
      " |-- Time_on_Site: float (nullable = false)\n",
      " |-- Monthly_Income: double (nullable = false)\n",
      " |-- Parsed_Browsing_History: array (nullable = true)\n",
      " |    |-- element: struct (containsNull = true)\n",
      " |    |    |-- Timestamp: string (nullable = true)\n",
      " |-- Product_Rating: float (nullable = false)\n",
      " |-- Product_Review: string (nullable = false)\n",
      " |-- Product_Category: string (nullable = false)\n",
      " |-- Purchase_Date: string (nullable = true)\n",
      " |-- Price: float (nullable = false)\n",
      " |-- Browsing_Timestamp: timestamp (nullable = true)\n",
      " |-- Purchase_Amount: float (nullable = true)\n",
      " |-- Age_Group: string (nullable = false)\n",
      " |-- High_Value_Customer: string (nullable = false)\n",
      " |-- Purchase_Category: string (nullable = true)\n",
      " |-- Purchase_Price: float (nullable = true)\n",
      "\n",
      "+-----------+---+------+--------+-------------+-------------------------------------+----------------------------------------------------------------+------------+-----------------+------------------------+--------------+--------------+----------------+-------------+-----+-------------------+---------------+---------+-------------------+-----------------+--------------+\n",
      "|Customer ID|Age|Gender|Location|Annual_Salary|Browsing History                     |Product Reviews                                                 |Time_on_Site|Monthly_Income   |Parsed_Browsing_History |Product_Rating|Product_Review|Product_Category|Purchase_Date|Price|Browsing_Timestamp |Purchase_Amount|Age_Group|High_Value_Customer|Purchase_Category|Purchase_Price|\n",
      "+-----------+---+------+--------+-------------+-------------------------------------+----------------------------------------------------------------+------------+-----------------+------------------------+--------------+--------------+----------------+-------------+-----+-------------------+---------------+---------+-------------------+-----------------+--------------+\n",
      "|1002       |32 |Male  |City A  |50000        |{'Timestamp': '2022-05-12 16:15:00'} |\"{\"\"Review Text\"\": \"\"Good product                               |0.0         |4166.666666666667|[{2022-05-12 16:15:00}] |0.0           |              |Electronics     |2022-02-15   |250.0|2022-05-12 16:15:00|250.0          |25-35    |No                 |Electronics      |250.0         |\n",
      "|1012       |65 |Female|City L  |95000        |{'Timestamp': '2023-02-06 13:15:00'} |\"{\"\"Review Text\"\": \"\"Excellent product                          |0.0         |7916.666666666667|[{2023-02-06 13:15:00}] |0.0           |              |Home & Garden   |2022-12-25   |170.0|2023-02-06 13:15:00|170.0          |51+      |Yes                |Home & Garden    |170.0         |\n",
      "|1001       |45 |Female|City D  |70000        |{'Timestamp': '2022-09-03 14:30:00'} |\"{\"\"Product 1\"\": {\"\"Rating\"\": 4                                 |0.0         |5833.333333333333|[{2022-09-03 14:30:00}] |0.0           |              |Electronics     |2022-08-15   |200.5|2022-09-03 14:30:00|200.5          |36-50    |No                 |Electronics      |200.5         |\n",
      "|1004       |52 |Male  |City G  |70000        |{'Timestamp': '2022-05-22T10:30:00Z'}|The vacuum cleaner works great. 4 stars.                        |350.0       |5833.333333333333|[{2022-05-22T10:30:00Z}]|0.0           |              |Electronics     |2022-05-08   |200.0|2022-05-22 10:30:00|200.0          |51+      |No                 |Electronics      |200.0         |\n",
      "|1011       |36 |Female|City N  |55000        |{'Timestamp': '2022-06-13T13:00:00Z'}|The skirt is lovely. 4.5 stars.                                 |200.0       |4583.333333333333|[{2022-06-13T13:00:00Z}]|0.0           |              |Clothing        |2022-05-27   |80.0 |2022-06-13 13:00:00|80.0           |36-50    |No                 |Clothing         |80.0          |\n",
      "|1003       |28 |Female|City F  |60000        |{'Timestamp': '2022-06-01T09:15:00Z'}|The dress fits perfectly. I love it. 5 stars!                   |250.0       |5000.0           |[{2022-06-01T09:15:00Z}]|0.0           |              |Clothing        |2022-05-28   |75.0 |2022-06-01 09:15:00|75.0           |25-35    |No                 |Clothing         |75.0          |\n",
      "|1004       |29 |Female|City G  |60000        |{'Timestamp': '2022-08-15 13:20:00'} |\"{\"\"Product 1\"\": {\"\"Rating\"\": 4                                 |0.0         |5000.0           |[{2022-08-15 13:20:00}] |0.0           |              |Electronics     |2022-07-20   |150.8|2022-08-15 13:20:00|150.8          |25-35    |No                 |Electronics      |150.8         |\n",
      "|1007       |60 |Female|City J  |65000        |{'Timestamp': '2022-06-15T11:30:00Z'}|The shirt is comfortable. 4 stars.                              |300.0       |5416.666666666667|[{2022-06-15T11:30:00Z}]|0.0           |              |Clothing        |2022-05-25   |100.0|2022-06-15 11:30:00|100.0          |51+      |No                 |Clothing         |100.0         |\n",
      "|1005       |42 |Male  |City H  |75000        |{'Timestamp': '2022-09-12 16:35:00'} |\"{\"\"Product 1\"\": {\"\"Rating\"\": 3                                 |0.0         |6250.0           |[{2022-09-12 16:35:00}] |0.0           |              |Electronics     |2022-08-28   |250.6|2022-09-12 16:35:00|250.6          |36-50    |No                 |Electronics      |250.6         |\n",
      "|1008       |55 |Male  |City K  |85000        |{'Timestamp': '2022-05-28T15:15:00Z'}|The laptop is excellent. 5 stars!                               |450.0       |7083.333333333333|[{2022-05-28T15:15:00Z}]|0.0           |              |Electronics     |2022-05-20   |300.0|2022-05-28 15:15:00|300.0          |51+      |Yes                |Electronics      |300.0         |\n",
      "|1008       |48 |Male  |City K  |80000        |{'Timestamp': '2022-06-30 11:15:00'} |\"{\"\"Product 1\"\": {\"\"Rating\"\": 3                                 |0.0         |6666.666666666667|[{2022-06-30 11:15:00}] |0.0           |              |Electronics     |2022-09-08   |350.2|2022-06-30 11:15:00|350.2          |36-50    |Yes                |Electronics      |350.2         |\n",
      "|1009       |35 |Male  |City I  |55000        |{'Timestamp': '2022-12-06 12:00:00'} |\"{\"\"Review Text\"\": \"\"Satisfied with my purchase!\"\"              |0.0         |4583.333333333333|[{2022-12-06 12:00:00}] |0.0           |              |Home & Garden   |2022-09-20   |200.0|2022-12-06 12:00:00|200.0          |25-35    |No                 |Home & Garden    |200.0         |\n",
      "|1001       |45 |Female|City D  |75000        |{'Timestamp': '2022-03-06 14:30:00'} |\"{\"\"Review Text\"\": \"\"Great quality clothes!\"\"                   |0.0         |6250.0           |[{2022-03-06 14:30:00}] |0.0           |              |Clothing        |2022-03-05   |45.99|2022-03-06 14:30:00|45.99          |36-50    |No                 |Clothing         |45.99         |\n",
      "|1003       |60 |Other |City B  |80000        |{'Timestamp': '2022-06-03 10:45:00'} |\"{\"\"Review Text\"\": \"\"Very satisfied with my purchase!\"\"         |0.0         |6666.666666666667|[{2022-06-03 10:45:00}] |0.0           |              |Home & Garden   |2022-01-18   |180.0|2022-06-03 10:45:00|180.0          |51+      |Yes                |Home & Garden    |180.0         |\n",
      "|1010       |58 |Male  |City M  |75000        |{'Timestamp': '2022-05-29T10:30:00Z'}|The coffee maker is great. 5 stars!                             |350.0       |6250.0           |[{2022-05-29T10:30:00Z}]|0.0           |              |Electronics     |2022-05-12   |250.0|2022-05-29 10:30:00|250.0          |51+      |No                 |Electronics      |250.0         |\n",
      "|1006       |38 |Female|City F  |65000        |{'Timestamp': '2022-09-02 11:15:00'} |\"{\"\"Review Text\"\": \"\"Awesome purchase!\"\"                        |0.0         |5416.666666666667|[{2022-09-02 11:15:00}] |0.0           |              |Home & Garden   |2022-06-15   |220.0|2022-09-02 11:15:00|220.0          |36-50    |No                 |Home & Garden    |220.0         |\n",
      "|1002       |45 |Male  |City E  |80000        |{'Timestamp': '2022-05-25T17:45:00Z'}|The headphones are great. Sound quality is excellent. 4.5 stars.|300.0       |6666.666666666667|[{2022-05-25T17:45:00Z}]|0.0           |              |Electronics     |2022-06-12   |350.0|2022-05-25 17:45:00|350.0          |36-50    |Yes                |Electronics      |350.0         |\n",
      "|1006       |48 |Male  |City I  |90000        |{'Timestamp': '2022-06-06T08:00:00Z'}|The phone is fantastic. 5 stars!                                |400.0       |7500.0           |[{2022-06-06T08:00:00Z}]|0.0           |              |Electronics     |2022-05-23   |400.0|2022-06-06 08:00:00|400.0          |36-50    |Yes                |Electronics      |400.0         |\n",
      "|1010       |48 |Female|City J  |75000        |{'Timestamp': '2022-12-21 15:30:00'} |\"{\"\"Review Text\"\": \"\"Excellent product                          |0.0         |6250.0           |[{2022-12-21 15:30:00}] |0.0           |              |Clothing        |2022-10-15   |34.99|2022-12-21 15:30:00|34.99          |36-50    |No                 |Clothing         |34.99         |\n",
      "|1001       |35 |Female|City D  |50000        |{'Timestamp': '2022-04-20T14:30:00Z'}|The blouse is so comfortable and stylish. 5 stars!              |120.0       |4166.666666666667|[{2022-04-20T14:30:00Z}]|0.0           |              |Clothing        |2022-05-15   |120.0|2022-04-20 14:30:00|120.0          |25-35    |No                 |Clothing         |120.0         |\n",
      "+-----------+---+------+--------+-------------+-------------------------------------+----------------------------------------------------------------+------------+-----------------+------------------------+--------------+--------------+----------------+-------------+-----+-------------------+---------------+---------+-------------------+-----------------+--------------+\n",
      "only showing top 20 rows\n",
      "\n"
     ]
    }
   ],
   "source": [
    "df_cleaned_final.printSchema()\n",
    "df_cleaned_final.show(truncate=False)\n"
   ]
  },
  {
   "cell_type": "code",
   "execution_count": 0,
   "metadata": {
    "application/vnd.databricks.v1+cell": {
     "cellMetadata": {
      "byteLimit": 2048000,
      "rowLimit": 10000
     },
     "inputWidgets": {},
     "nuid": "17a6f700-f85f-42b6-a191-08de3e5d573c",
     "showTitle": false,
     "tableResultSettingsMap": {},
     "title": ""
    }
   },
   "outputs": [
    {
     "data": {
      "text/plain": [
       "\u001b[0;31m---------------------------------------------------------------------------\u001b[0m\n",
       "\u001b[0;31mAnalysisException\u001b[0m                         Traceback (most recent call last)\n",
       "File \u001b[0;32m<command-2690981598672139>:2\u001b[0m\n",
       "\u001b[1;32m      1\u001b[0m output_path \u001b[38;5;241m=\u001b[39m \u001b[38;5;124m\"\u001b[39m\u001b[38;5;124m/dbfs/mnt/data/cleaned_ecommerce_data.csv\u001b[39m\u001b[38;5;124m\"\u001b[39m\n",
       "\u001b[0;32m----> 2\u001b[0m df_cleaned_final\u001b[38;5;241m.\u001b[39mwrite\u001b[38;5;241m.\u001b[39mcsv(output_path, header\u001b[38;5;241m=\u001b[39m\u001b[38;5;28;01mTrue\u001b[39;00m)\n",
       "\n",
       "File \u001b[0;32m/databricks/spark/python/pyspark/instrumentation_utils.py:48\u001b[0m, in \u001b[0;36m_wrap_function.<locals>.wrapper\u001b[0;34m(*args, **kwargs)\u001b[0m\n",
       "\u001b[1;32m     46\u001b[0m start \u001b[38;5;241m=\u001b[39m time\u001b[38;5;241m.\u001b[39mperf_counter()\n",
       "\u001b[1;32m     47\u001b[0m \u001b[38;5;28;01mtry\u001b[39;00m:\n",
       "\u001b[0;32m---> 48\u001b[0m     res \u001b[38;5;241m=\u001b[39m \u001b[43mfunc\u001b[49m\u001b[43m(\u001b[49m\u001b[38;5;241;43m*\u001b[39;49m\u001b[43margs\u001b[49m\u001b[43m,\u001b[49m\u001b[43m \u001b[49m\u001b[38;5;241;43m*\u001b[39;49m\u001b[38;5;241;43m*\u001b[39;49m\u001b[43mkwargs\u001b[49m\u001b[43m)\u001b[49m\n",
       "\u001b[1;32m     49\u001b[0m     logger\u001b[38;5;241m.\u001b[39mlog_success(\n",
       "\u001b[1;32m     50\u001b[0m         module_name, class_name, function_name, time\u001b[38;5;241m.\u001b[39mperf_counter() \u001b[38;5;241m-\u001b[39m start, signature\n",
       "\u001b[1;32m     51\u001b[0m     )\n",
       "\u001b[1;32m     52\u001b[0m     \u001b[38;5;28;01mreturn\u001b[39;00m res\n",
       "\n",
       "File \u001b[0;32m/databricks/spark/python/pyspark/sql/readwriter.py:1798\u001b[0m, in \u001b[0;36mDataFrameWriter.csv\u001b[0;34m(self, path, mode, compression, sep, quote, escape, header, nullValue, escapeQuotes, quoteAll, dateFormat, timestampFormat, ignoreLeadingWhiteSpace, ignoreTrailingWhiteSpace, charToEscapeQuoteEscaping, encoding, emptyValue, lineSep)\u001b[0m\n",
       "\u001b[1;32m   1779\u001b[0m \u001b[38;5;28mself\u001b[39m\u001b[38;5;241m.\u001b[39mmode(mode)\n",
       "\u001b[1;32m   1780\u001b[0m \u001b[38;5;28mself\u001b[39m\u001b[38;5;241m.\u001b[39m_set_opts(\n",
       "\u001b[1;32m   1781\u001b[0m     compression\u001b[38;5;241m=\u001b[39mcompression,\n",
       "\u001b[1;32m   1782\u001b[0m     sep\u001b[38;5;241m=\u001b[39msep,\n",
       "\u001b[0;32m   (...)\u001b[0m\n",
       "\u001b[1;32m   1796\u001b[0m     lineSep\u001b[38;5;241m=\u001b[39mlineSep,\n",
       "\u001b[1;32m   1797\u001b[0m )\n",
       "\u001b[0;32m-> 1798\u001b[0m \u001b[38;5;28;43mself\u001b[39;49m\u001b[38;5;241;43m.\u001b[39;49m\u001b[43m_jwrite\u001b[49m\u001b[38;5;241;43m.\u001b[39;49m\u001b[43mcsv\u001b[49m\u001b[43m(\u001b[49m\u001b[43mpath\u001b[49m\u001b[43m)\u001b[49m\n",
       "\n",
       "File \u001b[0;32m/databricks/spark/python/lib/py4j-0.10.9.5-src.zip/py4j/java_gateway.py:1321\u001b[0m, in \u001b[0;36mJavaMember.__call__\u001b[0;34m(self, *args)\u001b[0m\n",
       "\u001b[1;32m   1315\u001b[0m command \u001b[38;5;241m=\u001b[39m proto\u001b[38;5;241m.\u001b[39mCALL_COMMAND_NAME \u001b[38;5;241m+\u001b[39m\\\n",
       "\u001b[1;32m   1316\u001b[0m     \u001b[38;5;28mself\u001b[39m\u001b[38;5;241m.\u001b[39mcommand_header \u001b[38;5;241m+\u001b[39m\\\n",
       "\u001b[1;32m   1317\u001b[0m     args_command \u001b[38;5;241m+\u001b[39m\\\n",
       "\u001b[1;32m   1318\u001b[0m     proto\u001b[38;5;241m.\u001b[39mEND_COMMAND_PART\n",
       "\u001b[1;32m   1320\u001b[0m answer \u001b[38;5;241m=\u001b[39m \u001b[38;5;28mself\u001b[39m\u001b[38;5;241m.\u001b[39mgateway_client\u001b[38;5;241m.\u001b[39msend_command(command)\n",
       "\u001b[0;32m-> 1321\u001b[0m return_value \u001b[38;5;241m=\u001b[39m \u001b[43mget_return_value\u001b[49m\u001b[43m(\u001b[49m\n",
       "\u001b[1;32m   1322\u001b[0m \u001b[43m    \u001b[49m\u001b[43manswer\u001b[49m\u001b[43m,\u001b[49m\u001b[43m \u001b[49m\u001b[38;5;28;43mself\u001b[39;49m\u001b[38;5;241;43m.\u001b[39;49m\u001b[43mgateway_client\u001b[49m\u001b[43m,\u001b[49m\u001b[43m \u001b[49m\u001b[38;5;28;43mself\u001b[39;49m\u001b[38;5;241;43m.\u001b[39;49m\u001b[43mtarget_id\u001b[49m\u001b[43m,\u001b[49m\u001b[43m \u001b[49m\u001b[38;5;28;43mself\u001b[39;49m\u001b[38;5;241;43m.\u001b[39;49m\u001b[43mname\u001b[49m\u001b[43m)\u001b[49m\n",
       "\u001b[1;32m   1324\u001b[0m \u001b[38;5;28;01mfor\u001b[39;00m temp_arg \u001b[38;5;129;01min\u001b[39;00m temp_args:\n",
       "\u001b[1;32m   1325\u001b[0m     temp_arg\u001b[38;5;241m.\u001b[39m_detach()\n",
       "\n",
       "File \u001b[0;32m/databricks/spark/python/pyspark/errors/exceptions.py:234\u001b[0m, in \u001b[0;36mcapture_sql_exception.<locals>.deco\u001b[0;34m(*a, **kw)\u001b[0m\n",
       "\u001b[1;32m    230\u001b[0m converted \u001b[38;5;241m=\u001b[39m convert_exception(e\u001b[38;5;241m.\u001b[39mjava_exception)\n",
       "\u001b[1;32m    231\u001b[0m \u001b[38;5;28;01mif\u001b[39;00m \u001b[38;5;129;01mnot\u001b[39;00m \u001b[38;5;28misinstance\u001b[39m(converted, UnknownException):\n",
       "\u001b[1;32m    232\u001b[0m     \u001b[38;5;66;03m# Hide where the exception came from that shows a non-Pythonic\u001b[39;00m\n",
       "\u001b[1;32m    233\u001b[0m     \u001b[38;5;66;03m# JVM exception message.\u001b[39;00m\n",
       "\u001b[0;32m--> 234\u001b[0m     \u001b[38;5;28;01mraise\u001b[39;00m converted \u001b[38;5;28;01mfrom\u001b[39;00m \u001b[38;5;28mNone\u001b[39m\n",
       "\u001b[1;32m    235\u001b[0m \u001b[38;5;28;01melse\u001b[39;00m:\n",
       "\u001b[1;32m    236\u001b[0m     \u001b[38;5;28;01mraise\u001b[39;00m\n",
       "\n",
       "\u001b[0;31mAnalysisException\u001b[0m: Path dbfs:/dbfs/mnt/data/cleaned_ecommerce_data.csv already exists."
      ]
     },
     "metadata": {
      "application/vnd.databricks.v1+output": {
       "arguments": {},
       "data": "\u001b[0;31m---------------------------------------------------------------------------\u001b[0m\n\u001b[0;31mAnalysisException\u001b[0m                         Traceback (most recent call last)\nFile \u001b[0;32m<command-2690981598672139>:2\u001b[0m\n\u001b[1;32m      1\u001b[0m output_path \u001b[38;5;241m=\u001b[39m \u001b[38;5;124m\"\u001b[39m\u001b[38;5;124m/dbfs/mnt/data/cleaned_ecommerce_data.csv\u001b[39m\u001b[38;5;124m\"\u001b[39m\n\u001b[0;32m----> 2\u001b[0m df_cleaned_final\u001b[38;5;241m.\u001b[39mwrite\u001b[38;5;241m.\u001b[39mcsv(output_path, header\u001b[38;5;241m=\u001b[39m\u001b[38;5;28;01mTrue\u001b[39;00m)\n\nFile \u001b[0;32m/databricks/spark/python/pyspark/instrumentation_utils.py:48\u001b[0m, in \u001b[0;36m_wrap_function.<locals>.wrapper\u001b[0;34m(*args, **kwargs)\u001b[0m\n\u001b[1;32m     46\u001b[0m start \u001b[38;5;241m=\u001b[39m time\u001b[38;5;241m.\u001b[39mperf_counter()\n\u001b[1;32m     47\u001b[0m \u001b[38;5;28;01mtry\u001b[39;00m:\n\u001b[0;32m---> 48\u001b[0m     res \u001b[38;5;241m=\u001b[39m \u001b[43mfunc\u001b[49m\u001b[43m(\u001b[49m\u001b[38;5;241;43m*\u001b[39;49m\u001b[43margs\u001b[49m\u001b[43m,\u001b[49m\u001b[43m \u001b[49m\u001b[38;5;241;43m*\u001b[39;49m\u001b[38;5;241;43m*\u001b[39;49m\u001b[43mkwargs\u001b[49m\u001b[43m)\u001b[49m\n\u001b[1;32m     49\u001b[0m     logger\u001b[38;5;241m.\u001b[39mlog_success(\n\u001b[1;32m     50\u001b[0m         module_name, class_name, function_name, time\u001b[38;5;241m.\u001b[39mperf_counter() \u001b[38;5;241m-\u001b[39m start, signature\n\u001b[1;32m     51\u001b[0m     )\n\u001b[1;32m     52\u001b[0m     \u001b[38;5;28;01mreturn\u001b[39;00m res\n\nFile \u001b[0;32m/databricks/spark/python/pyspark/sql/readwriter.py:1798\u001b[0m, in \u001b[0;36mDataFrameWriter.csv\u001b[0;34m(self, path, mode, compression, sep, quote, escape, header, nullValue, escapeQuotes, quoteAll, dateFormat, timestampFormat, ignoreLeadingWhiteSpace, ignoreTrailingWhiteSpace, charToEscapeQuoteEscaping, encoding, emptyValue, lineSep)\u001b[0m\n\u001b[1;32m   1779\u001b[0m \u001b[38;5;28mself\u001b[39m\u001b[38;5;241m.\u001b[39mmode(mode)\n\u001b[1;32m   1780\u001b[0m \u001b[38;5;28mself\u001b[39m\u001b[38;5;241m.\u001b[39m_set_opts(\n\u001b[1;32m   1781\u001b[0m     compression\u001b[38;5;241m=\u001b[39mcompression,\n\u001b[1;32m   1782\u001b[0m     sep\u001b[38;5;241m=\u001b[39msep,\n\u001b[0;32m   (...)\u001b[0m\n\u001b[1;32m   1796\u001b[0m     lineSep\u001b[38;5;241m=\u001b[39mlineSep,\n\u001b[1;32m   1797\u001b[0m )\n\u001b[0;32m-> 1798\u001b[0m \u001b[38;5;28;43mself\u001b[39;49m\u001b[38;5;241;43m.\u001b[39;49m\u001b[43m_jwrite\u001b[49m\u001b[38;5;241;43m.\u001b[39;49m\u001b[43mcsv\u001b[49m\u001b[43m(\u001b[49m\u001b[43mpath\u001b[49m\u001b[43m)\u001b[49m\n\nFile \u001b[0;32m/databricks/spark/python/lib/py4j-0.10.9.5-src.zip/py4j/java_gateway.py:1321\u001b[0m, in \u001b[0;36mJavaMember.__call__\u001b[0;34m(self, *args)\u001b[0m\n\u001b[1;32m   1315\u001b[0m command \u001b[38;5;241m=\u001b[39m proto\u001b[38;5;241m.\u001b[39mCALL_COMMAND_NAME \u001b[38;5;241m+\u001b[39m\\\n\u001b[1;32m   1316\u001b[0m     \u001b[38;5;28mself\u001b[39m\u001b[38;5;241m.\u001b[39mcommand_header \u001b[38;5;241m+\u001b[39m\\\n\u001b[1;32m   1317\u001b[0m     args_command \u001b[38;5;241m+\u001b[39m\\\n\u001b[1;32m   1318\u001b[0m     proto\u001b[38;5;241m.\u001b[39mEND_COMMAND_PART\n\u001b[1;32m   1320\u001b[0m answer \u001b[38;5;241m=\u001b[39m \u001b[38;5;28mself\u001b[39m\u001b[38;5;241m.\u001b[39mgateway_client\u001b[38;5;241m.\u001b[39msend_command(command)\n\u001b[0;32m-> 1321\u001b[0m return_value \u001b[38;5;241m=\u001b[39m \u001b[43mget_return_value\u001b[49m\u001b[43m(\u001b[49m\n\u001b[1;32m   1322\u001b[0m \u001b[43m    \u001b[49m\u001b[43manswer\u001b[49m\u001b[43m,\u001b[49m\u001b[43m \u001b[49m\u001b[38;5;28;43mself\u001b[39;49m\u001b[38;5;241;43m.\u001b[39;49m\u001b[43mgateway_client\u001b[49m\u001b[43m,\u001b[49m\u001b[43m \u001b[49m\u001b[38;5;28;43mself\u001b[39;49m\u001b[38;5;241;43m.\u001b[39;49m\u001b[43mtarget_id\u001b[49m\u001b[43m,\u001b[49m\u001b[43m \u001b[49m\u001b[38;5;28;43mself\u001b[39;49m\u001b[38;5;241;43m.\u001b[39;49m\u001b[43mname\u001b[49m\u001b[43m)\u001b[49m\n\u001b[1;32m   1324\u001b[0m \u001b[38;5;28;01mfor\u001b[39;00m temp_arg \u001b[38;5;129;01min\u001b[39;00m temp_args:\n\u001b[1;32m   1325\u001b[0m     temp_arg\u001b[38;5;241m.\u001b[39m_detach()\n\nFile \u001b[0;32m/databricks/spark/python/pyspark/errors/exceptions.py:234\u001b[0m, in \u001b[0;36mcapture_sql_exception.<locals>.deco\u001b[0;34m(*a, **kw)\u001b[0m\n\u001b[1;32m    230\u001b[0m converted \u001b[38;5;241m=\u001b[39m convert_exception(e\u001b[38;5;241m.\u001b[39mjava_exception)\n\u001b[1;32m    231\u001b[0m \u001b[38;5;28;01mif\u001b[39;00m \u001b[38;5;129;01mnot\u001b[39;00m \u001b[38;5;28misinstance\u001b[39m(converted, UnknownException):\n\u001b[1;32m    232\u001b[0m     \u001b[38;5;66;03m# Hide where the exception came from that shows a non-Pythonic\u001b[39;00m\n\u001b[1;32m    233\u001b[0m     \u001b[38;5;66;03m# JVM exception message.\u001b[39;00m\n\u001b[0;32m--> 234\u001b[0m     \u001b[38;5;28;01mraise\u001b[39;00m converted \u001b[38;5;28;01mfrom\u001b[39;00m \u001b[38;5;28mNone\u001b[39m\n\u001b[1;32m    235\u001b[0m \u001b[38;5;28;01melse\u001b[39;00m:\n\u001b[1;32m    236\u001b[0m     \u001b[38;5;28;01mraise\u001b[39;00m\n\n\u001b[0;31mAnalysisException\u001b[0m: Path dbfs:/dbfs/mnt/data/cleaned_ecommerce_data.csv already exists.",
       "errorSummary": "<span class='ansi-red-fg'>AnalysisException</span>: Path dbfs:/dbfs/mnt/data/cleaned_ecommerce_data.csv already exists.",
       "errorTraceType": "ansi",
       "metadata": {},
       "type": "ipynbError"
      }
     },
     "output_type": "display_data"
    }
   ],
   "source": [
    "output_path = \"/dbfs/mnt/data/cleaned_ecommerce_data.csv\"\n",
    "df_cleaned_final.write.csv(output_path, header=True)\n"
   ]
  },
  {
   "cell_type": "code",
   "execution_count": 0,
   "metadata": {
    "application/vnd.databricks.v1+cell": {
     "cellMetadata": {
      "byteLimit": 2048000,
      "rowLimit": 10000
     },
     "inputWidgets": {},
     "nuid": "4493998e-3516-4194-b7bd-c6c240206b1b",
     "showTitle": false,
     "tableResultSettingsMap": {},
     "title": ""
    }
   },
   "outputs": [
    {
     "name": "stdout",
     "output_type": "stream",
     "text": [
      "Out[64]: [FileInfo(path='dbfs:/mnt/storage/cleaned_ecommerce_data.csv/', name='cleaned_ecommerce_data.csv/', size=0, modificationTime=0),\n",
      " FileInfo(path='dbfs:/mnt/storage/student_lifestyle_dataset.csv', name='student_lifestyle_dataset.csv', size=71205, modificationTime=1735817986000)]"
     ]
    }
   ],
   "source": [
    "dbutils.fs.ls(\"dbfs:/mnt/storage\")\n"
   ]
  },
  {
   "cell_type": "markdown",
   "metadata": {
    "application/vnd.databricks.v1+cell": {
     "cellMetadata": {},
     "inputWidgets": {},
     "nuid": "9633f8a3-b5f9-4b36-816b-28c615953124",
     "showTitle": false,
     "tableResultSettingsMap": {},
     "title": ""
    }
   },
   "source": [
    "**ADDING FILE TO CSV PATH **"
   ]
  },
  {
   "cell_type": "code",
   "execution_count": 0,
   "metadata": {
    "application/vnd.databricks.v1+cell": {
     "cellMetadata": {
      "byteLimit": 2048000,
      "rowLimit": 10000
     },
     "inputWidgets": {},
     "nuid": "cbc67875-32de-444c-ba25-c9bda19dfbaa",
     "showTitle": false,
     "tableResultSettingsMap": {},
     "title": ""
    }
   },
   "outputs": [],
   "source": [
    "from pyspark.sql.functions import col, concat_ws\n",
    "\n",
    "# Flatten the array of structs by concatenating the timestamp\n",
    "df_cleaned_final = df_cleaned_final.withColumn(\n",
    "    \"Parsed_Browsing_History\",\n",
    "    concat_ws(\",\", col(\"Parsed_Browsing_History.Timestamp\"))\n",
    ")\n",
    "\n",
    "output_path = \"/dbfs/mnt/data/cleaned_ecommerce_data.csv\"\n",
    "df_cleaned_final.write.mode(\"overwrite\").csv(output_path, header=True)\n"
   ]
  },
  {
   "cell_type": "code",
   "execution_count": 0,
   "metadata": {
    "application/vnd.databricks.v1+cell": {
     "cellMetadata": {
      "byteLimit": 2048000,
      "rowLimit": 10000
     },
     "inputWidgets": {},
     "nuid": "9535e288-a7f3-4051-82df-964a982dbe3a",
     "showTitle": false,
     "tableResultSettingsMap": {},
     "title": ""
    }
   },
   "outputs": [
    {
     "data": {
      "text/plain": []
     },
     "metadata": {
      "application/vnd.databricks.v1+output": {
       "arguments": {},
       "data": "",
       "errorSummary": "Command skipped",
       "errorTraceType": "ansi",
       "metadata": {},
       "type": "ipynbError"
      }
     },
     "output_type": "display_data"
    }
   ],
   "source": [
    "df_cleaned_final.printSchema()\n",
    "df_cleaned_final.show(truncate=False)\n"
   ]
  },
  {
   "cell_type": "code",
   "execution_count": 0,
   "metadata": {
    "application/vnd.databricks.v1+cell": {
     "cellMetadata": {
      "byteLimit": 2048000,
      "rowLimit": 10000
     },
     "inputWidgets": {},
     "nuid": "c3b24f93-f132-450f-b793-a1d25459989e",
     "showTitle": false,
     "tableResultSettingsMap": {},
     "title": ""
    }
   },
   "outputs": [
    {
     "data": {
      "text/plain": []
     },
     "metadata": {
      "application/vnd.databricks.v1+output": {
       "arguments": {},
       "data": "",
       "errorSummary": "Command skipped",
       "errorTraceType": "ansi",
       "metadata": {},
       "type": "ipynbError"
      }
     },
     "output_type": "display_data"
    }
   ],
   "source": [
    "output_path = \"/dbfs/mnt/data/cleaned_ecommerce_data.csv\"\n",
    "df_cleaned_final.write.mode(\"overwrite\").csv(output_path, header=True)\n",
    "\n"
   ]
  },
  {
   "cell_type": "code",
   "execution_count": 0,
   "metadata": {
    "application/vnd.databricks.v1+cell": {
     "cellMetadata": {
      "byteLimit": 2048000,
      "rowLimit": 10000
     },
     "inputWidgets": {},
     "nuid": "1678b5de-d851-4c3e-a4d9-141ae6955ac4",
     "showTitle": false,
     "tableResultSettingsMap": {},
     "title": ""
    }
   },
   "outputs": [
    {
     "data": {
      "text/plain": []
     },
     "metadata": {
      "application/vnd.databricks.v1+output": {
       "arguments": {},
       "data": "",
       "errorSummary": "Command skipped",
       "errorTraceType": "ansi",
       "metadata": {},
       "type": "ipynbError"
      }
     },
     "output_type": "display_data"
    }
   ],
   "source": [
    "from pyspark.sql import SparkSession\n",
    "import os\n",
    "\n",
    "# Check if file exists and delete it\n",
    "file_path = \"/dbfs/mnt/data/cleaned_ecommerce_data.csv\"\n",
    "if dbutils.fs.exists(file_path):\n",
    "    dbutils.fs.rm(file_path, recurse=True)\n",
    "\n",
    "# Write the cleaned data again\n",
    "df_cleaned_final.write.csv(file_path, header=True)\n"
   ]
  },
  {
   "cell_type": "code",
   "execution_count": 0,
   "metadata": {
    "application/vnd.databricks.v1+cell": {
     "cellMetadata": {
      "byteLimit": 2048000,
      "rowLimit": 10000
     },
     "inputWidgets": {},
     "nuid": "8d3562e2-e066-4de3-98bf-2b9193cd38bc",
     "showTitle": false,
     "tableResultSettingsMap": {},
     "title": ""
    }
   },
   "outputs": [
    {
     "data": {
      "text/plain": []
     },
     "metadata": {
      "application/vnd.databricks.v1+output": {
       "arguments": {},
       "data": "",
       "errorSummary": "Command skipped",
       "errorTraceType": "ansi",
       "metadata": {},
       "type": "ipynbError"
      }
     },
     "output_type": "display_data"
    }
   ],
   "source": [
    "ooutput_path = \"/dbfs/mnt/storage/cleaned_ecommerce_data.csv\"\n",
    "df_cleaned_final.write.mode(\"overwrite\").csv(output_path, header=True)\n"
   ]
  },
  {
   "cell_type": "markdown",
   "metadata": {
    "application/vnd.databricks.v1+cell": {
     "cellMetadata": {},
     "inputWidgets": {},
     "nuid": "676621bd-9c72-44da-a2ea-153b98fa44f8",
     "showTitle": false,
     "tableResultSettingsMap": {},
     "title": ""
    }
   },
   "source": [
    "**CHECK FOR THE PATH**"
   ]
  },
  {
   "cell_type": "code",
   "execution_count": 0,
   "metadata": {
    "application/vnd.databricks.v1+cell": {
     "cellMetadata": {
      "byteLimit": 2048000,
      "rowLimit": 10000
     },
     "inputWidgets": {},
     "nuid": "4656626f-8c8a-44c7-9cfa-f1c074fd9a3c",
     "showTitle": false,
     "tableResultSettingsMap": {},
     "title": ""
    }
   },
   "outputs": [
    {
     "name": "stdout",
     "output_type": "stream",
     "text": [
      "Out[66]: [FileInfo(path='dbfs:/mnt/storage/cleaned_ecommerce_data.csv/', name='cleaned_ecommerce_data.csv/', size=0, modificationTime=0),\n",
      " FileInfo(path='dbfs:/mnt/storage/student_lifestyle_dataset.csv', name='student_lifestyle_dataset.csv', size=71205, modificationTime=1735817986000)]"
     ]
    }
   ],
   "source": [
    "dbutils.fs.ls(\"dbfs:/mnt/storage/\")\n",
    "\n"
   ]
  },
  {
   "cell_type": "code",
   "execution_count": 0,
   "metadata": {
    "application/vnd.databricks.v1+cell": {
     "cellMetadata": {
      "byteLimit": 2048000,
      "rowLimit": 10000
     },
     "inputWidgets": {},
     "nuid": "000d5c4b-bb37-4cbd-93d6-edf8f84f0595",
     "showTitle": false,
     "tableResultSettingsMap": {},
     "title": ""
    }
   },
   "outputs": [
    {
     "data": {
      "text/plain": []
     },
     "metadata": {
      "application/vnd.databricks.v1+output": {
       "arguments": {},
       "data": "",
       "errorSummary": "Command skipped",
       "errorTraceType": "ansi",
       "metadata": {},
       "type": "ipynbError"
      }
     },
     "output_type": "display_data"
    }
   ],
   "source": [
    "\n",
    "file_path = \"/dbfs/mnt/data/cleaned_ecommerce_data.csv\"\n",
    "\n",
    "files = dbutils.fs.ls(\"/dbfs/mnt/data/\")\n",
    "file_exists = any(file.name == \"cleaned_ecommerce_data.csv\" for file in files)\n",
    "\n",
    "if file_exists:\n",
    "    dbutils.fs.rm(file_path, recurse=True)\n",
    "df_cleaned_final.write.mode(\"overwrite\").csv(file_path, header=True)"
   ]
  },
  {
   "cell_type": "code",
   "execution_count": 0,
   "metadata": {
    "application/vnd.databricks.v1+cell": {
     "cellMetadata": {
      "byteLimit": 2048000,
      "rowLimit": 10000
     },
     "inputWidgets": {},
     "nuid": "cbcf1b86-62ed-4868-b3cb-3efcc7976765",
     "showTitle": false,
     "tableResultSettingsMap": {},
     "title": ""
    }
   },
   "outputs": [
    {
     "data": {
      "text/plain": []
     },
     "metadata": {
      "application/vnd.databricks.v1+output": {
       "arguments": {},
       "data": "",
       "errorSummary": "Command skipped",
       "errorTraceType": "ansi",
       "metadata": {},
       "type": "ipynbError"
      }
     },
     "output_type": "display_data"
    }
   ],
   "source": [
    "dbutils.fs.ls(\"/mnt\")\n",
    "output_path = \"/dbfs/FileStore/cleaned_ecommerce_data.csv\"\n",
    "df_cleaned_final.write.mode(\"overwrite\").csv(output_path, header=True)\n",
    "\n"
   ]
  },
  {
   "cell_type": "code",
   "execution_count": 0,
   "metadata": {
    "application/vnd.databricks.v1+cell": {
     "cellMetadata": {
      "byteLimit": 2048000,
      "rowLimit": 10000
     },
     "inputWidgets": {},
     "nuid": "aff0a661-3db0-41aa-836d-57c873b54398",
     "showTitle": false,
     "tableResultSettingsMap": {},
     "title": ""
    }
   },
   "outputs": [
    {
     "data": {
      "text/plain": []
     },
     "metadata": {
      "application/vnd.databricks.v1+output": {
       "arguments": {},
       "data": "",
       "errorSummary": "Command skipped",
       "errorTraceType": "ansi",
       "metadata": {},
       "type": "ipynbError"
      }
     },
     "output_type": "display_data"
    }
   ],
   "source": [
    "output_path = \"/mnt/storage/cleaned_ecommerce_data.csv\"\n",
    "df_cleaned_final.write.mode(\"overwrite\").csv(output_path, header=True)\n"
   ]
  },
  {
   "cell_type": "code",
   "execution_count": 0,
   "metadata": {
    "application/vnd.databricks.v1+cell": {
     "cellMetadata": {
      "byteLimit": 2048000,
      "rowLimit": 10000
     },
     "inputWidgets": {},
     "nuid": "3fb61c67-1bc1-4a86-bef3-abdde4dd7830",
     "showTitle": false,
     "tableResultSettingsMap": {},
     "title": ""
    }
   },
   "outputs": [
    {
     "data": {
      "text/plain": []
     },
     "metadata": {
      "application/vnd.databricks.v1+output": {
       "arguments": {},
       "data": "",
       "errorSummary": "Command skipped",
       "errorTraceType": "ansi",
       "metadata": {},
       "type": "ipynbError"
      }
     },
     "output_type": "display_data"
    }
   ],
   "source": [
    "dbutils.fs.ls(\"/mnt/storage\")\n"
   ]
  },
  {
   "cell_type": "code",
   "execution_count": 0,
   "metadata": {
    "application/vnd.databricks.v1+cell": {
     "cellMetadata": {
      "byteLimit": 2048000,
      "rowLimit": 10000
     },
     "inputWidgets": {},
     "nuid": "d667553c-b7f7-48f0-8fe6-41f0db59704f",
     "showTitle": false,
     "tableResultSettingsMap": {},
     "title": ""
    }
   },
   "outputs": [
    {
     "data": {
      "text/plain": []
     },
     "metadata": {
      "application/vnd.databricks.v1+output": {
       "arguments": {},
       "data": "",
       "errorSummary": "Command skipped",
       "errorTraceType": "ansi",
       "metadata": {},
       "type": "ipynbError"
      }
     },
     "output_type": "display_data"
    }
   ],
   "source": [
    "dbutils.fs.mv(\"/mnt/storage/cleaned_ecommerce_data.csv\", \"dbfs:/FileStore/cleaned_ecommerce_data.csv\",recurse = True)\n"
   ]
  },
  {
   "cell_type": "code",
   "execution_count": 0,
   "metadata": {
    "application/vnd.databricks.v1+cell": {
     "cellMetadata": {
      "byteLimit": 2048000,
      "rowLimit": 10000
     },
     "inputWidgets": {},
     "nuid": "6a8fb6a5-fd9d-4ad8-8990-8ef091a24c61",
     "showTitle": false,
     "tableResultSettingsMap": {},
     "title": ""
    }
   },
   "outputs": [
    {
     "data": {
      "text/plain": []
     },
     "metadata": {
      "application/vnd.databricks.v1+output": {
       "arguments": {},
       "data": "",
       "errorSummary": "Command skipped",
       "errorTraceType": "ansi",
       "metadata": {},
       "type": "ipynbError"
      }
     },
     "output_type": "display_data"
    }
   ],
   "source": [
    "df_cleaned_final.show(truncate=False)"
   ]
  },
  {
   "cell_type": "code",
   "execution_count": 0,
   "metadata": {
    "application/vnd.databricks.v1+cell": {
     "cellMetadata": {
      "byteLimit": 2048000,
      "rowLimit": 10000
     },
     "inputWidgets": {},
     "nuid": "ad90d6d5-38b5-4bdd-aaf3-5706bdad6f26",
     "showTitle": false,
     "tableResultSettingsMap": {},
     "title": ""
    }
   },
   "outputs": [
    {
     "data": {
      "text/plain": []
     },
     "metadata": {
      "application/vnd.databricks.v1+output": {
       "arguments": {},
       "data": "",
       "errorSummary": "Command skipped",
       "errorTraceType": "ansi",
       "metadata": {},
       "type": "ipynbError"
      }
     },
     "output_type": "display_data"
    }
   ],
   "source": [
    "output_path = \"/dbfs/FileStore/cleaned_ecommerce_data.csv\"\n",
    "df_cleaned_final.write.option(\"header\", \"true\").csv(output_path)\n"
   ]
  },
  {
   "cell_type": "code",
   "execution_count": 0,
   "metadata": {
    "application/vnd.databricks.v1+cell": {
     "cellMetadata": {
      "byteLimit": 2048000,
      "rowLimit": 10000
     },
     "inputWidgets": {},
     "nuid": "2f1e8b97-4813-4480-99c5-8a7257a59888",
     "showTitle": false,
     "tableResultSettingsMap": {},
     "title": ""
    }
   },
   "outputs": [
    {
     "data": {
      "text/plain": []
     },
     "metadata": {
      "application/vnd.databricks.v1+output": {
       "arguments": {},
       "data": "",
       "errorSummary": "Command skipped",
       "errorTraceType": "ansi",
       "metadata": {},
       "type": "ipynbError"
      }
     },
     "output_type": "display_data"
    }
   ],
   "source": [
    "row_count = df_cleaned_final.count()\n",
    "print(f\"Number of rows in DataFrame: {row_count}\")\n"
   ]
  },
  {
   "cell_type": "markdown",
   "metadata": {
    "application/vnd.databricks.v1+cell": {
     "cellMetadata": {},
     "inputWidgets": {},
     "nuid": "cddc3957-7bc4-44d2-ae3e-ce66ad4fa94d",
     "showTitle": false,
     "tableResultSettingsMap": {},
     "title": ""
    }
   },
   "source": [
    "**LOADING CSV FILE TO DATAFRAME**"
   ]
  },
  {
   "cell_type": "code",
   "execution_count": 0,
   "metadata": {
    "application/vnd.databricks.v1+cell": {
     "cellMetadata": {
      "byteLimit": 2048000,
      "rowLimit": 10000
     },
     "inputWidgets": {},
     "nuid": "2fb04263-8bef-4768-be35-1d794875e094",
     "showTitle": false,
     "tableResultSettingsMap": {},
     "title": ""
    }
   },
   "outputs": [
    {
     "data": {
      "text/plain": []
     },
     "metadata": {
      "application/vnd.databricks.v1+output": {
       "arguments": {},
       "data": "",
       "errorSummary": "Command skipped",
       "errorTraceType": "ansi",
       "metadata": {},
       "type": "ipynbError"
      }
     },
     "output_type": "display_data"
    }
   ],
   "source": [
    "\n",
    "df_check = spark.read.option(\"header\", \"true\").csv(\"/dbfs/FileStore/cleaned_ecommerce_data.csv\")\n",
    "\n",
    "df_check.show()\n"
   ]
  },
  {
   "cell_type": "code",
   "execution_count": 0,
   "metadata": {
    "application/vnd.databricks.v1+cell": {
     "cellMetadata": {
      "byteLimit": 2048000,
      "rowLimit": 10000
     },
     "inputWidgets": {},
     "nuid": "237732e8-c9cc-43b7-82fc-dcc3be62843f",
     "showTitle": false,
     "tableResultSettingsMap": {},
     "title": ""
    }
   },
   "outputs": [
    {
     "data": {
      "text/plain": []
     },
     "metadata": {
      "application/vnd.databricks.v1+output": {
       "arguments": {},
       "data": "",
       "errorSummary": "Command skipped",
       "errorTraceType": "ansi",
       "metadata": {},
       "type": "ipynbError"
      }
     },
     "output_type": "display_data"
    }
   ],
   "source": [
    "dbutils.fs.ls(\"/dbfs/FileStore/cleaned_ecommerce_data.csv\")\n"
   ]
  },
  {
   "cell_type": "code",
   "execution_count": 0,
   "metadata": {
    "application/vnd.databricks.v1+cell": {
     "cellMetadata": {
      "byteLimit": 2048000,
      "rowLimit": 10000
     },
     "inputWidgets": {},
     "nuid": "229187db-0db6-4fe7-9abf-58332b7a26c6",
     "showTitle": false,
     "tableResultSettingsMap": {},
     "title": ""
    }
   },
   "outputs": [
    {
     "data": {
      "text/plain": []
     },
     "metadata": {
      "application/vnd.databricks.v1+output": {
       "arguments": {},
       "data": "",
       "errorSummary": "Command skipped",
       "errorTraceType": "ansi",
       "metadata": {},
       "type": "ipynbError"
      }
     },
     "output_type": "display_data"
    }
   ],
   "source": [
    "df_check = spark.read.option(\"header\", \"true\").csv(\"/dbfs/FileStore/cleaned_ecommerce_data.csv/part-00000-tid-1595230439479176265-069e500e-551c-4726-828c-6f9eafcb9079-133-1-c000.csv\")\n",
    "\n",
    "df_check.show()\n"
   ]
  },
  {
   "cell_type": "code",
   "execution_count": 0,
   "metadata": {
    "application/vnd.databricks.v1+cell": {
     "cellMetadata": {
      "byteLimit": 2048000,
      "rowLimit": 10000
     },
     "inputWidgets": {},
     "nuid": "c24db5c9-2c57-4dd3-a3bf-736f6b1ab6e8",
     "showTitle": false,
     "tableResultSettingsMap": {},
     "title": ""
    }
   },
   "outputs": [
    {
     "data": {
      "text/plain": []
     },
     "metadata": {
      "application/vnd.databricks.v1+output": {
       "arguments": {},
       "data": "",
       "errorSummary": "Command skipped",
       "errorTraceType": "ansi",
       "metadata": {},
       "type": "ipynbError"
      }
     },
     "output_type": "display_data"
    }
   ],
   "source": [
    "df_check = spark.read.option(\"header\", \"true\").csv(\"/FileStore/cleaned_ecommerce_data.csv\")\n",
    "df_check.show()\n",
    "\n"
   ]
  },
  {
   "cell_type": "code",
   "execution_count": 0,
   "metadata": {
    "application/vnd.databricks.v1+cell": {
     "cellMetadata": {
      "byteLimit": 2048000,
      "rowLimit": 10000
     },
     "inputWidgets": {},
     "nuid": "dd2ae12a-a0c7-4319-a6d2-adfa229f42ff",
     "showTitle": false,
     "tableResultSettingsMap": {},
     "title": ""
    }
   },
   "outputs": [
    {
     "data": {
      "text/plain": []
     },
     "metadata": {
      "application/vnd.databricks.v1+output": {
       "arguments": {},
       "data": "",
       "errorSummary": "Command skipped",
       "errorTraceType": "ansi",
       "metadata": {},
       "type": "ipynbError"
      }
     },
     "output_type": "display_data"
    }
   ],
   "source": [
    "df_check.printSchema()\n"
   ]
  },
  {
   "cell_type": "code",
   "execution_count": 0,
   "metadata": {
    "application/vnd.databricks.v1+cell": {
     "cellMetadata": {
      "byteLimit": 2048000,
      "rowLimit": 10000
     },
     "inputWidgets": {},
     "nuid": "b01af6c9-c9e1-4bf6-af5a-dec0f9023225",
     "showTitle": false,
     "tableResultSettingsMap": {},
     "title": ""
    }
   },
   "outputs": [
    {
     "data": {
      "text/plain": []
     },
     "metadata": {
      "application/vnd.databricks.v1+output": {
       "arguments": {},
       "data": "",
       "errorSummary": "Command skipped",
       "errorTraceType": "ansi",
       "metadata": {},
       "type": "ipynbError"
      }
     },
     "output_type": "display_data"
    }
   ],
   "source": [
    "dbutils.fs.ls(\"/FileStore/\")\n"
   ]
  },
  {
   "cell_type": "code",
   "execution_count": 0,
   "metadata": {
    "application/vnd.databricks.v1+cell": {
     "cellMetadata": {
      "byteLimit": 2048000,
      "rowLimit": 10000
     },
     "inputWidgets": {},
     "nuid": "577358df-26c9-40a5-8435-ab632e0d3563",
     "showTitle": false,
     "tableResultSettingsMap": {},
     "title": ""
    }
   },
   "outputs": [
    {
     "data": {
      "text/plain": []
     },
     "metadata": {
      "application/vnd.databricks.v1+output": {
       "arguments": {},
       "data": "",
       "errorSummary": "Command skipped",
       "errorTraceType": "ansi",
       "metadata": {},
       "type": "ipynbError"
      }
     },
     "output_type": "display_data"
    }
   ],
   "source": [
    "# Check if DataFrame has rows\n",
    "print(f\"Row count: {df_cleaned_final.count()}\")\n",
    "df_cleaned_final.show(truncate=False)\n"
   ]
  },
  {
   "cell_type": "code",
   "execution_count": 0,
   "metadata": {
    "application/vnd.databricks.v1+cell": {
     "cellMetadata": {
      "byteLimit": 2048000,
      "rowLimit": 10000
     },
     "inputWidgets": {},
     "nuid": "229d834d-4d6d-4529-ac78-b2047233d0a7",
     "showTitle": false,
     "tableResultSettingsMap": {},
     "title": ""
    }
   },
   "outputs": [
    {
     "data": {
      "text/plain": []
     },
     "metadata": {
      "application/vnd.databricks.v1+output": {
       "arguments": {},
       "data": "",
       "errorSummary": "Command skipped",
       "errorTraceType": "ansi",
       "metadata": {},
       "type": "ipynbError"
      }
     },
     "output_type": "display_data"
    }
   ],
   "source": [
    "output_path = \"/FileStore/cleaned_ecommerce_data.csv\"\n",
    "df_cleaned_final.coalesce(1).write.mode(\"overwrite\").option(\"header\", \"true\").csv(output_path)\n"
   ]
  },
  {
   "cell_type": "code",
   "execution_count": 0,
   "metadata": {
    "application/vnd.databricks.v1+cell": {
     "cellMetadata": {
      "byteLimit": 2048000,
      "rowLimit": 10000
     },
     "inputWidgets": {},
     "nuid": "ef321d19-00b2-4416-b33a-5057a5dbe252",
     "showTitle": false,
     "tableResultSettingsMap": {},
     "title": ""
    }
   },
   "outputs": [
    {
     "data": {
      "text/plain": []
     },
     "metadata": {
      "application/vnd.databricks.v1+output": {
       "arguments": {},
       "data": "",
       "errorSummary": "Command skipped",
       "errorTraceType": "ansi",
       "metadata": {},
       "type": "ipynbError"
      }
     },
     "output_type": "display_data"
    }
   ],
   "source": [
    "dbutils.fs.ls(\"/FileStore/cleaned_ecommerce_data.csv\")\n"
   ]
  },
  {
   "cell_type": "code",
   "execution_count": 0,
   "metadata": {
    "application/vnd.databricks.v1+cell": {
     "cellMetadata": {
      "byteLimit": 2048000,
      "rowLimit": 10000
     },
     "inputWidgets": {},
     "nuid": "5ca629cc-8157-4a7a-a68b-bb2e98874b41",
     "showTitle": false,
     "tableResultSettingsMap": {},
     "title": ""
    }
   },
   "outputs": [
    {
     "data": {
      "text/plain": []
     },
     "metadata": {
      "application/vnd.databricks.v1+output": {
       "arguments": {},
       "data": "",
       "errorSummary": "Command skipped",
       "errorTraceType": "ansi",
       "metadata": {},
       "type": "ipynbError"
      }
     },
     "output_type": "display_data"
    }
   ],
   "source": [
    "single_output_path = \"/FileStore/cleaned_ecommerce_data_single.csv\"\n",
    "df_cleaned_final.coalesce(1).write.mode(\"overwrite\").option(\"header\", \"true\").csv(single_output_path)\n"
   ]
  },
  {
   "cell_type": "code",
   "execution_count": 0,
   "metadata": {
    "application/vnd.databricks.v1+cell": {
     "cellMetadata": {
      "byteLimit": 2048000,
      "rowLimit": 10000
     },
     "inputWidgets": {},
     "nuid": "f5ad4753-4d29-4ef6-9606-a8db711e0d59",
     "showTitle": false,
     "tableResultSettingsMap": {},
     "title": ""
    }
   },
   "outputs": [
    {
     "data": {
      "text/plain": []
     },
     "metadata": {
      "application/vnd.databricks.v1+output": {
       "arguments": {},
       "data": "",
       "errorSummary": "Command skipped",
       "errorTraceType": "ansi",
       "metadata": {},
       "type": "ipynbError"
      }
     },
     "output_type": "display_data"
    }
   ],
   "source": [
    "files = dbutils.fs.ls(\"/FileStore/cleaned_ecommerce_data_single.csv\")\n",
    "for file in files:\n",
    "    if \"part-00000\" in file.name:\n",
    "        dbutils.fs.mv(file.path, \"/FileStore/cleaned_ecommerce_data.csv\")\n"
   ]
  },
  {
   "cell_type": "code",
   "execution_count": 0,
   "metadata": {
    "application/vnd.databricks.v1+cell": {
     "cellMetadata": {
      "byteLimit": 2048000,
      "rowLimit": 10000
     },
     "inputWidgets": {},
     "nuid": "3c8bc637-a992-4780-be42-a0b036a211fc",
     "showTitle": false,
     "tableResultSettingsMap": {},
     "title": ""
    }
   },
   "outputs": [
    {
     "data": {
      "text/plain": []
     },
     "metadata": {
      "application/vnd.databricks.v1+output": {
       "arguments": {},
       "data": "",
       "errorSummary": "Command skipped",
       "errorTraceType": "ansi",
       "metadata": {},
       "type": "ipynbError"
      }
     },
     "output_type": "display_data"
    }
   ],
   "source": [
    "print(f\"Row count: {df_cleaned_final.count()}\")\n",
    "df_cleaned_final.show(truncate=False)\n"
   ]
  },
  {
   "cell_type": "code",
   "execution_count": 0,
   "metadata": {
    "application/vnd.databricks.v1+cell": {
     "cellMetadata": {
      "byteLimit": 2048000,
      "rowLimit": 10000
     },
     "inputWidgets": {},
     "nuid": "c574cef7-bf6e-4512-831b-18a87f534015",
     "showTitle": false,
     "tableResultSettingsMap": {},
     "title": ""
    }
   },
   "outputs": [
    {
     "name": "stdout",
     "output_type": "stream",
     "text": [
      "Out[67]: [FileInfo(path='dbfs:/tmp/cleaned_ecommerce_data_temp/_committed_1645711704076015179', name='_committed_1645711704076015179', size=112, modificationTime=1737522901000),\n",
      " FileInfo(path='dbfs:/tmp/cleaned_ecommerce_data_temp/_committed_2818445293514679422', name='_committed_2818445293514679422', size=113, modificationTime=1737201873000),\n",
      " FileInfo(path='dbfs:/tmp/cleaned_ecommerce_data_temp/_committed_7803381353142261903', name='_committed_7803381353142261903', size=212, modificationTime=1737201889000),\n",
      " FileInfo(path='dbfs:/tmp/cleaned_ecommerce_data_temp/_committed_vacuum2563691118743975627', name='_committed_vacuum2563691118743975627', size=129, modificationTime=1737522902000),\n",
      " FileInfo(path='dbfs:/tmp/cleaned_ecommerce_data_temp/_started_1645711704076015179', name='_started_1645711704076015179', size=0, modificationTime=1737522900000),\n",
      " FileInfo(path='dbfs:/tmp/cleaned_ecommerce_data_temp/part-00000-tid-1645711704076015179-370f3102-e351-4a0a-9ca1-9cb7bbeef272-62-1-c000.csv', name='part-00000-tid-1645711704076015179-370f3102-e351-4a0a-9ca1-9cb7bbeef272-62-1-c000.csv', size=7048, modificationTime=1737522901000)]"
     ]
    }
   ],
   "source": [
    "temp_output_path = \"/tmp/cleaned_ecommerce_data_temp\"\n",
    "df_cleaned_final.coalesce(1).write.mode(\"overwrite\").option(\"header\", \"true\").csv(temp_output_path)\n",
    "\n",
    "# Verify the files\n",
    "dbutils.fs.ls(temp_output_path)\n"
   ]
  },
  {
   "cell_type": "code",
   "execution_count": 0,
   "metadata": {
    "application/vnd.databricks.v1+cell": {
     "cellMetadata": {
      "byteLimit": 2048000,
      "rowLimit": 10000
     },
     "inputWidgets": {},
     "nuid": "c04e359e-cbf0-4aca-a13b-5b45f959a64a",
     "showTitle": false,
     "tableResultSettingsMap": {},
     "title": ""
    }
   },
   "outputs": [
    {
     "name": "stdout",
     "output_type": "stream",
     "text": [
      "Out[68]: [FileInfo(path='dbfs:/tmp/cleaned_ecommerce_data_temp/_committed_1645711704076015179', name='_committed_1645711704076015179', size=112, modificationTime=1737522901000),\n",
      " FileInfo(path='dbfs:/tmp/cleaned_ecommerce_data_temp/_committed_2818445293514679422', name='_committed_2818445293514679422', size=113, modificationTime=1737201873000),\n",
      " FileInfo(path='dbfs:/tmp/cleaned_ecommerce_data_temp/_committed_7803381353142261903', name='_committed_7803381353142261903', size=212, modificationTime=1737201889000),\n",
      " FileInfo(path='dbfs:/tmp/cleaned_ecommerce_data_temp/_committed_8389963781184552512', name='_committed_8389963781184552512', size=199, modificationTime=1737522908000),\n",
      " FileInfo(path='dbfs:/tmp/cleaned_ecommerce_data_temp/_committed_vacuum2563691118743975627', name='_committed_vacuum2563691118743975627', size=129, modificationTime=1737522902000),\n",
      " FileInfo(path='dbfs:/tmp/cleaned_ecommerce_data_temp/_started_1645711704076015179', name='_started_1645711704076015179', size=0, modificationTime=1737522900000),\n",
      " FileInfo(path='dbfs:/tmp/cleaned_ecommerce_data_temp/_started_8389963781184552512', name='_started_8389963781184552512', size=0, modificationTime=1737522908000),\n",
      " FileInfo(path='dbfs:/tmp/cleaned_ecommerce_data_temp/part-00000-tid-8389963781184552512-edf0137f-c616-4708-b0c1-7c4f49247e98-64-1-c000.csv', name='part-00000-tid-8389963781184552512-edf0137f-c616-4708-b0c1-7c4f49247e98-64-1-c000.csv', size=7048, modificationTime=1737522908000)]"
     ]
    }
   ],
   "source": [
    "temp_output_path = \"/tmp/cleaned_ecommerce_data_temp\"\n",
    "df_cleaned_final.coalesce(1).write.mode(\"overwrite\").option(\"header\", \"true\").csv(temp_output_path)\n",
    "\n",
    "# Verify the files\n",
    "dbutils.fs.ls(temp_output_path)\n"
   ]
  },
  {
   "cell_type": "code",
   "execution_count": 0,
   "metadata": {
    "application/vnd.databricks.v1+cell": {
     "cellMetadata": {
      "byteLimit": 2048000,
      "rowLimit": 10000
     },
     "inputWidgets": {},
     "nuid": "0f8b38d7-88e7-48b8-a778-368429a3def4",
     "showTitle": false,
     "tableResultSettingsMap": {},
     "title": ""
    }
   },
   "outputs": [
    {
     "name": "stdout",
     "output_type": "stream",
     "text": [
      "+-----------+---+------+--------+-------------+--------------------+--------------------+------------+-----------------+-----------------------+--------------+--------------+----------------+-------------+-----+--------------------+---------------+---------+-------------------+-----------------+--------------+\n",
      "|Customer ID|Age|Gender|Location|Annual_Salary|    Browsing History|     Product Reviews|Time_on_Site|   Monthly_Income|Parsed_Browsing_History|Product_Rating|Product_Review|Product_Category|Purchase_Date|Price|  Browsing_Timestamp|Purchase_Amount|Age_Group|High_Value_Customer|Purchase_Category|Purchase_Price|\n",
      "+-----------+---+------+--------+-------------+--------------------+--------------------+------------+-----------------+-----------------------+--------------+--------------+----------------+-------------+-----+--------------------+---------------+---------+-------------------+-----------------+--------------+\n",
      "|       1002| 32|  Male|  City A|        50000|{'Timestamp': '20...|\"{\"\"Review Text\"\"...|         0.0|4166.666666666667|    2022-05-12 16:15:00|           0.0|          null|     Electronics|   2022-02-15|250.0|2022-05-12T16:15:...|          250.0|    25-35|                 No|      Electronics|         250.0|\n",
      "|       1012| 65|Female|  City L|        95000|{'Timestamp': '20...|\"{\"\"Review Text\"\"...|         0.0|7916.666666666667|    2023-02-06 13:15:00|           0.0|          null|   Home & Garden|   2022-12-25|170.0|2023-02-06T13:15:...|          170.0|      51+|                Yes|    Home & Garden|         170.0|\n",
      "|       1001| 45|Female|  City D|        70000|{'Timestamp': '20...|\"{\"\"Product 1\"\": ...|         0.0|5833.333333333333|    2022-09-03 14:30:00|           0.0|          null|     Electronics|   2022-08-15|200.5|2022-09-03T14:30:...|          200.5|    36-50|                 No|      Electronics|         200.5|\n",
      "|       1004| 52|  Male|  City G|        70000|{'Timestamp': '20...|The vacuum cleane...|       350.0|5833.333333333333|   2022-05-22T10:30:00Z|           0.0|          null|     Electronics|   2022-05-08|200.0|2022-05-22T10:30:...|          200.0|      51+|                 No|      Electronics|         200.0|\n",
      "|       1011| 36|Female|  City N|        55000|{'Timestamp': '20...|The skirt is love...|       200.0|4583.333333333333|   2022-06-13T13:00:00Z|           0.0|          null|        Clothing|   2022-05-27| 80.0|2022-06-13T13:00:...|           80.0|    36-50|                 No|         Clothing|          80.0|\n",
      "|       1003| 28|Female|  City F|        60000|{'Timestamp': '20...|The dress fits pe...|       250.0|           5000.0|   2022-06-01T09:15:00Z|           0.0|          null|        Clothing|   2022-05-28| 75.0|2022-06-01T09:15:...|           75.0|    25-35|                 No|         Clothing|          75.0|\n",
      "|       1004| 29|Female|  City G|        60000|{'Timestamp': '20...|\"{\"\"Product 1\"\": ...|         0.0|           5000.0|    2022-08-15 13:20:00|           0.0|          null|     Electronics|   2022-07-20|150.8|2022-08-15T13:20:...|          150.8|    25-35|                 No|      Electronics|         150.8|\n",
      "|       1007| 60|Female|  City J|        65000|{'Timestamp': '20...|The shirt is comf...|       300.0|5416.666666666667|   2022-06-15T11:30:00Z|           0.0|          null|        Clothing|   2022-05-25|100.0|2022-06-15T11:30:...|          100.0|      51+|                 No|         Clothing|         100.0|\n",
      "|       1005| 42|  Male|  City H|        75000|{'Timestamp': '20...|\"{\"\"Product 1\"\": ...|         0.0|           6250.0|    2022-09-12 16:35:00|           0.0|          null|     Electronics|   2022-08-28|250.6|2022-09-12T16:35:...|          250.6|    36-50|                 No|      Electronics|         250.6|\n",
      "|       1008| 55|  Male|  City K|        85000|{'Timestamp': '20...|The laptop is exc...|       450.0|7083.333333333333|   2022-05-28T15:15:00Z|           0.0|          null|     Electronics|   2022-05-20|300.0|2022-05-28T15:15:...|          300.0|      51+|                Yes|      Electronics|         300.0|\n",
      "|       1008| 48|  Male|  City K|        80000|{'Timestamp': '20...|\"{\"\"Product 1\"\": ...|         0.0|6666.666666666667|    2022-06-30 11:15:00|           0.0|          null|     Electronics|   2022-09-08|350.2|2022-06-30T11:15:...|          350.2|    36-50|                Yes|      Electronics|         350.2|\n",
      "|       1009| 35|  Male|  City I|        55000|{'Timestamp': '20...|\"{\"\"Review Text\"\"...|         0.0|4583.333333333333|    2022-12-06 12:00:00|           0.0|          null|   Home & Garden|   2022-09-20|200.0|2022-12-06T12:00:...|          200.0|    25-35|                 No|    Home & Garden|         200.0|\n",
      "|       1001| 45|Female|  City D|        75000|{'Timestamp': '20...|\"{\"\"Review Text\"\"...|         0.0|           6250.0|    2022-03-06 14:30:00|           0.0|          null|        Clothing|   2022-03-05|45.99|2022-03-06T14:30:...|          45.99|    36-50|                 No|         Clothing|         45.99|\n",
      "|       1003| 60| Other|  City B|        80000|{'Timestamp': '20...|\"{\"\"Review Text\"\"...|         0.0|6666.666666666667|    2022-06-03 10:45:00|           0.0|          null|   Home & Garden|   2022-01-18|180.0|2022-06-03T10:45:...|          180.0|      51+|                Yes|    Home & Garden|         180.0|\n",
      "|       1010| 58|  Male|  City M|        75000|{'Timestamp': '20...|The coffee maker ...|       350.0|           6250.0|   2022-05-29T10:30:00Z|           0.0|          null|     Electronics|   2022-05-12|250.0|2022-05-29T10:30:...|          250.0|      51+|                 No|      Electronics|         250.0|\n",
      "|       1006| 38|Female|  City F|        65000|{'Timestamp': '20...|\"{\"\"Review Text\"\"...|         0.0|5416.666666666667|    2022-09-02 11:15:00|           0.0|          null|   Home & Garden|   2022-06-15|220.0|2022-09-02T11:15:...|          220.0|    36-50|                 No|    Home & Garden|         220.0|\n",
      "|       1002| 45|  Male|  City E|        80000|{'Timestamp': '20...|The headphones ar...|       300.0|6666.666666666667|   2022-05-25T17:45:00Z|           0.0|          null|     Electronics|   2022-06-12|350.0|2022-05-25T17:45:...|          350.0|    36-50|                Yes|      Electronics|         350.0|\n",
      "|       1006| 48|  Male|  City I|        90000|{'Timestamp': '20...|The phone is fant...|       400.0|           7500.0|   2022-06-06T08:00:00Z|           0.0|          null|     Electronics|   2022-05-23|400.0|2022-06-06T08:00:...|          400.0|    36-50|                Yes|      Electronics|         400.0|\n",
      "|       1010| 48|Female|  City J|        75000|{'Timestamp': '20...|\"{\"\"Review Text\"\"...|         0.0|           6250.0|    2022-12-21 15:30:00|           0.0|          null|        Clothing|   2022-10-15|34.99|2022-12-21T15:30:...|          34.99|    36-50|                 No|         Clothing|         34.99|\n",
      "|       1001| 35|Female|  City D|        50000|{'Timestamp': '20...|The blouse is so ...|       120.0|4166.666666666667|   2022-04-20T14:30:00Z|           0.0|          null|        Clothing|   2022-05-15|120.0|2022-04-20T14:30:...|          120.0|    25-35|                 No|         Clothing|         120.0|\n",
      "+-----------+---+------+--------+-------------+--------------------+--------------------+------------+-----------------+-----------------------+--------------+--------------+----------------+-------------+-----+--------------------+---------------+---------+-------------------+-----------------+--------------+\n",
      "only showing top 20 rows\n",
      "\n"
     ]
    }
   ],
   "source": [
    "df_temp_check = spark.read.option(\"header\", \"true\").csv(temp_output_path)\n",
    "df_temp_check.show()\n"
   ]
  },
  {
   "cell_type": "code",
   "execution_count": 0,
   "metadata": {
    "application/vnd.databricks.v1+cell": {
     "cellMetadata": {
      "byteLimit": 2048000,
      "rowLimit": 10000
     },
     "inputWidgets": {},
     "nuid": "2d9ec150-e00d-4fa8-a439-5454f5fbd312",
     "showTitle": false,
     "tableResultSettingsMap": {},
     "title": ""
    }
   },
   "outputs": [],
   "source": [
    "alternative_path = \"/mnt/storage/cleaned_ecommerce_data.csv\"\n",
    "df_cleaned_final.coalesce(1).write.mode(\"overwrite\").option(\"header\", \"true\").csv(alternative_path)\n"
   ]
  },
  {
   "cell_type": "code",
   "execution_count": 0,
   "metadata": {
    "application/vnd.databricks.v1+cell": {
     "cellMetadata": {
      "byteLimit": 2048000,
      "rowLimit": 10000
     },
     "inputWidgets": {},
     "nuid": "062d09f7-317d-4f1b-85bf-d767b40f50fc",
     "showTitle": false,
     "tableResultSettingsMap": {},
     "title": ""
    }
   },
   "outputs": [],
   "source": [
    "files = dbutils.fs.ls(temp_output_path)\n",
    "for file in files:\n",
    "    if \"part-00000\" in file.name:\n",
    "        dbutils.fs.mv(file.path, \"/FileStore/cleaned_ecommerce_data_single.csv\")\n"
   ]
  },
  {
   "cell_type": "code",
   "execution_count": 0,
   "metadata": {
    "application/vnd.databricks.v1+cell": {
     "cellMetadata": {
      "byteLimit": 2048000,
      "rowLimit": 10000
     },
     "inputWidgets": {},
     "nuid": "30ac5347-0437-4966-8626-d4ba6716c39e",
     "showTitle": false,
     "tableResultSettingsMap": {},
     "title": ""
    }
   },
   "outputs": [
    {
     "name": "stdout",
     "output_type": "stream",
     "text": [
      "Out[72]: [FileInfo(path='dbfs:/FileStore/cleaned_ecommerce_data_single.csv/_SUCCESS', name='_SUCCESS', size=0, modificationTime=1737201667000),\n",
      " FileInfo(path='dbfs:/FileStore/cleaned_ecommerce_data_single.csv/_committed_2593560794281230407', name='_committed_2593560794281230407', size=113, modificationTime=1737201667000),\n",
      " FileInfo(path='dbfs:/FileStore/cleaned_ecommerce_data_single.csv/_started_2593560794281230407', name='_started_2593560794281230407', size=0, modificationTime=1737201667000),\n",
      " FileInfo(path='dbfs:/FileStore/cleaned_ecommerce_data_single.csv/part-00000-tid-7803381353142261903-47a20101-3521-497d-b4c4-26aef94cb21a-169-1-c000.csv', name='part-00000-tid-7803381353142261903-47a20101-3521-497d-b4c4-26aef94cb21a-169-1-c000.csv', size=7048, modificationTime=1737201963000),\n",
      " FileInfo(path='dbfs:/FileStore/cleaned_ecommerce_data_single.csv/part-00000-tid-8389963781184552512-edf0137f-c616-4708-b0c1-7c4f49247e98-64-1-c000.csv', name='part-00000-tid-8389963781184552512-edf0137f-c616-4708-b0c1-7c4f49247e98-64-1-c000.csv', size=7048, modificationTime=1737522946000)]"
     ]
    }
   ],
   "source": [
    "dbutils.fs.ls(\"/FileStore/cleaned_ecommerce_data_single.csv\")\n"
   ]
  },
  {
   "cell_type": "markdown",
   "metadata": {
    "application/vnd.databricks.v1+cell": {
     "cellMetadata": {},
     "inputWidgets": {},
     "nuid": "d33dbafa-af7c-43d6-b887-770eee7c447f",
     "showTitle": false,
     "tableResultSettingsMap": {},
     "title": ""
    }
   },
   "source": [
    "**GIVE A CONSILIDATED PATH AND MERGE FILE**"
   ]
  },
  {
   "cell_type": "code",
   "execution_count": 0,
   "metadata": {
    "application/vnd.databricks.v1+cell": {
     "cellMetadata": {
      "byteLimit": 2048000,
      "rowLimit": 10000
     },
     "inputWidgets": {},
     "nuid": "7ee9cc6f-556a-4332-8782-09a2ee7410fd",
     "showTitle": false,
     "tableResultSettingsMap": {},
     "title": ""
    }
   },
   "outputs": [],
   "source": [
    "consolidated_path = \"/FileStore/cleaned_ecommerce_data_consolidated.csv\"\n",
    "df_cleaned_final.coalesce(1).write.mode(\"overwrite\").option(\"header\", \"true\").csv(consolidated_path)"
   ]
  },
  {
   "cell_type": "code",
   "execution_count": 0,
   "metadata": {
    "application/vnd.databricks.v1+cell": {
     "cellMetadata": {
      "byteLimit": 2048000,
      "rowLimit": 10000
     },
     "inputWidgets": {},
     "nuid": "fd89c541-6f2b-4208-b0b3-2aa9fe81f123",
     "showTitle": false,
     "tableResultSettingsMap": {},
     "title": ""
    }
   },
   "outputs": [
    {
     "name": "stdout",
     "output_type": "stream",
     "text": [
      "Out[77]: [FileInfo(path='dbfs:/FileStore/cleaned_ecommerce_data_consolidated.csv/_SUCCESS', name='_SUCCESS', size=0, modificationTime=1737522949000),\n",
      " FileInfo(path='dbfs:/FileStore/cleaned_ecommerce_data_consolidated.csv/_committed_5642036940851817210', name='_committed_5642036940851817210', size=153, modificationTime=1737522948000),\n",
      " FileInfo(path='dbfs:/FileStore/cleaned_ecommerce_data_consolidated.csv/_committed_5669828928363623349', name='_committed_5669828928363623349', size=113, modificationTime=1737202103000),\n",
      " FileInfo(path='dbfs:/FileStore/cleaned_ecommerce_data_consolidated.csv/_committed_vacuum6479234602935690917', name='_committed_vacuum6479234602935690917', size=96, modificationTime=1737522949000),\n",
      " FileInfo(path='dbfs:/FileStore/cleaned_ecommerce_data_consolidated.csv/_started_5642036940851817210', name='_started_5642036940851817210', size=0, modificationTime=1737522948000),\n",
      " FileInfo(path='dbfs:/FileStore/cleaned_ecommerce_data_consolidated.csv/part-00000-tid-5642036940851817210-49511bd2-aeb9-4e54-853a-b00eeb063a29-70-1-c000.csv', name='part-00000-tid-5642036940851817210-49511bd2-aeb9-4e54-853a-b00eeb063a29-70-1-c000.csv', size=7048, modificationTime=1737522948000)]"
     ]
    }
   ],
   "source": [
    "dbutils.fs.ls(consolidated_path)\n"
   ]
  },
  {
   "cell_type": "code",
   "execution_count": 0,
   "metadata": {
    "application/vnd.databricks.v1+cell": {
     "cellMetadata": {
      "byteLimit": 2048000,
      "rowLimit": 10000
     },
     "inputWidgets": {},
     "nuid": "0725b1f6-a8c9-4830-a95b-d96d5b6d3e70",
     "showTitle": false,
     "tableResultSettingsMap": {},
     "title": ""
    }
   },
   "outputs": [
    {
     "data": {
      "text/plain": [
       "\u001b[0;31m---------------------------------------------------------------------------\u001b[0m\n",
       "\u001b[0;31mExecutionError\u001b[0m                            Traceback (most recent call last)\n",
       "File \u001b[0;32m<command-814228251577953>:1\u001b[0m\n",
       "\u001b[0;32m----> 1\u001b[0m \u001b[43mdbutils\u001b[49m\u001b[38;5;241;43m.\u001b[39;49m\u001b[43mfs\u001b[49m\u001b[38;5;241;43m.\u001b[39;49m\u001b[43mmv\u001b[49m\u001b[43m(\u001b[49m\n",
       "\u001b[1;32m      2\u001b[0m \u001b[43m    \u001b[49m\u001b[38;5;124;43mf\u001b[39;49m\u001b[38;5;124;43m\"\u001b[39;49m\u001b[38;5;132;43;01m{\u001b[39;49;00m\u001b[43mconsolidated_path\u001b[49m\u001b[38;5;132;43;01m}\u001b[39;49;00m\u001b[38;5;124;43m/part-00000-tid-5669828928363623349-ddbfc029-5b26-4b77-9025-2bed72e5b728-175-1-c000.csv\u001b[39;49m\u001b[38;5;124;43m\"\u001b[39;49m\u001b[43m,\u001b[49m\n",
       "\u001b[1;32m      3\u001b[0m \u001b[43m    \u001b[49m\u001b[38;5;124;43m\"\u001b[39;49m\u001b[38;5;124;43m/FileStore/final_cleaned_ecommerce_data.csv\u001b[39;49m\u001b[38;5;124;43m\"\u001b[39;49m\n",
       "\u001b[1;32m      4\u001b[0m \u001b[43m)\u001b[49m\n",
       "\n",
       "File \u001b[0;32m/databricks/python_shell/dbruntime/dbutils.py:364\u001b[0m, in \u001b[0;36mDBUtils.FSHandler.prettify_exception_message.<locals>.f_with_exception_handling\u001b[0;34m(*args, **kwargs)\u001b[0m\n",
       "\u001b[1;32m    362\u001b[0m exc\u001b[38;5;241m.\u001b[39m__context__ \u001b[38;5;241m=\u001b[39m \u001b[38;5;28;01mNone\u001b[39;00m\n",
       "\u001b[1;32m    363\u001b[0m exc\u001b[38;5;241m.\u001b[39m__cause__ \u001b[38;5;241m=\u001b[39m \u001b[38;5;28;01mNone\u001b[39;00m\n",
       "\u001b[0;32m--> 364\u001b[0m \u001b[38;5;28;01mraise\u001b[39;00m exc\n",
       "\n",
       "\u001b[0;31mExecutionError\u001b[0m: An error occurred while calling o2353.mv.\n",
       ": java.io.FileNotFoundException: /FileStore/cleaned_ecommerce_data_consolidated.csv/part-00000-tid-5669828928363623349-ddbfc029-5b26-4b77-9025-2bed72e5b728-175-1-c000.csv\n",
       "\tat com.databricks.backend.daemon.data.client.DbfsClient.send0(DbfsClient.scala:121)\n",
       "\tat com.databricks.backend.daemon.data.client.DbfsClient.sendIdempotent(DbfsClient.scala:69)\n",
       "\tat com.databricks.backend.daemon.data.client.DatabricksFileSystemV1.getFileStatus(DatabricksFileSystemV1.scala:272)\n",
       "\tat com.databricks.backend.daemon.data.client.DatabricksFileSystem.getFileStatus(DatabricksFileSystem.scala:212)\n",
       "\tat com.databricks.backend.daemon.dbutils.FSUtils.$anonfun$withMvSafetyChecks$2(DBUtilsCore.scala:185)\n",
       "\tat com.databricks.backend.daemon.dbutils.FSUtils.withFsSafetyCheck(DBUtilsCore.scala:149)\n",
       "\tat com.databricks.backend.daemon.dbutils.FSUtils.$anonfun$withMvSafetyChecks$1(DBUtilsCore.scala:181)\n",
       "\tat com.databricks.backend.daemon.dbutils.FSUtils.withFsSafetyCheck(DBUtilsCore.scala:149)\n",
       "\tat com.databricks.backend.daemon.dbutils.FSUtils.withMvSafetyChecks(DBUtilsCore.scala:181)\n",
       "\tat com.databricks.backend.daemon.dbutils.FSUtils.$anonfun$mv$2(DBUtilsCore.scala:390)\n",
       "\tat com.databricks.backend.daemon.dbutils.FSUtils.checkPermission(DBUtilsCore.scala:144)\n",
       "\tat com.databricks.backend.daemon.dbutils.FSUtils.$anonfun$mv$1(DBUtilsCore.scala:390)\n",
       "\tat com.databricks.logging.UsageLogging.$anonfun$recordOperation$1(UsageLogging.scala:560)\n",
       "\tat com.databricks.logging.UsageLogging.executeThunkAndCaptureResultTags$1(UsageLogging.scala:657)\n",
       "\tat com.databricks.logging.UsageLogging.$anonfun$recordOperationWithResultTags$4(UsageLogging.scala:678)\n",
       "\tat com.databricks.logging.UsageLogging.$anonfun$withAttributionContext$1(UsageLogging.scala:414)\n",
       "\tat scala.util.DynamicVariable.withValue(DynamicVariable.scala:62)\n",
       "\tat com.databricks.logging.AttributionContext$.withValue(AttributionContext.scala:158)\n",
       "\tat com.databricks.logging.UsageLogging.withAttributionContext(UsageLogging.scala:412)\n",
       "\tat com.databricks.logging.UsageLogging.withAttributionContext$(UsageLogging.scala:409)\n",
       "\tat com.databricks.backend.daemon.dbutils.FSUtils.withAttributionContext(DBUtilsCore.scala:71)\n",
       "\tat com.databricks.logging.UsageLogging.withAttributionTags(UsageLogging.scala:457)\n",
       "\tat com.databricks.logging.UsageLogging.withAttributionTags$(UsageLogging.scala:442)\n",
       "\tat com.databricks.backend.daemon.dbutils.FSUtils.withAttributionTags(DBUtilsCore.scala:71)\n",
       "\tat com.databricks.logging.UsageLogging.recordOperationWithResultTags(UsageLogging.scala:652)\n",
       "\tat com.databricks.logging.UsageLogging.recordOperationWithResultTags$(UsageLogging.scala:569)\n",
       "\tat com.databricks.backend.daemon.dbutils.FSUtils.recordOperationWithResultTags(DBUtilsCore.scala:71)\n",
       "\tat com.databricks.logging.UsageLogging.recordOperation(UsageLogging.scala:560)\n",
       "\tat com.databricks.logging.UsageLogging.recordOperation$(UsageLogging.scala:528)\n",
       "\tat com.databricks.backend.daemon.dbutils.FSUtils.recordOperation(DBUtilsCore.scala:71)\n",
       "\tat com.databricks.backend.daemon.dbutils.FSUtils.recordDbutilsFsOp(DBUtilsCore.scala:135)\n",
       "\tat com.databricks.backend.daemon.dbutils.FSUtils.mv(DBUtilsCore.scala:389)\n",
       "\tat sun.reflect.NativeMethodAccessorImpl.invoke0(Native Method)\n",
       "\tat sun.reflect.NativeMethodAccessorImpl.invoke(NativeMethodAccessorImpl.java:62)\n",
       "\tat sun.reflect.DelegatingMethodAccessorImpl.invoke(DelegatingMethodAccessorImpl.java:43)\n",
       "\tat java.lang.reflect.Method.invoke(Method.java:498)\n",
       "\tat py4j.reflection.MethodInvoker.invoke(MethodInvoker.java:244)\n",
       "\tat py4j.reflection.ReflectionEngine.invoke(ReflectionEngine.java:380)\n",
       "\tat py4j.Gateway.invoke(Gateway.java:306)\n",
       "\tat py4j.commands.AbstractCommand.invokeMethod(AbstractCommand.java:132)\n",
       "\tat py4j.commands.CallCommand.execute(CallCommand.java:79)\n",
       "\tat py4j.ClientServerConnection.waitForCommands(ClientServerConnection.java:195)\n",
       "\tat py4j.ClientServerConnection.run(ClientServerConnection.java:115)\n",
       "\tat java.lang.Thread.run(Thread.java:750)\n"
      ]
     },
     "metadata": {
      "application/vnd.databricks.v1+output": {
       "arguments": {},
       "data": "\u001b[0;31m---------------------------------------------------------------------------\u001b[0m\n\u001b[0;31mExecutionError\u001b[0m                            Traceback (most recent call last)\nFile \u001b[0;32m<command-814228251577953>:1\u001b[0m\n\u001b[0;32m----> 1\u001b[0m \u001b[43mdbutils\u001b[49m\u001b[38;5;241;43m.\u001b[39;49m\u001b[43mfs\u001b[49m\u001b[38;5;241;43m.\u001b[39;49m\u001b[43mmv\u001b[49m\u001b[43m(\u001b[49m\n\u001b[1;32m      2\u001b[0m \u001b[43m    \u001b[49m\u001b[38;5;124;43mf\u001b[39;49m\u001b[38;5;124;43m\"\u001b[39;49m\u001b[38;5;132;43;01m{\u001b[39;49;00m\u001b[43mconsolidated_path\u001b[49m\u001b[38;5;132;43;01m}\u001b[39;49;00m\u001b[38;5;124;43m/part-00000-tid-5669828928363623349-ddbfc029-5b26-4b77-9025-2bed72e5b728-175-1-c000.csv\u001b[39;49m\u001b[38;5;124;43m\"\u001b[39;49m\u001b[43m,\u001b[49m\n\u001b[1;32m      3\u001b[0m \u001b[43m    \u001b[49m\u001b[38;5;124;43m\"\u001b[39;49m\u001b[38;5;124;43m/FileStore/final_cleaned_ecommerce_data.csv\u001b[39;49m\u001b[38;5;124;43m\"\u001b[39;49m\n\u001b[1;32m      4\u001b[0m \u001b[43m)\u001b[49m\n\nFile \u001b[0;32m/databricks/python_shell/dbruntime/dbutils.py:364\u001b[0m, in \u001b[0;36mDBUtils.FSHandler.prettify_exception_message.<locals>.f_with_exception_handling\u001b[0;34m(*args, **kwargs)\u001b[0m\n\u001b[1;32m    362\u001b[0m exc\u001b[38;5;241m.\u001b[39m__context__ \u001b[38;5;241m=\u001b[39m \u001b[38;5;28;01mNone\u001b[39;00m\n\u001b[1;32m    363\u001b[0m exc\u001b[38;5;241m.\u001b[39m__cause__ \u001b[38;5;241m=\u001b[39m \u001b[38;5;28;01mNone\u001b[39;00m\n\u001b[0;32m--> 364\u001b[0m \u001b[38;5;28;01mraise\u001b[39;00m exc\n\n\u001b[0;31mExecutionError\u001b[0m: An error occurred while calling o2353.mv.\n: java.io.FileNotFoundException: /FileStore/cleaned_ecommerce_data_consolidated.csv/part-00000-tid-5669828928363623349-ddbfc029-5b26-4b77-9025-2bed72e5b728-175-1-c000.csv\n\tat com.databricks.backend.daemon.data.client.DbfsClient.send0(DbfsClient.scala:121)\n\tat com.databricks.backend.daemon.data.client.DbfsClient.sendIdempotent(DbfsClient.scala:69)\n\tat com.databricks.backend.daemon.data.client.DatabricksFileSystemV1.getFileStatus(DatabricksFileSystemV1.scala:272)\n\tat com.databricks.backend.daemon.data.client.DatabricksFileSystem.getFileStatus(DatabricksFileSystem.scala:212)\n\tat com.databricks.backend.daemon.dbutils.FSUtils.$anonfun$withMvSafetyChecks$2(DBUtilsCore.scala:185)\n\tat com.databricks.backend.daemon.dbutils.FSUtils.withFsSafetyCheck(DBUtilsCore.scala:149)\n\tat com.databricks.backend.daemon.dbutils.FSUtils.$anonfun$withMvSafetyChecks$1(DBUtilsCore.scala:181)\n\tat com.databricks.backend.daemon.dbutils.FSUtils.withFsSafetyCheck(DBUtilsCore.scala:149)\n\tat com.databricks.backend.daemon.dbutils.FSUtils.withMvSafetyChecks(DBUtilsCore.scala:181)\n\tat com.databricks.backend.daemon.dbutils.FSUtils.$anonfun$mv$2(DBUtilsCore.scala:390)\n\tat com.databricks.backend.daemon.dbutils.FSUtils.checkPermission(DBUtilsCore.scala:144)\n\tat com.databricks.backend.daemon.dbutils.FSUtils.$anonfun$mv$1(DBUtilsCore.scala:390)\n\tat com.databricks.logging.UsageLogging.$anonfun$recordOperation$1(UsageLogging.scala:560)\n\tat com.databricks.logging.UsageLogging.executeThunkAndCaptureResultTags$1(UsageLogging.scala:657)\n\tat com.databricks.logging.UsageLogging.$anonfun$recordOperationWithResultTags$4(UsageLogging.scala:678)\n\tat com.databricks.logging.UsageLogging.$anonfun$withAttributionContext$1(UsageLogging.scala:414)\n\tat scala.util.DynamicVariable.withValue(DynamicVariable.scala:62)\n\tat com.databricks.logging.AttributionContext$.withValue(AttributionContext.scala:158)\n\tat com.databricks.logging.UsageLogging.withAttributionContext(UsageLogging.scala:412)\n\tat com.databricks.logging.UsageLogging.withAttributionContext$(UsageLogging.scala:409)\n\tat com.databricks.backend.daemon.dbutils.FSUtils.withAttributionContext(DBUtilsCore.scala:71)\n\tat com.databricks.logging.UsageLogging.withAttributionTags(UsageLogging.scala:457)\n\tat com.databricks.logging.UsageLogging.withAttributionTags$(UsageLogging.scala:442)\n\tat com.databricks.backend.daemon.dbutils.FSUtils.withAttributionTags(DBUtilsCore.scala:71)\n\tat com.databricks.logging.UsageLogging.recordOperationWithResultTags(UsageLogging.scala:652)\n\tat com.databricks.logging.UsageLogging.recordOperationWithResultTags$(UsageLogging.scala:569)\n\tat com.databricks.backend.daemon.dbutils.FSUtils.recordOperationWithResultTags(DBUtilsCore.scala:71)\n\tat com.databricks.logging.UsageLogging.recordOperation(UsageLogging.scala:560)\n\tat com.databricks.logging.UsageLogging.recordOperation$(UsageLogging.scala:528)\n\tat com.databricks.backend.daemon.dbutils.FSUtils.recordOperation(DBUtilsCore.scala:71)\n\tat com.databricks.backend.daemon.dbutils.FSUtils.recordDbutilsFsOp(DBUtilsCore.scala:135)\n\tat com.databricks.backend.daemon.dbutils.FSUtils.mv(DBUtilsCore.scala:389)\n\tat sun.reflect.NativeMethodAccessorImpl.invoke0(Native Method)\n\tat sun.reflect.NativeMethodAccessorImpl.invoke(NativeMethodAccessorImpl.java:62)\n\tat sun.reflect.DelegatingMethodAccessorImpl.invoke(DelegatingMethodAccessorImpl.java:43)\n\tat java.lang.reflect.Method.invoke(Method.java:498)\n\tat py4j.reflection.MethodInvoker.invoke(MethodInvoker.java:244)\n\tat py4j.reflection.ReflectionEngine.invoke(ReflectionEngine.java:380)\n\tat py4j.Gateway.invoke(Gateway.java:306)\n\tat py4j.commands.AbstractCommand.invokeMethod(AbstractCommand.java:132)\n\tat py4j.commands.CallCommand.execute(CallCommand.java:79)\n\tat py4j.ClientServerConnection.waitForCommands(ClientServerConnection.java:195)\n\tat py4j.ClientServerConnection.run(ClientServerConnection.java:115)\n\tat java.lang.Thread.run(Thread.java:750)\n",
       "errorSummary": "java.io.FileNotFoundException: /FileStore/cleaned_ecommerce_data_consolidated.csv/part-00000-tid-5669828928363623349-ddbfc029-5b26-4b77-9025-2bed72e5b728-175-1-c000.csv",
       "errorTraceType": "ansi",
       "metadata": {},
       "type": "ipynbError"
      }
     },
     "output_type": "display_data"
    }
   ],
   "source": [
    "dbutils.fs.mv(\n",
    "    f\"{consolidated_path}/part-00000-tid-5669828928363623349-ddbfc029-5b26-4b77-9025-2bed72e5b728-175-1-c000.csv\",\n",
    "    \"/FileStore/final_cleaned_ecommerce_data.csv\"\n",
    ")\n"
   ]
  },
  {
   "cell_type": "code",
   "execution_count": 0,
   "metadata": {
    "application/vnd.databricks.v1+cell": {
     "cellMetadata": {
      "byteLimit": 2048000,
      "rowLimit": 10000
     },
     "inputWidgets": {},
     "nuid": "852d0a52-4db1-438e-9c5d-4182103150d4",
     "showTitle": false,
     "tableResultSettingsMap": {},
     "title": ""
    }
   },
   "outputs": [
    {
     "name": "stdout",
     "output_type": "stream",
     "text": [
      "+-----------+---+------+--------+-------------+-------------------------------------+----------------------------------------------------------------+------------+-----------------+-----------------------+--------------+--------------+----------------+-------------+-----+-------------------+---------------+---------+-------------------+-----------------+--------------+\n",
      "|Customer ID|Age|Gender|Location|Annual_Salary|Browsing History                     |Product Reviews                                                 |Time_on_Site|Monthly_Income   |Parsed_Browsing_History|Product_Rating|Product_Review|Product_Category|Purchase_Date|Price|Browsing_Timestamp |Purchase_Amount|Age_Group|High_Value_Customer|Purchase_Category|Purchase_Price|\n",
      "+-----------+---+------+--------+-------------+-------------------------------------+----------------------------------------------------------------+------------+-----------------+-----------------------+--------------+--------------+----------------+-------------+-----+-------------------+---------------+---------+-------------------+-----------------+--------------+\n",
      "|1002       |32 |Male  |City A  |50000        |{'Timestamp': '2022-05-12 16:15:00'} |\"{\"\"Review Text\"\": \"\"Good product                               |0.0         |4166.666666666667|2022-05-12 16:15:00    |0.0           |              |Electronics     |2022-02-15   |250.0|2022-05-12 16:15:00|250.0          |25-35    |No                 |Electronics      |250.0         |\n",
      "|1012       |65 |Female|City L  |95000        |{'Timestamp': '2023-02-06 13:15:00'} |\"{\"\"Review Text\"\": \"\"Excellent product                          |0.0         |7916.666666666667|2023-02-06 13:15:00    |0.0           |              |Home & Garden   |2022-12-25   |170.0|2023-02-06 13:15:00|170.0          |51+      |Yes                |Home & Garden    |170.0         |\n",
      "|1001       |45 |Female|City D  |70000        |{'Timestamp': '2022-09-03 14:30:00'} |\"{\"\"Product 1\"\": {\"\"Rating\"\": 4                                 |0.0         |5833.333333333333|2022-09-03 14:30:00    |0.0           |              |Electronics     |2022-08-15   |200.5|2022-09-03 14:30:00|200.5          |36-50    |No                 |Electronics      |200.5         |\n",
      "|1004       |52 |Male  |City G  |70000        |{'Timestamp': '2022-05-22T10:30:00Z'}|The vacuum cleaner works great. 4 stars.                        |350.0       |5833.333333333333|2022-05-22T10:30:00Z   |0.0           |              |Electronics     |2022-05-08   |200.0|2022-05-22 10:30:00|200.0          |51+      |No                 |Electronics      |200.0         |\n",
      "|1011       |36 |Female|City N  |55000        |{'Timestamp': '2022-06-13T13:00:00Z'}|The skirt is lovely. 4.5 stars.                                 |200.0       |4583.333333333333|2022-06-13T13:00:00Z   |0.0           |              |Clothing        |2022-05-27   |80.0 |2022-06-13 13:00:00|80.0           |36-50    |No                 |Clothing         |80.0          |\n",
      "|1003       |28 |Female|City F  |60000        |{'Timestamp': '2022-06-01T09:15:00Z'}|The dress fits perfectly. I love it. 5 stars!                   |250.0       |5000.0           |2022-06-01T09:15:00Z   |0.0           |              |Clothing        |2022-05-28   |75.0 |2022-06-01 09:15:00|75.0           |25-35    |No                 |Clothing         |75.0          |\n",
      "|1004       |29 |Female|City G  |60000        |{'Timestamp': '2022-08-15 13:20:00'} |\"{\"\"Product 1\"\": {\"\"Rating\"\": 4                                 |0.0         |5000.0           |2022-08-15 13:20:00    |0.0           |              |Electronics     |2022-07-20   |150.8|2022-08-15 13:20:00|150.8          |25-35    |No                 |Electronics      |150.8         |\n",
      "|1007       |60 |Female|City J  |65000        |{'Timestamp': '2022-06-15T11:30:00Z'}|The shirt is comfortable. 4 stars.                              |300.0       |5416.666666666667|2022-06-15T11:30:00Z   |0.0           |              |Clothing        |2022-05-25   |100.0|2022-06-15 11:30:00|100.0          |51+      |No                 |Clothing         |100.0         |\n",
      "|1005       |42 |Male  |City H  |75000        |{'Timestamp': '2022-09-12 16:35:00'} |\"{\"\"Product 1\"\": {\"\"Rating\"\": 3                                 |0.0         |6250.0           |2022-09-12 16:35:00    |0.0           |              |Electronics     |2022-08-28   |250.6|2022-09-12 16:35:00|250.6          |36-50    |No                 |Electronics      |250.6         |\n",
      "|1008       |55 |Male  |City K  |85000        |{'Timestamp': '2022-05-28T15:15:00Z'}|The laptop is excellent. 5 stars!                               |450.0       |7083.333333333333|2022-05-28T15:15:00Z   |0.0           |              |Electronics     |2022-05-20   |300.0|2022-05-28 15:15:00|300.0          |51+      |Yes                |Electronics      |300.0         |\n",
      "|1008       |48 |Male  |City K  |80000        |{'Timestamp': '2022-06-30 11:15:00'} |\"{\"\"Product 1\"\": {\"\"Rating\"\": 3                                 |0.0         |6666.666666666667|2022-06-30 11:15:00    |0.0           |              |Electronics     |2022-09-08   |350.2|2022-06-30 11:15:00|350.2          |36-50    |Yes                |Electronics      |350.2         |\n",
      "|1009       |35 |Male  |City I  |55000        |{'Timestamp': '2022-12-06 12:00:00'} |\"{\"\"Review Text\"\": \"\"Satisfied with my purchase!\"\"              |0.0         |4583.333333333333|2022-12-06 12:00:00    |0.0           |              |Home & Garden   |2022-09-20   |200.0|2022-12-06 12:00:00|200.0          |25-35    |No                 |Home & Garden    |200.0         |\n",
      "|1001       |45 |Female|City D  |75000        |{'Timestamp': '2022-03-06 14:30:00'} |\"{\"\"Review Text\"\": \"\"Great quality clothes!\"\"                   |0.0         |6250.0           |2022-03-06 14:30:00    |0.0           |              |Clothing        |2022-03-05   |45.99|2022-03-06 14:30:00|45.99          |36-50    |No                 |Clothing         |45.99         |\n",
      "|1003       |60 |Other |City B  |80000        |{'Timestamp': '2022-06-03 10:45:00'} |\"{\"\"Review Text\"\": \"\"Very satisfied with my purchase!\"\"         |0.0         |6666.666666666667|2022-06-03 10:45:00    |0.0           |              |Home & Garden   |2022-01-18   |180.0|2022-06-03 10:45:00|180.0          |51+      |Yes                |Home & Garden    |180.0         |\n",
      "|1010       |58 |Male  |City M  |75000        |{'Timestamp': '2022-05-29T10:30:00Z'}|The coffee maker is great. 5 stars!                             |350.0       |6250.0           |2022-05-29T10:30:00Z   |0.0           |              |Electronics     |2022-05-12   |250.0|2022-05-29 10:30:00|250.0          |51+      |No                 |Electronics      |250.0         |\n",
      "|1006       |38 |Female|City F  |65000        |{'Timestamp': '2022-09-02 11:15:00'} |\"{\"\"Review Text\"\": \"\"Awesome purchase!\"\"                        |0.0         |5416.666666666667|2022-09-02 11:15:00    |0.0           |              |Home & Garden   |2022-06-15   |220.0|2022-09-02 11:15:00|220.0          |36-50    |No                 |Home & Garden    |220.0         |\n",
      "|1002       |45 |Male  |City E  |80000        |{'Timestamp': '2022-05-25T17:45:00Z'}|The headphones are great. Sound quality is excellent. 4.5 stars.|300.0       |6666.666666666667|2022-05-25T17:45:00Z   |0.0           |              |Electronics     |2022-06-12   |350.0|2022-05-25 17:45:00|350.0          |36-50    |Yes                |Electronics      |350.0         |\n",
      "|1006       |48 |Male  |City I  |90000        |{'Timestamp': '2022-06-06T08:00:00Z'}|The phone is fantastic. 5 stars!                                |400.0       |7500.0           |2022-06-06T08:00:00Z   |0.0           |              |Electronics     |2022-05-23   |400.0|2022-06-06 08:00:00|400.0          |36-50    |Yes                |Electronics      |400.0         |\n",
      "|1010       |48 |Female|City J  |75000        |{'Timestamp': '2022-12-21 15:30:00'} |\"{\"\"Review Text\"\": \"\"Excellent product                          |0.0         |6250.0           |2022-12-21 15:30:00    |0.0           |              |Clothing        |2022-10-15   |34.99|2022-12-21 15:30:00|34.99          |36-50    |No                 |Clothing         |34.99         |\n",
      "|1001       |35 |Female|City D  |50000        |{'Timestamp': '2022-04-20T14:30:00Z'}|The blouse is so comfortable and stylish. 5 stars!              |120.0       |4166.666666666667|2022-04-20T14:30:00Z   |0.0           |              |Clothing        |2022-05-15   |120.0|2022-04-20 14:30:00|120.0          |25-35    |No                 |Clothing         |120.0         |\n",
      "+-----------+---+------+--------+-------------+-------------------------------------+----------------------------------------------------------------+------------+-----------------+-----------------------+--------------+--------------+----------------+-------------+-----+-------------------+---------------+---------+-------------------+-----------------+--------------+\n",
      "only showing top 20 rows\n",
      "\n"
     ]
    }
   ],
   "source": [
    "df_cleaned_final.show(truncate=False)"
   ]
  },
  {
   "cell_type": "code",
   "execution_count": 0,
   "metadata": {
    "application/vnd.databricks.v1+cell": {
     "cellMetadata": {
      "byteLimit": 2048000,
      "rowLimit": 10000
     },
     "inputWidgets": {},
     "nuid": "961d9e4c-be7b-4df1-ae84-b4db8fb1421a",
     "showTitle": false,
     "tableResultSettingsMap": {},
     "title": ""
    }
   },
   "outputs": [
    {
     "name": "stdout",
     "output_type": "stream",
     "text": [
      "Out[80]: 0"
     ]
    }
   ],
   "source": [
    "df_cleaned_final.filter(col(\"Product_Rating\").isNull()).count()\n",
    "df_cleaned_final.filter(col(\"Product_Review\").isNull()).count()\n"
   ]
  },
  {
   "cell_type": "code",
   "execution_count": 0,
   "metadata": {
    "application/vnd.databricks.v1+cell": {
     "cellMetadata": {
      "byteLimit": 2048000,
      "rowLimit": 10000
     },
     "inputWidgets": {},
     "nuid": "562eac91-a7b5-4309-b3c2-4e09f821c7cc",
     "showTitle": false,
     "tableResultSettingsMap": {},
     "title": ""
    }
   },
   "outputs": [],
   "source": [
    "df_cleaned_final = df_cleaned_final.filter(col(\"Product_Rating\").isNotNull() & col(\"Product_Review\").isNotNull())\n"
   ]
  },
  {
   "cell_type": "code",
   "execution_count": 0,
   "metadata": {
    "application/vnd.databricks.v1+cell": {
     "cellMetadata": {
      "byteLimit": 2048000,
      "rowLimit": 10000
     },
     "inputWidgets": {},
     "nuid": "f1b4d1a1-4d85-4253-b635-cbd872db777e",
     "showTitle": false,
     "tableResultSettingsMap": {},
     "title": ""
    }
   },
   "outputs": [
    {
     "name": "stdout",
     "output_type": "stream",
     "text": [
      "+-----------+--------------+--------------+\n",
      "|Customer ID|Product_Rating|Product_Review|\n",
      "+-----------+--------------+--------------+\n",
      "|1002       |0.0           |              |\n",
      "|1012       |0.0           |              |\n",
      "|1001       |0.0           |              |\n",
      "|1004       |0.0           |              |\n",
      "|1011       |0.0           |              |\n",
      "|1003       |0.0           |              |\n",
      "|1004       |0.0           |              |\n",
      "|1007       |0.0           |              |\n",
      "|1005       |0.0           |              |\n",
      "|1008       |0.0           |              |\n",
      "|1008       |0.0           |              |\n",
      "|1009       |0.0           |              |\n",
      "|1001       |0.0           |              |\n",
      "|1003       |0.0           |              |\n",
      "|1010       |0.0           |              |\n",
      "|1006       |0.0           |              |\n",
      "|1002       |0.0           |              |\n",
      "|1006       |0.0           |              |\n",
      "|1010       |0.0           |              |\n",
      "|1001       |0.0           |              |\n",
      "+-----------+--------------+--------------+\n",
      "only showing top 20 rows\n",
      "\n"
     ]
    }
   ],
   "source": [
    "df_cleaned_final.select(\"Customer ID\", \"Product_Rating\", \"Product_Review\").show(truncate=False)\n"
   ]
  },
  {
   "cell_type": "code",
   "execution_count": 0,
   "metadata": {
    "application/vnd.databricks.v1+cell": {
     "cellMetadata": {
      "byteLimit": 2048000,
      "rowLimit": 10000
     },
     "inputWidgets": {},
     "nuid": "6962d838-0662-46c8-a7fc-81d8e3f459a8",
     "showTitle": false,
     "tableResultSettingsMap": {},
     "title": ""
    }
   },
   "outputs": [],
   "source": [
    "df_cleaned_final = df_cleaned_final.drop(\"Product_Review\")\n"
   ]
  },
  {
   "cell_type": "code",
   "execution_count": 0,
   "metadata": {
    "application/vnd.databricks.v1+cell": {
     "cellMetadata": {
      "byteLimit": 2048000,
      "rowLimit": 10000
     },
     "inputWidgets": {},
     "nuid": "b4b8a3f0-a9a4-4c80-ab63-4d834e0b9598",
     "showTitle": false,
     "tableResultSettingsMap": {},
     "title": ""
    }
   },
   "outputs": [],
   "source": [
    "df_cleaned_final = df_cleaned_final.withColumn(\n",
    "    \"Product_Rating\", \n",
    "    lit(4.0)  # Assuming you want to refill with a default value like 4.0\n",
    ")\n"
   ]
  },
  {
   "cell_type": "markdown",
   "metadata": {
    "application/vnd.databricks.v1+cell": {
     "cellMetadata": {},
     "inputWidgets": {},
     "nuid": "f95c3b35-b8a3-41ff-a88a-20898665e86e",
     "showTitle": false,
     "tableResultSettingsMap": {},
     "title": ""
    }
   },
   "source": [
    "**VIEW THE FIELD**"
   ]
  },
  {
   "cell_type": "code",
   "execution_count": 0,
   "metadata": {
    "application/vnd.databricks.v1+cell": {
     "cellMetadata": {
      "byteLimit": 2048000,
      "rowLimit": 10000
     },
     "inputWidgets": {},
     "nuid": "b49eaf74-167e-4b27-be72-2d851c3e5024",
     "showTitle": false,
     "tableResultSettingsMap": {},
     "title": ""
    }
   },
   "outputs": [
    {
     "name": "stdout",
     "output_type": "stream",
     "text": [
      "+-----------+--------------+\n",
      "|Customer ID|Product_Rating|\n",
      "+-----------+--------------+\n",
      "|1002       |0.0           |\n",
      "|1012       |0.0           |\n",
      "|1001       |0.0           |\n",
      "|1004       |0.0           |\n",
      "|1011       |0.0           |\n",
      "|1003       |0.0           |\n",
      "|1004       |0.0           |\n",
      "|1007       |0.0           |\n",
      "|1005       |0.0           |\n",
      "|1008       |0.0           |\n",
      "|1008       |0.0           |\n",
      "|1009       |0.0           |\n",
      "|1001       |0.0           |\n",
      "|1003       |0.0           |\n",
      "|1010       |0.0           |\n",
      "|1006       |0.0           |\n",
      "|1002       |0.0           |\n",
      "|1006       |0.0           |\n",
      "|1010       |0.0           |\n",
      "|1001       |0.0           |\n",
      "+-----------+--------------+\n",
      "only showing top 20 rows\n",
      "\n"
     ]
    }
   ],
   "source": [
    "df_cleaned_final.select(\"Customer ID\", \"Product_Rating\").show(truncate=False)\n"
   ]
  },
  {
   "cell_type": "markdown",
   "metadata": {
    "application/vnd.databricks.v1+cell": {
     "cellMetadata": {},
     "inputWidgets": {},
     "nuid": "60be16c2-f1be-492a-b121-2ec89e842283",
     "showTitle": false,
     "tableResultSettingsMap": {},
     "title": ""
    }
   },
   "source": [
    "**WRITE THE FILA NAD VIEW THE FINAL CLEANED DATA**"
   ]
  },
  {
   "cell_type": "code",
   "execution_count": 0,
   "metadata": {
    "application/vnd.databricks.v1+cell": {
     "cellMetadata": {
      "byteLimit": 2048000,
      "rowLimit": 10000
     },
     "inputWidgets": {},
     "nuid": "32b044c1-565e-4c07-8c53-4d633d22e2f6",
     "showTitle": false,
     "tableResultSettingsMap": {},
     "title": ""
    }
   },
   "outputs": [],
   "source": [
    "df_cleaned_final.write.mode(\"overwrite\").csv(\"/dbfs/FileStore/cleaned_ecommerce_data_final.csv\", header=True)\n"
   ]
  }
 ],
 "metadata": {
  "application/vnd.databricks.v1+notebook": {
   "computePreferences": null,
   "dashboards": [],
   "environmentMetadata": {
    "base_environment": "",
    "client": "1"
   },
   "language": "python",
   "notebookMetadata": {
    "mostRecentlyExecutedCommandWithImplicitDF": {
     "commandId": 1996033522646606,
     "dataframes": [
      "_sqldf"
     ]
    },
    "pythonIndentUnit": 4
   },
   "notebookName": "E-Commerce dataset",
   "widgets": {}
  },
  "language_info": {
   "name": "python"
  }
 },
 "nbformat": 4,
 "nbformat_minor": 0
}
